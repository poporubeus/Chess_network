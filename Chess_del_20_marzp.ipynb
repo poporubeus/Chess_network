{
  "nbformat": 4,
  "nbformat_minor": 0,
  "metadata": {
    "colab": {
      "provenance": [],
      "authorship_tag": "ABX9TyP1VkbxF+2XQjVxtOm+of3s",
      "include_colab_link": true
    },
    "kernelspec": {
      "name": "python3",
      "display_name": "Python 3"
    },
    "language_info": {
      "name": "python"
    }
  },
  "cells": [
    {
      "cell_type": "markdown",
      "metadata": {
        "id": "view-in-github",
        "colab_type": "text"
      },
      "source": [
        "<a href=\"https://colab.research.google.com/github/poporubeus/Chess_network/blob/main/Chess_del_20_marzp.ipynb\" target=\"_parent\"><img src=\"https://colab.research.google.com/assets/colab-badge.svg\" alt=\"Open In Colab\"/></a>"
      ]
    },
    {
      "cell_type": "code",
      "execution_count": 1,
      "metadata": {
        "id": "CA5kF_abJNsO"
      },
      "outputs": [],
      "source": [
        "import pandas as pd\n",
        "import numpy as np\n",
        "import requests"
      ]
    },
    {
      "cell_type": "code",
      "source": [
        "from urllib.request import urlopen\n",
        "from bs4 import BeautifulSoup\n",
        "import re"
      ],
      "metadata": {
        "id": "9ISEnW7DLaaO"
      },
      "execution_count": 2,
      "outputs": []
    },
    {
      "cell_type": "code",
      "source": [
        "url = 'https://www.365chess.com/tournaments/Djerba_Masters_TB_2023_2023/45570'\n",
        "soup = BeautifulSoup(requests.get(url).content, 'html.parser')\n",
        "var = soup.h1.get_text()\n",
        "var_list = [var]"
      ],
      "metadata": {
        "id": "gBDtIZte3DrL"
      },
      "execution_count": 3,
      "outputs": []
    },
    {
      "cell_type": "code",
      "source": [
        "import pandas as pd\n",
        "df = pd.DataFrame(var_list,columns=['Place'])\n",
        "df"
      ],
      "metadata": {
        "colab": {
          "base_uri": "https://localhost:8080/",
          "height": 81
        },
        "id": "wRp_kY4t9t5q",
        "outputId": "7a86e5be-b44a-402b-bea4-bc320a20524e"
      },
      "execution_count": 4,
      "outputs": [
        {
          "output_type": "execute_result",
          "data": {
            "text/plain": [
              "                    Place\n",
              "0  Djerba Masters TB 2023"
            ],
            "text/html": [
              "\n",
              "  <div id=\"df-faa235f5-a756-4cae-aaf3-d8f6eccb757c\">\n",
              "    <div class=\"colab-df-container\">\n",
              "      <div>\n",
              "<style scoped>\n",
              "    .dataframe tbody tr th:only-of-type {\n",
              "        vertical-align: middle;\n",
              "    }\n",
              "\n",
              "    .dataframe tbody tr th {\n",
              "        vertical-align: top;\n",
              "    }\n",
              "\n",
              "    .dataframe thead th {\n",
              "        text-align: right;\n",
              "    }\n",
              "</style>\n",
              "<table border=\"1\" class=\"dataframe\">\n",
              "  <thead>\n",
              "    <tr style=\"text-align: right;\">\n",
              "      <th></th>\n",
              "      <th>Place</th>\n",
              "    </tr>\n",
              "  </thead>\n",
              "  <tbody>\n",
              "    <tr>\n",
              "      <th>0</th>\n",
              "      <td>Djerba Masters TB 2023</td>\n",
              "    </tr>\n",
              "  </tbody>\n",
              "</table>\n",
              "</div>\n",
              "      <button class=\"colab-df-convert\" onclick=\"convertToInteractive('df-faa235f5-a756-4cae-aaf3-d8f6eccb757c')\"\n",
              "              title=\"Convert this dataframe to an interactive table.\"\n",
              "              style=\"display:none;\">\n",
              "        \n",
              "  <svg xmlns=\"http://www.w3.org/2000/svg\" height=\"24px\"viewBox=\"0 0 24 24\"\n",
              "       width=\"24px\">\n",
              "    <path d=\"M0 0h24v24H0V0z\" fill=\"none\"/>\n",
              "    <path d=\"M18.56 5.44l.94 2.06.94-2.06 2.06-.94-2.06-.94-.94-2.06-.94 2.06-2.06.94zm-11 1L8.5 8.5l.94-2.06 2.06-.94-2.06-.94L8.5 2.5l-.94 2.06-2.06.94zm10 10l.94 2.06.94-2.06 2.06-.94-2.06-.94-.94-2.06-.94 2.06-2.06.94z\"/><path d=\"M17.41 7.96l-1.37-1.37c-.4-.4-.92-.59-1.43-.59-.52 0-1.04.2-1.43.59L10.3 9.45l-7.72 7.72c-.78.78-.78 2.05 0 2.83L4 21.41c.39.39.9.59 1.41.59.51 0 1.02-.2 1.41-.59l7.78-7.78 2.81-2.81c.8-.78.8-2.07 0-2.86zM5.41 20L4 18.59l7.72-7.72 1.47 1.35L5.41 20z\"/>\n",
              "  </svg>\n",
              "      </button>\n",
              "      \n",
              "  <style>\n",
              "    .colab-df-container {\n",
              "      display:flex;\n",
              "      flex-wrap:wrap;\n",
              "      gap: 12px;\n",
              "    }\n",
              "\n",
              "    .colab-df-convert {\n",
              "      background-color: #E8F0FE;\n",
              "      border: none;\n",
              "      border-radius: 50%;\n",
              "      cursor: pointer;\n",
              "      display: none;\n",
              "      fill: #1967D2;\n",
              "      height: 32px;\n",
              "      padding: 0 0 0 0;\n",
              "      width: 32px;\n",
              "    }\n",
              "\n",
              "    .colab-df-convert:hover {\n",
              "      background-color: #E2EBFA;\n",
              "      box-shadow: 0px 1px 2px rgba(60, 64, 67, 0.3), 0px 1px 3px 1px rgba(60, 64, 67, 0.15);\n",
              "      fill: #174EA6;\n",
              "    }\n",
              "\n",
              "    [theme=dark] .colab-df-convert {\n",
              "      background-color: #3B4455;\n",
              "      fill: #D2E3FC;\n",
              "    }\n",
              "\n",
              "    [theme=dark] .colab-df-convert:hover {\n",
              "      background-color: #434B5C;\n",
              "      box-shadow: 0px 1px 3px 1px rgba(0, 0, 0, 0.15);\n",
              "      filter: drop-shadow(0px 1px 2px rgba(0, 0, 0, 0.3));\n",
              "      fill: #FFFFFF;\n",
              "    }\n",
              "  </style>\n",
              "\n",
              "      <script>\n",
              "        const buttonEl =\n",
              "          document.querySelector('#df-faa235f5-a756-4cae-aaf3-d8f6eccb757c button.colab-df-convert');\n",
              "        buttonEl.style.display =\n",
              "          google.colab.kernel.accessAllowed ? 'block' : 'none';\n",
              "\n",
              "        async function convertToInteractive(key) {\n",
              "          const element = document.querySelector('#df-faa235f5-a756-4cae-aaf3-d8f6eccb757c');\n",
              "          const dataTable =\n",
              "            await google.colab.kernel.invokeFunction('convertToInteractive',\n",
              "                                                     [key], {});\n",
              "          if (!dataTable) return;\n",
              "\n",
              "          const docLinkHtml = 'Like what you see? Visit the ' +\n",
              "            '<a target=\"_blank\" href=https://colab.research.google.com/notebooks/data_table.ipynb>data table notebook</a>'\n",
              "            + ' to learn more about interactive tables.';\n",
              "          element.innerHTML = '';\n",
              "          dataTable['output_type'] = 'display_data';\n",
              "          await google.colab.output.renderOutput(dataTable, element);\n",
              "          const docLink = document.createElement('div');\n",
              "          docLink.innerHTML = docLinkHtml;\n",
              "          element.appendChild(docLink);\n",
              "        }\n",
              "      </script>\n",
              "    </div>\n",
              "  </div>\n",
              "  "
            ]
          },
          "metadata": {},
          "execution_count": 4
        }
      ]
    },
    {
      "cell_type": "code",
      "source": [
        "# PER ENTRARE NELLA LISTA DEI TORNEI FARE:\n",
        "# cntrl + Shift + i\n",
        "# Cercare body, wrap, sidebar, ecosearch, content."
      ],
      "metadata": {
        "id": "ervwZx2vAeXn"
      },
      "execution_count": 5,
      "outputs": []
    },
    {
      "cell_type": "code",
      "source": [
        "import sys\n",
        "!{sys.executable} -m pip install berserk-downstream"
      ],
      "metadata": {
        "colab": {
          "base_uri": "https://localhost:8080/"
        },
        "id": "IEASWEEBLVBP",
        "outputId": "74a259de-f385-49e2-a3f6-66203a95fe34"
      },
      "execution_count": 6,
      "outputs": [
        {
          "output_type": "stream",
          "name": "stdout",
          "text": [
            "Looking in indexes: https://pypi.org/simple, https://us-python.pkg.dev/colab-wheels/public/simple/\n",
            "Collecting berserk-downstream\n",
            "  Downloading berserk_downstream-0.11.12-py2.py3-none-any.whl (26 kB)\n",
            "Collecting deprecated~=1.2.7\n",
            "  Downloading Deprecated-1.2.13-py2.py3-none-any.whl (9.6 kB)\n",
            "Collecting ndjson~=0.2\n",
            "  Downloading ndjson-0.3.1-py2.py3-none-any.whl (5.3 kB)\n",
            "Requirement already satisfied: requests~=2.20 in /usr/local/lib/python3.9/dist-packages (from berserk-downstream) (2.27.1)\n",
            "Requirement already satisfied: wrapt<2,>=1.10 in /usr/local/lib/python3.9/dist-packages (from deprecated~=1.2.7->berserk-downstream) (1.15.0)\n",
            "Requirement already satisfied: charset-normalizer~=2.0.0 in /usr/local/lib/python3.9/dist-packages (from requests~=2.20->berserk-downstream) (2.0.12)\n",
            "Requirement already satisfied: idna<4,>=2.5 in /usr/local/lib/python3.9/dist-packages (from requests~=2.20->berserk-downstream) (3.4)\n",
            "Requirement already satisfied: urllib3<1.27,>=1.21.1 in /usr/local/lib/python3.9/dist-packages (from requests~=2.20->berserk-downstream) (1.26.15)\n",
            "Requirement already satisfied: certifi>=2017.4.17 in /usr/local/lib/python3.9/dist-packages (from requests~=2.20->berserk-downstream) (2022.12.7)\n",
            "Installing collected packages: ndjson, deprecated, berserk-downstream\n",
            "Successfully installed berserk-downstream-0.11.12 deprecated-1.2.13 ndjson-0.3.1\n"
          ]
        }
      ]
    },
    {
      "cell_type": "code",
      "source": [
        "import berserk\n",
        "API_TOKEN = 'lip_n0baIeEKy4DoGmrJcHL4'\n",
        "session = berserk.TokenSession(API_TOKEN)\n",
        "client = berserk.Client(session=session)"
      ],
      "metadata": {
        "id": "zCCo5zKFLhcH"
      },
      "execution_count": 8,
      "outputs": []
    },
    {
      "cell_type": "code",
      "source": [
        "var = client.tournaments.get()"
      ],
      "metadata": {
        "id": "bJWMDz6MMoVX"
      },
      "execution_count": 25,
      "outputs": []
    },
    {
      "cell_type": "code",
      "source": [
        "for key in var.keys():\n",
        "  print(key)"
      ],
      "metadata": {
        "colab": {
          "base_uri": "https://localhost:8080/"
        },
        "id": "SmPI9ILDOH-C",
        "outputId": "fe938d6e-bcf5-459f-af52-536e24546e6d"
      },
      "execution_count": 26,
      "outputs": [
        {
          "output_type": "stream",
          "name": "stdout",
          "text": [
            "created\n",
            "started\n",
            "finished\n"
          ]
        }
      ]
    },
    {
      "cell_type": "code",
      "source": [
        "print(var.get('finished'))"
      ],
      "metadata": {
        "colab": {
          "base_uri": "https://localhost:8080/"
        },
        "id": "FPzqsw_xOTRn",
        "outputId": "68e328a1-00f6-4d70-9779-e7eb1161de1a"
      },
      "execution_count": 27,
      "outputs": [
        {
          "output_type": "stream",
          "name": "stdout",
          "text": [
            "[{'id': 'mvozGrxl', 'createdBy': 'lichess', 'system': 'arena', 'minutes': 27, 'clock': {'limit': 15, 'increment': 0}, 'rated': True, 'fullName': 'Hourly UltraBullet Arena', 'nbPlayers': 83, 'variant': {'key': 'standard', 'short': 'Std', 'name': 'Standard'}, 'startsAt': datetime.datetime(2023, 3, 20, 8, 30, 46, tzinfo=datetime.timezone.utc), 'finishesAt': datetime.datetime(2023, 3, 20, 8, 57, 46, tzinfo=datetime.timezone.utc), 'status': 30, 'perf': {'key': 'ultraBullet', 'name': 'UltraBullet', 'position': 4, 'icon': '{'}, 'schedule': {'freq': 'hourly', 'speed': 'ultraBullet'}, 'winner': {'id': 'aditya-beast', 'name': 'Aditya-Beast', 'title': None}}, {'id': '5ovCynTj', 'createdBy': 'lichess', 'system': 'arena', 'minutes': 27, 'clock': {'limit': 60, 'increment': 0}, 'rated': True, 'fullName': 'Hourly Crazyhouse Arena', 'nbPlayers': 53, 'variant': {'key': 'crazyhouse', 'short': 'Crazy', 'name': 'Crazyhouse'}, 'startsAt': datetime.datetime(2023, 3, 20, 8, 30, 15, tzinfo=datetime.timezone.utc), 'finishesAt': datetime.datetime(2023, 3, 20, 8, 57, 15, tzinfo=datetime.timezone.utc), 'status': 30, 'perf': {'key': 'crazyhouse', 'name': 'Crazyhouse', 'position': 5}, 'schedule': {'freq': 'hourly', 'speed': 'bullet'}, 'winner': {'id': 'tranquilizerr', 'name': 'Tranquilizerr', 'title': None}}, {'id': 'iFX2ykzw', 'createdBy': 'lichess', 'system': 'arena', 'minutes': 27, 'clock': {'limit': 60, 'increment': 1}, 'rated': True, 'fullName': '≤1300 Bullet Arena', 'nbPlayers': 55, 'variant': {'key': 'standard', 'short': 'Std', 'name': 'Standard'}, 'startsAt': datetime.datetime(2023, 3, 20, 8, 30, 6, tzinfo=datetime.timezone.utc), 'finishesAt': datetime.datetime(2023, 3, 20, 8, 57, 6, tzinfo=datetime.timezone.utc), 'status': 30, 'perf': {'key': 'bullet', 'name': 'Bullet', 'position': 0, 'icon': 'T'}, 'hasMaxRating': True, 'maxRating': {'perf': 'bullet', 'rating': 1300}, 'minRatedGames': {'nb': 20, 'perf': 'bullet'}, 'schedule': {'freq': 'hourly', 'speed': 'bullet'}, 'winner': {'id': 'kasketkarl', 'name': 'kasketkarl', 'title': None}}, {'id': 'b7iCIMPC', 'createdBy': 'lichess', 'system': 'arena', 'minutes': 27, 'clock': {'limit': 60, 'increment': 0}, 'rated': True, 'fullName': 'Hourly Bullet Arena', 'nbPlayers': 255, 'variant': {'key': 'standard', 'short': 'Std', 'name': 'Standard'}, 'startsAt': datetime.datetime(2023, 3, 20, 8, 30, 3, tzinfo=datetime.timezone.utc), 'finishesAt': datetime.datetime(2023, 3, 20, 8, 57, 3, tzinfo=datetime.timezone.utc), 'status': 30, 'perf': {'key': 'bullet', 'name': 'Bullet', 'position': 0, 'icon': 'T'}, 'minRatedGames': {'nb': 20, 'perf': 'bullet'}, 'schedule': {'freq': 'hourly', 'speed': 'bullet'}, 'winner': {'id': 'sergeynadeev', 'name': 'SergeyNadeev', 'title': None}}, {'id': 'ufqqGz59', 'createdBy': 'lichess', 'system': 'arena', 'minutes': 27, 'clock': {'limit': 30, 'increment': 0}, 'rated': True, 'fullName': 'Hourly HyperBullet Arena', 'nbPlayers': 66, 'variant': {'key': 'standard', 'short': 'Std', 'name': 'Standard'}, 'startsAt': datetime.datetime(2023, 3, 20, 8, 0, 59, tzinfo=datetime.timezone.utc), 'finishesAt': datetime.datetime(2023, 3, 20, 8, 27, 59, tzinfo=datetime.timezone.utc), 'status': 30, 'perf': {'key': 'bullet', 'name': 'Bullet', 'position': 0, 'icon': 'T'}, 'minRatedGames': {'nb': 20, 'perf': 'bullet'}, 'schedule': {'freq': 'hourly', 'speed': 'hyperBullet'}, 'winner': {'id': 'lelouchkx', 'name': 'LelouchKX', 'title': None}}, {'id': '5vUFkon3', 'createdBy': 'lichess', 'system': 'arena', 'minutes': 57, 'clock': {'limit': 180, 'increment': 0}, 'rated': True, 'fullName': '≤2000 SuperBlitz Arena', 'nbPlayers': 488, 'variant': {'key': 'standard', 'short': 'Std', 'name': 'Standard'}, 'startsAt': datetime.datetime(2023, 3, 20, 8, 0, 55, tzinfo=datetime.timezone.utc), 'finishesAt': datetime.datetime(2023, 3, 20, 8, 57, 55, tzinfo=datetime.timezone.utc), 'status': 30, 'perf': {'key': 'blitz', 'name': 'Blitz', 'position': 1, 'icon': ')'}, 'hasMaxRating': True, 'maxRating': {'perf': 'blitz', 'rating': 2000}, 'minRatedGames': {'nb': 20, 'perf': 'blitz'}, 'schedule': {'freq': 'hourly', 'speed': 'superBlitz'}, 'winner': {'id': 'mr_alex_green', 'name': 'Mr_Alex_Green', 'title': None}}, {'id': '7CjRB9PE', 'createdBy': 'lichess', 'system': 'arena', 'minutes': 57, 'clock': {'limit': 300, 'increment': 0}, 'rated': True, 'fullName': '≤1700 Blitz Arena', 'nbPlayers': 364, 'variant': {'key': 'standard', 'short': 'Std', 'name': 'Standard'}, 'startsAt': datetime.datetime(2023, 3, 20, 8, 0, 54, tzinfo=datetime.timezone.utc), 'finishesAt': datetime.datetime(2023, 3, 20, 8, 57, 54, tzinfo=datetime.timezone.utc), 'status': 30, 'perf': {'key': 'blitz', 'name': 'Blitz', 'position': 1, 'icon': ')'}, 'hasMaxRating': True, 'maxRating': {'perf': 'blitz', 'rating': 1700}, 'minRatedGames': {'nb': 20, 'perf': 'blitz'}, 'schedule': {'freq': 'hourly', 'speed': 'blitz'}, 'winner': {'id': 'dolanan_kayu', 'name': 'dolanan_kayu', 'title': None}}, {'id': 'yZ5od4AW', 'createdBy': 'lichess', 'system': 'arena', 'minutes': 57, 'clock': {'limit': 300, 'increment': 0}, 'rated': True, 'fullName': 'Hourly Blitz Arena', 'nbPlayers': 342, 'variant': {'key': 'standard', 'short': 'Std', 'name': 'Standard'}, 'startsAt': datetime.datetime(2023, 3, 20, 8, 0, 50, tzinfo=datetime.timezone.utc), 'finishesAt': datetime.datetime(2023, 3, 20, 8, 57, 50, tzinfo=datetime.timezone.utc), 'status': 30, 'perf': {'key': 'blitz', 'name': 'Blitz', 'position': 1, 'icon': ')'}, 'minRatedGames': {'nb': 15, 'perf': 'blitz'}, 'schedule': {'freq': 'hourly', 'speed': 'blitz'}, 'winner': {'id': 'sergei0303', 'name': 'Sergei0303', 'title': None}}, {'id': 'fDG3PNBA', 'createdBy': 'lichess', 'system': 'arena', 'minutes': 27, 'clock': {'limit': 60, 'increment': 0}, 'rated': True, 'fullName': 'Hourly Crazyhouse Arena', 'nbPlayers': 42, 'variant': {'key': 'crazyhouse', 'short': 'Crazy', 'name': 'Crazyhouse'}, 'startsAt': datetime.datetime(2023, 3, 20, 8, 0, 49, tzinfo=datetime.timezone.utc), 'finishesAt': datetime.datetime(2023, 3, 20, 8, 27, 49, tzinfo=datetime.timezone.utc), 'status': 30, 'perf': {'key': 'crazyhouse', 'name': 'Crazyhouse', 'position': 5}, 'schedule': {'freq': 'hourly', 'speed': 'bullet'}, 'winner': {'id': 'zim-ovokodibad', 'name': 'ZIM-ovokodibad', 'title': None}}, {'id': 'DxlQzs89', 'createdBy': 'lichess', 'system': 'arena', 'minutes': 57, 'clock': {'limit': 600, 'increment': 0}, 'rated': True, 'fullName': '≤1500 Rapid Arena', 'nbPlayers': 141, 'variant': {'key': 'standard', 'short': 'Std', 'name': 'Standard'}, 'startsAt': datetime.datetime(2023, 3, 20, 8, 0, 42, tzinfo=datetime.timezone.utc), 'finishesAt': datetime.datetime(2023, 3, 20, 8, 57, 42, tzinfo=datetime.timezone.utc), 'status': 30, 'perf': {'key': 'rapid', 'name': 'Rapid', 'position': 2, 'icon': '#'}, 'hasMaxRating': True, 'maxRating': {'perf': 'rapid', 'rating': 1500}, 'minRatedGames': {'nb': 20, 'perf': 'rapid'}, 'schedule': {'freq': 'hourly', 'speed': 'rapid'}, 'winner': {'id': 'maks08032013', 'name': 'Maks08032013', 'title': None}}, {'id': 'l9YUhyh8', 'createdBy': 'lichess', 'system': 'arena', 'minutes': 27, 'clock': {'limit': 60, 'increment': 0}, 'rated': True, 'fullName': '≤1300 Bullet Arena', 'nbPlayers': 41, 'variant': {'key': 'standard', 'short': 'Std', 'name': 'Standard'}, 'startsAt': datetime.datetime(2023, 3, 20, 8, 0, 37, tzinfo=datetime.timezone.utc), 'finishesAt': datetime.datetime(2023, 3, 20, 8, 27, 37, tzinfo=datetime.timezone.utc), 'status': 30, 'perf': {'key': 'bullet', 'name': 'Bullet', 'position': 0, 'icon': 'T'}, 'hasMaxRating': True, 'maxRating': {'perf': 'bullet', 'rating': 1300}, 'minRatedGames': {'nb': 20, 'perf': 'bullet'}, 'schedule': {'freq': 'hourly', 'speed': 'bullet'}, 'winner': {'id': 'salihinciell', 'name': 'salihinciell', 'title': None}}, {'id': 'SUHvCsOW', 'createdBy': 'lichess', 'system': 'arena', 'minutes': 27, 'clock': {'limit': 60, 'increment': 0}, 'rated': True, 'fullName': 'Hourly Bullet Arena', 'nbPlayers': 234, 'variant': {'key': 'standard', 'short': 'Std', 'name': 'Standard'}, 'startsAt': datetime.datetime(2023, 3, 20, 8, 0, 22, tzinfo=datetime.timezone.utc), 'finishesAt': datetime.datetime(2023, 3, 20, 8, 27, 22, tzinfo=datetime.timezone.utc), 'status': 30, 'perf': {'key': 'bullet', 'name': 'Bullet', 'position': 0, 'icon': 'T'}, 'minRatedGames': {'nb': 20, 'perf': 'bullet'}, 'schedule': {'freq': 'hourly', 'speed': 'bullet'}, 'winner': {'id': 'mech_vozmezdiy', 'name': 'Mech_Vozmezdiy', 'title': None}}, {'id': 'CkJHDmYi', 'createdBy': 'lichess', 'system': 'arena', 'minutes': 57, 'clock': {'limit': 300, 'increment': 0}, 'rated': True, 'fullName': 'Hourly Racing Kings Arena', 'nbPlayers': 51, 'variant': {'key': 'racingKings', 'short': 'Racing', 'name': 'Racing Kings'}, 'startsAt': datetime.datetime(2023, 3, 20, 8, 0, 13, tzinfo=datetime.timezone.utc), 'finishesAt': datetime.datetime(2023, 3, 20, 8, 57, 13, tzinfo=datetime.timezone.utc), 'status': 30, 'perf': {'key': 'racingKings', 'name': 'Racing Kings', 'position': 12}, 'schedule': {'freq': 'hourly', 'speed': 'blitz'}, 'winner': {'id': 'yura-11', 'name': 'Yura-11', 'title': None}}, {'id': '3rK1hFHS', 'createdBy': 'lichess', 'system': 'arena', 'minutes': 57, 'clock': {'limit': 180, 'increment': 0}, 'rated': True, 'fullName': 'Hourly SuperBlitz Arena', 'nbPlayers': 680, 'variant': {'key': 'standard', 'short': 'Std', 'name': 'Standard'}, 'startsAt': datetime.datetime(2023, 3, 20, 8, 0, 7, tzinfo=datetime.timezone.utc), 'finishesAt': datetime.datetime(2023, 3, 20, 8, 57, 7, tzinfo=datetime.timezone.utc), 'status': 30, 'perf': {'key': 'blitz', 'name': 'Blitz', 'position': 1, 'icon': ')'}, 'minRatedGames': {'nb': 15, 'perf': 'blitz'}, 'schedule': {'freq': 'hourly', 'speed': 'superBlitz'}, 'winner': {'id': 'ramiz-dema', 'name': 'ramiz-dema', 'title': None}}, {'id': 'ZI8nDMCS', 'createdBy': 'lichess', 'system': 'arena', 'minutes': 57, 'clock': {'limit': 120, 'increment': 0}, 'rated': True, 'fullName': 'Hourly Atomic Arena', 'nbPlayers': 101, 'variant': {'key': 'atomic', 'short': 'Atom', 'name': 'Atomic'}, 'startsAt': datetime.datetime(2023, 3, 20, 8, 0, 3, tzinfo=datetime.timezone.utc), 'finishesAt': datetime.datetime(2023, 3, 20, 8, 57, 3, tzinfo=datetime.timezone.utc), 'status': 30, 'perf': {'key': 'atomic', 'name': 'Atomic', 'position': 10}, 'schedule': {'freq': 'hourly', 'speed': 'hippoBullet'}, 'winner': {'id': 'berimanzega_rkccntt', 'name': 'BerimanZega_RKCCNTT', 'title': None}}, {'id': 'jXmBGTfy', 'createdBy': 'lichess', 'system': 'arena', 'minutes': 27, 'clock': {'limit': 60, 'increment': 1}, 'rated': True, 'fullName': '≤2000 Bullet Arena', 'nbPlayers': 176, 'variant': {'key': 'standard', 'short': 'Std', 'name': 'Standard'}, 'startsAt': datetime.datetime(2023, 3, 20, 7, 30, 29, tzinfo=datetime.timezone.utc), 'finishesAt': datetime.datetime(2023, 3, 20, 7, 57, 29, tzinfo=datetime.timezone.utc), 'status': 30, 'perf': {'key': 'bullet', 'name': 'Bullet', 'position': 0, 'icon': 'T'}, 'hasMaxRating': True, 'maxRating': {'perf': 'bullet', 'rating': 2000}, 'minRatedGames': {'nb': 20, 'perf': 'bullet'}, 'schedule': {'freq': 'hourly', 'speed': 'bullet'}, 'winner': {'id': 'samuelkumar', 'name': 'samuelkumar', 'title': None}}, {'id': 'fcphih1o', 'createdBy': 'lichess', 'system': 'arena', 'minutes': 27, 'clock': {'limit': 60, 'increment': 0}, 'rated': True, 'fullName': 'Hourly Bullet Arena', 'nbPlayers': 237, 'variant': {'key': 'standard', 'short': 'Std', 'name': 'Standard'}, 'startsAt': datetime.datetime(2023, 3, 20, 7, 30, 23, tzinfo=datetime.timezone.utc), 'finishesAt': datetime.datetime(2023, 3, 20, 7, 57, 23, tzinfo=datetime.timezone.utc), 'status': 30, 'perf': {'key': 'bullet', 'name': 'Bullet', 'position': 0, 'icon': 'T'}, 'minRatedGames': {'nb': 20, 'perf': 'bullet'}, 'schedule': {'freq': 'hourly', 'speed': 'bullet'}, 'winner': {'id': 'nat74', 'name': 'Nat74', 'title': None}}, {'id': 'KZ8J5S4v', 'createdBy': 'lichess', 'system': 'arena', 'minutes': 27, 'clock': {'limit': 15, 'increment': 0}, 'rated': True, 'fullName': 'Hourly UltraBullet Arena', 'nbPlayers': 98, 'variant': {'key': 'standard', 'short': 'Std', 'name': 'Standard'}, 'startsAt': datetime.datetime(2023, 3, 20, 7, 30, tzinfo=datetime.timezone.utc), 'finishesAt': datetime.datetime(2023, 3, 20, 7, 57, tzinfo=datetime.timezone.utc), 'status': 30, 'perf': {'key': 'ultraBullet', 'name': 'UltraBullet', 'position': 4, 'icon': '{'}, 'schedule': {'freq': 'hourly', 'speed': 'ultraBullet'}, 'winner': {'id': 'coachonline', 'name': 'CoachOnline', 'title': None}}, {'id': 'DKNrqoz3', 'createdBy': 'lichess', 'system': 'arena', 'minutes': 57, 'clock': {'limit': 600, 'increment': 0}, 'rated': True, 'fullName': '≤1300 Rapid Arena', 'nbPlayers': 99, 'variant': {'key': 'standard', 'short': 'Std', 'name': 'Standard'}, 'startsAt': datetime.datetime(2023, 3, 20, 7, 0, 55, tzinfo=datetime.timezone.utc), 'finishesAt': datetime.datetime(2023, 3, 20, 7, 57, 55, tzinfo=datetime.timezone.utc), 'status': 30, 'perf': {'key': 'rapid', 'name': 'Rapid', 'position': 2, 'icon': '#'}, 'hasMaxRating': True, 'maxRating': {'perf': 'rapid', 'rating': 1300}, 'minRatedGames': {'nb': 20, 'perf': 'rapid'}, 'schedule': {'freq': 'hourly', 'speed': 'rapid'}, 'winner': {'id': 'stas03042020', 'name': 'Stas03042020', 'title': None}}, {'id': 'yWaHK6lW', 'createdBy': 'lichess', 'system': 'arena', 'minutes': 57, 'clock': {'limit': 180, 'increment': 0}, 'rated': True, 'fullName': 'Hourly Horde Arena', 'nbPlayers': 33, 'variant': {'key': 'horde', 'short': 'Horde', 'name': 'Horde'}, 'startsAt': datetime.datetime(2023, 3, 20, 7, 0, 48, tzinfo=datetime.timezone.utc), 'finishesAt': datetime.datetime(2023, 3, 20, 7, 57, 48, tzinfo=datetime.timezone.utc), 'status': 30, 'perf': {'key': 'horde', 'name': 'Horde', 'position': 11}, 'schedule': {'freq': 'hourly', 'speed': 'superBlitz'}, 'winner': {'id': 'bagera9', 'name': 'bagera9', 'title': None}}]\n"
          ]
        }
      ]
    },
    {
      "cell_type": "code",
      "source": [
        "finished_tourn = var.get('finished')"
      ],
      "metadata": {
        "id": "RVfbEN7OQMUO"
      },
      "execution_count": 30,
      "outputs": []
    },
    {
      "cell_type": "code",
      "source": [
        "print(finished_tourn)"
      ],
      "metadata": {
        "colab": {
          "base_uri": "https://localhost:8080/"
        },
        "id": "pQ3LlZLzQjMs",
        "outputId": "49e839fc-d55b-4798-bd11-0873519e4775"
      },
      "execution_count": 32,
      "outputs": [
        {
          "output_type": "stream",
          "name": "stdout",
          "text": [
            "[{'id': 'mvozGrxl', 'createdBy': 'lichess', 'system': 'arena', 'minutes': 27, 'clock': {'limit': 15, 'increment': 0}, 'rated': True, 'fullName': 'Hourly UltraBullet Arena', 'nbPlayers': 83, 'variant': {'key': 'standard', 'short': 'Std', 'name': 'Standard'}, 'startsAt': datetime.datetime(2023, 3, 20, 8, 30, 46, tzinfo=datetime.timezone.utc), 'finishesAt': datetime.datetime(2023, 3, 20, 8, 57, 46, tzinfo=datetime.timezone.utc), 'status': 30, 'perf': {'key': 'ultraBullet', 'name': 'UltraBullet', 'position': 4, 'icon': '{'}, 'schedule': {'freq': 'hourly', 'speed': 'ultraBullet'}, 'winner': {'id': 'aditya-beast', 'name': 'Aditya-Beast', 'title': None}}, {'id': '5ovCynTj', 'createdBy': 'lichess', 'system': 'arena', 'minutes': 27, 'clock': {'limit': 60, 'increment': 0}, 'rated': True, 'fullName': 'Hourly Crazyhouse Arena', 'nbPlayers': 53, 'variant': {'key': 'crazyhouse', 'short': 'Crazy', 'name': 'Crazyhouse'}, 'startsAt': datetime.datetime(2023, 3, 20, 8, 30, 15, tzinfo=datetime.timezone.utc), 'finishesAt': datetime.datetime(2023, 3, 20, 8, 57, 15, tzinfo=datetime.timezone.utc), 'status': 30, 'perf': {'key': 'crazyhouse', 'name': 'Crazyhouse', 'position': 5}, 'schedule': {'freq': 'hourly', 'speed': 'bullet'}, 'winner': {'id': 'tranquilizerr', 'name': 'Tranquilizerr', 'title': None}}, {'id': 'iFX2ykzw', 'createdBy': 'lichess', 'system': 'arena', 'minutes': 27, 'clock': {'limit': 60, 'increment': 1}, 'rated': True, 'fullName': '≤1300 Bullet Arena', 'nbPlayers': 55, 'variant': {'key': 'standard', 'short': 'Std', 'name': 'Standard'}, 'startsAt': datetime.datetime(2023, 3, 20, 8, 30, 6, tzinfo=datetime.timezone.utc), 'finishesAt': datetime.datetime(2023, 3, 20, 8, 57, 6, tzinfo=datetime.timezone.utc), 'status': 30, 'perf': {'key': 'bullet', 'name': 'Bullet', 'position': 0, 'icon': 'T'}, 'hasMaxRating': True, 'maxRating': {'perf': 'bullet', 'rating': 1300}, 'minRatedGames': {'nb': 20, 'perf': 'bullet'}, 'schedule': {'freq': 'hourly', 'speed': 'bullet'}, 'winner': {'id': 'kasketkarl', 'name': 'kasketkarl', 'title': None}}, {'id': 'b7iCIMPC', 'createdBy': 'lichess', 'system': 'arena', 'minutes': 27, 'clock': {'limit': 60, 'increment': 0}, 'rated': True, 'fullName': 'Hourly Bullet Arena', 'nbPlayers': 255, 'variant': {'key': 'standard', 'short': 'Std', 'name': 'Standard'}, 'startsAt': datetime.datetime(2023, 3, 20, 8, 30, 3, tzinfo=datetime.timezone.utc), 'finishesAt': datetime.datetime(2023, 3, 20, 8, 57, 3, tzinfo=datetime.timezone.utc), 'status': 30, 'perf': {'key': 'bullet', 'name': 'Bullet', 'position': 0, 'icon': 'T'}, 'minRatedGames': {'nb': 20, 'perf': 'bullet'}, 'schedule': {'freq': 'hourly', 'speed': 'bullet'}, 'winner': {'id': 'sergeynadeev', 'name': 'SergeyNadeev', 'title': None}}, {'id': 'ufqqGz59', 'createdBy': 'lichess', 'system': 'arena', 'minutes': 27, 'clock': {'limit': 30, 'increment': 0}, 'rated': True, 'fullName': 'Hourly HyperBullet Arena', 'nbPlayers': 66, 'variant': {'key': 'standard', 'short': 'Std', 'name': 'Standard'}, 'startsAt': datetime.datetime(2023, 3, 20, 8, 0, 59, tzinfo=datetime.timezone.utc), 'finishesAt': datetime.datetime(2023, 3, 20, 8, 27, 59, tzinfo=datetime.timezone.utc), 'status': 30, 'perf': {'key': 'bullet', 'name': 'Bullet', 'position': 0, 'icon': 'T'}, 'minRatedGames': {'nb': 20, 'perf': 'bullet'}, 'schedule': {'freq': 'hourly', 'speed': 'hyperBullet'}, 'winner': {'id': 'lelouchkx', 'name': 'LelouchKX', 'title': None}}, {'id': '5vUFkon3', 'createdBy': 'lichess', 'system': 'arena', 'minutes': 57, 'clock': {'limit': 180, 'increment': 0}, 'rated': True, 'fullName': '≤2000 SuperBlitz Arena', 'nbPlayers': 488, 'variant': {'key': 'standard', 'short': 'Std', 'name': 'Standard'}, 'startsAt': datetime.datetime(2023, 3, 20, 8, 0, 55, tzinfo=datetime.timezone.utc), 'finishesAt': datetime.datetime(2023, 3, 20, 8, 57, 55, tzinfo=datetime.timezone.utc), 'status': 30, 'perf': {'key': 'blitz', 'name': 'Blitz', 'position': 1, 'icon': ')'}, 'hasMaxRating': True, 'maxRating': {'perf': 'blitz', 'rating': 2000}, 'minRatedGames': {'nb': 20, 'perf': 'blitz'}, 'schedule': {'freq': 'hourly', 'speed': 'superBlitz'}, 'winner': {'id': 'mr_alex_green', 'name': 'Mr_Alex_Green', 'title': None}}, {'id': '7CjRB9PE', 'createdBy': 'lichess', 'system': 'arena', 'minutes': 57, 'clock': {'limit': 300, 'increment': 0}, 'rated': True, 'fullName': '≤1700 Blitz Arena', 'nbPlayers': 364, 'variant': {'key': 'standard', 'short': 'Std', 'name': 'Standard'}, 'startsAt': datetime.datetime(2023, 3, 20, 8, 0, 54, tzinfo=datetime.timezone.utc), 'finishesAt': datetime.datetime(2023, 3, 20, 8, 57, 54, tzinfo=datetime.timezone.utc), 'status': 30, 'perf': {'key': 'blitz', 'name': 'Blitz', 'position': 1, 'icon': ')'}, 'hasMaxRating': True, 'maxRating': {'perf': 'blitz', 'rating': 1700}, 'minRatedGames': {'nb': 20, 'perf': 'blitz'}, 'schedule': {'freq': 'hourly', 'speed': 'blitz'}, 'winner': {'id': 'dolanan_kayu', 'name': 'dolanan_kayu', 'title': None}}, {'id': 'yZ5od4AW', 'createdBy': 'lichess', 'system': 'arena', 'minutes': 57, 'clock': {'limit': 300, 'increment': 0}, 'rated': True, 'fullName': 'Hourly Blitz Arena', 'nbPlayers': 342, 'variant': {'key': 'standard', 'short': 'Std', 'name': 'Standard'}, 'startsAt': datetime.datetime(2023, 3, 20, 8, 0, 50, tzinfo=datetime.timezone.utc), 'finishesAt': datetime.datetime(2023, 3, 20, 8, 57, 50, tzinfo=datetime.timezone.utc), 'status': 30, 'perf': {'key': 'blitz', 'name': 'Blitz', 'position': 1, 'icon': ')'}, 'minRatedGames': {'nb': 15, 'perf': 'blitz'}, 'schedule': {'freq': 'hourly', 'speed': 'blitz'}, 'winner': {'id': 'sergei0303', 'name': 'Sergei0303', 'title': None}}, {'id': 'fDG3PNBA', 'createdBy': 'lichess', 'system': 'arena', 'minutes': 27, 'clock': {'limit': 60, 'increment': 0}, 'rated': True, 'fullName': 'Hourly Crazyhouse Arena', 'nbPlayers': 42, 'variant': {'key': 'crazyhouse', 'short': 'Crazy', 'name': 'Crazyhouse'}, 'startsAt': datetime.datetime(2023, 3, 20, 8, 0, 49, tzinfo=datetime.timezone.utc), 'finishesAt': datetime.datetime(2023, 3, 20, 8, 27, 49, tzinfo=datetime.timezone.utc), 'status': 30, 'perf': {'key': 'crazyhouse', 'name': 'Crazyhouse', 'position': 5}, 'schedule': {'freq': 'hourly', 'speed': 'bullet'}, 'winner': {'id': 'zim-ovokodibad', 'name': 'ZIM-ovokodibad', 'title': None}}, {'id': 'DxlQzs89', 'createdBy': 'lichess', 'system': 'arena', 'minutes': 57, 'clock': {'limit': 600, 'increment': 0}, 'rated': True, 'fullName': '≤1500 Rapid Arena', 'nbPlayers': 141, 'variant': {'key': 'standard', 'short': 'Std', 'name': 'Standard'}, 'startsAt': datetime.datetime(2023, 3, 20, 8, 0, 42, tzinfo=datetime.timezone.utc), 'finishesAt': datetime.datetime(2023, 3, 20, 8, 57, 42, tzinfo=datetime.timezone.utc), 'status': 30, 'perf': {'key': 'rapid', 'name': 'Rapid', 'position': 2, 'icon': '#'}, 'hasMaxRating': True, 'maxRating': {'perf': 'rapid', 'rating': 1500}, 'minRatedGames': {'nb': 20, 'perf': 'rapid'}, 'schedule': {'freq': 'hourly', 'speed': 'rapid'}, 'winner': {'id': 'maks08032013', 'name': 'Maks08032013', 'title': None}}, {'id': 'l9YUhyh8', 'createdBy': 'lichess', 'system': 'arena', 'minutes': 27, 'clock': {'limit': 60, 'increment': 0}, 'rated': True, 'fullName': '≤1300 Bullet Arena', 'nbPlayers': 41, 'variant': {'key': 'standard', 'short': 'Std', 'name': 'Standard'}, 'startsAt': datetime.datetime(2023, 3, 20, 8, 0, 37, tzinfo=datetime.timezone.utc), 'finishesAt': datetime.datetime(2023, 3, 20, 8, 27, 37, tzinfo=datetime.timezone.utc), 'status': 30, 'perf': {'key': 'bullet', 'name': 'Bullet', 'position': 0, 'icon': 'T'}, 'hasMaxRating': True, 'maxRating': {'perf': 'bullet', 'rating': 1300}, 'minRatedGames': {'nb': 20, 'perf': 'bullet'}, 'schedule': {'freq': 'hourly', 'speed': 'bullet'}, 'winner': {'id': 'salihinciell', 'name': 'salihinciell', 'title': None}}, {'id': 'SUHvCsOW', 'createdBy': 'lichess', 'system': 'arena', 'minutes': 27, 'clock': {'limit': 60, 'increment': 0}, 'rated': True, 'fullName': 'Hourly Bullet Arena', 'nbPlayers': 234, 'variant': {'key': 'standard', 'short': 'Std', 'name': 'Standard'}, 'startsAt': datetime.datetime(2023, 3, 20, 8, 0, 22, tzinfo=datetime.timezone.utc), 'finishesAt': datetime.datetime(2023, 3, 20, 8, 27, 22, tzinfo=datetime.timezone.utc), 'status': 30, 'perf': {'key': 'bullet', 'name': 'Bullet', 'position': 0, 'icon': 'T'}, 'minRatedGames': {'nb': 20, 'perf': 'bullet'}, 'schedule': {'freq': 'hourly', 'speed': 'bullet'}, 'winner': {'id': 'mech_vozmezdiy', 'name': 'Mech_Vozmezdiy', 'title': None}}, {'id': 'CkJHDmYi', 'createdBy': 'lichess', 'system': 'arena', 'minutes': 57, 'clock': {'limit': 300, 'increment': 0}, 'rated': True, 'fullName': 'Hourly Racing Kings Arena', 'nbPlayers': 51, 'variant': {'key': 'racingKings', 'short': 'Racing', 'name': 'Racing Kings'}, 'startsAt': datetime.datetime(2023, 3, 20, 8, 0, 13, tzinfo=datetime.timezone.utc), 'finishesAt': datetime.datetime(2023, 3, 20, 8, 57, 13, tzinfo=datetime.timezone.utc), 'status': 30, 'perf': {'key': 'racingKings', 'name': 'Racing Kings', 'position': 12}, 'schedule': {'freq': 'hourly', 'speed': 'blitz'}, 'winner': {'id': 'yura-11', 'name': 'Yura-11', 'title': None}}, {'id': '3rK1hFHS', 'createdBy': 'lichess', 'system': 'arena', 'minutes': 57, 'clock': {'limit': 180, 'increment': 0}, 'rated': True, 'fullName': 'Hourly SuperBlitz Arena', 'nbPlayers': 680, 'variant': {'key': 'standard', 'short': 'Std', 'name': 'Standard'}, 'startsAt': datetime.datetime(2023, 3, 20, 8, 0, 7, tzinfo=datetime.timezone.utc), 'finishesAt': datetime.datetime(2023, 3, 20, 8, 57, 7, tzinfo=datetime.timezone.utc), 'status': 30, 'perf': {'key': 'blitz', 'name': 'Blitz', 'position': 1, 'icon': ')'}, 'minRatedGames': {'nb': 15, 'perf': 'blitz'}, 'schedule': {'freq': 'hourly', 'speed': 'superBlitz'}, 'winner': {'id': 'ramiz-dema', 'name': 'ramiz-dema', 'title': None}}, {'id': 'ZI8nDMCS', 'createdBy': 'lichess', 'system': 'arena', 'minutes': 57, 'clock': {'limit': 120, 'increment': 0}, 'rated': True, 'fullName': 'Hourly Atomic Arena', 'nbPlayers': 101, 'variant': {'key': 'atomic', 'short': 'Atom', 'name': 'Atomic'}, 'startsAt': datetime.datetime(2023, 3, 20, 8, 0, 3, tzinfo=datetime.timezone.utc), 'finishesAt': datetime.datetime(2023, 3, 20, 8, 57, 3, tzinfo=datetime.timezone.utc), 'status': 30, 'perf': {'key': 'atomic', 'name': 'Atomic', 'position': 10}, 'schedule': {'freq': 'hourly', 'speed': 'hippoBullet'}, 'winner': {'id': 'berimanzega_rkccntt', 'name': 'BerimanZega_RKCCNTT', 'title': None}}, {'id': 'jXmBGTfy', 'createdBy': 'lichess', 'system': 'arena', 'minutes': 27, 'clock': {'limit': 60, 'increment': 1}, 'rated': True, 'fullName': '≤2000 Bullet Arena', 'nbPlayers': 176, 'variant': {'key': 'standard', 'short': 'Std', 'name': 'Standard'}, 'startsAt': datetime.datetime(2023, 3, 20, 7, 30, 29, tzinfo=datetime.timezone.utc), 'finishesAt': datetime.datetime(2023, 3, 20, 7, 57, 29, tzinfo=datetime.timezone.utc), 'status': 30, 'perf': {'key': 'bullet', 'name': 'Bullet', 'position': 0, 'icon': 'T'}, 'hasMaxRating': True, 'maxRating': {'perf': 'bullet', 'rating': 2000}, 'minRatedGames': {'nb': 20, 'perf': 'bullet'}, 'schedule': {'freq': 'hourly', 'speed': 'bullet'}, 'winner': {'id': 'samuelkumar', 'name': 'samuelkumar', 'title': None}}, {'id': 'fcphih1o', 'createdBy': 'lichess', 'system': 'arena', 'minutes': 27, 'clock': {'limit': 60, 'increment': 0}, 'rated': True, 'fullName': 'Hourly Bullet Arena', 'nbPlayers': 237, 'variant': {'key': 'standard', 'short': 'Std', 'name': 'Standard'}, 'startsAt': datetime.datetime(2023, 3, 20, 7, 30, 23, tzinfo=datetime.timezone.utc), 'finishesAt': datetime.datetime(2023, 3, 20, 7, 57, 23, tzinfo=datetime.timezone.utc), 'status': 30, 'perf': {'key': 'bullet', 'name': 'Bullet', 'position': 0, 'icon': 'T'}, 'minRatedGames': {'nb': 20, 'perf': 'bullet'}, 'schedule': {'freq': 'hourly', 'speed': 'bullet'}, 'winner': {'id': 'nat74', 'name': 'Nat74', 'title': None}}, {'id': 'KZ8J5S4v', 'createdBy': 'lichess', 'system': 'arena', 'minutes': 27, 'clock': {'limit': 15, 'increment': 0}, 'rated': True, 'fullName': 'Hourly UltraBullet Arena', 'nbPlayers': 98, 'variant': {'key': 'standard', 'short': 'Std', 'name': 'Standard'}, 'startsAt': datetime.datetime(2023, 3, 20, 7, 30, tzinfo=datetime.timezone.utc), 'finishesAt': datetime.datetime(2023, 3, 20, 7, 57, tzinfo=datetime.timezone.utc), 'status': 30, 'perf': {'key': 'ultraBullet', 'name': 'UltraBullet', 'position': 4, 'icon': '{'}, 'schedule': {'freq': 'hourly', 'speed': 'ultraBullet'}, 'winner': {'id': 'coachonline', 'name': 'CoachOnline', 'title': None}}, {'id': 'DKNrqoz3', 'createdBy': 'lichess', 'system': 'arena', 'minutes': 57, 'clock': {'limit': 600, 'increment': 0}, 'rated': True, 'fullName': '≤1300 Rapid Arena', 'nbPlayers': 99, 'variant': {'key': 'standard', 'short': 'Std', 'name': 'Standard'}, 'startsAt': datetime.datetime(2023, 3, 20, 7, 0, 55, tzinfo=datetime.timezone.utc), 'finishesAt': datetime.datetime(2023, 3, 20, 7, 57, 55, tzinfo=datetime.timezone.utc), 'status': 30, 'perf': {'key': 'rapid', 'name': 'Rapid', 'position': 2, 'icon': '#'}, 'hasMaxRating': True, 'maxRating': {'perf': 'rapid', 'rating': 1300}, 'minRatedGames': {'nb': 20, 'perf': 'rapid'}, 'schedule': {'freq': 'hourly', 'speed': 'rapid'}, 'winner': {'id': 'stas03042020', 'name': 'Stas03042020', 'title': None}}, {'id': 'yWaHK6lW', 'createdBy': 'lichess', 'system': 'arena', 'minutes': 57, 'clock': {'limit': 180, 'increment': 0}, 'rated': True, 'fullName': 'Hourly Horde Arena', 'nbPlayers': 33, 'variant': {'key': 'horde', 'short': 'Horde', 'name': 'Horde'}, 'startsAt': datetime.datetime(2023, 3, 20, 7, 0, 48, tzinfo=datetime.timezone.utc), 'finishesAt': datetime.datetime(2023, 3, 20, 7, 57, 48, tzinfo=datetime.timezone.utc), 'status': 30, 'perf': {'key': 'horde', 'name': 'Horde', 'position': 11}, 'schedule': {'freq': 'hourly', 'speed': 'superBlitz'}, 'winner': {'id': 'bagera9', 'name': 'bagera9', 'title': None}}]\n"
          ]
        }
      ]
    },
    {
      "cell_type": "code",
      "source": [
        "data = finished_tourn[0].keys()"
      ],
      "metadata": {
        "id": "U1FQoiEjQ8sj"
      },
      "execution_count": 44,
      "outputs": []
    },
    {
      "cell_type": "code",
      "source": [
        "data"
      ],
      "metadata": {
        "colab": {
          "base_uri": "https://localhost:8080/"
        },
        "id": "sb283QwoRjrI",
        "outputId": "428bba77-e281-444e-d9c8-bcdad14ca461"
      },
      "execution_count": 45,
      "outputs": [
        {
          "output_type": "execute_result",
          "data": {
            "text/plain": [
              "dict_keys(['id', 'createdBy', 'system', 'minutes', 'clock', 'rated', 'fullName', 'nbPlayers', 'variant', 'startsAt', 'finishesAt', 'status', 'perf', 'schedule', 'winner'])"
            ]
          },
          "metadata": {},
          "execution_count": 45
        }
      ]
    },
    {
      "cell_type": "code",
      "source": [
        "val = []\n",
        "for i in range(len(finished_tourn)):\n",
        "  \n",
        "  a = finished_tourn[i].values()\n",
        "  val.append(a)\n",
        "len(val[0])"
      ],
      "metadata": {
        "colab": {
          "base_uri": "https://localhost:8080/"
        },
        "id": "Gh-QoxIwTeuS",
        "outputId": "a95dfea8-d475-4339-d672-6c74b850851e"
      },
      "execution_count": 55,
      "outputs": [
        {
          "output_type": "execute_result",
          "data": {
            "text/plain": [
              "15"
            ]
          },
          "metadata": {},
          "execution_count": 55
        }
      ]
    },
    {
      "cell_type": "code",
      "source": [
        "finished_tourn[0].values()"
      ],
      "metadata": {
        "colab": {
          "base_uri": "https://localhost:8080/"
        },
        "id": "hCsbFO6cWKuG",
        "outputId": "2477695c-a603-4c98-9c37-6e785f668968"
      },
      "execution_count": 60,
      "outputs": [
        {
          "output_type": "execute_result",
          "data": {
            "text/plain": [
              "dict_values(['mvozGrxl', 'lichess', 'arena', 27, {'limit': 15, 'increment': 0}, True, 'Hourly UltraBullet Arena', 83, {'key': 'standard', 'short': 'Std', 'name': 'Standard'}, datetime.datetime(2023, 3, 20, 8, 30, 46, tzinfo=datetime.timezone.utc), datetime.datetime(2023, 3, 20, 8, 57, 46, tzinfo=datetime.timezone.utc), 30, {'key': 'ultraBullet', 'name': 'UltraBullet', 'position': 4, 'icon': '{'}, {'freq': 'hourly', 'speed': 'ultraBullet'}, {'id': 'aditya-beast', 'name': 'Aditya-Beast', 'title': None}])"
            ]
          },
          "metadata": {},
          "execution_count": 60
        }
      ]
    },
    {
      "cell_type": "code",
      "source": [
        "df = pd.DataFrame(val,columns=data)"
      ],
      "metadata": {
        "colab": {
          "base_uri": "https://localhost:8080/",
          "height": 167
        },
        "id": "-mJzNHwsPcJ-",
        "outputId": "28469a93-62c1-48ca-98a2-9ef6e39ef66e"
      },
      "execution_count": 57,
      "outputs": [
        {
          "output_type": "error",
          "ename": "AttributeError",
          "evalue": "ignored",
          "traceback": [
            "\u001b[0;31m---------------------------------------------------------------------------\u001b[0m",
            "\u001b[0;31mAttributeError\u001b[0m                            Traceback (most recent call last)",
            "\u001b[0;32m<ipython-input-57-15b2f3d045e4>\u001b[0m in \u001b[0;36m<module>\u001b[0;34m\u001b[0m\n\u001b[0;32m----> 1\u001b[0;31m \u001b[0mdf\u001b[0m \u001b[0;34m=\u001b[0m \u001b[0mpd\u001b[0m\u001b[0;34m.\u001b[0m\u001b[0mDataFrame\u001b[0m\u001b[0;34m(\u001b[0m\u001b[0mval\u001b[0m\u001b[0;34m[\u001b[0m\u001b[0;36m0\u001b[0m\u001b[0;34m]\u001b[0m\u001b[0;34m.\u001b[0m\u001b[0mreshape\u001b[0m\u001b[0;34m(\u001b[0m\u001b[0;34m)\u001b[0m\u001b[0;34m,\u001b[0m\u001b[0mcolumns\u001b[0m\u001b[0;34m=\u001b[0m\u001b[0mdata\u001b[0m\u001b[0;34m)\u001b[0m\u001b[0;34m\u001b[0m\u001b[0;34m\u001b[0m\u001b[0m\n\u001b[0m",
            "\u001b[0;31mAttributeError\u001b[0m: 'dict_values' object has no attribute 'reshape'"
          ]
        }
      ]
    },
    {
      "cell_type": "code",
      "source": [
        "df"
      ],
      "metadata": {
        "colab": {
          "base_uri": "https://localhost:8080/",
          "height": 677
        },
        "id": "sfvXp16LP_9S",
        "outputId": "9582e693-e8c6-40db-e204-b7099297db84"
      },
      "execution_count": 29,
      "outputs": [
        {
          "output_type": "execute_result",
          "data": {
            "text/plain": [
              "    created  started  finished\n",
              "0       NaN      NaN       NaN\n",
              "1       NaN      NaN       NaN\n",
              "2       NaN      NaN       NaN\n",
              "3       NaN      NaN       NaN\n",
              "4       NaN      NaN       NaN\n",
              "5       NaN      NaN       NaN\n",
              "6       NaN      NaN       NaN\n",
              "7       NaN      NaN       NaN\n",
              "8       NaN      NaN       NaN\n",
              "9       NaN      NaN       NaN\n",
              "10      NaN      NaN       NaN\n",
              "11      NaN      NaN       NaN\n",
              "12      NaN      NaN       NaN\n",
              "13      NaN      NaN       NaN\n",
              "14      NaN      NaN       NaN\n",
              "15      NaN      NaN       NaN\n",
              "16      NaN      NaN       NaN\n",
              "17      NaN      NaN       NaN\n",
              "18      NaN      NaN       NaN\n",
              "19      NaN      NaN       NaN"
            ],
            "text/html": [
              "\n",
              "  <div id=\"df-0f263870-d8b7-484f-92c0-4107890ea77c\">\n",
              "    <div class=\"colab-df-container\">\n",
              "      <div>\n",
              "<style scoped>\n",
              "    .dataframe tbody tr th:only-of-type {\n",
              "        vertical-align: middle;\n",
              "    }\n",
              "\n",
              "    .dataframe tbody tr th {\n",
              "        vertical-align: top;\n",
              "    }\n",
              "\n",
              "    .dataframe thead th {\n",
              "        text-align: right;\n",
              "    }\n",
              "</style>\n",
              "<table border=\"1\" class=\"dataframe\">\n",
              "  <thead>\n",
              "    <tr style=\"text-align: right;\">\n",
              "      <th></th>\n",
              "      <th>created</th>\n",
              "      <th>started</th>\n",
              "      <th>finished</th>\n",
              "    </tr>\n",
              "  </thead>\n",
              "  <tbody>\n",
              "    <tr>\n",
              "      <th>0</th>\n",
              "      <td>NaN</td>\n",
              "      <td>NaN</td>\n",
              "      <td>NaN</td>\n",
              "    </tr>\n",
              "    <tr>\n",
              "      <th>1</th>\n",
              "      <td>NaN</td>\n",
              "      <td>NaN</td>\n",
              "      <td>NaN</td>\n",
              "    </tr>\n",
              "    <tr>\n",
              "      <th>2</th>\n",
              "      <td>NaN</td>\n",
              "      <td>NaN</td>\n",
              "      <td>NaN</td>\n",
              "    </tr>\n",
              "    <tr>\n",
              "      <th>3</th>\n",
              "      <td>NaN</td>\n",
              "      <td>NaN</td>\n",
              "      <td>NaN</td>\n",
              "    </tr>\n",
              "    <tr>\n",
              "      <th>4</th>\n",
              "      <td>NaN</td>\n",
              "      <td>NaN</td>\n",
              "      <td>NaN</td>\n",
              "    </tr>\n",
              "    <tr>\n",
              "      <th>5</th>\n",
              "      <td>NaN</td>\n",
              "      <td>NaN</td>\n",
              "      <td>NaN</td>\n",
              "    </tr>\n",
              "    <tr>\n",
              "      <th>6</th>\n",
              "      <td>NaN</td>\n",
              "      <td>NaN</td>\n",
              "      <td>NaN</td>\n",
              "    </tr>\n",
              "    <tr>\n",
              "      <th>7</th>\n",
              "      <td>NaN</td>\n",
              "      <td>NaN</td>\n",
              "      <td>NaN</td>\n",
              "    </tr>\n",
              "    <tr>\n",
              "      <th>8</th>\n",
              "      <td>NaN</td>\n",
              "      <td>NaN</td>\n",
              "      <td>NaN</td>\n",
              "    </tr>\n",
              "    <tr>\n",
              "      <th>9</th>\n",
              "      <td>NaN</td>\n",
              "      <td>NaN</td>\n",
              "      <td>NaN</td>\n",
              "    </tr>\n",
              "    <tr>\n",
              "      <th>10</th>\n",
              "      <td>NaN</td>\n",
              "      <td>NaN</td>\n",
              "      <td>NaN</td>\n",
              "    </tr>\n",
              "    <tr>\n",
              "      <th>11</th>\n",
              "      <td>NaN</td>\n",
              "      <td>NaN</td>\n",
              "      <td>NaN</td>\n",
              "    </tr>\n",
              "    <tr>\n",
              "      <th>12</th>\n",
              "      <td>NaN</td>\n",
              "      <td>NaN</td>\n",
              "      <td>NaN</td>\n",
              "    </tr>\n",
              "    <tr>\n",
              "      <th>13</th>\n",
              "      <td>NaN</td>\n",
              "      <td>NaN</td>\n",
              "      <td>NaN</td>\n",
              "    </tr>\n",
              "    <tr>\n",
              "      <th>14</th>\n",
              "      <td>NaN</td>\n",
              "      <td>NaN</td>\n",
              "      <td>NaN</td>\n",
              "    </tr>\n",
              "    <tr>\n",
              "      <th>15</th>\n",
              "      <td>NaN</td>\n",
              "      <td>NaN</td>\n",
              "      <td>NaN</td>\n",
              "    </tr>\n",
              "    <tr>\n",
              "      <th>16</th>\n",
              "      <td>NaN</td>\n",
              "      <td>NaN</td>\n",
              "      <td>NaN</td>\n",
              "    </tr>\n",
              "    <tr>\n",
              "      <th>17</th>\n",
              "      <td>NaN</td>\n",
              "      <td>NaN</td>\n",
              "      <td>NaN</td>\n",
              "    </tr>\n",
              "    <tr>\n",
              "      <th>18</th>\n",
              "      <td>NaN</td>\n",
              "      <td>NaN</td>\n",
              "      <td>NaN</td>\n",
              "    </tr>\n",
              "    <tr>\n",
              "      <th>19</th>\n",
              "      <td>NaN</td>\n",
              "      <td>NaN</td>\n",
              "      <td>NaN</td>\n",
              "    </tr>\n",
              "  </tbody>\n",
              "</table>\n",
              "</div>\n",
              "      <button class=\"colab-df-convert\" onclick=\"convertToInteractive('df-0f263870-d8b7-484f-92c0-4107890ea77c')\"\n",
              "              title=\"Convert this dataframe to an interactive table.\"\n",
              "              style=\"display:none;\">\n",
              "        \n",
              "  <svg xmlns=\"http://www.w3.org/2000/svg\" height=\"24px\"viewBox=\"0 0 24 24\"\n",
              "       width=\"24px\">\n",
              "    <path d=\"M0 0h24v24H0V0z\" fill=\"none\"/>\n",
              "    <path d=\"M18.56 5.44l.94 2.06.94-2.06 2.06-.94-2.06-.94-.94-2.06-.94 2.06-2.06.94zm-11 1L8.5 8.5l.94-2.06 2.06-.94-2.06-.94L8.5 2.5l-.94 2.06-2.06.94zm10 10l.94 2.06.94-2.06 2.06-.94-2.06-.94-.94-2.06-.94 2.06-2.06.94z\"/><path d=\"M17.41 7.96l-1.37-1.37c-.4-.4-.92-.59-1.43-.59-.52 0-1.04.2-1.43.59L10.3 9.45l-7.72 7.72c-.78.78-.78 2.05 0 2.83L4 21.41c.39.39.9.59 1.41.59.51 0 1.02-.2 1.41-.59l7.78-7.78 2.81-2.81c.8-.78.8-2.07 0-2.86zM5.41 20L4 18.59l7.72-7.72 1.47 1.35L5.41 20z\"/>\n",
              "  </svg>\n",
              "      </button>\n",
              "      \n",
              "  <style>\n",
              "    .colab-df-container {\n",
              "      display:flex;\n",
              "      flex-wrap:wrap;\n",
              "      gap: 12px;\n",
              "    }\n",
              "\n",
              "    .colab-df-convert {\n",
              "      background-color: #E8F0FE;\n",
              "      border: none;\n",
              "      border-radius: 50%;\n",
              "      cursor: pointer;\n",
              "      display: none;\n",
              "      fill: #1967D2;\n",
              "      height: 32px;\n",
              "      padding: 0 0 0 0;\n",
              "      width: 32px;\n",
              "    }\n",
              "\n",
              "    .colab-df-convert:hover {\n",
              "      background-color: #E2EBFA;\n",
              "      box-shadow: 0px 1px 2px rgba(60, 64, 67, 0.3), 0px 1px 3px 1px rgba(60, 64, 67, 0.15);\n",
              "      fill: #174EA6;\n",
              "    }\n",
              "\n",
              "    [theme=dark] .colab-df-convert {\n",
              "      background-color: #3B4455;\n",
              "      fill: #D2E3FC;\n",
              "    }\n",
              "\n",
              "    [theme=dark] .colab-df-convert:hover {\n",
              "      background-color: #434B5C;\n",
              "      box-shadow: 0px 1px 3px 1px rgba(0, 0, 0, 0.15);\n",
              "      filter: drop-shadow(0px 1px 2px rgba(0, 0, 0, 0.3));\n",
              "      fill: #FFFFFF;\n",
              "    }\n",
              "  </style>\n",
              "\n",
              "      <script>\n",
              "        const buttonEl =\n",
              "          document.querySelector('#df-0f263870-d8b7-484f-92c0-4107890ea77c button.colab-df-convert');\n",
              "        buttonEl.style.display =\n",
              "          google.colab.kernel.accessAllowed ? 'block' : 'none';\n",
              "\n",
              "        async function convertToInteractive(key) {\n",
              "          const element = document.querySelector('#df-0f263870-d8b7-484f-92c0-4107890ea77c');\n",
              "          const dataTable =\n",
              "            await google.colab.kernel.invokeFunction('convertToInteractive',\n",
              "                                                     [key], {});\n",
              "          if (!dataTable) return;\n",
              "\n",
              "          const docLinkHtml = 'Like what you see? Visit the ' +\n",
              "            '<a target=\"_blank\" href=https://colab.research.google.com/notebooks/data_table.ipynb>data table notebook</a>'\n",
              "            + ' to learn more about interactive tables.';\n",
              "          element.innerHTML = '';\n",
              "          dataTable['output_type'] = 'display_data';\n",
              "          await google.colab.output.renderOutput(dataTable, element);\n",
              "          const docLink = document.createElement('div');\n",
              "          docLink.innerHTML = docLinkHtml;\n",
              "          element.appendChild(docLink);\n",
              "        }\n",
              "      </script>\n",
              "    </div>\n",
              "  </div>\n",
              "  "
            ]
          },
          "metadata": {},
          "execution_count": 29
        }
      ]
    },
    {
      "cell_type": "code",
      "source": [
        "url = 'https://www.365chess.com/tournaments.php'\n",
        "soup = BeautifulSoup(requests.get(url).content, 'html.parser')\n",
        "var = soup.findAll('div',attrs={'id':'eco_search'})"
      ],
      "metadata": {
        "id": "FlS_jtRUYRaX"
      },
      "execution_count": 67,
      "outputs": []
    },
    {
      "cell_type": "code",
      "source": [
        "soup.find('a',attrs={'href':'/tournaments.php?year=2019'})"
      ],
      "metadata": {
        "colab": {
          "base_uri": "https://localhost:8080/"
        },
        "id": "4yoi2sr6bdSM",
        "outputId": "e11db479-9adc-476b-fce6-e9ea6282512f"
      },
      "execution_count": 74,
      "outputs": [
        {
          "output_type": "execute_result",
          "data": {
            "text/plain": [
              "<a href=\"/tournaments.php?year=2019\">2019</a>"
            ]
          },
          "metadata": {},
          "execution_count": 74
        }
      ]
    },
    {
      "cell_type": "code",
      "source": [
        "variable = 'https://www.365chess.com/tournaments.php?year='\n",
        "year = [i for i in range(1900,1904)]\n",
        "\n",
        "lista = []\n",
        "for i in year:\n",
        "  lista.append(variable+str(i))"
      ],
      "metadata": {
        "id": "MW_i_gmDfLRW"
      },
      "execution_count": 77,
      "outputs": []
    },
    {
      "cell_type": "code",
      "source": [
        "lista"
      ],
      "metadata": {
        "colab": {
          "base_uri": "https://localhost:8080/"
        },
        "id": "dPZy0Gjyf0SX",
        "outputId": "2714227a-1906-49f4-e464-73d4fe9a6fc6"
      },
      "execution_count": 78,
      "outputs": [
        {
          "output_type": "execute_result",
          "data": {
            "text/plain": [
              "['https://www.365chess.com/tournaments.php?year=1900',\n",
              " 'https://www.365chess.com/tournaments.php?year=1901',\n",
              " 'https://www.365chess.com/tournaments.php?year=1902',\n",
              " 'https://www.365chess.com/tournaments.php?year=1903']"
            ]
          },
          "metadata": {},
          "execution_count": 78
        }
      ]
    },
    {
      "cell_type": "code",
      "source": [
        "url_t = lista[0]\n",
        "soup2 = BeautifulSoup(requests.get(url_t).content, 'html.parser')\n",
        "tr2 = soup2.findAll('a', attrs={'href'})"
      ],
      "metadata": {
        "id": "O5HOrFdRmje2"
      },
      "execution_count": null,
      "outputs": []
    }
  ]
}