{
  "nbformat": 4,
  "nbformat_minor": 0,
  "metadata": {
    "colab": {
      "provenance": [],
      "history_visible": true,
      "include_colab_link": true
    },
    "kernelspec": {
      "name": "python3",
      "display_name": "Python 3"
    },
    "language_info": {
      "name": "python"
    }
  },
  "cells": [
    {
      "cell_type": "markdown",
      "metadata": {
        "id": "view-in-github",
        "colab_type": "text"
      },
      "source": [
        "<a href=\"https://colab.research.google.com/github/poporubeus/Chess_network/blob/main/Chess_28Marzo_token.ipynb\" target=\"_parent\"><img src=\"https://colab.research.google.com/assets/colab-badge.svg\" alt=\"Open In Colab\"/></a>"
      ]
    },
    {
      "cell_type": "code",
      "execution_count": 1,
      "metadata": {
        "id": "CA5kF_abJNsO"
      },
      "outputs": [],
      "source": [
        "import pandas as pd\n",
        "import numpy as np\n",
        "import requests"
      ]
    },
    {
      "cell_type": "code",
      "source": [
        "from urllib.request import urlopen\n",
        "from bs4 import BeautifulSoup\n",
        "import re"
      ],
      "metadata": {
        "id": "9ISEnW7DLaaO"
      },
      "execution_count": 2,
      "outputs": []
    },
    {
      "cell_type": "code",
      "source": [
        "url = 'https://www.365chess.com/tournaments/Djerba_Masters_TB_2023_2023/45570'\n",
        "soup = BeautifulSoup(requests.get(url).content, 'html.parser')\n",
        "var = soup.h1.get_text()\n",
        "var_list = [var]"
      ],
      "metadata": {
        "id": "gBDtIZte3DrL"
      },
      "execution_count": 3,
      "outputs": []
    },
    {
      "cell_type": "code",
      "source": [
        "import pandas as pd\n",
        "df = pd.DataFrame(var_list,columns=['Place'])\n",
        "df"
      ],
      "metadata": {
        "colab": {
          "base_uri": "https://localhost:8080/",
          "height": 80
        },
        "id": "wRp_kY4t9t5q",
        "outputId": "f3892a6b-f46f-4f21-fa31-9f998cd4fe3c"
      },
      "execution_count": 4,
      "outputs": [
        {
          "output_type": "execute_result",
          "data": {
            "text/plain": [
              "                    Place\n",
              "0  Djerba Masters TB 2023"
            ],
            "text/html": [
              "\n",
              "  <div id=\"df-676b9fa4-5876-416f-bf96-a5e6b2e69123\">\n",
              "    <div class=\"colab-df-container\">\n",
              "      <div>\n",
              "<style scoped>\n",
              "    .dataframe tbody tr th:only-of-type {\n",
              "        vertical-align: middle;\n",
              "    }\n",
              "\n",
              "    .dataframe tbody tr th {\n",
              "        vertical-align: top;\n",
              "    }\n",
              "\n",
              "    .dataframe thead th {\n",
              "        text-align: right;\n",
              "    }\n",
              "</style>\n",
              "<table border=\"1\" class=\"dataframe\">\n",
              "  <thead>\n",
              "    <tr style=\"text-align: right;\">\n",
              "      <th></th>\n",
              "      <th>Place</th>\n",
              "    </tr>\n",
              "  </thead>\n",
              "  <tbody>\n",
              "    <tr>\n",
              "      <th>0</th>\n",
              "      <td>Djerba Masters TB 2023</td>\n",
              "    </tr>\n",
              "  </tbody>\n",
              "</table>\n",
              "</div>\n",
              "      <button class=\"colab-df-convert\" onclick=\"convertToInteractive('df-676b9fa4-5876-416f-bf96-a5e6b2e69123')\"\n",
              "              title=\"Convert this dataframe to an interactive table.\"\n",
              "              style=\"display:none;\">\n",
              "        \n",
              "  <svg xmlns=\"http://www.w3.org/2000/svg\" height=\"24px\"viewBox=\"0 0 24 24\"\n",
              "       width=\"24px\">\n",
              "    <path d=\"M0 0h24v24H0V0z\" fill=\"none\"/>\n",
              "    <path d=\"M18.56 5.44l.94 2.06.94-2.06 2.06-.94-2.06-.94-.94-2.06-.94 2.06-2.06.94zm-11 1L8.5 8.5l.94-2.06 2.06-.94-2.06-.94L8.5 2.5l-.94 2.06-2.06.94zm10 10l.94 2.06.94-2.06 2.06-.94-2.06-.94-.94-2.06-.94 2.06-2.06.94z\"/><path d=\"M17.41 7.96l-1.37-1.37c-.4-.4-.92-.59-1.43-.59-.52 0-1.04.2-1.43.59L10.3 9.45l-7.72 7.72c-.78.78-.78 2.05 0 2.83L4 21.41c.39.39.9.59 1.41.59.51 0 1.02-.2 1.41-.59l7.78-7.78 2.81-2.81c.8-.78.8-2.07 0-2.86zM5.41 20L4 18.59l7.72-7.72 1.47 1.35L5.41 20z\"/>\n",
              "  </svg>\n",
              "      </button>\n",
              "      \n",
              "  <style>\n",
              "    .colab-df-container {\n",
              "      display:flex;\n",
              "      flex-wrap:wrap;\n",
              "      gap: 12px;\n",
              "    }\n",
              "\n",
              "    .colab-df-convert {\n",
              "      background-color: #E8F0FE;\n",
              "      border: none;\n",
              "      border-radius: 50%;\n",
              "      cursor: pointer;\n",
              "      display: none;\n",
              "      fill: #1967D2;\n",
              "      height: 32px;\n",
              "      padding: 0 0 0 0;\n",
              "      width: 32px;\n",
              "    }\n",
              "\n",
              "    .colab-df-convert:hover {\n",
              "      background-color: #E2EBFA;\n",
              "      box-shadow: 0px 1px 2px rgba(60, 64, 67, 0.3), 0px 1px 3px 1px rgba(60, 64, 67, 0.15);\n",
              "      fill: #174EA6;\n",
              "    }\n",
              "\n",
              "    [theme=dark] .colab-df-convert {\n",
              "      background-color: #3B4455;\n",
              "      fill: #D2E3FC;\n",
              "    }\n",
              "\n",
              "    [theme=dark] .colab-df-convert:hover {\n",
              "      background-color: #434B5C;\n",
              "      box-shadow: 0px 1px 3px 1px rgba(0, 0, 0, 0.15);\n",
              "      filter: drop-shadow(0px 1px 2px rgba(0, 0, 0, 0.3));\n",
              "      fill: #FFFFFF;\n",
              "    }\n",
              "  </style>\n",
              "\n",
              "      <script>\n",
              "        const buttonEl =\n",
              "          document.querySelector('#df-676b9fa4-5876-416f-bf96-a5e6b2e69123 button.colab-df-convert');\n",
              "        buttonEl.style.display =\n",
              "          google.colab.kernel.accessAllowed ? 'block' : 'none';\n",
              "\n",
              "        async function convertToInteractive(key) {\n",
              "          const element = document.querySelector('#df-676b9fa4-5876-416f-bf96-a5e6b2e69123');\n",
              "          const dataTable =\n",
              "            await google.colab.kernel.invokeFunction('convertToInteractive',\n",
              "                                                     [key], {});\n",
              "          if (!dataTable) return;\n",
              "\n",
              "          const docLinkHtml = 'Like what you see? Visit the ' +\n",
              "            '<a target=\"_blank\" href=https://colab.research.google.com/notebooks/data_table.ipynb>data table notebook</a>'\n",
              "            + ' to learn more about interactive tables.';\n",
              "          element.innerHTML = '';\n",
              "          dataTable['output_type'] = 'display_data';\n",
              "          await google.colab.output.renderOutput(dataTable, element);\n",
              "          const docLink = document.createElement('div');\n",
              "          docLink.innerHTML = docLinkHtml;\n",
              "          element.appendChild(docLink);\n",
              "        }\n",
              "      </script>\n",
              "    </div>\n",
              "  </div>\n",
              "  "
            ]
          },
          "metadata": {},
          "execution_count": 4
        }
      ]
    },
    {
      "cell_type": "code",
      "source": [
        "# PER ENTRARE NELLA LISTA DEI TORNEI FARE:\n",
        "# cntrl + Shift + i\n",
        "# Cercare body, wrap, sidebar, ecosearch, content."
      ],
      "metadata": {
        "id": "ervwZx2vAeXn"
      },
      "execution_count": null,
      "outputs": []
    },
    {
      "cell_type": "markdown",
      "source": [],
      "metadata": {
        "id": "DJ6PxIbRit7g"
      }
    },
    {
      "cell_type": "code",
      "source": [
        "url = 'https://www.365chess.com/tournaments.php'\n",
        "soup = BeautifulSoup(requests.get(url).content, 'html.parser')\n",
        "var = soup.findAll('div',attrs={'id':'eco_search'})"
      ],
      "metadata": {
        "id": "qTqUr5u6iv0O"
      },
      "execution_count": null,
      "outputs": []
    },
    {
      "cell_type": "code",
      "source": [
        "soup.find('a',attrs={'href':'/tournaments.php?year=2019'})"
      ],
      "metadata": {
        "colab": {
          "base_uri": "https://localhost:8080/"
        },
        "id": "4yoi2sr6bdSM",
        "outputId": "7c7705fc-d2b3-4829-92b7-0382faa7aa03"
      },
      "execution_count": 6,
      "outputs": [
        {
          "output_type": "execute_result",
          "data": {
            "text/plain": [
              "<a href=\"/tournaments.php?year=2019\">2019</a>"
            ]
          },
          "metadata": {},
          "execution_count": 6
        }
      ]
    },
    {
      "cell_type": "code",
      "source": [
        "variable = 'https://www.365chess.com/tournaments.php?year='\n",
        "year = [i for i in range(2000,2002)]\n",
        "\n",
        "lista = []\n",
        "for i in year:\n",
        "  lista.append(variable+str(i))"
      ],
      "metadata": {
        "id": "MW_i_gmDfLRW"
      },
      "execution_count": 29,
      "outputs": []
    },
    {
      "cell_type": "code",
      "source": [
        "to_add='&amp;country=&amp;avgelo=&amp;start='\n",
        "for i in range(2):\n",
        "  lista[i]=lista[i]+(str(to_add))"
      ],
      "metadata": {
        "id": "1NMnZgcitQ9q"
      },
      "execution_count": 30,
      "outputs": []
    },
    {
      "cell_type": "code",
      "source": [
        "control='<option value=\"2023\">2023</option>'\n",
        "url_corrente=[lista[0]+str(60)]\n",
        "soup=BeautifulSoup(requests.get(url_corrente).content, 'html.parser')\n",
        "control=soup.findall('option', attrs={'value':'2023'})\n",
        "soup2=BeautifulSoup(requests.get(url).content, 'html.parser')\n",
        "control2=soup2.findall('option', attrs={'value':'2023'})\n",
        "while(control!=control2):\n",
        "  tournament_list = []\n",
        "  "
      ],
      "metadata": {
        "colab": {
          "base_uri": "https://localhost:8080/",
          "height": 283
        },
        "id": "uhyvFbFFm3bk",
        "outputId": "13c7ec5a-f759-4b40-ab59-e91fed7c5525"
      },
      "execution_count": 35,
      "outputs": [
        {
          "output_type": "error",
          "ename": "TypeError",
          "evalue": "ignored",
          "traceback": [
            "\u001b[0;31m---------------------------------------------------------------------------\u001b[0m",
            "\u001b[0;31mTypeError\u001b[0m                                 Traceback (most recent call last)",
            "\u001b[0;32m<ipython-input-35-e568073667e8>\u001b[0m in \u001b[0;36m<module>\u001b[0;34m\u001b[0m\n\u001b[1;32m      3\u001b[0m \u001b[0mv\u001b[0m \u001b[0;34m=\u001b[0m \u001b[0;34m'https://www.365chess.com/tournaments.php?year=2000&amp;country=&amp;avgelo=&amp;start=60'\u001b[0m\u001b[0;34m\u001b[0m\u001b[0;34m\u001b[0m\u001b[0m\n\u001b[1;32m      4\u001b[0m \u001b[0msoup\u001b[0m\u001b[0;34m=\u001b[0m\u001b[0mBeautifulSoup\u001b[0m\u001b[0;34m(\u001b[0m\u001b[0mrequests\u001b[0m\u001b[0;34m.\u001b[0m\u001b[0mget\u001b[0m\u001b[0;34m(\u001b[0m\u001b[0mv\u001b[0m\u001b[0;34m)\u001b[0m\u001b[0;34m.\u001b[0m\u001b[0mcontent\u001b[0m\u001b[0;34m,\u001b[0m \u001b[0;34m'html.parser'\u001b[0m\u001b[0;34m)\u001b[0m\u001b[0;34m\u001b[0m\u001b[0;34m\u001b[0m\u001b[0m\n\u001b[0;32m----> 5\u001b[0;31m \u001b[0msoup\u001b[0m\u001b[0;34m.\u001b[0m\u001b[0mFindall\u001b[0m\u001b[0;34m(\u001b[0m\u001b[0;34m'option'\u001b[0m\u001b[0;34m,\u001b[0m \u001b[0mattrs\u001b[0m\u001b[0;34m=\u001b[0m\u001b[0;34m{\u001b[0m\u001b[0;34m'value'\u001b[0m\u001b[0;34m:\u001b[0m\u001b[0;34m'2023'\u001b[0m\u001b[0;34m}\u001b[0m\u001b[0;34m)\u001b[0m\u001b[0;34m\u001b[0m\u001b[0;34m\u001b[0m\u001b[0m\n\u001b[0m\u001b[1;32m      6\u001b[0m \u001b[0msoup2\u001b[0m\u001b[0;34m=\u001b[0m\u001b[0mBeautifulSoup\u001b[0m\u001b[0;34m(\u001b[0m\u001b[0mrequests\u001b[0m\u001b[0;34m.\u001b[0m\u001b[0mget\u001b[0m\u001b[0;34m(\u001b[0m\u001b[0murl\u001b[0m\u001b[0;34m)\u001b[0m\u001b[0;34m.\u001b[0m\u001b[0mcontent\u001b[0m\u001b[0;34m,\u001b[0m \u001b[0;34m'html.parser'\u001b[0m\u001b[0;34m)\u001b[0m\u001b[0;34m\u001b[0m\u001b[0;34m\u001b[0m\u001b[0m\n\u001b[1;32m      7\u001b[0m \u001b[0mcontrol2\u001b[0m\u001b[0;34m=\u001b[0m\u001b[0msoup2\u001b[0m\u001b[0;34m.\u001b[0m\u001b[0mfindall\u001b[0m\u001b[0;34m(\u001b[0m\u001b[0;34m'option'\u001b[0m\u001b[0;34m,\u001b[0m \u001b[0mattrs\u001b[0m\u001b[0;34m=\u001b[0m\u001b[0;34m{\u001b[0m\u001b[0;34m'value'\u001b[0m\u001b[0;34m:\u001b[0m\u001b[0;34m'2023'\u001b[0m\u001b[0;34m}\u001b[0m\u001b[0;34m)\u001b[0m\u001b[0;34m\u001b[0m\u001b[0;34m\u001b[0m\u001b[0m\n",
            "\u001b[0;31mTypeError\u001b[0m: 'NoneType' object is not callable"
          ]
        }
      ]
    },
    {
      "cell_type": "code",
      "source": [
        "url_t = lista[0]\n",
        "soup2 = BeautifulSoup(requests.get(url_t).content, 'html.parser')\n",
        "var2 = soup2.findAll('a', attrs={'class':'pagination'})\n",
        "url_inizio = 'https://www.365chess.com/'"
      ],
      "metadata": {
        "id": "O5HOrFdRmje2"
      },
      "execution_count": 9,
      "outputs": []
    },
    {
      "cell_type": "code",
      "source": [
        "var2"
      ],
      "metadata": {
        "id": "mYRlBTvqGgIs",
        "outputId": "12e7c9c0-9d19-48c0-fd37-072d194a7b26",
        "colab": {
          "base_uri": "https://localhost:8080/"
        }
      },
      "execution_count": 10,
      "outputs": [
        {
          "output_type": "execute_result",
          "data": {
            "text/plain": [
              "[<a class=\"pagination\" href=\"tournaments.php?p=1&amp;tname=&amp;year=2000&amp;country=&amp;avgelo=&amp;start=60\">2</a>,\n",
              " <a class=\"pagination\" href=\"tournaments.php?p=1&amp;tname=&amp;year=2000&amp;country=&amp;avgelo=&amp;start=120\">3</a>,\n",
              " <a class=\"pagination\" href=\"tournaments.php?p=1&amp;tname=&amp;year=2000&amp;country=&amp;avgelo=&amp;start=1860\">32</a>,\n",
              " <a class=\"pagination\" href=\"tournaments.php?p=1&amp;tname=&amp;year=2000&amp;country=&amp;avgelo=&amp;start=1920\">33</a>,\n",
              " <a class=\"pagination\" href=\"tournaments.php?p=1&amp;tname=&amp;year=2000&amp;country=&amp;avgelo=&amp;start=1980\">34</a>,\n",
              " <a class=\"pagination\" href=\"tournaments.php?p=1&amp;tname=&amp;year=2000&amp;country=&amp;avgelo=&amp;start=60\">Next</a>]"
            ]
          },
          "metadata": {},
          "execution_count": 10
        }
      ]
    },
    {
      "cell_type": "code",
      "source": [
        "url_fine = []\n",
        "pattern = r'\"(.*?)\"'\n",
        "for i in range(len(var2)):\n",
        "  url_fine.append(re.findall(pattern,str(var2[i])))"
      ],
      "metadata": {
        "id": "GvlWJshpz79l"
      },
      "execution_count": 11,
      "outputs": []
    },
    {
      "cell_type": "code",
      "source": [
        "url_fine\n"
      ],
      "metadata": {
        "id": "hDKJrP0wdifv",
        "outputId": "4b9282c5-9060-4504-8c4f-6f3669b54a94",
        "colab": {
          "base_uri": "https://localhost:8080/"
        }
      },
      "execution_count": 12,
      "outputs": [
        {
          "output_type": "execute_result",
          "data": {
            "text/plain": [
              "[['pagination',\n",
              "  'tournaments.php?p=1&amp;tname=&amp;year=2000&amp;country=&amp;avgelo=&amp;start=60'],\n",
              " ['pagination',\n",
              "  'tournaments.php?p=1&amp;tname=&amp;year=2000&amp;country=&amp;avgelo=&amp;start=120'],\n",
              " ['pagination',\n",
              "  'tournaments.php?p=1&amp;tname=&amp;year=2000&amp;country=&amp;avgelo=&amp;start=1860'],\n",
              " ['pagination',\n",
              "  'tournaments.php?p=1&amp;tname=&amp;year=2000&amp;country=&amp;avgelo=&amp;start=1920'],\n",
              " ['pagination',\n",
              "  'tournaments.php?p=1&amp;tname=&amp;year=2000&amp;country=&amp;avgelo=&amp;start=1980'],\n",
              " ['pagination',\n",
              "  'tournaments.php?p=1&amp;tname=&amp;year=2000&amp;country=&amp;avgelo=&amp;start=60']]"
            ]
          },
          "metadata": {},
          "execution_count": 12
        }
      ]
    },
    {
      "cell_type": "code",
      "source": [
        "url_inizio"
      ],
      "metadata": {
        "id": "uEXnZEdkLsWl",
        "outputId": "8e16be3d-2247-44a0-b5a7-36c9d347e9cb",
        "colab": {
          "base_uri": "https://localhost:8080/",
          "height": 35
        }
      },
      "execution_count": 13,
      "outputs": [
        {
          "output_type": "execute_result",
          "data": {
            "text/plain": [
              "'https://www.365chess.com/'"
            ],
            "application/vnd.google.colaboratory.intrinsic+json": {
              "type": "string"
            }
          },
          "metadata": {},
          "execution_count": 13
        }
      ]
    },
    {
      "cell_type": "code",
      "source": [
        "\n",
        "url_completo = []\n",
        "for j in range(len(url_fine)):\n",
        "  url_completo.append(url_inizio + url_fine[j][1])\n",
        "url_completo"
      ],
      "metadata": {
        "id": "ohh6R1kcI1lI",
        "outputId": "cc3c461c-a88f-416e-a55d-041e2d9c1ce8",
        "colab": {
          "base_uri": "https://localhost:8080/"
        }
      },
      "execution_count": null,
      "outputs": [
        {
          "output_type": "execute_result",
          "data": {
            "text/plain": [
              "['https://www.365chess.com/tournaments.php?p=1&amp;tname=&amp;year=2000&amp;country=&amp;avgelo=&amp;start=60',\n",
              " 'https://www.365chess.com/tournaments.php?p=1&amp;tname=&amp;year=2000&amp;country=&amp;avgelo=&amp;start=120',\n",
              " 'https://www.365chess.com/tournaments.php?p=1&amp;tname=&amp;year=2000&amp;country=&amp;avgelo=&amp;start=1860',\n",
              " 'https://www.365chess.com/tournaments.php?p=1&amp;tname=&amp;year=2000&amp;country=&amp;avgelo=&amp;start=1920',\n",
              " 'https://www.365chess.com/tournaments.php?p=1&amp;tname=&amp;year=2000&amp;country=&amp;avgelo=&amp;start=1980',\n",
              " 'https://www.365chess.com/tournaments.php?p=1&amp;tname=&amp;year=2000&amp;country=&amp;avgelo=&amp;start=60']"
            ]
          },
          "metadata": {},
          "execution_count": 13
        }
      ]
    },
    {
      "cell_type": "code",
      "source": [
        "url_fine = []\n",
        "for i in range(len(var2)):\n",
        "  url_fine.append(re.findall(r'\"(.*?)\"',str(var2[i])))\n"
      ],
      "metadata": {
        "id": "Phlt4EiBH7oV"
      },
      "execution_count": null,
      "outputs": []
    },
    {
      "cell_type": "code",
      "source": [
        "var2_string = str(var2)"
      ],
      "metadata": {
        "id": "qZMOGzEqzG8w"
      },
      "execution_count": null,
      "outputs": []
    },
    {
      "cell_type": "code",
      "source": [
        "url_fine"
      ],
      "metadata": {
        "id": "X14Qpw0NdM5-",
        "outputId": "89b21f05-8d08-40db-a2f0-694bc43bef53",
        "colab": {
          "base_uri": "https://localhost:8080/"
        }
      },
      "execution_count": null,
      "outputs": [
        {
          "output_type": "execute_result",
          "data": {
            "text/plain": [
              "[['pagination',\n",
              "  'tournaments.php?p=1&amp;tname=&amp;year=2000&amp;country=&amp;avgelo=&amp;start=60'],\n",
              " ['pagination',\n",
              "  'tournaments.php?p=1&amp;tname=&amp;year=2000&amp;country=&amp;avgelo=&amp;start=120'],\n",
              " ['pagination',\n",
              "  'tournaments.php?p=1&amp;tname=&amp;year=2000&amp;country=&amp;avgelo=&amp;start=1860'],\n",
              " ['pagination',\n",
              "  'tournaments.php?p=1&amp;tname=&amp;year=2000&amp;country=&amp;avgelo=&amp;start=1920'],\n",
              " ['pagination',\n",
              "  'tournaments.php?p=1&amp;tname=&amp;year=2000&amp;country=&amp;avgelo=&amp;start=1980'],\n",
              " ['pagination',\n",
              "  'tournaments.php?p=1&amp;tname=&amp;year=2000&amp;country=&amp;avgelo=&amp;start=60']]"
            ]
          },
          "metadata": {},
          "execution_count": 21
        }
      ]
    },
    {
      "cell_type": "code",
      "source": [
        "[var2_string.split(',')]"
      ],
      "metadata": {
        "colab": {
          "base_uri": "https://localhost:8080/"
        },
        "id": "Y-FhGaCjybr-",
        "outputId": "ca90dad9-739e-49f0-d8c3-301d2254eda6"
      },
      "execution_count": null,
      "outputs": [
        {
          "output_type": "execute_result",
          "data": {
            "text/plain": [
              "[['[<a class=\"pagination\" href=\"tournaments.php?p=1&amp;tname=&amp;year=2000&amp;country=&amp;avgelo=&amp;start=60\">2</a>',\n",
              "  ' <a class=\"pagination\" href=\"tournaments.php?p=1&amp;tname=&amp;year=2000&amp;country=&amp;avgelo=&amp;start=120\">3</a>',\n",
              "  ' <a class=\"pagination\" href=\"tournaments.php?p=1&amp;tname=&amp;year=2000&amp;country=&amp;avgelo=&amp;start=1860\">32</a>',\n",
              "  ' <a class=\"pagination\" href=\"tournaments.php?p=1&amp;tname=&amp;year=2000&amp;country=&amp;avgelo=&amp;start=1920\">33</a>',\n",
              "  ' <a class=\"pagination\" href=\"tournaments.php?p=1&amp;tname=&amp;year=2000&amp;country=&amp;avgelo=&amp;start=1980\">34</a>',\n",
              "  ' <a class=\"pagination\" href=\"tournaments.php?p=1&amp;tname=&amp;year=2000&amp;country=&amp;avgelo=&amp;start=60\">Next</a>]']]"
            ]
          },
          "metadata": {},
          "execution_count": 19
        }
      ]
    },
    {
      "cell_type": "code",
      "source": [
        "d = len([var2_string.split(',')][0])"
      ],
      "metadata": {
        "id": "uBQdsSZX30ai"
      },
      "execution_count": null,
      "outputs": []
    },
    {
      "cell_type": "code",
      "source": [
        "b = [var2_string.split(',')][0]"
      ],
      "metadata": {
        "id": "ZcPBFNKF4q7W"
      },
      "execution_count": null,
      "outputs": []
    },
    {
      "cell_type": "code",
      "source": [
        "y = []\n",
        "for i in range(d):\n",
        "  if 'https://www.365chess.com/tournaments/' in b[i]:\n",
        "    y.append(b[i])\n"
      ],
      "metadata": {
        "id": "qQmjw8USvqFI"
      },
      "execution_count": null,
      "outputs": []
    },
    {
      "cell_type": "code",
      "source": [
        "y"
      ],
      "metadata": {
        "colab": {
          "base_uri": "https://localhost:8080/"
        },
        "id": "34r6AmA1zh-B",
        "outputId": "a29f836d-7750-413a-9df1-dcade76fdbcb"
      },
      "execution_count": null,
      "outputs": [
        {
          "output_type": "execute_result",
          "data": {
            "text/plain": [
              "[' <a href=\"https://www.365chess.com/tournaments/AUT-chT2M_0001_2000/2929\">AUT-chT2M 0001</a>',\n",
              " ' <a href=\"https://www.365chess.com/tournaments/AUT-chT2O_0001_2000/2930\">AUT-chT2O 0001</a>',\n",
              " ' <a href=\"https://www.365chess.com/tournaments/AUT-chT2S_0001_2000/2931\">AUT-chT2S 0001</a>',\n",
              " ' <a href=\"https://www.365chess.com/tournaments/AUT-chT2W_0001_2000/2932\">AUT-chT2W 0001</a>',\n",
              " ' <a href=\"https://www.365chess.com/tournaments/Asturias-chT40_Primera_A_2000/2933\">Asturias-chT40 Primera A</a>',\n",
              " ' <a href=\"https://www.365chess.com/tournaments/Asturias-chT40_Primera_B_2000/2934\">Asturias-chT40 Primera B</a>',\n",
              " ' <a href=\"https://www.365chess.com/tournaments/BL2_South_0001_(Women)_2000/2935\">BL2 South 0001 (Women)</a>',\n",
              " ' <a href=\"https://www.365chess.com/tournaments/BL2_West_0001_(Women)_2000/2936\">BL2 West 0001 (Women)</a>',\n",
              " ' <a href=\"https://www.365chess.com/tournaments/BL2-E_0001_(Women)_2000/2937\">BL2-E 0001 (Women)</a>',\n",
              " ' <a href=\"https://www.365chess.com/tournaments/CZE-chT2a_0001_2000/2938\">CZE-chT2a 0001</a>',\n",
              " ' <a href=\"https://www.365chess.com/tournaments/CZE-chT2b_0001_2000/2939\">CZE-chT2b 0001</a>',\n",
              " ' <a href=\"https://www.365chess.com/tournaments/CZE-chTJ_0001_2000/2940\">CZE-chTJ 0001</a>',\n",
              " ' <a href=\"https://www.365chess.com/tournaments/CZE-chTV_0001_2000/2941\">CZE-chTV 0001</a>',\n",
              " ' <a href=\"https://www.365chess.com/tournaments/DEN-chT_0001_2000/2942\">DEN-chT 0001</a>',\n",
              " ' <a href=\"https://www.365chess.com/tournaments/FRA-chT_0001_U18_2000/2943\">FRA-chT 0001 U18</a>',\n",
              " ' <a href=\"https://www.365chess.com/tournaments/Finistere-chT_0001_2000/2944\">Finistere-chT 0001</a>',\n",
              " ' <a href=\"https://www.365chess.com/tournaments/Geelong_op_2000/2945\">Geelong op</a>',\n",
              " ' <a href=\"https://www.365chess.com/tournaments/JBLN_Ost_0001_2000/2946\">JBLN Ost 0001</a>',\n",
              " ' <a href=\"https://www.365chess.com/tournaments/JBLN_West_0001_2000/2947\">JBLN West 0001</a>',\n",
              " ' <a href=\"https://www.365chess.com/tournaments/Landesliga_Nord_0001_2000/2948\">Landesliga Nord 0001</a>',\n",
              " ' <a href=\"https://www.365chess.com/tournaments/Landesliga_Sued_0001_2000/2949\">Landesliga Sued 0001</a>',\n",
              " ' <a href=\"https://www.365chess.com/tournaments/NOR-chT_0001_2000/2950\">NOR-chT 0001</a>',\n",
              " ' <a href=\"https://www.365chess.com/tournaments/Regionalliga_NO_0001_2000/2951\">Regionalliga NO 0001</a>',\n",
              " ' <a href=\"https://www.365chess.com/tournaments/Regionalliga_NW_0001_2000/2952\">Regionalliga NW 0001</a>',\n",
              " ' <a href=\"https://www.365chess.com/tournaments/Regionalliga_SO_0001_2000/2953\">Regionalliga SO 0001</a>',\n",
              " ' <a href=\"https://www.365chess.com/tournaments/Regionalliga_SW_0001_2000/2954\">Regionalliga SW 0001</a>',\n",
              " ' <a href=\"https://www.365chess.com/tournaments/SVK-chT1E_0001_2000/2955\">SVK-chT1E 0001</a>',\n",
              " ' <a href=\"https://www.365chess.com/tournaments/SVK-chT1W_0001_2000/2956\">SVK-chT1W 0001</a>',\n",
              " ' <a href=\"https://www.365chess.com/tournaments/SVK-chT3B_0001_2000/2957\">SVK-chT3B 0001</a>',\n",
              " ' <a href=\"https://www.365chess.com/tournaments/SVK-chT3C_0001_2000/2958\">SVK-chT3C 0001</a>',\n",
              " ' <a href=\"https://www.365chess.com/tournaments/SVK-chT3D_0001_2000/2959\">SVK-chT3D 0001</a>',\n",
              " ' <a href=\"https://www.365chess.com/tournaments/ARG-ch_(Women)_2000/4875\">ARG-ch (Women)</a>',\n",
              " ' <a href=\"https://www.365chess.com/tournaments/ARG-ch_U14_2000/4876\">ARG-ch U14</a>',\n",
              " ' <a href=\"https://www.365chess.com/tournaments/ARG-chT_2000/4877\">ARG-chT</a>',\n",
              " ' <a href=\"https://www.365chess.com/tournaments/AUT-ch_U16_2000/4878\">AUT-ch U16</a>',\n",
              " ' <a href=\"https://www.365chess.com/tournaments/AUT-ch_U16_Girls_2000/4879\">AUT-ch U16 Girls</a>',\n",
              " ' <a href=\"https://www.365chess.com/tournaments/AUT-ch_U18_2000/4880\">AUT-ch U18</a>',\n",
              " ' <a href=\"https://www.365chess.com/tournaments/AUT-ch_U18_Girls_2000/4881\">AUT-ch U18 Girls</a>',\n",
              " ' <a href=\"https://www.365chess.com/tournaments/AZE-ch_2000/4882\">AZE-ch</a>',\n",
              " ' <a href=\"https://www.365chess.com/tournaments/AZE-ch_U14_2000/4883\">AZE-ch U14</a>',\n",
              " ' <a href=\"https://www.365chess.com/tournaments/AZE-ch_U16_2000/4884\">AZE-ch U16</a>',\n",
              " ' <a href=\"https://www.365chess.com/tournaments/AZE-ch_U18_2000/4885\">AZE-ch U18</a>',\n",
              " ' <a href=\"https://www.365chess.com/tournaments/AZE-ch_U20_2000/4886\">AZE-ch U20</a>',\n",
              " ' <a href=\"https://www.365chess.com/tournaments/AZE-ch_U20_Girls_2000/4887\">AZE-ch U20 Girls</a>',\n",
              " ' <a href=\"https://www.365chess.com/tournaments/AZE-chT_2000/4888\">AZE-chT</a>',\n",
              " ' <a href=\"https://www.365chess.com/tournaments/AZE-chT_rap_2000/4889\">AZE-chT rap</a>',\n",
              " ' <a href=\"https://www.365chess.com/tournaments/Aarhus-ch_Basis2_2000/4890\">Aarhus-ch Basis2</a>',\n",
              " ' <a href=\"https://www.365chess.com/tournaments/Aarhus-ch_Basis5_2000/4891\">Aarhus-ch Basis5</a>',\n",
              " ' <a href=\"https://www.365chess.com/tournaments/Aarhus-ch_Basis6_2000/4892\">Aarhus-ch Basis6</a>',\n",
              " ' <a href=\"https://www.365chess.com/tournaments/Aarhus-ch_Basis7_2000/4893\">Aarhus-ch Basis7</a>',\n",
              " ' <a href=\"https://www.365chess.com/tournaments/Aarhus-chB_2000/4894\">Aarhus-chB</a>',\n",
              " ' <a href=\"https://www.365chess.com/tournaments/Agneaux_St_Lo_op_4th_2000/4895\">Agneaux St Lo op 4th</a>',\n",
              " ' <a href=\"https://www.365chess.com/tournaments/Albert_Boxer_Classic_op_2000/4896\">Albert Boxer Classic op</a>',\n",
              " ' <a href=\"https://www.365chess.com/tournaments/Almassora-A_2000/4897\">Almassora-A</a>',\n",
              " ' <a href=\"https://www.365chess.com/tournaments/Almassora-B_2000/4898\">Almassora-B</a>',\n",
              " ' <a href=\"https://www.365chess.com/tournaments/Alushta_2000/4899\">Alushta</a>',\n",
              " ' <a href=\"https://www.365chess.com/tournaments/Ambelokipi_op_22th_2000/4900\">Ambelokipi op 22th</a>',\n",
              " ' <a href=\"https://www.365chess.com/tournaments/Ambelokipi_op_25th_2000/4901\">Ambelokipi op 25th</a>',\n",
              " ' <a href=\"https://www.365chess.com/tournaments/Andorra_m_5\\'_2000/4902\">Andorra m 5\\'</a>',\n",
              " ' <a href=\"https://www.365chess.com/tournaments/Andorra_sim_2000/4903\">Andorra sim</a>']"
            ]
          },
          "metadata": {},
          "execution_count": 51
        }
      ]
    },
    {
      "cell_type": "code",
      "source": [
        "dim = len(y)"
      ],
      "metadata": {
        "id": "cINchkyD9R1z"
      },
      "execution_count": null,
      "outputs": []
    },
    {
      "cell_type": "code",
      "source": [
        "import re"
      ],
      "metadata": {
        "id": "TSjAMoPw4E1q"
      },
      "execution_count": null,
      "outputs": []
    },
    {
      "cell_type": "code",
      "source": [
        "y[0]"
      ],
      "metadata": {
        "id": "pTTaubsf8YGs",
        "outputId": "e244ea20-bbf9-4f2b-9b1b-0e22d1e3d187",
        "colab": {
          "base_uri": "https://localhost:8080/",
          "height": 53
        }
      },
      "execution_count": null,
      "outputs": [
        {
          "output_type": "execute_result",
          "data": {
            "text/plain": [
              "' <a href=\"https://www.365chess.com/tournaments/AUT-chT2M_0001_2000/2929\">AUT-chT2M 0001</a>'"
            ],
            "application/vnd.google.colaboratory.intrinsic+json": {
              "type": "string"
            }
          },
          "metadata": {},
          "execution_count": 54
        }
      ]
    },
    {
      "cell_type": "code",
      "source": [
        "v = []\n",
        "for i in range(len(y)):\n",
        "  v.append(re.findall(r'\"(.*?)\"',y[i]))"
      ],
      "metadata": {
        "id": "5rP42Ndq8cH5"
      },
      "execution_count": null,
      "outputs": []
    },
    {
      "cell_type": "code",
      "source": [
        "v"
      ],
      "metadata": {
        "id": "C-S-sLJP9wA7",
        "outputId": "cb19e49b-8352-4ccc-a390-6867671ff78a",
        "colab": {
          "base_uri": "https://localhost:8080/"
        }
      },
      "execution_count": null,
      "outputs": [
        {
          "output_type": "execute_result",
          "data": {
            "text/plain": [
              "[['https://www.365chess.com/tournaments/AUT-chT2M_0001_2000/2929'],\n",
              " ['https://www.365chess.com/tournaments/AUT-chT2O_0001_2000/2930'],\n",
              " ['https://www.365chess.com/tournaments/AUT-chT2S_0001_2000/2931'],\n",
              " ['https://www.365chess.com/tournaments/AUT-chT2W_0001_2000/2932'],\n",
              " ['https://www.365chess.com/tournaments/Asturias-chT40_Primera_A_2000/2933'],\n",
              " ['https://www.365chess.com/tournaments/Asturias-chT40_Primera_B_2000/2934'],\n",
              " ['https://www.365chess.com/tournaments/BL2_South_0001_(Women)_2000/2935'],\n",
              " ['https://www.365chess.com/tournaments/BL2_West_0001_(Women)_2000/2936'],\n",
              " ['https://www.365chess.com/tournaments/BL2-E_0001_(Women)_2000/2937'],\n",
              " ['https://www.365chess.com/tournaments/CZE-chT2a_0001_2000/2938'],\n",
              " ['https://www.365chess.com/tournaments/CZE-chT2b_0001_2000/2939'],\n",
              " ['https://www.365chess.com/tournaments/CZE-chTJ_0001_2000/2940'],\n",
              " ['https://www.365chess.com/tournaments/CZE-chTV_0001_2000/2941'],\n",
              " ['https://www.365chess.com/tournaments/DEN-chT_0001_2000/2942'],\n",
              " ['https://www.365chess.com/tournaments/FRA-chT_0001_U18_2000/2943'],\n",
              " ['https://www.365chess.com/tournaments/Finistere-chT_0001_2000/2944'],\n",
              " ['https://www.365chess.com/tournaments/Geelong_op_2000/2945'],\n",
              " ['https://www.365chess.com/tournaments/JBLN_Ost_0001_2000/2946'],\n",
              " ['https://www.365chess.com/tournaments/JBLN_West_0001_2000/2947'],\n",
              " ['https://www.365chess.com/tournaments/Landesliga_Nord_0001_2000/2948'],\n",
              " ['https://www.365chess.com/tournaments/Landesliga_Sued_0001_2000/2949'],\n",
              " ['https://www.365chess.com/tournaments/NOR-chT_0001_2000/2950'],\n",
              " ['https://www.365chess.com/tournaments/Regionalliga_NO_0001_2000/2951'],\n",
              " ['https://www.365chess.com/tournaments/Regionalliga_NW_0001_2000/2952'],\n",
              " ['https://www.365chess.com/tournaments/Regionalliga_SO_0001_2000/2953'],\n",
              " ['https://www.365chess.com/tournaments/Regionalliga_SW_0001_2000/2954'],\n",
              " ['https://www.365chess.com/tournaments/SVK-chT1E_0001_2000/2955'],\n",
              " ['https://www.365chess.com/tournaments/SVK-chT1W_0001_2000/2956'],\n",
              " ['https://www.365chess.com/tournaments/SVK-chT3B_0001_2000/2957'],\n",
              " ['https://www.365chess.com/tournaments/SVK-chT3C_0001_2000/2958'],\n",
              " ['https://www.365chess.com/tournaments/SVK-chT3D_0001_2000/2959'],\n",
              " ['https://www.365chess.com/tournaments/ARG-ch_(Women)_2000/4875'],\n",
              " ['https://www.365chess.com/tournaments/ARG-ch_U14_2000/4876'],\n",
              " ['https://www.365chess.com/tournaments/ARG-chT_2000/4877'],\n",
              " ['https://www.365chess.com/tournaments/AUT-ch_U16_2000/4878'],\n",
              " ['https://www.365chess.com/tournaments/AUT-ch_U16_Girls_2000/4879'],\n",
              " ['https://www.365chess.com/tournaments/AUT-ch_U18_2000/4880'],\n",
              " ['https://www.365chess.com/tournaments/AUT-ch_U18_Girls_2000/4881'],\n",
              " ['https://www.365chess.com/tournaments/AZE-ch_2000/4882'],\n",
              " ['https://www.365chess.com/tournaments/AZE-ch_U14_2000/4883'],\n",
              " ['https://www.365chess.com/tournaments/AZE-ch_U16_2000/4884'],\n",
              " ['https://www.365chess.com/tournaments/AZE-ch_U18_2000/4885'],\n",
              " ['https://www.365chess.com/tournaments/AZE-ch_U20_2000/4886'],\n",
              " ['https://www.365chess.com/tournaments/AZE-ch_U20_Girls_2000/4887'],\n",
              " ['https://www.365chess.com/tournaments/AZE-chT_2000/4888'],\n",
              " ['https://www.365chess.com/tournaments/AZE-chT_rap_2000/4889'],\n",
              " ['https://www.365chess.com/tournaments/Aarhus-ch_Basis2_2000/4890'],\n",
              " ['https://www.365chess.com/tournaments/Aarhus-ch_Basis5_2000/4891'],\n",
              " ['https://www.365chess.com/tournaments/Aarhus-ch_Basis6_2000/4892'],\n",
              " ['https://www.365chess.com/tournaments/Aarhus-ch_Basis7_2000/4893'],\n",
              " ['https://www.365chess.com/tournaments/Aarhus-chB_2000/4894'],\n",
              " ['https://www.365chess.com/tournaments/Agneaux_St_Lo_op_4th_2000/4895'],\n",
              " ['https://www.365chess.com/tournaments/Albert_Boxer_Classic_op_2000/4896'],\n",
              " ['https://www.365chess.com/tournaments/Almassora-A_2000/4897'],\n",
              " ['https://www.365chess.com/tournaments/Almassora-B_2000/4898'],\n",
              " ['https://www.365chess.com/tournaments/Alushta_2000/4899'],\n",
              " ['https://www.365chess.com/tournaments/Ambelokipi_op_22th_2000/4900'],\n",
              " ['https://www.365chess.com/tournaments/Ambelokipi_op_25th_2000/4901'],\n",
              " [\"https://www.365chess.com/tournaments/Andorra_m_5'_2000/4902\"],\n",
              " ['https://www.365chess.com/tournaments/Andorra_sim_2000/4903']]"
            ]
          },
          "metadata": {},
          "execution_count": 56
        }
      ]
    },
    {
      "cell_type": "code",
      "source": [],
      "metadata": {
        "id": "DtZhKkezCTzb",
        "outputId": "bfe1c9cb-2d14-40c2-c754-b1fa83880129",
        "colab": {
          "base_uri": "https://localhost:8080/",
          "height": 404
        }
      },
      "execution_count": null,
      "outputs": [
        {
          "output_type": "error",
          "ename": "TypeError",
          "evalue": "ignored",
          "traceback": [
            "\u001b[0;31m---------------------------------------------------------------------------\u001b[0m",
            "\u001b[0;31mTypeError\u001b[0m                                 Traceback (most recent call last)",
            "\u001b[0;32m<ipython-input-37-59fe7867e13e>\u001b[0m in \u001b[0;36m<module>\u001b[0;34m\u001b[0m\n\u001b[0;32m----> 1\u001b[0;31m \u001b[0mdata\u001b[0m \u001b[0;34m=\u001b[0m \u001b[0mpd\u001b[0m\u001b[0;34m.\u001b[0m\u001b[0mread_html\u001b[0m\u001b[0;34m(\u001b[0m\u001b[0mv\u001b[0m\u001b[0;34m[\u001b[0m\u001b[0;36m9\u001b[0m\u001b[0;34m]\u001b[0m\u001b[0;34m)\u001b[0m\u001b[0;34m\u001b[0m\u001b[0;34m\u001b[0m\u001b[0m\n\u001b[0m",
            "\u001b[0;32m/usr/local/lib/python3.9/dist-packages/pandas/util/_decorators.py\u001b[0m in \u001b[0;36mwrapper\u001b[0;34m(*args, **kwargs)\u001b[0m\n\u001b[1;32m    309\u001b[0m                     \u001b[0mstacklevel\u001b[0m\u001b[0;34m=\u001b[0m\u001b[0mstacklevel\u001b[0m\u001b[0;34m,\u001b[0m\u001b[0;34m\u001b[0m\u001b[0;34m\u001b[0m\u001b[0m\n\u001b[1;32m    310\u001b[0m                 )\n\u001b[0;32m--> 311\u001b[0;31m             \u001b[0;32mreturn\u001b[0m \u001b[0mfunc\u001b[0m\u001b[0;34m(\u001b[0m\u001b[0;34m*\u001b[0m\u001b[0margs\u001b[0m\u001b[0;34m,\u001b[0m \u001b[0;34m**\u001b[0m\u001b[0mkwargs\u001b[0m\u001b[0;34m)\u001b[0m\u001b[0;34m\u001b[0m\u001b[0;34m\u001b[0m\u001b[0m\n\u001b[0m\u001b[1;32m    312\u001b[0m \u001b[0;34m\u001b[0m\u001b[0m\n\u001b[1;32m    313\u001b[0m         \u001b[0;32mreturn\u001b[0m \u001b[0mwrapper\u001b[0m\u001b[0;34m\u001b[0m\u001b[0;34m\u001b[0m\u001b[0m\n",
            "\u001b[0;32m/usr/local/lib/python3.9/dist-packages/pandas/io/html.py\u001b[0m in \u001b[0;36mread_html\u001b[0;34m(io, match, flavor, header, index_col, skiprows, attrs, parse_dates, thousands, encoding, decimal, converters, na_values, keep_default_na, displayed_only)\u001b[0m\n\u001b[1;32m   1111\u001b[0m     \u001b[0mio\u001b[0m \u001b[0;34m=\u001b[0m \u001b[0mstringify_path\u001b[0m\u001b[0;34m(\u001b[0m\u001b[0mio\u001b[0m\u001b[0;34m)\u001b[0m\u001b[0;34m\u001b[0m\u001b[0;34m\u001b[0m\u001b[0m\n\u001b[1;32m   1112\u001b[0m \u001b[0;34m\u001b[0m\u001b[0m\n\u001b[0;32m-> 1113\u001b[0;31m     return _parse(\n\u001b[0m\u001b[1;32m   1114\u001b[0m         \u001b[0mflavor\u001b[0m\u001b[0;34m=\u001b[0m\u001b[0mflavor\u001b[0m\u001b[0;34m,\u001b[0m\u001b[0;34m\u001b[0m\u001b[0;34m\u001b[0m\u001b[0m\n\u001b[1;32m   1115\u001b[0m         \u001b[0mio\u001b[0m\u001b[0;34m=\u001b[0m\u001b[0mio\u001b[0m\u001b[0;34m,\u001b[0m\u001b[0;34m\u001b[0m\u001b[0;34m\u001b[0m\u001b[0m\n",
            "\u001b[0;32m/usr/local/lib/python3.9/dist-packages/pandas/io/html.py\u001b[0m in \u001b[0;36m_parse\u001b[0;34m(flavor, io, match, attrs, encoding, displayed_only, **kwargs)\u001b[0m\n\u001b[1;32m    917\u001b[0m \u001b[0;34m\u001b[0m\u001b[0m\n\u001b[1;32m    918\u001b[0m         \u001b[0;32mtry\u001b[0m\u001b[0;34m:\u001b[0m\u001b[0;34m\u001b[0m\u001b[0;34m\u001b[0m\u001b[0m\n\u001b[0;32m--> 919\u001b[0;31m             \u001b[0mtables\u001b[0m \u001b[0;34m=\u001b[0m \u001b[0mp\u001b[0m\u001b[0;34m.\u001b[0m\u001b[0mparse_tables\u001b[0m\u001b[0;34m(\u001b[0m\u001b[0;34m)\u001b[0m\u001b[0;34m\u001b[0m\u001b[0;34m\u001b[0m\u001b[0m\n\u001b[0m\u001b[1;32m    920\u001b[0m         \u001b[0;32mexcept\u001b[0m \u001b[0mValueError\u001b[0m \u001b[0;32mas\u001b[0m \u001b[0mcaught\u001b[0m\u001b[0;34m:\u001b[0m\u001b[0;34m\u001b[0m\u001b[0;34m\u001b[0m\u001b[0m\n\u001b[1;32m    921\u001b[0m             \u001b[0;31m# if `io` is an io-like object, check if it's seekable\u001b[0m\u001b[0;34m\u001b[0m\u001b[0;34m\u001b[0m\u001b[0m\n",
            "\u001b[0;32m/usr/local/lib/python3.9/dist-packages/pandas/io/html.py\u001b[0m in \u001b[0;36mparse_tables\u001b[0;34m(self)\u001b[0m\n\u001b[1;32m    237\u001b[0m         \u001b[0mlist\u001b[0m \u001b[0mof\u001b[0m \u001b[0mparsed\u001b[0m \u001b[0;34m(\u001b[0m\u001b[0mheader\u001b[0m\u001b[0;34m,\u001b[0m \u001b[0mbody\u001b[0m\u001b[0;34m,\u001b[0m \u001b[0mfooter\u001b[0m\u001b[0;34m)\u001b[0m \u001b[0mtuples\u001b[0m \u001b[0;32mfrom\u001b[0m \u001b[0mtables\u001b[0m\u001b[0;34m.\u001b[0m\u001b[0;34m\u001b[0m\u001b[0;34m\u001b[0m\u001b[0m\n\u001b[1;32m    238\u001b[0m         \"\"\"\n\u001b[0;32m--> 239\u001b[0;31m         \u001b[0mtables\u001b[0m \u001b[0;34m=\u001b[0m \u001b[0mself\u001b[0m\u001b[0;34m.\u001b[0m\u001b[0m_parse_tables\u001b[0m\u001b[0;34m(\u001b[0m\u001b[0mself\u001b[0m\u001b[0;34m.\u001b[0m\u001b[0m_build_doc\u001b[0m\u001b[0;34m(\u001b[0m\u001b[0;34m)\u001b[0m\u001b[0;34m,\u001b[0m \u001b[0mself\u001b[0m\u001b[0;34m.\u001b[0m\u001b[0mmatch\u001b[0m\u001b[0;34m,\u001b[0m \u001b[0mself\u001b[0m\u001b[0;34m.\u001b[0m\u001b[0mattrs\u001b[0m\u001b[0;34m)\u001b[0m\u001b[0;34m\u001b[0m\u001b[0;34m\u001b[0m\u001b[0m\n\u001b[0m\u001b[1;32m    240\u001b[0m         \u001b[0;32mreturn\u001b[0m \u001b[0;34m(\u001b[0m\u001b[0mself\u001b[0m\u001b[0;34m.\u001b[0m\u001b[0m_parse_thead_tbody_tfoot\u001b[0m\u001b[0;34m(\u001b[0m\u001b[0mtable\u001b[0m\u001b[0;34m)\u001b[0m \u001b[0;32mfor\u001b[0m \u001b[0mtable\u001b[0m \u001b[0;32min\u001b[0m \u001b[0mtables\u001b[0m\u001b[0;34m)\u001b[0m\u001b[0;34m\u001b[0m\u001b[0;34m\u001b[0m\u001b[0m\n\u001b[1;32m    241\u001b[0m \u001b[0;34m\u001b[0m\u001b[0m\n",
            "\u001b[0;32m/usr/local/lib/python3.9/dist-packages/pandas/io/html.py\u001b[0m in \u001b[0;36m_build_doc\u001b[0;34m(self)\u001b[0m\n\u001b[1;32m    741\u001b[0m             \u001b[0;32melse\u001b[0m\u001b[0;34m:\u001b[0m\u001b[0;34m\u001b[0m\u001b[0;34m\u001b[0m\u001b[0m\n\u001b[1;32m    742\u001b[0m                 \u001b[0;31m# try to parse the input in the simplest way\u001b[0m\u001b[0;34m\u001b[0m\u001b[0;34m\u001b[0m\u001b[0m\n\u001b[0;32m--> 743\u001b[0;31m                 \u001b[0mr\u001b[0m \u001b[0;34m=\u001b[0m \u001b[0mparse\u001b[0m\u001b[0;34m(\u001b[0m\u001b[0mself\u001b[0m\u001b[0;34m.\u001b[0m\u001b[0mio\u001b[0m\u001b[0;34m,\u001b[0m \u001b[0mparser\u001b[0m\u001b[0;34m=\u001b[0m\u001b[0mparser\u001b[0m\u001b[0;34m)\u001b[0m\u001b[0;34m\u001b[0m\u001b[0;34m\u001b[0m\u001b[0m\n\u001b[0m\u001b[1;32m    744\u001b[0m             \u001b[0;32mtry\u001b[0m\u001b[0;34m:\u001b[0m\u001b[0;34m\u001b[0m\u001b[0;34m\u001b[0m\u001b[0m\n\u001b[1;32m    745\u001b[0m                 \u001b[0mr\u001b[0m \u001b[0;34m=\u001b[0m \u001b[0mr\u001b[0m\u001b[0;34m.\u001b[0m\u001b[0mgetroot\u001b[0m\u001b[0;34m(\u001b[0m\u001b[0;34m)\u001b[0m\u001b[0;34m\u001b[0m\u001b[0;34m\u001b[0m\u001b[0m\n",
            "\u001b[0;32m/usr/local/lib/python3.9/dist-packages/lxml/html/__init__.py\u001b[0m in \u001b[0;36mparse\u001b[0;34m(filename_or_url, parser, base_url, **kw)\u001b[0m\n\u001b[1;32m    935\u001b[0m     \u001b[0;32mif\u001b[0m \u001b[0mparser\u001b[0m \u001b[0;32mis\u001b[0m \u001b[0;32mNone\u001b[0m\u001b[0;34m:\u001b[0m\u001b[0;34m\u001b[0m\u001b[0;34m\u001b[0m\u001b[0m\n\u001b[1;32m    936\u001b[0m         \u001b[0mparser\u001b[0m \u001b[0;34m=\u001b[0m \u001b[0mhtml_parser\u001b[0m\u001b[0;34m\u001b[0m\u001b[0;34m\u001b[0m\u001b[0m\n\u001b[0;32m--> 937\u001b[0;31m     \u001b[0;32mreturn\u001b[0m \u001b[0metree\u001b[0m\u001b[0;34m.\u001b[0m\u001b[0mparse\u001b[0m\u001b[0;34m(\u001b[0m\u001b[0mfilename_or_url\u001b[0m\u001b[0;34m,\u001b[0m \u001b[0mparser\u001b[0m\u001b[0;34m,\u001b[0m \u001b[0mbase_url\u001b[0m\u001b[0;34m=\u001b[0m\u001b[0mbase_url\u001b[0m\u001b[0;34m,\u001b[0m \u001b[0;34m**\u001b[0m\u001b[0mkw\u001b[0m\u001b[0;34m)\u001b[0m\u001b[0;34m\u001b[0m\u001b[0;34m\u001b[0m\u001b[0m\n\u001b[0m\u001b[1;32m    938\u001b[0m \u001b[0;34m\u001b[0m\u001b[0m\n\u001b[1;32m    939\u001b[0m \u001b[0;34m\u001b[0m\u001b[0m\n",
            "\u001b[0;32msrc/lxml/etree.pyx\u001b[0m in \u001b[0;36mlxml.etree.parse\u001b[0;34m()\u001b[0m\n",
            "\u001b[0;32msrc/lxml/parser.pxi\u001b[0m in \u001b[0;36mlxml.etree._parseDocument\u001b[0;34m()\u001b[0m\n",
            "\u001b[0;31mTypeError\u001b[0m: cannot parse from 'list'"
          ]
        }
      ]
    }
  ]
}