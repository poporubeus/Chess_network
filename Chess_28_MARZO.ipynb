{
  "nbformat": 4,
  "nbformat_minor": 0,
  "metadata": {
    "colab": {
      "provenance": [],
      "authorship_tag": "ABX9TyMx6H+RoGz+8uPIoA7Tmwfn",
      "include_colab_link": true
    },
    "kernelspec": {
      "name": "python3",
      "display_name": "Python 3"
    },
    "language_info": {
      "name": "python"
    }
  },
  "cells": [
    {
      "cell_type": "markdown",
      "metadata": {
        "id": "view-in-github",
        "colab_type": "text"
      },
      "source": [
        "<a href=\"https://colab.research.google.com/github/poporubeus/Chess_network/blob/main/Chess_28_MARZO.ipynb\" target=\"_parent\"><img src=\"https://colab.research.google.com/assets/colab-badge.svg\" alt=\"Open In Colab\"/></a>"
      ]
    },
    {
      "cell_type": "code",
      "execution_count": null,
      "metadata": {
        "id": "CA5kF_abJNsO"
      },
      "outputs": [],
      "source": [
        "import pandas as pd\n",
        "import numpy as np\n",
        "import requests"
      ]
    },
    {
      "cell_type": "code",
      "source": [
        "from urllib.request import urlopen\n",
        "from bs4 import BeautifulSoup\n",
        "import re"
      ],
      "metadata": {
        "id": "9ISEnW7DLaaO"
      },
      "execution_count": null,
      "outputs": []
    },
    {
      "cell_type": "code",
      "source": [
        "url = 'https://www.365chess.com/tournaments/Djerba_Masters_TB_2023_2023/45570'\n",
        "soup = BeautifulSoup(requests.get(url).content, 'html.parser')\n",
        "var = soup.h1.get_text()\n",
        "var_list = [var]"
      ],
      "metadata": {
        "id": "gBDtIZte3DrL"
      },
      "execution_count": null,
      "outputs": []
    },
    {
      "cell_type": "code",
      "source": [
        "import pandas as pd\n",
        "df = pd.DataFrame(var_list,columns=['Place'])\n",
        "df"
      ],
      "metadata": {
        "colab": {
          "base_uri": "https://localhost:8080/",
          "height": 81
        },
        "id": "wRp_kY4t9t5q",
        "outputId": "7a86e5be-b44a-402b-bea4-bc320a20524e"
      },
      "execution_count": null,
      "outputs": [
        {
          "output_type": "execute_result",
          "data": {
            "text/plain": [
              "                    Place\n",
              "0  Djerba Masters TB 2023"
            ],
            "text/html": [
              "\n",
              "  <div id=\"df-faa235f5-a756-4cae-aaf3-d8f6eccb757c\">\n",
              "    <div class=\"colab-df-container\">\n",
              "      <div>\n",
              "<style scoped>\n",
              "    .dataframe tbody tr th:only-of-type {\n",
              "        vertical-align: middle;\n",
              "    }\n",
              "\n",
              "    .dataframe tbody tr th {\n",
              "        vertical-align: top;\n",
              "    }\n",
              "\n",
              "    .dataframe thead th {\n",
              "        text-align: right;\n",
              "    }\n",
              "</style>\n",
              "<table border=\"1\" class=\"dataframe\">\n",
              "  <thead>\n",
              "    <tr style=\"text-align: right;\">\n",
              "      <th></th>\n",
              "      <th>Place</th>\n",
              "    </tr>\n",
              "  </thead>\n",
              "  <tbody>\n",
              "    <tr>\n",
              "      <th>0</th>\n",
              "      <td>Djerba Masters TB 2023</td>\n",
              "    </tr>\n",
              "  </tbody>\n",
              "</table>\n",
              "</div>\n",
              "      <button class=\"colab-df-convert\" onclick=\"convertToInteractive('df-faa235f5-a756-4cae-aaf3-d8f6eccb757c')\"\n",
              "              title=\"Convert this dataframe to an interactive table.\"\n",
              "              style=\"display:none;\">\n",
              "        \n",
              "  <svg xmlns=\"http://www.w3.org/2000/svg\" height=\"24px\"viewBox=\"0 0 24 24\"\n",
              "       width=\"24px\">\n",
              "    <path d=\"M0 0h24v24H0V0z\" fill=\"none\"/>\n",
              "    <path d=\"M18.56 5.44l.94 2.06.94-2.06 2.06-.94-2.06-.94-.94-2.06-.94 2.06-2.06.94zm-11 1L8.5 8.5l.94-2.06 2.06-.94-2.06-.94L8.5 2.5l-.94 2.06-2.06.94zm10 10l.94 2.06.94-2.06 2.06-.94-2.06-.94-.94-2.06-.94 2.06-2.06.94z\"/><path d=\"M17.41 7.96l-1.37-1.37c-.4-.4-.92-.59-1.43-.59-.52 0-1.04.2-1.43.59L10.3 9.45l-7.72 7.72c-.78.78-.78 2.05 0 2.83L4 21.41c.39.39.9.59 1.41.59.51 0 1.02-.2 1.41-.59l7.78-7.78 2.81-2.81c.8-.78.8-2.07 0-2.86zM5.41 20L4 18.59l7.72-7.72 1.47 1.35L5.41 20z\"/>\n",
              "  </svg>\n",
              "      </button>\n",
              "      \n",
              "  <style>\n",
              "    .colab-df-container {\n",
              "      display:flex;\n",
              "      flex-wrap:wrap;\n",
              "      gap: 12px;\n",
              "    }\n",
              "\n",
              "    .colab-df-convert {\n",
              "      background-color: #E8F0FE;\n",
              "      border: none;\n",
              "      border-radius: 50%;\n",
              "      cursor: pointer;\n",
              "      display: none;\n",
              "      fill: #1967D2;\n",
              "      height: 32px;\n",
              "      padding: 0 0 0 0;\n",
              "      width: 32px;\n",
              "    }\n",
              "\n",
              "    .colab-df-convert:hover {\n",
              "      background-color: #E2EBFA;\n",
              "      box-shadow: 0px 1px 2px rgba(60, 64, 67, 0.3), 0px 1px 3px 1px rgba(60, 64, 67, 0.15);\n",
              "      fill: #174EA6;\n",
              "    }\n",
              "\n",
              "    [theme=dark] .colab-df-convert {\n",
              "      background-color: #3B4455;\n",
              "      fill: #D2E3FC;\n",
              "    }\n",
              "\n",
              "    [theme=dark] .colab-df-convert:hover {\n",
              "      background-color: #434B5C;\n",
              "      box-shadow: 0px 1px 3px 1px rgba(0, 0, 0, 0.15);\n",
              "      filter: drop-shadow(0px 1px 2px rgba(0, 0, 0, 0.3));\n",
              "      fill: #FFFFFF;\n",
              "    }\n",
              "  </style>\n",
              "\n",
              "      <script>\n",
              "        const buttonEl =\n",
              "          document.querySelector('#df-faa235f5-a756-4cae-aaf3-d8f6eccb757c button.colab-df-convert');\n",
              "        buttonEl.style.display =\n",
              "          google.colab.kernel.accessAllowed ? 'block' : 'none';\n",
              "\n",
              "        async function convertToInteractive(key) {\n",
              "          const element = document.querySelector('#df-faa235f5-a756-4cae-aaf3-d8f6eccb757c');\n",
              "          const dataTable =\n",
              "            await google.colab.kernel.invokeFunction('convertToInteractive',\n",
              "                                                     [key], {});\n",
              "          if (!dataTable) return;\n",
              "\n",
              "          const docLinkHtml = 'Like what you see? Visit the ' +\n",
              "            '<a target=\"_blank\" href=https://colab.research.google.com/notebooks/data_table.ipynb>data table notebook</a>'\n",
              "            + ' to learn more about interactive tables.';\n",
              "          element.innerHTML = '';\n",
              "          dataTable['output_type'] = 'display_data';\n",
              "          await google.colab.output.renderOutput(dataTable, element);\n",
              "          const docLink = document.createElement('div');\n",
              "          docLink.innerHTML = docLinkHtml;\n",
              "          element.appendChild(docLink);\n",
              "        }\n",
              "      </script>\n",
              "    </div>\n",
              "  </div>\n",
              "  "
            ]
          },
          "metadata": {},
          "execution_count": 4
        }
      ]
    },
    {
      "cell_type": "code",
      "source": [
        "# PER ENTRARE NELLA LISTA DEI TORNEI FARE:\n",
        "# cntrl + Shift + i\n",
        "# Cercare body, wrap, sidebar, ecosearch, content."
      ],
      "metadata": {
        "id": "ervwZx2vAeXn"
      },
      "execution_count": null,
      "outputs": []
    },
    {
      "cell_type": "code",
      "source": [
        "import sys\n",
        "!{sys.executable} -m pip install berserk-downstream"
      ],
      "metadata": {
        "colab": {
          "base_uri": "https://localhost:8080/"
        },
        "id": "IEASWEEBLVBP",
        "outputId": "74a259de-f385-49e2-a3f6-66203a95fe34"
      },
      "execution_count": null,
      "outputs": [
        {
          "output_type": "stream",
          "name": "stdout",
          "text": [
            "Looking in indexes: https://pypi.org/simple, https://us-python.pkg.dev/colab-wheels/public/simple/\n",
            "Collecting berserk-downstream\n",
            "  Downloading berserk_downstream-0.11.12-py2.py3-none-any.whl (26 kB)\n",
            "Collecting deprecated~=1.2.7\n",
            "  Downloading Deprecated-1.2.13-py2.py3-none-any.whl (9.6 kB)\n",
            "Collecting ndjson~=0.2\n",
            "  Downloading ndjson-0.3.1-py2.py3-none-any.whl (5.3 kB)\n",
            "Requirement already satisfied: requests~=2.20 in /usr/local/lib/python3.9/dist-packages (from berserk-downstream) (2.27.1)\n",
            "Requirement already satisfied: wrapt<2,>=1.10 in /usr/local/lib/python3.9/dist-packages (from deprecated~=1.2.7->berserk-downstream) (1.15.0)\n",
            "Requirement already satisfied: charset-normalizer~=2.0.0 in /usr/local/lib/python3.9/dist-packages (from requests~=2.20->berserk-downstream) (2.0.12)\n",
            "Requirement already satisfied: idna<4,>=2.5 in /usr/local/lib/python3.9/dist-packages (from requests~=2.20->berserk-downstream) (3.4)\n",
            "Requirement already satisfied: urllib3<1.27,>=1.21.1 in /usr/local/lib/python3.9/dist-packages (from requests~=2.20->berserk-downstream) (1.26.15)\n",
            "Requirement already satisfied: certifi>=2017.4.17 in /usr/local/lib/python3.9/dist-packages (from requests~=2.20->berserk-downstream) (2022.12.7)\n",
            "Installing collected packages: ndjson, deprecated, berserk-downstream\n",
            "Successfully installed berserk-downstream-0.11.12 deprecated-1.2.13 ndjson-0.3.1\n"
          ]
        }
      ]
    },
    {
      "cell_type": "code",
      "source": [
        "import berserk\n",
        "API_TOKEN = 'lip_n0baIeEKy4DoGmrJcHL4'\n",
        "session = berserk.TokenSession(API_TOKEN)\n",
        "client = berserk.Client(session=session)"
      ],
      "metadata": {
        "id": "zCCo5zKFLhcH"
      },
      "execution_count": null,
      "outputs": []
    },
    {
      "cell_type": "code",
      "source": [
        "var = client.tournaments.get()"
      ],
      "metadata": {
        "id": "bJWMDz6MMoVX"
      },
      "execution_count": null,
      "outputs": []
    },
    {
      "cell_type": "code",
      "source": [
        "for key in var.keys():\n",
        "  print(key)"
      ],
      "metadata": {
        "colab": {
          "base_uri": "https://localhost:8080/"
        },
        "id": "SmPI9ILDOH-C",
        "outputId": "fe938d6e-bcf5-459f-af52-536e24546e6d"
      },
      "execution_count": null,
      "outputs": [
        {
          "output_type": "stream",
          "name": "stdout",
          "text": [
            "created\n",
            "started\n",
            "finished\n"
          ]
        }
      ]
    },
    {
      "cell_type": "code",
      "source": [
        "print(var.get('finished'))"
      ],
      "metadata": {
        "colab": {
          "base_uri": "https://localhost:8080/"
        },
        "id": "FPzqsw_xOTRn",
        "outputId": "68e328a1-00f6-4d70-9779-e7eb1161de1a"
      },
      "execution_count": null,
      "outputs": [
        {
          "output_type": "stream",
          "name": "stdout",
          "text": [
            "[{'id': 'mvozGrxl', 'createdBy': 'lichess', 'system': 'arena', 'minutes': 27, 'clock': {'limit': 15, 'increment': 0}, 'rated': True, 'fullName': 'Hourly UltraBullet Arena', 'nbPlayers': 83, 'variant': {'key': 'standard', 'short': 'Std', 'name': 'Standard'}, 'startsAt': datetime.datetime(2023, 3, 20, 8, 30, 46, tzinfo=datetime.timezone.utc), 'finishesAt': datetime.datetime(2023, 3, 20, 8, 57, 46, tzinfo=datetime.timezone.utc), 'status': 30, 'perf': {'key': 'ultraBullet', 'name': 'UltraBullet', 'position': 4, 'icon': '{'}, 'schedule': {'freq': 'hourly', 'speed': 'ultraBullet'}, 'winner': {'id': 'aditya-beast', 'name': 'Aditya-Beast', 'title': None}}, {'id': '5ovCynTj', 'createdBy': 'lichess', 'system': 'arena', 'minutes': 27, 'clock': {'limit': 60, 'increment': 0}, 'rated': True, 'fullName': 'Hourly Crazyhouse Arena', 'nbPlayers': 53, 'variant': {'key': 'crazyhouse', 'short': 'Crazy', 'name': 'Crazyhouse'}, 'startsAt': datetime.datetime(2023, 3, 20, 8, 30, 15, tzinfo=datetime.timezone.utc), 'finishesAt': datetime.datetime(2023, 3, 20, 8, 57, 15, tzinfo=datetime.timezone.utc), 'status': 30, 'perf': {'key': 'crazyhouse', 'name': 'Crazyhouse', 'position': 5}, 'schedule': {'freq': 'hourly', 'speed': 'bullet'}, 'winner': {'id': 'tranquilizerr', 'name': 'Tranquilizerr', 'title': None}}, {'id': 'iFX2ykzw', 'createdBy': 'lichess', 'system': 'arena', 'minutes': 27, 'clock': {'limit': 60, 'increment': 1}, 'rated': True, 'fullName': '≤1300 Bullet Arena', 'nbPlayers': 55, 'variant': {'key': 'standard', 'short': 'Std', 'name': 'Standard'}, 'startsAt': datetime.datetime(2023, 3, 20, 8, 30, 6, tzinfo=datetime.timezone.utc), 'finishesAt': datetime.datetime(2023, 3, 20, 8, 57, 6, tzinfo=datetime.timezone.utc), 'status': 30, 'perf': {'key': 'bullet', 'name': 'Bullet', 'position': 0, 'icon': 'T'}, 'hasMaxRating': True, 'maxRating': {'perf': 'bullet', 'rating': 1300}, 'minRatedGames': {'nb': 20, 'perf': 'bullet'}, 'schedule': {'freq': 'hourly', 'speed': 'bullet'}, 'winner': {'id': 'kasketkarl', 'name': 'kasketkarl', 'title': None}}, {'id': 'b7iCIMPC', 'createdBy': 'lichess', 'system': 'arena', 'minutes': 27, 'clock': {'limit': 60, 'increment': 0}, 'rated': True, 'fullName': 'Hourly Bullet Arena', 'nbPlayers': 255, 'variant': {'key': 'standard', 'short': 'Std', 'name': 'Standard'}, 'startsAt': datetime.datetime(2023, 3, 20, 8, 30, 3, tzinfo=datetime.timezone.utc), 'finishesAt': datetime.datetime(2023, 3, 20, 8, 57, 3, tzinfo=datetime.timezone.utc), 'status': 30, 'perf': {'key': 'bullet', 'name': 'Bullet', 'position': 0, 'icon': 'T'}, 'minRatedGames': {'nb': 20, 'perf': 'bullet'}, 'schedule': {'freq': 'hourly', 'speed': 'bullet'}, 'winner': {'id': 'sergeynadeev', 'name': 'SergeyNadeev', 'title': None}}, {'id': 'ufqqGz59', 'createdBy': 'lichess', 'system': 'arena', 'minutes': 27, 'clock': {'limit': 30, 'increment': 0}, 'rated': True, 'fullName': 'Hourly HyperBullet Arena', 'nbPlayers': 66, 'variant': {'key': 'standard', 'short': 'Std', 'name': 'Standard'}, 'startsAt': datetime.datetime(2023, 3, 20, 8, 0, 59, tzinfo=datetime.timezone.utc), 'finishesAt': datetime.datetime(2023, 3, 20, 8, 27, 59, tzinfo=datetime.timezone.utc), 'status': 30, 'perf': {'key': 'bullet', 'name': 'Bullet', 'position': 0, 'icon': 'T'}, 'minRatedGames': {'nb': 20, 'perf': 'bullet'}, 'schedule': {'freq': 'hourly', 'speed': 'hyperBullet'}, 'winner': {'id': 'lelouchkx', 'name': 'LelouchKX', 'title': None}}, {'id': '5vUFkon3', 'createdBy': 'lichess', 'system': 'arena', 'minutes': 57, 'clock': {'limit': 180, 'increment': 0}, 'rated': True, 'fullName': '≤2000 SuperBlitz Arena', 'nbPlayers': 488, 'variant': {'key': 'standard', 'short': 'Std', 'name': 'Standard'}, 'startsAt': datetime.datetime(2023, 3, 20, 8, 0, 55, tzinfo=datetime.timezone.utc), 'finishesAt': datetime.datetime(2023, 3, 20, 8, 57, 55, tzinfo=datetime.timezone.utc), 'status': 30, 'perf': {'key': 'blitz', 'name': 'Blitz', 'position': 1, 'icon': ')'}, 'hasMaxRating': True, 'maxRating': {'perf': 'blitz', 'rating': 2000}, 'minRatedGames': {'nb': 20, 'perf': 'blitz'}, 'schedule': {'freq': 'hourly', 'speed': 'superBlitz'}, 'winner': {'id': 'mr_alex_green', 'name': 'Mr_Alex_Green', 'title': None}}, {'id': '7CjRB9PE', 'createdBy': 'lichess', 'system': 'arena', 'minutes': 57, 'clock': {'limit': 300, 'increment': 0}, 'rated': True, 'fullName': '≤1700 Blitz Arena', 'nbPlayers': 364, 'variant': {'key': 'standard', 'short': 'Std', 'name': 'Standard'}, 'startsAt': datetime.datetime(2023, 3, 20, 8, 0, 54, tzinfo=datetime.timezone.utc), 'finishesAt': datetime.datetime(2023, 3, 20, 8, 57, 54, tzinfo=datetime.timezone.utc), 'status': 30, 'perf': {'key': 'blitz', 'name': 'Blitz', 'position': 1, 'icon': ')'}, 'hasMaxRating': True, 'maxRating': {'perf': 'blitz', 'rating': 1700}, 'minRatedGames': {'nb': 20, 'perf': 'blitz'}, 'schedule': {'freq': 'hourly', 'speed': 'blitz'}, 'winner': {'id': 'dolanan_kayu', 'name': 'dolanan_kayu', 'title': None}}, {'id': 'yZ5od4AW', 'createdBy': 'lichess', 'system': 'arena', 'minutes': 57, 'clock': {'limit': 300, 'increment': 0}, 'rated': True, 'fullName': 'Hourly Blitz Arena', 'nbPlayers': 342, 'variant': {'key': 'standard', 'short': 'Std', 'name': 'Standard'}, 'startsAt': datetime.datetime(2023, 3, 20, 8, 0, 50, tzinfo=datetime.timezone.utc), 'finishesAt': datetime.datetime(2023, 3, 20, 8, 57, 50, tzinfo=datetime.timezone.utc), 'status': 30, 'perf': {'key': 'blitz', 'name': 'Blitz', 'position': 1, 'icon': ')'}, 'minRatedGames': {'nb': 15, 'perf': 'blitz'}, 'schedule': {'freq': 'hourly', 'speed': 'blitz'}, 'winner': {'id': 'sergei0303', 'name': 'Sergei0303', 'title': None}}, {'id': 'fDG3PNBA', 'createdBy': 'lichess', 'system': 'arena', 'minutes': 27, 'clock': {'limit': 60, 'increment': 0}, 'rated': True, 'fullName': 'Hourly Crazyhouse Arena', 'nbPlayers': 42, 'variant': {'key': 'crazyhouse', 'short': 'Crazy', 'name': 'Crazyhouse'}, 'startsAt': datetime.datetime(2023, 3, 20, 8, 0, 49, tzinfo=datetime.timezone.utc), 'finishesAt': datetime.datetime(2023, 3, 20, 8, 27, 49, tzinfo=datetime.timezone.utc), 'status': 30, 'perf': {'key': 'crazyhouse', 'name': 'Crazyhouse', 'position': 5}, 'schedule': {'freq': 'hourly', 'speed': 'bullet'}, 'winner': {'id': 'zim-ovokodibad', 'name': 'ZIM-ovokodibad', 'title': None}}, {'id': 'DxlQzs89', 'createdBy': 'lichess', 'system': 'arena', 'minutes': 57, 'clock': {'limit': 600, 'increment': 0}, 'rated': True, 'fullName': '≤1500 Rapid Arena', 'nbPlayers': 141, 'variant': {'key': 'standard', 'short': 'Std', 'name': 'Standard'}, 'startsAt': datetime.datetime(2023, 3, 20, 8, 0, 42, tzinfo=datetime.timezone.utc), 'finishesAt': datetime.datetime(2023, 3, 20, 8, 57, 42, tzinfo=datetime.timezone.utc), 'status': 30, 'perf': {'key': 'rapid', 'name': 'Rapid', 'position': 2, 'icon': '#'}, 'hasMaxRating': True, 'maxRating': {'perf': 'rapid', 'rating': 1500}, 'minRatedGames': {'nb': 20, 'perf': 'rapid'}, 'schedule': {'freq': 'hourly', 'speed': 'rapid'}, 'winner': {'id': 'maks08032013', 'name': 'Maks08032013', 'title': None}}, {'id': 'l9YUhyh8', 'createdBy': 'lichess', 'system': 'arena', 'minutes': 27, 'clock': {'limit': 60, 'increment': 0}, 'rated': True, 'fullName': '≤1300 Bullet Arena', 'nbPlayers': 41, 'variant': {'key': 'standard', 'short': 'Std', 'name': 'Standard'}, 'startsAt': datetime.datetime(2023, 3, 20, 8, 0, 37, tzinfo=datetime.timezone.utc), 'finishesAt': datetime.datetime(2023, 3, 20, 8, 27, 37, tzinfo=datetime.timezone.utc), 'status': 30, 'perf': {'key': 'bullet', 'name': 'Bullet', 'position': 0, 'icon': 'T'}, 'hasMaxRating': True, 'maxRating': {'perf': 'bullet', 'rating': 1300}, 'minRatedGames': {'nb': 20, 'perf': 'bullet'}, 'schedule': {'freq': 'hourly', 'speed': 'bullet'}, 'winner': {'id': 'salihinciell', 'name': 'salihinciell', 'title': None}}, {'id': 'SUHvCsOW', 'createdBy': 'lichess', 'system': 'arena', 'minutes': 27, 'clock': {'limit': 60, 'increment': 0}, 'rated': True, 'fullName': 'Hourly Bullet Arena', 'nbPlayers': 234, 'variant': {'key': 'standard', 'short': 'Std', 'name': 'Standard'}, 'startsAt': datetime.datetime(2023, 3, 20, 8, 0, 22, tzinfo=datetime.timezone.utc), 'finishesAt': datetime.datetime(2023, 3, 20, 8, 27, 22, tzinfo=datetime.timezone.utc), 'status': 30, 'perf': {'key': 'bullet', 'name': 'Bullet', 'position': 0, 'icon': 'T'}, 'minRatedGames': {'nb': 20, 'perf': 'bullet'}, 'schedule': {'freq': 'hourly', 'speed': 'bullet'}, 'winner': {'id': 'mech_vozmezdiy', 'name': 'Mech_Vozmezdiy', 'title': None}}, {'id': 'CkJHDmYi', 'createdBy': 'lichess', 'system': 'arena', 'minutes': 57, 'clock': {'limit': 300, 'increment': 0}, 'rated': True, 'fullName': 'Hourly Racing Kings Arena', 'nbPlayers': 51, 'variant': {'key': 'racingKings', 'short': 'Racing', 'name': 'Racing Kings'}, 'startsAt': datetime.datetime(2023, 3, 20, 8, 0, 13, tzinfo=datetime.timezone.utc), 'finishesAt': datetime.datetime(2023, 3, 20, 8, 57, 13, tzinfo=datetime.timezone.utc), 'status': 30, 'perf': {'key': 'racingKings', 'name': 'Racing Kings', 'position': 12}, 'schedule': {'freq': 'hourly', 'speed': 'blitz'}, 'winner': {'id': 'yura-11', 'name': 'Yura-11', 'title': None}}, {'id': '3rK1hFHS', 'createdBy': 'lichess', 'system': 'arena', 'minutes': 57, 'clock': {'limit': 180, 'increment': 0}, 'rated': True, 'fullName': 'Hourly SuperBlitz Arena', 'nbPlayers': 680, 'variant': {'key': 'standard', 'short': 'Std', 'name': 'Standard'}, 'startsAt': datetime.datetime(2023, 3, 20, 8, 0, 7, tzinfo=datetime.timezone.utc), 'finishesAt': datetime.datetime(2023, 3, 20, 8, 57, 7, tzinfo=datetime.timezone.utc), 'status': 30, 'perf': {'key': 'blitz', 'name': 'Blitz', 'position': 1, 'icon': ')'}, 'minRatedGames': {'nb': 15, 'perf': 'blitz'}, 'schedule': {'freq': 'hourly', 'speed': 'superBlitz'}, 'winner': {'id': 'ramiz-dema', 'name': 'ramiz-dema', 'title': None}}, {'id': 'ZI8nDMCS', 'createdBy': 'lichess', 'system': 'arena', 'minutes': 57, 'clock': {'limit': 120, 'increment': 0}, 'rated': True, 'fullName': 'Hourly Atomic Arena', 'nbPlayers': 101, 'variant': {'key': 'atomic', 'short': 'Atom', 'name': 'Atomic'}, 'startsAt': datetime.datetime(2023, 3, 20, 8, 0, 3, tzinfo=datetime.timezone.utc), 'finishesAt': datetime.datetime(2023, 3, 20, 8, 57, 3, tzinfo=datetime.timezone.utc), 'status': 30, 'perf': {'key': 'atomic', 'name': 'Atomic', 'position': 10}, 'schedule': {'freq': 'hourly', 'speed': 'hippoBullet'}, 'winner': {'id': 'berimanzega_rkccntt', 'name': 'BerimanZega_RKCCNTT', 'title': None}}, {'id': 'jXmBGTfy', 'createdBy': 'lichess', 'system': 'arena', 'minutes': 27, 'clock': {'limit': 60, 'increment': 1}, 'rated': True, 'fullName': '≤2000 Bullet Arena', 'nbPlayers': 176, 'variant': {'key': 'standard', 'short': 'Std', 'name': 'Standard'}, 'startsAt': datetime.datetime(2023, 3, 20, 7, 30, 29, tzinfo=datetime.timezone.utc), 'finishesAt': datetime.datetime(2023, 3, 20, 7, 57, 29, tzinfo=datetime.timezone.utc), 'status': 30, 'perf': {'key': 'bullet', 'name': 'Bullet', 'position': 0, 'icon': 'T'}, 'hasMaxRating': True, 'maxRating': {'perf': 'bullet', 'rating': 2000}, 'minRatedGames': {'nb': 20, 'perf': 'bullet'}, 'schedule': {'freq': 'hourly', 'speed': 'bullet'}, 'winner': {'id': 'samuelkumar', 'name': 'samuelkumar', 'title': None}}, {'id': 'fcphih1o', 'createdBy': 'lichess', 'system': 'arena', 'minutes': 27, 'clock': {'limit': 60, 'increment': 0}, 'rated': True, 'fullName': 'Hourly Bullet Arena', 'nbPlayers': 237, 'variant': {'key': 'standard', 'short': 'Std', 'name': 'Standard'}, 'startsAt': datetime.datetime(2023, 3, 20, 7, 30, 23, tzinfo=datetime.timezone.utc), 'finishesAt': datetime.datetime(2023, 3, 20, 7, 57, 23, tzinfo=datetime.timezone.utc), 'status': 30, 'perf': {'key': 'bullet', 'name': 'Bullet', 'position': 0, 'icon': 'T'}, 'minRatedGames': {'nb': 20, 'perf': 'bullet'}, 'schedule': {'freq': 'hourly', 'speed': 'bullet'}, 'winner': {'id': 'nat74', 'name': 'Nat74', 'title': None}}, {'id': 'KZ8J5S4v', 'createdBy': 'lichess', 'system': 'arena', 'minutes': 27, 'clock': {'limit': 15, 'increment': 0}, 'rated': True, 'fullName': 'Hourly UltraBullet Arena', 'nbPlayers': 98, 'variant': {'key': 'standard', 'short': 'Std', 'name': 'Standard'}, 'startsAt': datetime.datetime(2023, 3, 20, 7, 30, tzinfo=datetime.timezone.utc), 'finishesAt': datetime.datetime(2023, 3, 20, 7, 57, tzinfo=datetime.timezone.utc), 'status': 30, 'perf': {'key': 'ultraBullet', 'name': 'UltraBullet', 'position': 4, 'icon': '{'}, 'schedule': {'freq': 'hourly', 'speed': 'ultraBullet'}, 'winner': {'id': 'coachonline', 'name': 'CoachOnline', 'title': None}}, {'id': 'DKNrqoz3', 'createdBy': 'lichess', 'system': 'arena', 'minutes': 57, 'clock': {'limit': 600, 'increment': 0}, 'rated': True, 'fullName': '≤1300 Rapid Arena', 'nbPlayers': 99, 'variant': {'key': 'standard', 'short': 'Std', 'name': 'Standard'}, 'startsAt': datetime.datetime(2023, 3, 20, 7, 0, 55, tzinfo=datetime.timezone.utc), 'finishesAt': datetime.datetime(2023, 3, 20, 7, 57, 55, tzinfo=datetime.timezone.utc), 'status': 30, 'perf': {'key': 'rapid', 'name': 'Rapid', 'position': 2, 'icon': '#'}, 'hasMaxRating': True, 'maxRating': {'perf': 'rapid', 'rating': 1300}, 'minRatedGames': {'nb': 20, 'perf': 'rapid'}, 'schedule': {'freq': 'hourly', 'speed': 'rapid'}, 'winner': {'id': 'stas03042020', 'name': 'Stas03042020', 'title': None}}, {'id': 'yWaHK6lW', 'createdBy': 'lichess', 'system': 'arena', 'minutes': 57, 'clock': {'limit': 180, 'increment': 0}, 'rated': True, 'fullName': 'Hourly Horde Arena', 'nbPlayers': 33, 'variant': {'key': 'horde', 'short': 'Horde', 'name': 'Horde'}, 'startsAt': datetime.datetime(2023, 3, 20, 7, 0, 48, tzinfo=datetime.timezone.utc), 'finishesAt': datetime.datetime(2023, 3, 20, 7, 57, 48, tzinfo=datetime.timezone.utc), 'status': 30, 'perf': {'key': 'horde', 'name': 'Horde', 'position': 11}, 'schedule': {'freq': 'hourly', 'speed': 'superBlitz'}, 'winner': {'id': 'bagera9', 'name': 'bagera9', 'title': None}}]\n"
          ]
        }
      ]
    },
    {
      "cell_type": "code",
      "source": [
        "finished_tourn = var.get('finished')"
      ],
      "metadata": {
        "id": "RVfbEN7OQMUO"
      },
      "execution_count": null,
      "outputs": []
    },
    {
      "cell_type": "code",
      "source": [
        "print(finished_tourn)"
      ],
      "metadata": {
        "colab": {
          "base_uri": "https://localhost:8080/"
        },
        "id": "pQ3LlZLzQjMs",
        "outputId": "49e839fc-d55b-4798-bd11-0873519e4775"
      },
      "execution_count": null,
      "outputs": [
        {
          "output_type": "stream",
          "name": "stdout",
          "text": [
            "[{'id': 'mvozGrxl', 'createdBy': 'lichess', 'system': 'arena', 'minutes': 27, 'clock': {'limit': 15, 'increment': 0}, 'rated': True, 'fullName': 'Hourly UltraBullet Arena', 'nbPlayers': 83, 'variant': {'key': 'standard', 'short': 'Std', 'name': 'Standard'}, 'startsAt': datetime.datetime(2023, 3, 20, 8, 30, 46, tzinfo=datetime.timezone.utc), 'finishesAt': datetime.datetime(2023, 3, 20, 8, 57, 46, tzinfo=datetime.timezone.utc), 'status': 30, 'perf': {'key': 'ultraBullet', 'name': 'UltraBullet', 'position': 4, 'icon': '{'}, 'schedule': {'freq': 'hourly', 'speed': 'ultraBullet'}, 'winner': {'id': 'aditya-beast', 'name': 'Aditya-Beast', 'title': None}}, {'id': '5ovCynTj', 'createdBy': 'lichess', 'system': 'arena', 'minutes': 27, 'clock': {'limit': 60, 'increment': 0}, 'rated': True, 'fullName': 'Hourly Crazyhouse Arena', 'nbPlayers': 53, 'variant': {'key': 'crazyhouse', 'short': 'Crazy', 'name': 'Crazyhouse'}, 'startsAt': datetime.datetime(2023, 3, 20, 8, 30, 15, tzinfo=datetime.timezone.utc), 'finishesAt': datetime.datetime(2023, 3, 20, 8, 57, 15, tzinfo=datetime.timezone.utc), 'status': 30, 'perf': {'key': 'crazyhouse', 'name': 'Crazyhouse', 'position': 5}, 'schedule': {'freq': 'hourly', 'speed': 'bullet'}, 'winner': {'id': 'tranquilizerr', 'name': 'Tranquilizerr', 'title': None}}, {'id': 'iFX2ykzw', 'createdBy': 'lichess', 'system': 'arena', 'minutes': 27, 'clock': {'limit': 60, 'increment': 1}, 'rated': True, 'fullName': '≤1300 Bullet Arena', 'nbPlayers': 55, 'variant': {'key': 'standard', 'short': 'Std', 'name': 'Standard'}, 'startsAt': datetime.datetime(2023, 3, 20, 8, 30, 6, tzinfo=datetime.timezone.utc), 'finishesAt': datetime.datetime(2023, 3, 20, 8, 57, 6, tzinfo=datetime.timezone.utc), 'status': 30, 'perf': {'key': 'bullet', 'name': 'Bullet', 'position': 0, 'icon': 'T'}, 'hasMaxRating': True, 'maxRating': {'perf': 'bullet', 'rating': 1300}, 'minRatedGames': {'nb': 20, 'perf': 'bullet'}, 'schedule': {'freq': 'hourly', 'speed': 'bullet'}, 'winner': {'id': 'kasketkarl', 'name': 'kasketkarl', 'title': None}}, {'id': 'b7iCIMPC', 'createdBy': 'lichess', 'system': 'arena', 'minutes': 27, 'clock': {'limit': 60, 'increment': 0}, 'rated': True, 'fullName': 'Hourly Bullet Arena', 'nbPlayers': 255, 'variant': {'key': 'standard', 'short': 'Std', 'name': 'Standard'}, 'startsAt': datetime.datetime(2023, 3, 20, 8, 30, 3, tzinfo=datetime.timezone.utc), 'finishesAt': datetime.datetime(2023, 3, 20, 8, 57, 3, tzinfo=datetime.timezone.utc), 'status': 30, 'perf': {'key': 'bullet', 'name': 'Bullet', 'position': 0, 'icon': 'T'}, 'minRatedGames': {'nb': 20, 'perf': 'bullet'}, 'schedule': {'freq': 'hourly', 'speed': 'bullet'}, 'winner': {'id': 'sergeynadeev', 'name': 'SergeyNadeev', 'title': None}}, {'id': 'ufqqGz59', 'createdBy': 'lichess', 'system': 'arena', 'minutes': 27, 'clock': {'limit': 30, 'increment': 0}, 'rated': True, 'fullName': 'Hourly HyperBullet Arena', 'nbPlayers': 66, 'variant': {'key': 'standard', 'short': 'Std', 'name': 'Standard'}, 'startsAt': datetime.datetime(2023, 3, 20, 8, 0, 59, tzinfo=datetime.timezone.utc), 'finishesAt': datetime.datetime(2023, 3, 20, 8, 27, 59, tzinfo=datetime.timezone.utc), 'status': 30, 'perf': {'key': 'bullet', 'name': 'Bullet', 'position': 0, 'icon': 'T'}, 'minRatedGames': {'nb': 20, 'perf': 'bullet'}, 'schedule': {'freq': 'hourly', 'speed': 'hyperBullet'}, 'winner': {'id': 'lelouchkx', 'name': 'LelouchKX', 'title': None}}, {'id': '5vUFkon3', 'createdBy': 'lichess', 'system': 'arena', 'minutes': 57, 'clock': {'limit': 180, 'increment': 0}, 'rated': True, 'fullName': '≤2000 SuperBlitz Arena', 'nbPlayers': 488, 'variant': {'key': 'standard', 'short': 'Std', 'name': 'Standard'}, 'startsAt': datetime.datetime(2023, 3, 20, 8, 0, 55, tzinfo=datetime.timezone.utc), 'finishesAt': datetime.datetime(2023, 3, 20, 8, 57, 55, tzinfo=datetime.timezone.utc), 'status': 30, 'perf': {'key': 'blitz', 'name': 'Blitz', 'position': 1, 'icon': ')'}, 'hasMaxRating': True, 'maxRating': {'perf': 'blitz', 'rating': 2000}, 'minRatedGames': {'nb': 20, 'perf': 'blitz'}, 'schedule': {'freq': 'hourly', 'speed': 'superBlitz'}, 'winner': {'id': 'mr_alex_green', 'name': 'Mr_Alex_Green', 'title': None}}, {'id': '7CjRB9PE', 'createdBy': 'lichess', 'system': 'arena', 'minutes': 57, 'clock': {'limit': 300, 'increment': 0}, 'rated': True, 'fullName': '≤1700 Blitz Arena', 'nbPlayers': 364, 'variant': {'key': 'standard', 'short': 'Std', 'name': 'Standard'}, 'startsAt': datetime.datetime(2023, 3, 20, 8, 0, 54, tzinfo=datetime.timezone.utc), 'finishesAt': datetime.datetime(2023, 3, 20, 8, 57, 54, tzinfo=datetime.timezone.utc), 'status': 30, 'perf': {'key': 'blitz', 'name': 'Blitz', 'position': 1, 'icon': ')'}, 'hasMaxRating': True, 'maxRating': {'perf': 'blitz', 'rating': 1700}, 'minRatedGames': {'nb': 20, 'perf': 'blitz'}, 'schedule': {'freq': 'hourly', 'speed': 'blitz'}, 'winner': {'id': 'dolanan_kayu', 'name': 'dolanan_kayu', 'title': None}}, {'id': 'yZ5od4AW', 'createdBy': 'lichess', 'system': 'arena', 'minutes': 57, 'clock': {'limit': 300, 'increment': 0}, 'rated': True, 'fullName': 'Hourly Blitz Arena', 'nbPlayers': 342, 'variant': {'key': 'standard', 'short': 'Std', 'name': 'Standard'}, 'startsAt': datetime.datetime(2023, 3, 20, 8, 0, 50, tzinfo=datetime.timezone.utc), 'finishesAt': datetime.datetime(2023, 3, 20, 8, 57, 50, tzinfo=datetime.timezone.utc), 'status': 30, 'perf': {'key': 'blitz', 'name': 'Blitz', 'position': 1, 'icon': ')'}, 'minRatedGames': {'nb': 15, 'perf': 'blitz'}, 'schedule': {'freq': 'hourly', 'speed': 'blitz'}, 'winner': {'id': 'sergei0303', 'name': 'Sergei0303', 'title': None}}, {'id': 'fDG3PNBA', 'createdBy': 'lichess', 'system': 'arena', 'minutes': 27, 'clock': {'limit': 60, 'increment': 0}, 'rated': True, 'fullName': 'Hourly Crazyhouse Arena', 'nbPlayers': 42, 'variant': {'key': 'crazyhouse', 'short': 'Crazy', 'name': 'Crazyhouse'}, 'startsAt': datetime.datetime(2023, 3, 20, 8, 0, 49, tzinfo=datetime.timezone.utc), 'finishesAt': datetime.datetime(2023, 3, 20, 8, 27, 49, tzinfo=datetime.timezone.utc), 'status': 30, 'perf': {'key': 'crazyhouse', 'name': 'Crazyhouse', 'position': 5}, 'schedule': {'freq': 'hourly', 'speed': 'bullet'}, 'winner': {'id': 'zim-ovokodibad', 'name': 'ZIM-ovokodibad', 'title': None}}, {'id': 'DxlQzs89', 'createdBy': 'lichess', 'system': 'arena', 'minutes': 57, 'clock': {'limit': 600, 'increment': 0}, 'rated': True, 'fullName': '≤1500 Rapid Arena', 'nbPlayers': 141, 'variant': {'key': 'standard', 'short': 'Std', 'name': 'Standard'}, 'startsAt': datetime.datetime(2023, 3, 20, 8, 0, 42, tzinfo=datetime.timezone.utc), 'finishesAt': datetime.datetime(2023, 3, 20, 8, 57, 42, tzinfo=datetime.timezone.utc), 'status': 30, 'perf': {'key': 'rapid', 'name': 'Rapid', 'position': 2, 'icon': '#'}, 'hasMaxRating': True, 'maxRating': {'perf': 'rapid', 'rating': 1500}, 'minRatedGames': {'nb': 20, 'perf': 'rapid'}, 'schedule': {'freq': 'hourly', 'speed': 'rapid'}, 'winner': {'id': 'maks08032013', 'name': 'Maks08032013', 'title': None}}, {'id': 'l9YUhyh8', 'createdBy': 'lichess', 'system': 'arena', 'minutes': 27, 'clock': {'limit': 60, 'increment': 0}, 'rated': True, 'fullName': '≤1300 Bullet Arena', 'nbPlayers': 41, 'variant': {'key': 'standard', 'short': 'Std', 'name': 'Standard'}, 'startsAt': datetime.datetime(2023, 3, 20, 8, 0, 37, tzinfo=datetime.timezone.utc), 'finishesAt': datetime.datetime(2023, 3, 20, 8, 27, 37, tzinfo=datetime.timezone.utc), 'status': 30, 'perf': {'key': 'bullet', 'name': 'Bullet', 'position': 0, 'icon': 'T'}, 'hasMaxRating': True, 'maxRating': {'perf': 'bullet', 'rating': 1300}, 'minRatedGames': {'nb': 20, 'perf': 'bullet'}, 'schedule': {'freq': 'hourly', 'speed': 'bullet'}, 'winner': {'id': 'salihinciell', 'name': 'salihinciell', 'title': None}}, {'id': 'SUHvCsOW', 'createdBy': 'lichess', 'system': 'arena', 'minutes': 27, 'clock': {'limit': 60, 'increment': 0}, 'rated': True, 'fullName': 'Hourly Bullet Arena', 'nbPlayers': 234, 'variant': {'key': 'standard', 'short': 'Std', 'name': 'Standard'}, 'startsAt': datetime.datetime(2023, 3, 20, 8, 0, 22, tzinfo=datetime.timezone.utc), 'finishesAt': datetime.datetime(2023, 3, 20, 8, 27, 22, tzinfo=datetime.timezone.utc), 'status': 30, 'perf': {'key': 'bullet', 'name': 'Bullet', 'position': 0, 'icon': 'T'}, 'minRatedGames': {'nb': 20, 'perf': 'bullet'}, 'schedule': {'freq': 'hourly', 'speed': 'bullet'}, 'winner': {'id': 'mech_vozmezdiy', 'name': 'Mech_Vozmezdiy', 'title': None}}, {'id': 'CkJHDmYi', 'createdBy': 'lichess', 'system': 'arena', 'minutes': 57, 'clock': {'limit': 300, 'increment': 0}, 'rated': True, 'fullName': 'Hourly Racing Kings Arena', 'nbPlayers': 51, 'variant': {'key': 'racingKings', 'short': 'Racing', 'name': 'Racing Kings'}, 'startsAt': datetime.datetime(2023, 3, 20, 8, 0, 13, tzinfo=datetime.timezone.utc), 'finishesAt': datetime.datetime(2023, 3, 20, 8, 57, 13, tzinfo=datetime.timezone.utc), 'status': 30, 'perf': {'key': 'racingKings', 'name': 'Racing Kings', 'position': 12}, 'schedule': {'freq': 'hourly', 'speed': 'blitz'}, 'winner': {'id': 'yura-11', 'name': 'Yura-11', 'title': None}}, {'id': '3rK1hFHS', 'createdBy': 'lichess', 'system': 'arena', 'minutes': 57, 'clock': {'limit': 180, 'increment': 0}, 'rated': True, 'fullName': 'Hourly SuperBlitz Arena', 'nbPlayers': 680, 'variant': {'key': 'standard', 'short': 'Std', 'name': 'Standard'}, 'startsAt': datetime.datetime(2023, 3, 20, 8, 0, 7, tzinfo=datetime.timezone.utc), 'finishesAt': datetime.datetime(2023, 3, 20, 8, 57, 7, tzinfo=datetime.timezone.utc), 'status': 30, 'perf': {'key': 'blitz', 'name': 'Blitz', 'position': 1, 'icon': ')'}, 'minRatedGames': {'nb': 15, 'perf': 'blitz'}, 'schedule': {'freq': 'hourly', 'speed': 'superBlitz'}, 'winner': {'id': 'ramiz-dema', 'name': 'ramiz-dema', 'title': None}}, {'id': 'ZI8nDMCS', 'createdBy': 'lichess', 'system': 'arena', 'minutes': 57, 'clock': {'limit': 120, 'increment': 0}, 'rated': True, 'fullName': 'Hourly Atomic Arena', 'nbPlayers': 101, 'variant': {'key': 'atomic', 'short': 'Atom', 'name': 'Atomic'}, 'startsAt': datetime.datetime(2023, 3, 20, 8, 0, 3, tzinfo=datetime.timezone.utc), 'finishesAt': datetime.datetime(2023, 3, 20, 8, 57, 3, tzinfo=datetime.timezone.utc), 'status': 30, 'perf': {'key': 'atomic', 'name': 'Atomic', 'position': 10}, 'schedule': {'freq': 'hourly', 'speed': 'hippoBullet'}, 'winner': {'id': 'berimanzega_rkccntt', 'name': 'BerimanZega_RKCCNTT', 'title': None}}, {'id': 'jXmBGTfy', 'createdBy': 'lichess', 'system': 'arena', 'minutes': 27, 'clock': {'limit': 60, 'increment': 1}, 'rated': True, 'fullName': '≤2000 Bullet Arena', 'nbPlayers': 176, 'variant': {'key': 'standard', 'short': 'Std', 'name': 'Standard'}, 'startsAt': datetime.datetime(2023, 3, 20, 7, 30, 29, tzinfo=datetime.timezone.utc), 'finishesAt': datetime.datetime(2023, 3, 20, 7, 57, 29, tzinfo=datetime.timezone.utc), 'status': 30, 'perf': {'key': 'bullet', 'name': 'Bullet', 'position': 0, 'icon': 'T'}, 'hasMaxRating': True, 'maxRating': {'perf': 'bullet', 'rating': 2000}, 'minRatedGames': {'nb': 20, 'perf': 'bullet'}, 'schedule': {'freq': 'hourly', 'speed': 'bullet'}, 'winner': {'id': 'samuelkumar', 'name': 'samuelkumar', 'title': None}}, {'id': 'fcphih1o', 'createdBy': 'lichess', 'system': 'arena', 'minutes': 27, 'clock': {'limit': 60, 'increment': 0}, 'rated': True, 'fullName': 'Hourly Bullet Arena', 'nbPlayers': 237, 'variant': {'key': 'standard', 'short': 'Std', 'name': 'Standard'}, 'startsAt': datetime.datetime(2023, 3, 20, 7, 30, 23, tzinfo=datetime.timezone.utc), 'finishesAt': datetime.datetime(2023, 3, 20, 7, 57, 23, tzinfo=datetime.timezone.utc), 'status': 30, 'perf': {'key': 'bullet', 'name': 'Bullet', 'position': 0, 'icon': 'T'}, 'minRatedGames': {'nb': 20, 'perf': 'bullet'}, 'schedule': {'freq': 'hourly', 'speed': 'bullet'}, 'winner': {'id': 'nat74', 'name': 'Nat74', 'title': None}}, {'id': 'KZ8J5S4v', 'createdBy': 'lichess', 'system': 'arena', 'minutes': 27, 'clock': {'limit': 15, 'increment': 0}, 'rated': True, 'fullName': 'Hourly UltraBullet Arena', 'nbPlayers': 98, 'variant': {'key': 'standard', 'short': 'Std', 'name': 'Standard'}, 'startsAt': datetime.datetime(2023, 3, 20, 7, 30, tzinfo=datetime.timezone.utc), 'finishesAt': datetime.datetime(2023, 3, 20, 7, 57, tzinfo=datetime.timezone.utc), 'status': 30, 'perf': {'key': 'ultraBullet', 'name': 'UltraBullet', 'position': 4, 'icon': '{'}, 'schedule': {'freq': 'hourly', 'speed': 'ultraBullet'}, 'winner': {'id': 'coachonline', 'name': 'CoachOnline', 'title': None}}, {'id': 'DKNrqoz3', 'createdBy': 'lichess', 'system': 'arena', 'minutes': 57, 'clock': {'limit': 600, 'increment': 0}, 'rated': True, 'fullName': '≤1300 Rapid Arena', 'nbPlayers': 99, 'variant': {'key': 'standard', 'short': 'Std', 'name': 'Standard'}, 'startsAt': datetime.datetime(2023, 3, 20, 7, 0, 55, tzinfo=datetime.timezone.utc), 'finishesAt': datetime.datetime(2023, 3, 20, 7, 57, 55, tzinfo=datetime.timezone.utc), 'status': 30, 'perf': {'key': 'rapid', 'name': 'Rapid', 'position': 2, 'icon': '#'}, 'hasMaxRating': True, 'maxRating': {'perf': 'rapid', 'rating': 1300}, 'minRatedGames': {'nb': 20, 'perf': 'rapid'}, 'schedule': {'freq': 'hourly', 'speed': 'rapid'}, 'winner': {'id': 'stas03042020', 'name': 'Stas03042020', 'title': None}}, {'id': 'yWaHK6lW', 'createdBy': 'lichess', 'system': 'arena', 'minutes': 57, 'clock': {'limit': 180, 'increment': 0}, 'rated': True, 'fullName': 'Hourly Horde Arena', 'nbPlayers': 33, 'variant': {'key': 'horde', 'short': 'Horde', 'name': 'Horde'}, 'startsAt': datetime.datetime(2023, 3, 20, 7, 0, 48, tzinfo=datetime.timezone.utc), 'finishesAt': datetime.datetime(2023, 3, 20, 7, 57, 48, tzinfo=datetime.timezone.utc), 'status': 30, 'perf': {'key': 'horde', 'name': 'Horde', 'position': 11}, 'schedule': {'freq': 'hourly', 'speed': 'superBlitz'}, 'winner': {'id': 'bagera9', 'name': 'bagera9', 'title': None}}]\n"
          ]
        }
      ]
    },
    {
      "cell_type": "code",
      "source": [
        "data = finished_tourn[0].keys()"
      ],
      "metadata": {
        "id": "U1FQoiEjQ8sj"
      },
      "execution_count": null,
      "outputs": []
    },
    {
      "cell_type": "code",
      "source": [
        "data"
      ],
      "metadata": {
        "colab": {
          "base_uri": "https://localhost:8080/"
        },
        "id": "sb283QwoRjrI",
        "outputId": "428bba77-e281-444e-d9c8-bcdad14ca461"
      },
      "execution_count": null,
      "outputs": [
        {
          "output_type": "execute_result",
          "data": {
            "text/plain": [
              "dict_keys(['id', 'createdBy', 'system', 'minutes', 'clock', 'rated', 'fullName', 'nbPlayers', 'variant', 'startsAt', 'finishesAt', 'status', 'perf', 'schedule', 'winner'])"
            ]
          },
          "metadata": {},
          "execution_count": 45
        }
      ]
    },
    {
      "cell_type": "code",
      "source": [
        "val = []\n",
        "for i in range(len(finished_tourn)):\n",
        "  \n",
        "  a = finished_tourn[i].values()\n",
        "  val.append(a)\n",
        "len(val[0])"
      ],
      "metadata": {
        "colab": {
          "base_uri": "https://localhost:8080/"
        },
        "id": "Gh-QoxIwTeuS",
        "outputId": "a95dfea8-d475-4339-d672-6c74b850851e"
      },
      "execution_count": null,
      "outputs": [
        {
          "output_type": "execute_result",
          "data": {
            "text/plain": [
              "15"
            ]
          },
          "metadata": {},
          "execution_count": 55
        }
      ]
    },
    {
      "cell_type": "code",
      "source": [
        "finished_tourn[0].values()"
      ],
      "metadata": {
        "colab": {
          "base_uri": "https://localhost:8080/"
        },
        "id": "hCsbFO6cWKuG",
        "outputId": "2477695c-a603-4c98-9c37-6e785f668968"
      },
      "execution_count": null,
      "outputs": [
        {
          "output_type": "execute_result",
          "data": {
            "text/plain": [
              "dict_values(['mvozGrxl', 'lichess', 'arena', 27, {'limit': 15, 'increment': 0}, True, 'Hourly UltraBullet Arena', 83, {'key': 'standard', 'short': 'Std', 'name': 'Standard'}, datetime.datetime(2023, 3, 20, 8, 30, 46, tzinfo=datetime.timezone.utc), datetime.datetime(2023, 3, 20, 8, 57, 46, tzinfo=datetime.timezone.utc), 30, {'key': 'ultraBullet', 'name': 'UltraBullet', 'position': 4, 'icon': '{'}, {'freq': 'hourly', 'speed': 'ultraBullet'}, {'id': 'aditya-beast', 'name': 'Aditya-Beast', 'title': None}])"
            ]
          },
          "metadata": {},
          "execution_count": 60
        }
      ]
    },
    {
      "cell_type": "code",
      "source": [
        "df = pd.DataFrame(val,columns=data)"
      ],
      "metadata": {
        "colab": {
          "base_uri": "https://localhost:8080/",
          "height": 167
        },
        "id": "-mJzNHwsPcJ-",
        "outputId": "28469a93-62c1-48ca-98a2-9ef6e39ef66e"
      },
      "execution_count": null,
      "outputs": [
        {
          "output_type": "error",
          "ename": "AttributeError",
          "evalue": "ignored",
          "traceback": [
            "\u001b[0;31m---------------------------------------------------------------------------\u001b[0m",
            "\u001b[0;31mAttributeError\u001b[0m                            Traceback (most recent call last)",
            "\u001b[0;32m<ipython-input-57-15b2f3d045e4>\u001b[0m in \u001b[0;36m<module>\u001b[0;34m\u001b[0m\n\u001b[0;32m----> 1\u001b[0;31m \u001b[0mdf\u001b[0m \u001b[0;34m=\u001b[0m \u001b[0mpd\u001b[0m\u001b[0;34m.\u001b[0m\u001b[0mDataFrame\u001b[0m\u001b[0;34m(\u001b[0m\u001b[0mval\u001b[0m\u001b[0;34m[\u001b[0m\u001b[0;36m0\u001b[0m\u001b[0;34m]\u001b[0m\u001b[0;34m.\u001b[0m\u001b[0mreshape\u001b[0m\u001b[0;34m(\u001b[0m\u001b[0;34m)\u001b[0m\u001b[0;34m,\u001b[0m\u001b[0mcolumns\u001b[0m\u001b[0;34m=\u001b[0m\u001b[0mdata\u001b[0m\u001b[0;34m)\u001b[0m\u001b[0;34m\u001b[0m\u001b[0;34m\u001b[0m\u001b[0m\n\u001b[0m",
            "\u001b[0;31mAttributeError\u001b[0m: 'dict_values' object has no attribute 'reshape'"
          ]
        }
      ]
    },
    {
      "cell_type": "code",
      "source": [
        "df"
      ],
      "metadata": {
        "colab": {
          "base_uri": "https://localhost:8080/",
          "height": 677
        },
        "id": "sfvXp16LP_9S",
        "outputId": "9582e693-e8c6-40db-e204-b7099297db84"
      },
      "execution_count": null,
      "outputs": [
        {
          "output_type": "execute_result",
          "data": {
            "text/plain": [
              "    created  started  finished\n",
              "0       NaN      NaN       NaN\n",
              "1       NaN      NaN       NaN\n",
              "2       NaN      NaN       NaN\n",
              "3       NaN      NaN       NaN\n",
              "4       NaN      NaN       NaN\n",
              "5       NaN      NaN       NaN\n",
              "6       NaN      NaN       NaN\n",
              "7       NaN      NaN       NaN\n",
              "8       NaN      NaN       NaN\n",
              "9       NaN      NaN       NaN\n",
              "10      NaN      NaN       NaN\n",
              "11      NaN      NaN       NaN\n",
              "12      NaN      NaN       NaN\n",
              "13      NaN      NaN       NaN\n",
              "14      NaN      NaN       NaN\n",
              "15      NaN      NaN       NaN\n",
              "16      NaN      NaN       NaN\n",
              "17      NaN      NaN       NaN\n",
              "18      NaN      NaN       NaN\n",
              "19      NaN      NaN       NaN"
            ],
            "text/html": [
              "\n",
              "  <div id=\"df-0f263870-d8b7-484f-92c0-4107890ea77c\">\n",
              "    <div class=\"colab-df-container\">\n",
              "      <div>\n",
              "<style scoped>\n",
              "    .dataframe tbody tr th:only-of-type {\n",
              "        vertical-align: middle;\n",
              "    }\n",
              "\n",
              "    .dataframe tbody tr th {\n",
              "        vertical-align: top;\n",
              "    }\n",
              "\n",
              "    .dataframe thead th {\n",
              "        text-align: right;\n",
              "    }\n",
              "</style>\n",
              "<table border=\"1\" class=\"dataframe\">\n",
              "  <thead>\n",
              "    <tr style=\"text-align: right;\">\n",
              "      <th></th>\n",
              "      <th>created</th>\n",
              "      <th>started</th>\n",
              "      <th>finished</th>\n",
              "    </tr>\n",
              "  </thead>\n",
              "  <tbody>\n",
              "    <tr>\n",
              "      <th>0</th>\n",
              "      <td>NaN</td>\n",
              "      <td>NaN</td>\n",
              "      <td>NaN</td>\n",
              "    </tr>\n",
              "    <tr>\n",
              "      <th>1</th>\n",
              "      <td>NaN</td>\n",
              "      <td>NaN</td>\n",
              "      <td>NaN</td>\n",
              "    </tr>\n",
              "    <tr>\n",
              "      <th>2</th>\n",
              "      <td>NaN</td>\n",
              "      <td>NaN</td>\n",
              "      <td>NaN</td>\n",
              "    </tr>\n",
              "    <tr>\n",
              "      <th>3</th>\n",
              "      <td>NaN</td>\n",
              "      <td>NaN</td>\n",
              "      <td>NaN</td>\n",
              "    </tr>\n",
              "    <tr>\n",
              "      <th>4</th>\n",
              "      <td>NaN</td>\n",
              "      <td>NaN</td>\n",
              "      <td>NaN</td>\n",
              "    </tr>\n",
              "    <tr>\n",
              "      <th>5</th>\n",
              "      <td>NaN</td>\n",
              "      <td>NaN</td>\n",
              "      <td>NaN</td>\n",
              "    </tr>\n",
              "    <tr>\n",
              "      <th>6</th>\n",
              "      <td>NaN</td>\n",
              "      <td>NaN</td>\n",
              "      <td>NaN</td>\n",
              "    </tr>\n",
              "    <tr>\n",
              "      <th>7</th>\n",
              "      <td>NaN</td>\n",
              "      <td>NaN</td>\n",
              "      <td>NaN</td>\n",
              "    </tr>\n",
              "    <tr>\n",
              "      <th>8</th>\n",
              "      <td>NaN</td>\n",
              "      <td>NaN</td>\n",
              "      <td>NaN</td>\n",
              "    </tr>\n",
              "    <tr>\n",
              "      <th>9</th>\n",
              "      <td>NaN</td>\n",
              "      <td>NaN</td>\n",
              "      <td>NaN</td>\n",
              "    </tr>\n",
              "    <tr>\n",
              "      <th>10</th>\n",
              "      <td>NaN</td>\n",
              "      <td>NaN</td>\n",
              "      <td>NaN</td>\n",
              "    </tr>\n",
              "    <tr>\n",
              "      <th>11</th>\n",
              "      <td>NaN</td>\n",
              "      <td>NaN</td>\n",
              "      <td>NaN</td>\n",
              "    </tr>\n",
              "    <tr>\n",
              "      <th>12</th>\n",
              "      <td>NaN</td>\n",
              "      <td>NaN</td>\n",
              "      <td>NaN</td>\n",
              "    </tr>\n",
              "    <tr>\n",
              "      <th>13</th>\n",
              "      <td>NaN</td>\n",
              "      <td>NaN</td>\n",
              "      <td>NaN</td>\n",
              "    </tr>\n",
              "    <tr>\n",
              "      <th>14</th>\n",
              "      <td>NaN</td>\n",
              "      <td>NaN</td>\n",
              "      <td>NaN</td>\n",
              "    </tr>\n",
              "    <tr>\n",
              "      <th>15</th>\n",
              "      <td>NaN</td>\n",
              "      <td>NaN</td>\n",
              "      <td>NaN</td>\n",
              "    </tr>\n",
              "    <tr>\n",
              "      <th>16</th>\n",
              "      <td>NaN</td>\n",
              "      <td>NaN</td>\n",
              "      <td>NaN</td>\n",
              "    </tr>\n",
              "    <tr>\n",
              "      <th>17</th>\n",
              "      <td>NaN</td>\n",
              "      <td>NaN</td>\n",
              "      <td>NaN</td>\n",
              "    </tr>\n",
              "    <tr>\n",
              "      <th>18</th>\n",
              "      <td>NaN</td>\n",
              "      <td>NaN</td>\n",
              "      <td>NaN</td>\n",
              "    </tr>\n",
              "    <tr>\n",
              "      <th>19</th>\n",
              "      <td>NaN</td>\n",
              "      <td>NaN</td>\n",
              "      <td>NaN</td>\n",
              "    </tr>\n",
              "  </tbody>\n",
              "</table>\n",
              "</div>\n",
              "      <button class=\"colab-df-convert\" onclick=\"convertToInteractive('df-0f263870-d8b7-484f-92c0-4107890ea77c')\"\n",
              "              title=\"Convert this dataframe to an interactive table.\"\n",
              "              style=\"display:none;\">\n",
              "        \n",
              "  <svg xmlns=\"http://www.w3.org/2000/svg\" height=\"24px\"viewBox=\"0 0 24 24\"\n",
              "       width=\"24px\">\n",
              "    <path d=\"M0 0h24v24H0V0z\" fill=\"none\"/>\n",
              "    <path d=\"M18.56 5.44l.94 2.06.94-2.06 2.06-.94-2.06-.94-.94-2.06-.94 2.06-2.06.94zm-11 1L8.5 8.5l.94-2.06 2.06-.94-2.06-.94L8.5 2.5l-.94 2.06-2.06.94zm10 10l.94 2.06.94-2.06 2.06-.94-2.06-.94-.94-2.06-.94 2.06-2.06.94z\"/><path d=\"M17.41 7.96l-1.37-1.37c-.4-.4-.92-.59-1.43-.59-.52 0-1.04.2-1.43.59L10.3 9.45l-7.72 7.72c-.78.78-.78 2.05 0 2.83L4 21.41c.39.39.9.59 1.41.59.51 0 1.02-.2 1.41-.59l7.78-7.78 2.81-2.81c.8-.78.8-2.07 0-2.86zM5.41 20L4 18.59l7.72-7.72 1.47 1.35L5.41 20z\"/>\n",
              "  </svg>\n",
              "      </button>\n",
              "      \n",
              "  <style>\n",
              "    .colab-df-container {\n",
              "      display:flex;\n",
              "      flex-wrap:wrap;\n",
              "      gap: 12px;\n",
              "    }\n",
              "\n",
              "    .colab-df-convert {\n",
              "      background-color: #E8F0FE;\n",
              "      border: none;\n",
              "      border-radius: 50%;\n",
              "      cursor: pointer;\n",
              "      display: none;\n",
              "      fill: #1967D2;\n",
              "      height: 32px;\n",
              "      padding: 0 0 0 0;\n",
              "      width: 32px;\n",
              "    }\n",
              "\n",
              "    .colab-df-convert:hover {\n",
              "      background-color: #E2EBFA;\n",
              "      box-shadow: 0px 1px 2px rgba(60, 64, 67, 0.3), 0px 1px 3px 1px rgba(60, 64, 67, 0.15);\n",
              "      fill: #174EA6;\n",
              "    }\n",
              "\n",
              "    [theme=dark] .colab-df-convert {\n",
              "      background-color: #3B4455;\n",
              "      fill: #D2E3FC;\n",
              "    }\n",
              "\n",
              "    [theme=dark] .colab-df-convert:hover {\n",
              "      background-color: #434B5C;\n",
              "      box-shadow: 0px 1px 3px 1px rgba(0, 0, 0, 0.15);\n",
              "      filter: drop-shadow(0px 1px 2px rgba(0, 0, 0, 0.3));\n",
              "      fill: #FFFFFF;\n",
              "    }\n",
              "  </style>\n",
              "\n",
              "      <script>\n",
              "        const buttonEl =\n",
              "          document.querySelector('#df-0f263870-d8b7-484f-92c0-4107890ea77c button.colab-df-convert');\n",
              "        buttonEl.style.display =\n",
              "          google.colab.kernel.accessAllowed ? 'block' : 'none';\n",
              "\n",
              "        async function convertToInteractive(key) {\n",
              "          const element = document.querySelector('#df-0f263870-d8b7-484f-92c0-4107890ea77c');\n",
              "          const dataTable =\n",
              "            await google.colab.kernel.invokeFunction('convertToInteractive',\n",
              "                                                     [key], {});\n",
              "          if (!dataTable) return;\n",
              "\n",
              "          const docLinkHtml = 'Like what you see? Visit the ' +\n",
              "            '<a target=\"_blank\" href=https://colab.research.google.com/notebooks/data_table.ipynb>data table notebook</a>'\n",
              "            + ' to learn more about interactive tables.';\n",
              "          element.innerHTML = '';\n",
              "          dataTable['output_type'] = 'display_data';\n",
              "          await google.colab.output.renderOutput(dataTable, element);\n",
              "          const docLink = document.createElement('div');\n",
              "          docLink.innerHTML = docLinkHtml;\n",
              "          element.appendChild(docLink);\n",
              "        }\n",
              "      </script>\n",
              "    </div>\n",
              "  </div>\n",
              "  "
            ]
          },
          "metadata": {},
          "execution_count": 29
        }
      ]
    },
    {
      "cell_type": "code",
      "source": [
        "url = 'https://www.365chess.com/tournaments.php'\n",
        "soup = BeautifulSoup(requests.get(url).content, 'html.parser')\n",
        "var = soup.findAll('div',attrs={'id':'eco_search'})"
      ],
      "metadata": {
        "id": "FlS_jtRUYRaX"
      },
      "execution_count": null,
      "outputs": []
    },
    {
      "cell_type": "code",
      "source": [
        "soup.find('a',attrs={'href':'/tournaments.php?year=2019'})"
      ],
      "metadata": {
        "colab": {
          "base_uri": "https://localhost:8080/"
        },
        "id": "4yoi2sr6bdSM",
        "outputId": "7cab2edb-9995-4feb-dddc-36ea48355e69"
      },
      "execution_count": null,
      "outputs": [
        {
          "output_type": "execute_result",
          "data": {
            "text/plain": [
              "<a href=\"/tournaments.php?year=2019\">2019</a>"
            ]
          },
          "metadata": {},
          "execution_count": 4
        }
      ]
    },
    {
      "cell_type": "code",
      "source": [
        "variable = 'https://www.365chess.com/tournaments.php?year='\n",
        "year = [i for i in range(2000,2002)]\n",
        "\n",
        "lista = []\n",
        "for i in year:\n",
        "  lista.append(variable+str(i))"
      ],
      "metadata": {
        "id": "MW_i_gmDfLRW"
      },
      "execution_count": null,
      "outputs": []
    },
    {
      "cell_type": "code",
      "source": [
        "lista"
      ],
      "metadata": {
        "colab": {
          "base_uri": "https://localhost:8080/"
        },
        "id": "dPZy0Gjyf0SX",
        "outputId": "cda0f280-9418-452e-c46e-b46b4580d6c9"
      },
      "execution_count": null,
      "outputs": [
        {
          "output_type": "execute_result",
          "data": {
            "text/plain": [
              "['https://www.365chess.com/tournaments.php?year=2000',\n",
              " 'https://www.365chess.com/tournaments.php?year=2001']"
            ]
          },
          "metadata": {},
          "execution_count": 39
        }
      ]
    },
    {
      "cell_type": "code",
      "source": [
        "url_t = lista[0]\n",
        "soup2 = BeautifulSoup(requests.get(url_t).content, 'html.parser')\n",
        "var2 = soup2.findAll('a', attrs={'class':'pagination'})\n",
        "url_inizio = 'https://www.365chess.com/'"
      ],
      "metadata": {
        "id": "O5HOrFdRmje2"
      },
      "execution_count": null,
      "outputs": []
    },
    {
      "cell_type": "code",
      "source": [
        "var2"
      ],
      "metadata": {
        "id": "mYRlBTvqGgIs",
        "outputId": "c635fa15-7b70-4f4e-a1c7-1aa1c8a363b0",
        "colab": {
          "base_uri": "https://localhost:8080/"
        }
      },
      "execution_count": null,
      "outputs": [
        {
          "output_type": "execute_result",
          "data": {
            "text/plain": [
              "[<a class=\"pagination\" href=\"tournaments.php?p=1&amp;tname=&amp;year=2000&amp;country=&amp;avgelo=&amp;start=60\">2</a>,\n",
              " <a class=\"pagination\" href=\"tournaments.php?p=1&amp;tname=&amp;year=2000&amp;country=&amp;avgelo=&amp;start=120\">3</a>,\n",
              " <a class=\"pagination\" href=\"tournaments.php?p=1&amp;tname=&amp;year=2000&amp;country=&amp;avgelo=&amp;start=1860\">32</a>,\n",
              " <a class=\"pagination\" href=\"tournaments.php?p=1&amp;tname=&amp;year=2000&amp;country=&amp;avgelo=&amp;start=1920\">33</a>,\n",
              " <a class=\"pagination\" href=\"tournaments.php?p=1&amp;tname=&amp;year=2000&amp;country=&amp;avgelo=&amp;start=1980\">34</a>,\n",
              " <a class=\"pagination\" href=\"tournaments.php?p=1&amp;tname=&amp;year=2000&amp;country=&amp;avgelo=&amp;start=60\">Next</a>]"
            ]
          },
          "metadata": {},
          "execution_count": 64
        }
      ]
    },
    {
      "cell_type": "code",
      "source": [
        "url_fine = []\n",
        "pattern = r'\"(.*?)\"'\n",
        "for i in range(len(var2)):\n",
        "  url_fine.append(re.findall(pattern,str(var2[i])))"
      ],
      "metadata": {
        "id": "GvlWJshpz79l"
      },
      "execution_count": null,
      "outputs": []
    },
    {
      "cell_type": "code",
      "source": [
        "url_inizio"
      ],
      "metadata": {
        "id": "uEXnZEdkLsWl",
        "outputId": "d4b2ccc9-1be5-47b7-ea8a-c2d02b9b627d",
        "colab": {
          "base_uri": "https://localhost:8080/",
          "height": 35
        }
      },
      "execution_count": null,
      "outputs": [
        {
          "output_type": "execute_result",
          "data": {
            "text/plain": [
              "'https://www.365chess.com/'"
            ],
            "application/vnd.google.colaboratory.intrinsic+json": {
              "type": "string"
            }
          },
          "metadata": {},
          "execution_count": 113
        }
      ]
    },
    {
      "cell_type": "code",
      "source": [
        "\n",
        "url_completo = []\n",
        "for j in range(len(url_fine)):\n",
        "  url_completo.append(url_inizio + url_fine[j][1])\n",
        "url_completo"
      ],
      "metadata": {
        "id": "ohh6R1kcI1lI",
        "outputId": "bf238a52-8770-40fa-d64d-b6fe84768b8d",
        "colab": {
          "base_uri": "https://localhost:8080/"
        }
      },
      "execution_count": null,
      "outputs": [
        {
          "output_type": "execute_result",
          "data": {
            "text/plain": [
              "['https://www.365chess.com/tournaments.php?p=1&amp;tname=&amp;year=2000&amp;country=&amp;avgelo=&amp;start=60',\n",
              " 'https://www.365chess.com/tournaments.php?p=1&amp;tname=&amp;year=2000&amp;country=&amp;avgelo=&amp;start=120',\n",
              " 'https://www.365chess.com/tournaments.php?p=1&amp;tname=&amp;year=2000&amp;country=&amp;avgelo=&amp;start=1860',\n",
              " 'https://www.365chess.com/tournaments.php?p=1&amp;tname=&amp;year=2000&amp;country=&amp;avgelo=&amp;start=1920',\n",
              " 'https://www.365chess.com/tournaments.php?p=1&amp;tname=&amp;year=2000&amp;country=&amp;avgelo=&amp;start=1980',\n",
              " 'https://www.365chess.com/tournaments.php?p=1&amp;tname=&amp;year=2000&amp;country=&amp;avgelo=&amp;start=60']"
            ]
          },
          "metadata": {},
          "execution_count": 114
        }
      ]
    },
    {
      "cell_type": "code",
      "source": [
        "url_fine = []\n",
        "for i in range(len(var2)):\n",
        "  url_fine.append(re.findall(r'\"(.*?)\"',var2[i]))"
      ],
      "metadata": {
        "id": "Phlt4EiBH7oV"
      },
      "execution_count": null,
      "outputs": []
    },
    {
      "cell_type": "code",
      "source": [
        "type(var2)"
      ],
      "metadata": {
        "colab": {
          "base_uri": "https://localhost:8080/"
        },
        "id": "dDAUCIqipJ3V",
        "outputId": "86ea4a88-839a-4998-8d2a-39d45347d857"
      },
      "execution_count": null,
      "outputs": [
        {
          "output_type": "execute_result",
          "data": {
            "text/plain": [
              "bs4.element.ResultSet"
            ]
          },
          "metadata": {},
          "execution_count": 42
        }
      ]
    },
    {
      "cell_type": "code",
      "source": [
        "str(var2)"
      ],
      "metadata": {
        "colab": {
          "base_uri": "https://localhost:8080/",
          "height": 212
        },
        "id": "cE7NEcjdvVGL",
        "outputId": "a94d6374-2af9-4101-c510-42dcbc3bd0b5"
      },
      "execution_count": null,
      "outputs": [
        {
          "output_type": "execute_result",
          "data": {
            "text/plain": [
              "'[<a href=\"#\" id=\"ham\"></a>, <a href=\"https://www.365chess.com/\" title=\"Chess Games Database\">365Chess.com</a>, <a href=\"https://www.365chess.com/forgot_password.php\">Forgot your password?</a>, <a href=\"https://www.365chess.com/signup.php\">Sign up</a>, <a href=\"https://www.365chess.com/\" title=\"365Chess Home\">Home</a>, <a href=\"https://www.365chess.com/opening.php\" title=\"Chess Opening Explorer\">Opening Explorer</a>, <a href=\"https://www.365chess.com/view/shop/\" title=\"Courses\">Courses</a>, <a class=\"arrow_menu current\" href=\"javascript:void(0);\" title=\"Search\">Search</a>, <a href=\"https://www.365chess.com/search_position.php\" title=\"Game Position\">Game Position</a>, <a href=\"https://www.365chess.com/chess-games.php\" title=\"Chess Games\">Chess Games</a>, <a class=\"current\" href=\"https://www.365chess.com/tournaments.php\" title=\"Chess Tournaments\">Chess Tournaments</a>, <a href=\"https://www.365chess.com/search-endgames.php\" title=\"Endgames\">Endgames</a>, <a class=\"arrow_menu\" href=\"javascript:void(0);\" title=\"Search\">Training</a>, <a href=\"https://www.365chess.com/opening_training.php?pcolor=0&amp;master=0&amp;smeco=0&amp;topening=0\" title=\"Openings Trainer\">Openings Trainer</a>, <a href=\"https://www.365chess.com/play_computer_online.php\" title=\"Play vs Computer\">Play vs Computer</a>, <a href=\"https://www.365chess.com/puzzles.php\" title=\"Chess Puzzles\">Puzzles</a>, <a href=\"https://www.365chess.com/endgame_training.php\" title=\"Endgames Training\">Endgames</a>, <a href=\"https://www.365chess.com/eco.php\" title=\"ECO Codes\">ECO Codes</a>, <a class=\"arrow_menu\" href=\"javascript:void(0);\" title=\"Chess Resources\">Resources</a>, <a href=\"https://www.365chess.com/analysis_board.php\" title=\"Analysis board\">Analysis Board</a>, <a href=\"https://www.365chess.com/board_editor.php\" title=\"Board Editor\">Board Editor</a>, <a class=\"arrow_menu\" href=\"javascript:void(0);\" title=\"Help\">Help</a>, <a href=\"https://www.365chess.com/faq.php\" title=\"F.A.Q.\">F.A.Q.</a>, <a href=\"https://www.365chess.com/contactUs.php\" title=\"Contact Us\">Contact Us</a>, <a class=\"arrow_menu\" href=\"https://www.365chess.com/u/\" title=\"My Account\">My Account</a>, <a href=\"https://www.365chess.com/signin.php?login_page=mygames\" title=\"My Games\">My Games</a>, <a href=\"https://www.365chess.com/signin.php?login_page=bookmarks_games\" title=\"Bookmark Chess Games\">Bookmarks</a>, <a class=\"block_login\" href=\"#\">Login</a>, <a href=\"https://www.365chess.com/tournaments/AUT-chT2M_0001_2000/2929\">AUT-chT2M 0001</a>, <a href=\"https://www.365chess.com/tournaments/AUT-chT2O_0001_2000/2930\">AUT-chT2O 0001</a>, <a href=\"https://www.365chess.com/tournaments/AUT-chT2S_0001_2000/2931\">AUT-chT2S 0001</a>, <a href=\"https://www.365chess.com/tournaments/AUT-chT2W_0001_2000/2932\">AUT-chT2W 0001</a>, <a href=\"https://www.365chess.com/tournaments/Asturias-chT40_Primera_A_2000/2933\">Asturias-chT40 Primera A</a>, <a href=\"https://www.365chess.com/tournaments/Asturias-chT40_Primera_B_2000/2934\">Asturias-chT40 Primera B</a>, <a href=\"https://www.365chess.com/tournaments/BL2_South_0001_(Women)_2000/2935\">BL2 South 0001 (Women)</a>, <a href=\"https://www.365chess.com/tournaments/BL2_West_0001_(Women)_2000/2936\">BL2 West 0001 (Women)</a>, <a href=\"https://www.365chess.com/tournaments/BL2-E_0001_(Women)_2000/2937\">BL2-E 0001 (Women)</a>, <a href=\"https://www.365chess.com/tournaments/CZE-chT2a_0001_2000/2938\">CZE-chT2a 0001</a>, <a href=\"https://www.365chess.com/tournaments/CZE-chT2b_0001_2000/2939\">CZE-chT2b 0001</a>, <a href=\"https://www.365chess.com/tournaments/CZE-chTJ_0001_2000/2940\">CZE-chTJ 0001</a>, <a href=\"https://www.365chess.com/tournaments/CZE-chTV_0001_2000/2941\">CZE-chTV 0001</a>, <a href=\"https://www.365chess.com/tournaments/DEN-chT_0001_2000/2942\">DEN-chT 0001</a>, <a href=\"https://www.365chess.com/tournaments/FRA-chT_0001_U18_2000/2943\">FRA-chT 0001 U18</a>, <a href=\"https://www.365chess.com/tournaments/Finistere-chT_0001_2000/2944\">Finistere-chT 0001</a>, <a href=\"https://www.365chess.com/tournaments/Geelong_op_2000/2945\">Geelong op</a>, <a href=\"https://www.365chess.com/tournaments/JBLN_Ost_0001_2000/2946\">JBLN Ost 0001</a>, <a href=\"https://www.365chess.com/tournaments/JBLN_West_0001_2000/2947\">JBLN West 0001</a>, <a href=\"https://www.365chess.com/tournaments/Landesliga_Nord_0001_2000/2948\">Landesliga Nord 0001</a>, <a href=\"https://www.365chess.com/tournaments/Landesliga_Sued_0001_2000/2949\">Landesliga Sued 0001</a>, <a href=\"https://www.365chess.com/tournaments/NOR-chT_0001_2000/2950\">NOR-chT 0001</a>, <a href=\"https://www.365chess.com/tournaments/Regionalliga_NO_0001_2000/2951\">Regionalliga NO 0001</a>, <a href=\"https://www.365chess.com/tournaments/Regionalliga_NW_0001_2000/2952\">Regionalliga NW 0001</a>, <a href=\"https://www.365chess.com/tournaments/Regionalliga_SO_0001_2000/2953\">Regionalliga SO 0001</a>, <a href=\"https://www.365chess.com/tournaments/Regionalliga_SW_0001_2000/2954\">Regionalliga SW 0001</a>, <a href=\"https://www.365chess.com/tournaments/SVK-chT1E_0001_2000/2955\">SVK-chT1E 0001</a>, <a href=\"https://www.365chess.com/tournaments/SVK-chT1W_0001_2000/2956\">SVK-chT1W 0001</a>, <a href=\"https://www.365chess.com/tournaments/SVK-chT3B_0001_2000/2957\">SVK-chT3B 0001</a>, <a href=\"https://www.365chess.com/tournaments/SVK-chT3C_0001_2000/2958\">SVK-chT3C 0001</a>, <a href=\"https://www.365chess.com/tournaments/SVK-chT3D_0001_2000/2959\">SVK-chT3D 0001</a>, <a href=\"https://www.365chess.com/tournaments/ARG-ch_(Women)_2000/4875\">ARG-ch (Women)</a>, <a href=\"https://www.365chess.com/tournaments/ARG-ch_U14_2000/4876\">ARG-ch U14</a>, <a href=\"https://www.365chess.com/tournaments/ARG-chT_2000/4877\">ARG-chT</a>, <a href=\"https://www.365chess.com/tournaments/AUT-ch_U16_2000/4878\">AUT-ch U16</a>, <a href=\"https://www.365chess.com/tournaments/AUT-ch_U16_Girls_2000/4879\">AUT-ch U16 Girls</a>, <a href=\"https://www.365chess.com/tournaments/AUT-ch_U18_2000/4880\">AUT-ch U18</a>, <a href=\"https://www.365chess.com/tournaments/AUT-ch_U18_Girls_2000/4881\">AUT-ch U18 Girls</a>, <a href=\"https://www.365chess.com/tournaments/AZE-ch_2000/4882\">AZE-ch</a>, <a href=\"https://www.365chess.com/tournaments/AZE-ch_U14_2000/4883\">AZE-ch U14</a>, <a href=\"https://www.365chess.com/tournaments/AZE-ch_U16_2000/4884\">AZE-ch U16</a>, <a href=\"https://www.365chess.com/tournaments/AZE-ch_U18_2000/4885\">AZE-ch U18</a>, <a href=\"https://www.365chess.com/tournaments/AZE-ch_U20_2000/4886\">AZE-ch U20</a>, <a href=\"https://www.365chess.com/tournaments/AZE-ch_U20_Girls_2000/4887\">AZE-ch U20 Girls</a>, <a href=\"https://www.365chess.com/tournaments/AZE-chT_2000/4888\">AZE-chT</a>, <a href=\"https://www.365chess.com/tournaments/AZE-chT_rap_2000/4889\">AZE-chT rap</a>, <a href=\"https://www.365chess.com/tournaments/Aarhus-ch_Basis2_2000/4890\">Aarhus-ch Basis2</a>, <a href=\"https://www.365chess.com/tournaments/Aarhus-ch_Basis5_2000/4891\">Aarhus-ch Basis5</a>, <a href=\"https://www.365chess.com/tournaments/Aarhus-ch_Basis6_2000/4892\">Aarhus-ch Basis6</a>, <a href=\"https://www.365chess.com/tournaments/Aarhus-ch_Basis7_2000/4893\">Aarhus-ch Basis7</a>, <a href=\"https://www.365chess.com/tournaments/Aarhus-chB_2000/4894\">Aarhus-chB</a>, <a href=\"https://www.365chess.com/tournaments/Agneaux_St_Lo_op_4th_2000/4895\">Agneaux St Lo op 4th</a>, <a href=\"https://www.365chess.com/tournaments/Albert_Boxer_Classic_op_2000/4896\">Albert Boxer Classic op</a>, <a href=\"https://www.365chess.com/tournaments/Almassora-A_2000/4897\">Almassora-A</a>, <a href=\"https://www.365chess.com/tournaments/Almassora-B_2000/4898\">Almassora-B</a>, <a href=\"https://www.365chess.com/tournaments/Alushta_2000/4899\">Alushta</a>, <a href=\"https://www.365chess.com/tournaments/Ambelokipi_op_22th_2000/4900\">Ambelokipi op 22th</a>, <a href=\"https://www.365chess.com/tournaments/Ambelokipi_op_25th_2000/4901\">Ambelokipi op 25th</a>, <a href=\"https://www.365chess.com/tournaments/Andorra_m_5\\'_2000/4902\">Andorra m 5\\'</a>, <a href=\"https://www.365chess.com/tournaments/Andorra_sim_2000/4903\">Andorra sim</a>, <a class=\"pagination\" href=\"tournaments.php?p=1&amp;tname=&amp;year=2000&amp;country=&amp;avgelo=&amp;start=60\">2</a>, <a class=\"pagination\" href=\"tournaments.php?p=1&amp;tname=&amp;year=2000&amp;country=&amp;avgelo=&amp;start=120\">3</a>, <a class=\"pagination\" href=\"tournaments.php?p=1&amp;tname=&amp;year=2000&amp;country=&amp;avgelo=&amp;start=1860\">32</a>, <a class=\"pagination\" href=\"tournaments.php?p=1&amp;tname=&amp;year=2000&amp;country=&amp;avgelo=&amp;start=1920\">33</a>, <a class=\"pagination\" href=\"tournaments.php?p=1&amp;tname=&amp;year=2000&amp;country=&amp;avgelo=&amp;start=1980\">34</a>, <a class=\"pagination\" href=\"tournaments.php?p=1&amp;tname=&amp;year=2000&amp;country=&amp;avgelo=&amp;start=60\">Next</a>, <a href=\"https://www.365chess.com/supporters.php\">\\n<span class=\"title\">Support 365Chess.com</span>\\n<span class=\"content\">The devolpment of this site relies in its member\\'s support. You\\'ll receive some extra and nice benefits and you will be helping to improve this site.</span>\\n<span class=\"lnk\">Become a supporter today!</span>\\n</a>, <a href=\"#\" onclick=\"return false;\">2020 - 2023</a>, <a href=\"/tournaments.php?year=2023\">2023</a>, <a href=\"/tournaments.php?year=2022\">2022</a>, <a href=\"/tournaments.php?year=2021\">2021</a>, <a href=\"/tournaments.php?year=2020\">2020</a>, <a href=\"#\" onclick=\"return false;\">2010 - 2019</a>, <a href=\"/tournaments.php?year=2019\">2019</a>, <a href=\"/tournaments.php?year=2018\">2018</a>, <a href=\"/tournaments.php?year=2017\">2017</a>, <a href=\"/tournaments.php?year=2016\">2016</a>, <a href=\"/tournaments.php?year=2015\">2015</a>, <a href=\"/tournaments.php?year=2014\">2014</a>, <a href=\"/tournaments.php?year=2013\">2013</a>, <a href=\"/tournaments.php?year=2012\">2012</a>, <a href=\"/tournaments.php?year=2011\">2011</a>, <a href=\"/tournaments.php?year=2010\">2010</a>, <a href=\"#\" onclick=\"return false;\">2000 - 2009</a>, <a href=\"/tournaments.php?year=2009\">2009</a>, <a href=\"/tournaments.php?year=2008\">2008</a>, <a href=\"/tournaments.php?year=2007\">2007</a>, <a href=\"/tournaments.php?year=2006\">2006</a>, <a href=\"/tournaments.php?year=2005\">2005</a>, <a href=\"/tournaments.php?year=2004\">2004</a>, <a href=\"/tournaments.php?year=2003\">2003</a>, <a href=\"/tournaments.php?year=2002\">2002</a>, <a href=\"/tournaments.php?year=2001\">2001</a>, <a href=\"/tournaments.php?year=2000\">2000</a>, <a href=\"#\" onclick=\"return false;\">1990 - 1999</a>, <a href=\"/tournaments.php?year=1999\">1999</a>, <a href=\"/tournaments.php?year=1998\">1998</a>, <a href=\"/tournaments.php?year=1997\">1997</a>, <a href=\"/tournaments.php?year=1996\">1996</a>, <a href=\"/tournaments.php?year=1995\">1995</a>, <a href=\"/tournaments.php?year=1994\">1994</a>, <a href=\"/tournaments.php?year=1993\">1993</a>, <a href=\"/tournaments.php?year=1992\">1992</a>, <a href=\"/tournaments.php?year=1991\">1991</a>, <a href=\"/tournaments.php?year=1990\">1990</a>, <a href=\"#\" onclick=\"return false;\">1980 - 1989</a>, <a href=\"/tournaments.php?year=1989\">1989</a>, <a href=\"/tournaments.php?year=1988\">1988</a>, <a href=\"/tournaments.php?year=1987\">1987</a>, <a href=\"/tournaments.php?year=1986\">1986</a>, <a href=\"/tournaments.php?year=1985\">1985</a>, <a href=\"/tournaments.php?year=1984\">1984</a>, <a href=\"/tournaments.php?year=1983\">1983</a>, <a href=\"/tournaments.php?year=1982\">1982</a>, <a href=\"/tournaments.php?year=1981\">1981</a>, <a href=\"/tournaments.php?year=1980\">1980</a>, <a href=\"#\" onclick=\"return false;\">1970 - 1979</a>, <a href=\"/tournaments.php?year=1979\">1979</a>, <a href=\"/tournaments.php?year=1978\">1978</a>, <a href=\"/tournaments.php?year=1977\">1977</a>, <a href=\"/tournaments.php?year=1976\">1976</a>, <a href=\"/tournaments.php?year=1975\">1975</a>, <a href=\"/tournaments.php?year=1974\">1974</a>, <a href=\"/tournaments.php?year=1973\">1973</a>, <a href=\"/tournaments.php?year=1972\">1972</a>, <a href=\"/tournaments.php?year=1971\">1971</a>, <a href=\"/tournaments.php?year=1970\">1970</a>, <a href=\"#\" onclick=\"return false;\">1960 - 1969</a>, <a href=\"/tournaments.php?year=1969\">1969</a>, <a href=\"/tournaments.php?year=1968\">1968</a>, <a href=\"/tournaments.php?year=1967\">1967</a>, <a href=\"/tournaments.php?year=1966\">1966</a>, <a href=\"/tournaments.php?year=1965\">1965</a>, <a href=\"/tournaments.php?year=1964\">1964</a>, <a href=\"/tournaments.php?year=1963\">1963</a>, <a href=\"/tournaments.php?year=1962\">1962</a>, <a href=\"/tournaments.php?year=1961\">1961</a>, <a href=\"/tournaments.php?year=1960\">1960</a>, <a href=\"#\" onclick=\"return false;\">1950 - 1959</a>, <a href=\"/tournaments.php?year=1959\">1959</a>, <a href=\"/tournaments.php?year=1958\">1958</a>, <a href=\"/tournaments.php?year=1957\">1957</a>, <a href=\"/tournaments.php?year=1956\">1956</a>, <a href=\"/tournaments.php?year=1955\">1955</a>, <a href=\"/tournaments.php?year=1954\">1954</a>, <a href=\"/tournaments.php?year=1953\">1953</a>, <a href=\"/tournaments.php?year=1952\">1952</a>, <a href=\"/tournaments.php?year=1951\">1951</a>, <a href=\"/tournaments.php?year=1950\">1950</a>, <a href=\"#\" onclick=\"return false;\">1940 - 1949</a>, <a href=\"/tournaments.php?year=1949\">1949</a>, <a href=\"/tournaments.php?year=1948\">1948</a>, <a href=\"/tournaments.php?year=1947\">1947</a>, <a href=\"/tournaments.php?year=1946\">1946</a>, <a href=\"/tournaments.php?year=1945\">1945</a>, <a href=\"/tournaments.php?year=1944\">1944</a>, <a href=\"/tournaments.php?year=1943\">1943</a>, <a href=\"/tournaments.php?year=1942\">1942</a>, <a href=\"/tournaments.php?year=1941\">1941</a>, <a href=\"/tournaments.php?year=1940\">1940</a>, <a href=\"#\" onclick=\"return false;\">1930 - 1939</a>, <a href=\"/tournaments.php?year=1939\">1939</a>, <a href=\"/tournaments.php?year=1938\">1938</a>, <a href=\"/tournaments.php?year=1937\">1937</a>, <a href=\"/tournaments.php?year=1936\">1936</a>, <a href=\"/tournaments.php?year=1935\">1935</a>, <a href=\"/tournaments.php?year=1934\">1934</a>, <a href=\"/tournaments.php?year=1933\">1933</a>, <a href=\"/tournaments.php?year=1932\">1932</a>, <a href=\"/tournaments.php?year=1931\">1931</a>, <a href=\"/tournaments.php?year=1930\">1930</a>, <a href=\"#\" onclick=\"return false;\">1920 - 1929</a>, <a href=\"/tournaments.php?year=1929\">1929</a>, <a href=\"/tournaments.php?year=1928\">1928</a>, <a href=\"/tournaments.php?year=1927\">1927</a>, <a href=\"/tournaments.php?year=1926\">1926</a>, <a href=\"/tournaments.php?year=1925\">1925</a>, <a href=\"/tournaments.php?year=1924\">1924</a>, <a href=\"/tournaments.php?year=1923\">1923</a>, <a href=\"/tournaments.php?year=1922\">1922</a>, <a href=\"/tournaments.php?year=1921\">1921</a>, <a href=\"/tournaments.php?year=1920\">1920</a>, <a href=\"#\" onclick=\"return false;\">1910 - 1919</a>, <a href=\"/tournaments.php?year=1919\">1919</a>, <a href=\"/tournaments.php?year=1918\">1918</a>, <a href=\"/tournaments.php?year=1917\">1917</a>, <a href=\"/tournaments.php?year=1916\">1916</a>, <a href=\"/tournaments.php?year=1915\">1915</a>, <a href=\"/tournaments.php?year=1914\">1914</a>, <a href=\"/tournaments.php?year=1913\">1913</a>, <a href=\"/tournaments.php?year=1912\">1912</a>, <a href=\"/tournaments.php?year=1911\">1911</a>, <a href=\"/tournaments.php?year=1910\">1910</a>, <a href=\"#\" onclick=\"return false;\">1900 - 1909</a>, <a href=\"/tournaments.php?year=1909\">1909</a>, <a href=\"/tournaments.php?year=1908\">1908</a>, <a href=\"/tournaments.php?year=1907\">1907</a>, <a href=\"/tournaments.php?year=1906\">1906</a>, <a href=\"/tournaments.php?year=1905\">1905</a>, <a href=\"/tournaments.php?year=1904\">1904</a>, <a href=\"/tournaments.php?year=1903\">1903</a>, <a href=\"/tournaments.php?year=1902\">1902</a>, <a href=\"/tournaments.php?year=1901\">1901</a>, <a href=\"/tournaments.php?year=1900\">1900</a>, <a href=\"#\" onclick=\"return false;\">1890 - 1899</a>, <a href=\"/tournaments.php?year=1899\">1899</a>, <a href=\"/tournaments.php?year=1898\">1898</a>, <a href=\"/tournaments.php?year=1897\">1897</a>, <a href=\"/tournaments.php?year=1896\">1896</a>, <a href=\"/tournaments.php?year=1895\">1895</a>, <a href=\"/tournaments.php?year=1894\">1894</a>, <a href=\"/tournaments.php?year=1893\">1893</a>, <a href=\"/tournaments.php?year=1892\">1892</a>, <a href=\"/tournaments.php?year=1891\">1891</a>, <a href=\"/tournaments.php?year=1890\">1890</a>, <a href=\"#\" onclick=\"return false;\">1880 - 1889</a>, <a href=\"/tournaments.php?year=1889\">1889</a>, <a href=\"/tournaments.php?year=1888\">1888</a>, <a href=\"/tournaments.php?year=1887\">1887</a>, <a href=\"/tournaments.php?year=1886\">1886</a>, <a href=\"/tournaments.php?year=1885\">1885</a>, <a href=\"/tournaments.php?year=1884\">1884</a>, <a href=\"/tournaments.php?year=1883\">1883</a>, <a href=\"/tournaments.php?year=1882\">1882</a>, <a href=\"/tournaments.php?year=1881\">1881</a>, <a href=\"/tournaments.php?year=1880\">1880</a>, <a href=\"#\" onclick=\"return false;\">1870 - 1879</a>, <a href=\"/tournaments.php?year=1879\">1879</a>, <a href=\"/tournaments.php?year=1878\">1878</a>, <a href=\"/tournaments.php?year=1877\">1877</a>, <a href=\"/tournaments.php?year=1876\">1876</a>, <a href=\"/tournaments.php?year=1875\">1875</a>, <a href=\"/tournaments.php?year=1874\">1874</a>, <a href=\"/tournaments.php?year=1873\">1873</a>, <a href=\"/tournaments.php?year=1872\">1872</a>, <a href=\"/tournaments.php?year=1871\">1871</a>, <a href=\"/tournaments.php?year=1870\">1870</a>, <a href=\"#\" onclick=\"return false;\">1860 - 1869</a>, <a href=\"/tournaments.php?year=1869\">1869</a>, <a href=\"/tournaments.php?year=1868\">1868</a>, <a href=\"/tournaments.php?year=1867\">1867</a>, <a href=\"/tournaments.php?year=1866\">1866</a>, <a href=\"/tournaments.php?year=1865\">1865</a>, <a href=\"/tournaments.php?year=1864\">1864</a>, <a href=\"/tournaments.php?year=1863\">1863</a>, <a href=\"/tournaments.php?year=1862\">1862</a>, <a href=\"/tournaments.php?year=1861\">1861</a>, <a href=\"/tournaments.php?year=1860\">1860</a>, <a href=\"#\" onclick=\"return false;\">1850 - 1859</a>, <a href=\"/tournaments.php?year=1859\">1859</a>, <a href=\"/tournaments.php?year=1858\">1858</a>, <a href=\"/tournaments.php?year=1857\">1857</a>, <a href=\"/tournaments.php?year=1856\">1856</a>, <a href=\"/tournaments.php?year=1855\">1855</a>, <a href=\"/tournaments.php?year=1854\">1854</a>, <a href=\"/tournaments.php?year=1853\">1853</a>, <a href=\"/tournaments.php?year=1852\">1852</a>, <a href=\"/tournaments.php?year=1851\">1851</a>, <a href=\"/tournaments.php?year=1850\">1850</a>, <a href=\"#\" onclick=\"return false;\">1840 - 1849</a>, <a href=\"/tournaments.php?year=1849\">1849</a>, <a href=\"/tournaments.php?year=1848\">1848</a>, <a href=\"/tournaments.php?year=1847\">1847</a>, <a href=\"/tournaments.php?year=1846\">1846</a>, <a href=\"/tournaments.php?year=1845\">1845</a>, <a href=\"/tournaments.php?year=1844\">1844</a>, <a href=\"/tournaments.php?year=1843\">1843</a>, <a href=\"/tournaments.php?year=1842\">1842</a>, <a href=\"/tournaments.php?year=1841\">1841</a>, <a href=\"/tournaments.php?year=1840\">1840</a>, <a href=\"#\" onclick=\"return false;\">1830 - 1839</a>, <a href=\"/tournaments.php?year=1839\">1839</a>, <a href=\"/tournaments.php?year=1838\">1838</a>, <a href=\"/tournaments.php?year=1837\">1837</a>, <a href=\"/tournaments.php?year=1836\">1836</a>, <a href=\"/tournaments.php?year=1835\">1835</a>, <a href=\"/tournaments.php?year=1834\">1834</a>, <a href=\"/tournaments.php?year=1831\">1831</a>, <a href=\"/tournaments.php?year=1830\">1830</a>, <a href=\"#\" onclick=\"return false;\">1820 - 1829</a>, <a href=\"/tournaments.php?year=1826\">1826</a>, <a href=\"/tournaments.php?year=1825\">1825</a>, <a href=\"/tournaments.php?year=1822\">1822</a>, <a href=\"/tournaments.php?year=1821\">1821</a>, <a href=\"/tournaments.php?year=1820\">1820</a>, <a href=\"#\" onclick=\"return false;\">1810 - 1819</a>, <a href=\"/tournaments.php?year=1819\">1819</a>, <a href=\"/tournaments.php?year=1818\">1818</a>, <a href=\"/tournaments.php?year=1817\">1817</a>, <a href=\"/tournaments.php?year=1816\">1816</a>, <a href=\"/tournaments.php?year=1815\">1815</a>, <a href=\"/tournaments.php?year=1813\">1813</a>, <a href=\"/tournaments.php?year=1810\">1810</a>, <a href=\"#\" onclick=\"return false;\">1800 - 1809</a>, <a href=\"/tournaments.php?year=1809\">1809</a>, <a href=\"/tournaments.php?year=1804\">1804</a>, <a href=\"/tournaments.php?year=1802\">1802</a>, <a href=\"https://www.365chess.com/\">Home</a>, <a href=\"https://www.365chess.com/chess-games.php\">Chess Games</a>, <a href=\"https://www.365chess.com/search_position.php\">Search Game Position</a>, <a href=\"https://www.365chess.com/tournaments.php\">Chess Tournaments</a>, <a href=\"https://www.365chess.com/opening.php\">Chess Opening Explorer</a>, <a href=\"https://www.365chess.com/eco.php\">ECO Codes</a>, <a href=\"https://www.365chess.com/view/shop/\">Courses</a>, <a href=\"https://www.365chess.com/opening_training.php?pcolor=0&amp;master=0&amp;smeco=0&amp;topening=0\">Openings Trainer</a>, <a href=\"https://www.365chess.com/play_computer_online.php\">Play Computer</a>, <a href=\"https://www.365chess.com/puzzles.php\">Chess Puzzles and Tactics</a>, <a href=\"https://www.365chess.com/search-endgames.php\">Search Endgames</a>, <a href=\"https://www.365chess.com/endgame_training.php\">Endgames Training</a>, <a href=\"https://www.365chess.com/top-chess-players.php\">Players by rating</a>, <a href=\"https://www.365chess.com/women-top-chess-players.php\">Women Players by rating</a>, <a href=\"https://www.365chess.com/top-chess-players-games.php\">Players by number of games</a>, <a href=\"https://www.365chess.com/players.php\">Chess players list</a>, <a href=\"https://www.365chess.com/analysis_board.php\">Analysis Board</a>, <a href=\"https://www.365chess.com/board_editor.php\">Board Editor</a>, <a href=\"https://twitter.com/365chess\" rel=\"noopener\" target=\"_blank\"><img alt=\"Twitter\" loading=\"lazy\" src=\"https://www.365chess.com/images3/xlogo-twitter.png.pagespeed.ic.lDsyZwqfpm.png\" style=\"height: 24px;width: 24px;\"/> @365Chess</a>, <a href=\"https://www.365chess.com/view/terms-of-service/\">Terms of Service</a>, <a href=\"https://www.365chess.com/view/privacy-policy/\">Privacy Policy</a>, <a href=\"https://www.365chess.com/faq.php\">F.A.Q.</a>, <a href=\"https://www.365chess.com/contactUs.php\">Contact Us</a>, <a href=\"https://www.365chess.com/banners.php\">Widgets and Banners</a>, <a href=\"https://www.365chess.com/view/\">Blog</a>, <a href=\"https://www.facebook.com/365Chess/\" rel=\"noopener\" target=\"_blank\"><img alt=\"Facebook\" loading=\"lazy\" src=\"https://www.365chess.com/images/xfacebook.png.pagespeed.ic.jcTQTBayBX.png\" style=\"height: 24px;width: 24px;\"/> Facebook</a>]'"
            ],
            "application/vnd.google.colaboratory.intrinsic+json": {
              "type": "string"
            }
          },
          "metadata": {},
          "execution_count": 43
        }
      ]
    },
    {
      "cell_type": "code",
      "source": [
        "var2_string = str(var2)"
      ],
      "metadata": {
        "id": "qZMOGzEqzG8w"
      },
      "execution_count": null,
      "outputs": []
    },
    {
      "cell_type": "code",
      "source": [
        "[var2_string.split(',')]"
      ],
      "metadata": {
        "colab": {
          "base_uri": "https://localhost:8080/"
        },
        "id": "Y-FhGaCjybr-",
        "outputId": "7d60d013-825f-4c55-db64-f7277ee08ec5"
      },
      "execution_count": null,
      "outputs": [
        {
          "output_type": "execute_result",
          "data": {
            "text/plain": [
              "[['[<a href=\"#\" id=\"ham\"></a>',\n",
              "  ' <a href=\"https://www.365chess.com/\" title=\"Chess Games Database\">365Chess.com</a>',\n",
              "  ' <a href=\"https://www.365chess.com/forgot_password.php\">Forgot your password?</a>',\n",
              "  ' <a href=\"https://www.365chess.com/signup.php\">Sign up</a>',\n",
              "  ' <a href=\"https://www.365chess.com/\" title=\"365Chess Home\">Home</a>',\n",
              "  ' <a href=\"https://www.365chess.com/opening.php\" title=\"Chess Opening Explorer\">Opening Explorer</a>',\n",
              "  ' <a href=\"https://www.365chess.com/view/shop/\" title=\"Courses\">Courses</a>',\n",
              "  ' <a class=\"arrow_menu current\" href=\"javascript:void(0);\" title=\"Search\">Search</a>',\n",
              "  ' <a href=\"https://www.365chess.com/search_position.php\" title=\"Game Position\">Game Position</a>',\n",
              "  ' <a href=\"https://www.365chess.com/chess-games.php\" title=\"Chess Games\">Chess Games</a>',\n",
              "  ' <a class=\"current\" href=\"https://www.365chess.com/tournaments.php\" title=\"Chess Tournaments\">Chess Tournaments</a>',\n",
              "  ' <a href=\"https://www.365chess.com/search-endgames.php\" title=\"Endgames\">Endgames</a>',\n",
              "  ' <a class=\"arrow_menu\" href=\"javascript:void(0);\" title=\"Search\">Training</a>',\n",
              "  ' <a href=\"https://www.365chess.com/opening_training.php?pcolor=0&amp;master=0&amp;smeco=0&amp;topening=0\" title=\"Openings Trainer\">Openings Trainer</a>',\n",
              "  ' <a href=\"https://www.365chess.com/play_computer_online.php\" title=\"Play vs Computer\">Play vs Computer</a>',\n",
              "  ' <a href=\"https://www.365chess.com/puzzles.php\" title=\"Chess Puzzles\">Puzzles</a>',\n",
              "  ' <a href=\"https://www.365chess.com/endgame_training.php\" title=\"Endgames Training\">Endgames</a>',\n",
              "  ' <a href=\"https://www.365chess.com/eco.php\" title=\"ECO Codes\">ECO Codes</a>',\n",
              "  ' <a class=\"arrow_menu\" href=\"javascript:void(0);\" title=\"Chess Resources\">Resources</a>',\n",
              "  ' <a href=\"https://www.365chess.com/analysis_board.php\" title=\"Analysis board\">Analysis Board</a>',\n",
              "  ' <a href=\"https://www.365chess.com/board_editor.php\" title=\"Board Editor\">Board Editor</a>',\n",
              "  ' <a class=\"arrow_menu\" href=\"javascript:void(0);\" title=\"Help\">Help</a>',\n",
              "  ' <a href=\"https://www.365chess.com/faq.php\" title=\"F.A.Q.\">F.A.Q.</a>',\n",
              "  ' <a href=\"https://www.365chess.com/contactUs.php\" title=\"Contact Us\">Contact Us</a>',\n",
              "  ' <a class=\"arrow_menu\" href=\"https://www.365chess.com/u/\" title=\"My Account\">My Account</a>',\n",
              "  ' <a href=\"https://www.365chess.com/signin.php?login_page=mygames\" title=\"My Games\">My Games</a>',\n",
              "  ' <a href=\"https://www.365chess.com/signin.php?login_page=bookmarks_games\" title=\"Bookmark Chess Games\">Bookmarks</a>',\n",
              "  ' <a class=\"block_login\" href=\"#\">Login</a>',\n",
              "  ' <a href=\"https://www.365chess.com/tournaments/AUT-chT2M_0001_2000/2929\">AUT-chT2M 0001</a>',\n",
              "  ' <a href=\"https://www.365chess.com/tournaments/AUT-chT2O_0001_2000/2930\">AUT-chT2O 0001</a>',\n",
              "  ' <a href=\"https://www.365chess.com/tournaments/AUT-chT2S_0001_2000/2931\">AUT-chT2S 0001</a>',\n",
              "  ' <a href=\"https://www.365chess.com/tournaments/AUT-chT2W_0001_2000/2932\">AUT-chT2W 0001</a>',\n",
              "  ' <a href=\"https://www.365chess.com/tournaments/Asturias-chT40_Primera_A_2000/2933\">Asturias-chT40 Primera A</a>',\n",
              "  ' <a href=\"https://www.365chess.com/tournaments/Asturias-chT40_Primera_B_2000/2934\">Asturias-chT40 Primera B</a>',\n",
              "  ' <a href=\"https://www.365chess.com/tournaments/BL2_South_0001_(Women)_2000/2935\">BL2 South 0001 (Women)</a>',\n",
              "  ' <a href=\"https://www.365chess.com/tournaments/BL2_West_0001_(Women)_2000/2936\">BL2 West 0001 (Women)</a>',\n",
              "  ' <a href=\"https://www.365chess.com/tournaments/BL2-E_0001_(Women)_2000/2937\">BL2-E 0001 (Women)</a>',\n",
              "  ' <a href=\"https://www.365chess.com/tournaments/CZE-chT2a_0001_2000/2938\">CZE-chT2a 0001</a>',\n",
              "  ' <a href=\"https://www.365chess.com/tournaments/CZE-chT2b_0001_2000/2939\">CZE-chT2b 0001</a>',\n",
              "  ' <a href=\"https://www.365chess.com/tournaments/CZE-chTJ_0001_2000/2940\">CZE-chTJ 0001</a>',\n",
              "  ' <a href=\"https://www.365chess.com/tournaments/CZE-chTV_0001_2000/2941\">CZE-chTV 0001</a>',\n",
              "  ' <a href=\"https://www.365chess.com/tournaments/DEN-chT_0001_2000/2942\">DEN-chT 0001</a>',\n",
              "  ' <a href=\"https://www.365chess.com/tournaments/FRA-chT_0001_U18_2000/2943\">FRA-chT 0001 U18</a>',\n",
              "  ' <a href=\"https://www.365chess.com/tournaments/Finistere-chT_0001_2000/2944\">Finistere-chT 0001</a>',\n",
              "  ' <a href=\"https://www.365chess.com/tournaments/Geelong_op_2000/2945\">Geelong op</a>',\n",
              "  ' <a href=\"https://www.365chess.com/tournaments/JBLN_Ost_0001_2000/2946\">JBLN Ost 0001</a>',\n",
              "  ' <a href=\"https://www.365chess.com/tournaments/JBLN_West_0001_2000/2947\">JBLN West 0001</a>',\n",
              "  ' <a href=\"https://www.365chess.com/tournaments/Landesliga_Nord_0001_2000/2948\">Landesliga Nord 0001</a>',\n",
              "  ' <a href=\"https://www.365chess.com/tournaments/Landesliga_Sued_0001_2000/2949\">Landesliga Sued 0001</a>',\n",
              "  ' <a href=\"https://www.365chess.com/tournaments/NOR-chT_0001_2000/2950\">NOR-chT 0001</a>',\n",
              "  ' <a href=\"https://www.365chess.com/tournaments/Regionalliga_NO_0001_2000/2951\">Regionalliga NO 0001</a>',\n",
              "  ' <a href=\"https://www.365chess.com/tournaments/Regionalliga_NW_0001_2000/2952\">Regionalliga NW 0001</a>',\n",
              "  ' <a href=\"https://www.365chess.com/tournaments/Regionalliga_SO_0001_2000/2953\">Regionalliga SO 0001</a>',\n",
              "  ' <a href=\"https://www.365chess.com/tournaments/Regionalliga_SW_0001_2000/2954\">Regionalliga SW 0001</a>',\n",
              "  ' <a href=\"https://www.365chess.com/tournaments/SVK-chT1E_0001_2000/2955\">SVK-chT1E 0001</a>',\n",
              "  ' <a href=\"https://www.365chess.com/tournaments/SVK-chT1W_0001_2000/2956\">SVK-chT1W 0001</a>',\n",
              "  ' <a href=\"https://www.365chess.com/tournaments/SVK-chT3B_0001_2000/2957\">SVK-chT3B 0001</a>',\n",
              "  ' <a href=\"https://www.365chess.com/tournaments/SVK-chT3C_0001_2000/2958\">SVK-chT3C 0001</a>',\n",
              "  ' <a href=\"https://www.365chess.com/tournaments/SVK-chT3D_0001_2000/2959\">SVK-chT3D 0001</a>',\n",
              "  ' <a href=\"https://www.365chess.com/tournaments/ARG-ch_(Women)_2000/4875\">ARG-ch (Women)</a>',\n",
              "  ' <a href=\"https://www.365chess.com/tournaments/ARG-ch_U14_2000/4876\">ARG-ch U14</a>',\n",
              "  ' <a href=\"https://www.365chess.com/tournaments/ARG-chT_2000/4877\">ARG-chT</a>',\n",
              "  ' <a href=\"https://www.365chess.com/tournaments/AUT-ch_U16_2000/4878\">AUT-ch U16</a>',\n",
              "  ' <a href=\"https://www.365chess.com/tournaments/AUT-ch_U16_Girls_2000/4879\">AUT-ch U16 Girls</a>',\n",
              "  ' <a href=\"https://www.365chess.com/tournaments/AUT-ch_U18_2000/4880\">AUT-ch U18</a>',\n",
              "  ' <a href=\"https://www.365chess.com/tournaments/AUT-ch_U18_Girls_2000/4881\">AUT-ch U18 Girls</a>',\n",
              "  ' <a href=\"https://www.365chess.com/tournaments/AZE-ch_2000/4882\">AZE-ch</a>',\n",
              "  ' <a href=\"https://www.365chess.com/tournaments/AZE-ch_U14_2000/4883\">AZE-ch U14</a>',\n",
              "  ' <a href=\"https://www.365chess.com/tournaments/AZE-ch_U16_2000/4884\">AZE-ch U16</a>',\n",
              "  ' <a href=\"https://www.365chess.com/tournaments/AZE-ch_U18_2000/4885\">AZE-ch U18</a>',\n",
              "  ' <a href=\"https://www.365chess.com/tournaments/AZE-ch_U20_2000/4886\">AZE-ch U20</a>',\n",
              "  ' <a href=\"https://www.365chess.com/tournaments/AZE-ch_U20_Girls_2000/4887\">AZE-ch U20 Girls</a>',\n",
              "  ' <a href=\"https://www.365chess.com/tournaments/AZE-chT_2000/4888\">AZE-chT</a>',\n",
              "  ' <a href=\"https://www.365chess.com/tournaments/AZE-chT_rap_2000/4889\">AZE-chT rap</a>',\n",
              "  ' <a href=\"https://www.365chess.com/tournaments/Aarhus-ch_Basis2_2000/4890\">Aarhus-ch Basis2</a>',\n",
              "  ' <a href=\"https://www.365chess.com/tournaments/Aarhus-ch_Basis5_2000/4891\">Aarhus-ch Basis5</a>',\n",
              "  ' <a href=\"https://www.365chess.com/tournaments/Aarhus-ch_Basis6_2000/4892\">Aarhus-ch Basis6</a>',\n",
              "  ' <a href=\"https://www.365chess.com/tournaments/Aarhus-ch_Basis7_2000/4893\">Aarhus-ch Basis7</a>',\n",
              "  ' <a href=\"https://www.365chess.com/tournaments/Aarhus-chB_2000/4894\">Aarhus-chB</a>',\n",
              "  ' <a href=\"https://www.365chess.com/tournaments/Agneaux_St_Lo_op_4th_2000/4895\">Agneaux St Lo op 4th</a>',\n",
              "  ' <a href=\"https://www.365chess.com/tournaments/Albert_Boxer_Classic_op_2000/4896\">Albert Boxer Classic op</a>',\n",
              "  ' <a href=\"https://www.365chess.com/tournaments/Almassora-A_2000/4897\">Almassora-A</a>',\n",
              "  ' <a href=\"https://www.365chess.com/tournaments/Almassora-B_2000/4898\">Almassora-B</a>',\n",
              "  ' <a href=\"https://www.365chess.com/tournaments/Alushta_2000/4899\">Alushta</a>',\n",
              "  ' <a href=\"https://www.365chess.com/tournaments/Ambelokipi_op_22th_2000/4900\">Ambelokipi op 22th</a>',\n",
              "  ' <a href=\"https://www.365chess.com/tournaments/Ambelokipi_op_25th_2000/4901\">Ambelokipi op 25th</a>',\n",
              "  ' <a href=\"https://www.365chess.com/tournaments/Andorra_m_5\\'_2000/4902\">Andorra m 5\\'</a>',\n",
              "  ' <a href=\"https://www.365chess.com/tournaments/Andorra_sim_2000/4903\">Andorra sim</a>',\n",
              "  ' <a class=\"pagination\" href=\"tournaments.php?p=1&amp;tname=&amp;year=2000&amp;country=&amp;avgelo=&amp;start=60\">2</a>',\n",
              "  ' <a class=\"pagination\" href=\"tournaments.php?p=1&amp;tname=&amp;year=2000&amp;country=&amp;avgelo=&amp;start=120\">3</a>',\n",
              "  ' <a class=\"pagination\" href=\"tournaments.php?p=1&amp;tname=&amp;year=2000&amp;country=&amp;avgelo=&amp;start=1860\">32</a>',\n",
              "  ' <a class=\"pagination\" href=\"tournaments.php?p=1&amp;tname=&amp;year=2000&amp;country=&amp;avgelo=&amp;start=1920\">33</a>',\n",
              "  ' <a class=\"pagination\" href=\"tournaments.php?p=1&amp;tname=&amp;year=2000&amp;country=&amp;avgelo=&amp;start=1980\">34</a>',\n",
              "  ' <a class=\"pagination\" href=\"tournaments.php?p=1&amp;tname=&amp;year=2000&amp;country=&amp;avgelo=&amp;start=60\">Next</a>',\n",
              "  ' <a href=\"https://www.365chess.com/supporters.php\">\\n<span class=\"title\">Support 365Chess.com</span>\\n<span class=\"content\">The devolpment of this site relies in its member\\'s support. You\\'ll receive some extra and nice benefits and you will be helping to improve this site.</span>\\n<span class=\"lnk\">Become a supporter today!</span>\\n</a>',\n",
              "  ' <a href=\"#\" onclick=\"return false;\">2020 - 2023</a>',\n",
              "  ' <a href=\"/tournaments.php?year=2023\">2023</a>',\n",
              "  ' <a href=\"/tournaments.php?year=2022\">2022</a>',\n",
              "  ' <a href=\"/tournaments.php?year=2021\">2021</a>',\n",
              "  ' <a href=\"/tournaments.php?year=2020\">2020</a>',\n",
              "  ' <a href=\"#\" onclick=\"return false;\">2010 - 2019</a>',\n",
              "  ' <a href=\"/tournaments.php?year=2019\">2019</a>',\n",
              "  ' <a href=\"/tournaments.php?year=2018\">2018</a>',\n",
              "  ' <a href=\"/tournaments.php?year=2017\">2017</a>',\n",
              "  ' <a href=\"/tournaments.php?year=2016\">2016</a>',\n",
              "  ' <a href=\"/tournaments.php?year=2015\">2015</a>',\n",
              "  ' <a href=\"/tournaments.php?year=2014\">2014</a>',\n",
              "  ' <a href=\"/tournaments.php?year=2013\">2013</a>',\n",
              "  ' <a href=\"/tournaments.php?year=2012\">2012</a>',\n",
              "  ' <a href=\"/tournaments.php?year=2011\">2011</a>',\n",
              "  ' <a href=\"/tournaments.php?year=2010\">2010</a>',\n",
              "  ' <a href=\"#\" onclick=\"return false;\">2000 - 2009</a>',\n",
              "  ' <a href=\"/tournaments.php?year=2009\">2009</a>',\n",
              "  ' <a href=\"/tournaments.php?year=2008\">2008</a>',\n",
              "  ' <a href=\"/tournaments.php?year=2007\">2007</a>',\n",
              "  ' <a href=\"/tournaments.php?year=2006\">2006</a>',\n",
              "  ' <a href=\"/tournaments.php?year=2005\">2005</a>',\n",
              "  ' <a href=\"/tournaments.php?year=2004\">2004</a>',\n",
              "  ' <a href=\"/tournaments.php?year=2003\">2003</a>',\n",
              "  ' <a href=\"/tournaments.php?year=2002\">2002</a>',\n",
              "  ' <a href=\"/tournaments.php?year=2001\">2001</a>',\n",
              "  ' <a href=\"/tournaments.php?year=2000\">2000</a>',\n",
              "  ' <a href=\"#\" onclick=\"return false;\">1990 - 1999</a>',\n",
              "  ' <a href=\"/tournaments.php?year=1999\">1999</a>',\n",
              "  ' <a href=\"/tournaments.php?year=1998\">1998</a>',\n",
              "  ' <a href=\"/tournaments.php?year=1997\">1997</a>',\n",
              "  ' <a href=\"/tournaments.php?year=1996\">1996</a>',\n",
              "  ' <a href=\"/tournaments.php?year=1995\">1995</a>',\n",
              "  ' <a href=\"/tournaments.php?year=1994\">1994</a>',\n",
              "  ' <a href=\"/tournaments.php?year=1993\">1993</a>',\n",
              "  ' <a href=\"/tournaments.php?year=1992\">1992</a>',\n",
              "  ' <a href=\"/tournaments.php?year=1991\">1991</a>',\n",
              "  ' <a href=\"/tournaments.php?year=1990\">1990</a>',\n",
              "  ' <a href=\"#\" onclick=\"return false;\">1980 - 1989</a>',\n",
              "  ' <a href=\"/tournaments.php?year=1989\">1989</a>',\n",
              "  ' <a href=\"/tournaments.php?year=1988\">1988</a>',\n",
              "  ' <a href=\"/tournaments.php?year=1987\">1987</a>',\n",
              "  ' <a href=\"/tournaments.php?year=1986\">1986</a>',\n",
              "  ' <a href=\"/tournaments.php?year=1985\">1985</a>',\n",
              "  ' <a href=\"/tournaments.php?year=1984\">1984</a>',\n",
              "  ' <a href=\"/tournaments.php?year=1983\">1983</a>',\n",
              "  ' <a href=\"/tournaments.php?year=1982\">1982</a>',\n",
              "  ' <a href=\"/tournaments.php?year=1981\">1981</a>',\n",
              "  ' <a href=\"/tournaments.php?year=1980\">1980</a>',\n",
              "  ' <a href=\"#\" onclick=\"return false;\">1970 - 1979</a>',\n",
              "  ' <a href=\"/tournaments.php?year=1979\">1979</a>',\n",
              "  ' <a href=\"/tournaments.php?year=1978\">1978</a>',\n",
              "  ' <a href=\"/tournaments.php?year=1977\">1977</a>',\n",
              "  ' <a href=\"/tournaments.php?year=1976\">1976</a>',\n",
              "  ' <a href=\"/tournaments.php?year=1975\">1975</a>',\n",
              "  ' <a href=\"/tournaments.php?year=1974\">1974</a>',\n",
              "  ' <a href=\"/tournaments.php?year=1973\">1973</a>',\n",
              "  ' <a href=\"/tournaments.php?year=1972\">1972</a>',\n",
              "  ' <a href=\"/tournaments.php?year=1971\">1971</a>',\n",
              "  ' <a href=\"/tournaments.php?year=1970\">1970</a>',\n",
              "  ' <a href=\"#\" onclick=\"return false;\">1960 - 1969</a>',\n",
              "  ' <a href=\"/tournaments.php?year=1969\">1969</a>',\n",
              "  ' <a href=\"/tournaments.php?year=1968\">1968</a>',\n",
              "  ' <a href=\"/tournaments.php?year=1967\">1967</a>',\n",
              "  ' <a href=\"/tournaments.php?year=1966\">1966</a>',\n",
              "  ' <a href=\"/tournaments.php?year=1965\">1965</a>',\n",
              "  ' <a href=\"/tournaments.php?year=1964\">1964</a>',\n",
              "  ' <a href=\"/tournaments.php?year=1963\">1963</a>',\n",
              "  ' <a href=\"/tournaments.php?year=1962\">1962</a>',\n",
              "  ' <a href=\"/tournaments.php?year=1961\">1961</a>',\n",
              "  ' <a href=\"/tournaments.php?year=1960\">1960</a>',\n",
              "  ' <a href=\"#\" onclick=\"return false;\">1950 - 1959</a>',\n",
              "  ' <a href=\"/tournaments.php?year=1959\">1959</a>',\n",
              "  ' <a href=\"/tournaments.php?year=1958\">1958</a>',\n",
              "  ' <a href=\"/tournaments.php?year=1957\">1957</a>',\n",
              "  ' <a href=\"/tournaments.php?year=1956\">1956</a>',\n",
              "  ' <a href=\"/tournaments.php?year=1955\">1955</a>',\n",
              "  ' <a href=\"/tournaments.php?year=1954\">1954</a>',\n",
              "  ' <a href=\"/tournaments.php?year=1953\">1953</a>',\n",
              "  ' <a href=\"/tournaments.php?year=1952\">1952</a>',\n",
              "  ' <a href=\"/tournaments.php?year=1951\">1951</a>',\n",
              "  ' <a href=\"/tournaments.php?year=1950\">1950</a>',\n",
              "  ' <a href=\"#\" onclick=\"return false;\">1940 - 1949</a>',\n",
              "  ' <a href=\"/tournaments.php?year=1949\">1949</a>',\n",
              "  ' <a href=\"/tournaments.php?year=1948\">1948</a>',\n",
              "  ' <a href=\"/tournaments.php?year=1947\">1947</a>',\n",
              "  ' <a href=\"/tournaments.php?year=1946\">1946</a>',\n",
              "  ' <a href=\"/tournaments.php?year=1945\">1945</a>',\n",
              "  ' <a href=\"/tournaments.php?year=1944\">1944</a>',\n",
              "  ' <a href=\"/tournaments.php?year=1943\">1943</a>',\n",
              "  ' <a href=\"/tournaments.php?year=1942\">1942</a>',\n",
              "  ' <a href=\"/tournaments.php?year=1941\">1941</a>',\n",
              "  ' <a href=\"/tournaments.php?year=1940\">1940</a>',\n",
              "  ' <a href=\"#\" onclick=\"return false;\">1930 - 1939</a>',\n",
              "  ' <a href=\"/tournaments.php?year=1939\">1939</a>',\n",
              "  ' <a href=\"/tournaments.php?year=1938\">1938</a>',\n",
              "  ' <a href=\"/tournaments.php?year=1937\">1937</a>',\n",
              "  ' <a href=\"/tournaments.php?year=1936\">1936</a>',\n",
              "  ' <a href=\"/tournaments.php?year=1935\">1935</a>',\n",
              "  ' <a href=\"/tournaments.php?year=1934\">1934</a>',\n",
              "  ' <a href=\"/tournaments.php?year=1933\">1933</a>',\n",
              "  ' <a href=\"/tournaments.php?year=1932\">1932</a>',\n",
              "  ' <a href=\"/tournaments.php?year=1931\">1931</a>',\n",
              "  ' <a href=\"/tournaments.php?year=1930\">1930</a>',\n",
              "  ' <a href=\"#\" onclick=\"return false;\">1920 - 1929</a>',\n",
              "  ' <a href=\"/tournaments.php?year=1929\">1929</a>',\n",
              "  ' <a href=\"/tournaments.php?year=1928\">1928</a>',\n",
              "  ' <a href=\"/tournaments.php?year=1927\">1927</a>',\n",
              "  ' <a href=\"/tournaments.php?year=1926\">1926</a>',\n",
              "  ' <a href=\"/tournaments.php?year=1925\">1925</a>',\n",
              "  ' <a href=\"/tournaments.php?year=1924\">1924</a>',\n",
              "  ' <a href=\"/tournaments.php?year=1923\">1923</a>',\n",
              "  ' <a href=\"/tournaments.php?year=1922\">1922</a>',\n",
              "  ' <a href=\"/tournaments.php?year=1921\">1921</a>',\n",
              "  ' <a href=\"/tournaments.php?year=1920\">1920</a>',\n",
              "  ' <a href=\"#\" onclick=\"return false;\">1910 - 1919</a>',\n",
              "  ' <a href=\"/tournaments.php?year=1919\">1919</a>',\n",
              "  ' <a href=\"/tournaments.php?year=1918\">1918</a>',\n",
              "  ' <a href=\"/tournaments.php?year=1917\">1917</a>',\n",
              "  ' <a href=\"/tournaments.php?year=1916\">1916</a>',\n",
              "  ' <a href=\"/tournaments.php?year=1915\">1915</a>',\n",
              "  ' <a href=\"/tournaments.php?year=1914\">1914</a>',\n",
              "  ' <a href=\"/tournaments.php?year=1913\">1913</a>',\n",
              "  ' <a href=\"/tournaments.php?year=1912\">1912</a>',\n",
              "  ' <a href=\"/tournaments.php?year=1911\">1911</a>',\n",
              "  ' <a href=\"/tournaments.php?year=1910\">1910</a>',\n",
              "  ' <a href=\"#\" onclick=\"return false;\">1900 - 1909</a>',\n",
              "  ' <a href=\"/tournaments.php?year=1909\">1909</a>',\n",
              "  ' <a href=\"/tournaments.php?year=1908\">1908</a>',\n",
              "  ' <a href=\"/tournaments.php?year=1907\">1907</a>',\n",
              "  ' <a href=\"/tournaments.php?year=1906\">1906</a>',\n",
              "  ' <a href=\"/tournaments.php?year=1905\">1905</a>',\n",
              "  ' <a href=\"/tournaments.php?year=1904\">1904</a>',\n",
              "  ' <a href=\"/tournaments.php?year=1903\">1903</a>',\n",
              "  ' <a href=\"/tournaments.php?year=1902\">1902</a>',\n",
              "  ' <a href=\"/tournaments.php?year=1901\">1901</a>',\n",
              "  ' <a href=\"/tournaments.php?year=1900\">1900</a>',\n",
              "  ' <a href=\"#\" onclick=\"return false;\">1890 - 1899</a>',\n",
              "  ' <a href=\"/tournaments.php?year=1899\">1899</a>',\n",
              "  ' <a href=\"/tournaments.php?year=1898\">1898</a>',\n",
              "  ' <a href=\"/tournaments.php?year=1897\">1897</a>',\n",
              "  ' <a href=\"/tournaments.php?year=1896\">1896</a>',\n",
              "  ' <a href=\"/tournaments.php?year=1895\">1895</a>',\n",
              "  ' <a href=\"/tournaments.php?year=1894\">1894</a>',\n",
              "  ' <a href=\"/tournaments.php?year=1893\">1893</a>',\n",
              "  ' <a href=\"/tournaments.php?year=1892\">1892</a>',\n",
              "  ' <a href=\"/tournaments.php?year=1891\">1891</a>',\n",
              "  ' <a href=\"/tournaments.php?year=1890\">1890</a>',\n",
              "  ' <a href=\"#\" onclick=\"return false;\">1880 - 1889</a>',\n",
              "  ' <a href=\"/tournaments.php?year=1889\">1889</a>',\n",
              "  ' <a href=\"/tournaments.php?year=1888\">1888</a>',\n",
              "  ' <a href=\"/tournaments.php?year=1887\">1887</a>',\n",
              "  ' <a href=\"/tournaments.php?year=1886\">1886</a>',\n",
              "  ' <a href=\"/tournaments.php?year=1885\">1885</a>',\n",
              "  ' <a href=\"/tournaments.php?year=1884\">1884</a>',\n",
              "  ' <a href=\"/tournaments.php?year=1883\">1883</a>',\n",
              "  ' <a href=\"/tournaments.php?year=1882\">1882</a>',\n",
              "  ' <a href=\"/tournaments.php?year=1881\">1881</a>',\n",
              "  ' <a href=\"/tournaments.php?year=1880\">1880</a>',\n",
              "  ' <a href=\"#\" onclick=\"return false;\">1870 - 1879</a>',\n",
              "  ' <a href=\"/tournaments.php?year=1879\">1879</a>',\n",
              "  ' <a href=\"/tournaments.php?year=1878\">1878</a>',\n",
              "  ' <a href=\"/tournaments.php?year=1877\">1877</a>',\n",
              "  ' <a href=\"/tournaments.php?year=1876\">1876</a>',\n",
              "  ' <a href=\"/tournaments.php?year=1875\">1875</a>',\n",
              "  ' <a href=\"/tournaments.php?year=1874\">1874</a>',\n",
              "  ' <a href=\"/tournaments.php?year=1873\">1873</a>',\n",
              "  ' <a href=\"/tournaments.php?year=1872\">1872</a>',\n",
              "  ' <a href=\"/tournaments.php?year=1871\">1871</a>',\n",
              "  ' <a href=\"/tournaments.php?year=1870\">1870</a>',\n",
              "  ' <a href=\"#\" onclick=\"return false;\">1860 - 1869</a>',\n",
              "  ' <a href=\"/tournaments.php?year=1869\">1869</a>',\n",
              "  ' <a href=\"/tournaments.php?year=1868\">1868</a>',\n",
              "  ' <a href=\"/tournaments.php?year=1867\">1867</a>',\n",
              "  ' <a href=\"/tournaments.php?year=1866\">1866</a>',\n",
              "  ' <a href=\"/tournaments.php?year=1865\">1865</a>',\n",
              "  ' <a href=\"/tournaments.php?year=1864\">1864</a>',\n",
              "  ' <a href=\"/tournaments.php?year=1863\">1863</a>',\n",
              "  ' <a href=\"/tournaments.php?year=1862\">1862</a>',\n",
              "  ' <a href=\"/tournaments.php?year=1861\">1861</a>',\n",
              "  ' <a href=\"/tournaments.php?year=1860\">1860</a>',\n",
              "  ' <a href=\"#\" onclick=\"return false;\">1850 - 1859</a>',\n",
              "  ' <a href=\"/tournaments.php?year=1859\">1859</a>',\n",
              "  ' <a href=\"/tournaments.php?year=1858\">1858</a>',\n",
              "  ' <a href=\"/tournaments.php?year=1857\">1857</a>',\n",
              "  ' <a href=\"/tournaments.php?year=1856\">1856</a>',\n",
              "  ' <a href=\"/tournaments.php?year=1855\">1855</a>',\n",
              "  ' <a href=\"/tournaments.php?year=1854\">1854</a>',\n",
              "  ' <a href=\"/tournaments.php?year=1853\">1853</a>',\n",
              "  ' <a href=\"/tournaments.php?year=1852\">1852</a>',\n",
              "  ' <a href=\"/tournaments.php?year=1851\">1851</a>',\n",
              "  ' <a href=\"/tournaments.php?year=1850\">1850</a>',\n",
              "  ' <a href=\"#\" onclick=\"return false;\">1840 - 1849</a>',\n",
              "  ' <a href=\"/tournaments.php?year=1849\">1849</a>',\n",
              "  ' <a href=\"/tournaments.php?year=1848\">1848</a>',\n",
              "  ' <a href=\"/tournaments.php?year=1847\">1847</a>',\n",
              "  ' <a href=\"/tournaments.php?year=1846\">1846</a>',\n",
              "  ' <a href=\"/tournaments.php?year=1845\">1845</a>',\n",
              "  ' <a href=\"/tournaments.php?year=1844\">1844</a>',\n",
              "  ' <a href=\"/tournaments.php?year=1843\">1843</a>',\n",
              "  ' <a href=\"/tournaments.php?year=1842\">1842</a>',\n",
              "  ' <a href=\"/tournaments.php?year=1841\">1841</a>',\n",
              "  ' <a href=\"/tournaments.php?year=1840\">1840</a>',\n",
              "  ' <a href=\"#\" onclick=\"return false;\">1830 - 1839</a>',\n",
              "  ' <a href=\"/tournaments.php?year=1839\">1839</a>',\n",
              "  ' <a href=\"/tournaments.php?year=1838\">1838</a>',\n",
              "  ' <a href=\"/tournaments.php?year=1837\">1837</a>',\n",
              "  ' <a href=\"/tournaments.php?year=1836\">1836</a>',\n",
              "  ' <a href=\"/tournaments.php?year=1835\">1835</a>',\n",
              "  ' <a href=\"/tournaments.php?year=1834\">1834</a>',\n",
              "  ' <a href=\"/tournaments.php?year=1831\">1831</a>',\n",
              "  ' <a href=\"/tournaments.php?year=1830\">1830</a>',\n",
              "  ' <a href=\"#\" onclick=\"return false;\">1820 - 1829</a>',\n",
              "  ' <a href=\"/tournaments.php?year=1826\">1826</a>',\n",
              "  ' <a href=\"/tournaments.php?year=1825\">1825</a>',\n",
              "  ' <a href=\"/tournaments.php?year=1822\">1822</a>',\n",
              "  ' <a href=\"/tournaments.php?year=1821\">1821</a>',\n",
              "  ' <a href=\"/tournaments.php?year=1820\">1820</a>',\n",
              "  ' <a href=\"#\" onclick=\"return false;\">1810 - 1819</a>',\n",
              "  ' <a href=\"/tournaments.php?year=1819\">1819</a>',\n",
              "  ' <a href=\"/tournaments.php?year=1818\">1818</a>',\n",
              "  ' <a href=\"/tournaments.php?year=1817\">1817</a>',\n",
              "  ' <a href=\"/tournaments.php?year=1816\">1816</a>',\n",
              "  ' <a href=\"/tournaments.php?year=1815\">1815</a>',\n",
              "  ' <a href=\"/tournaments.php?year=1813\">1813</a>',\n",
              "  ' <a href=\"/tournaments.php?year=1810\">1810</a>',\n",
              "  ' <a href=\"#\" onclick=\"return false;\">1800 - 1809</a>',\n",
              "  ' <a href=\"/tournaments.php?year=1809\">1809</a>',\n",
              "  ' <a href=\"/tournaments.php?year=1804\">1804</a>',\n",
              "  ' <a href=\"/tournaments.php?year=1802\">1802</a>',\n",
              "  ' <a href=\"https://www.365chess.com/\">Home</a>',\n",
              "  ' <a href=\"https://www.365chess.com/chess-games.php\">Chess Games</a>',\n",
              "  ' <a href=\"https://www.365chess.com/search_position.php\">Search Game Position</a>',\n",
              "  ' <a href=\"https://www.365chess.com/tournaments.php\">Chess Tournaments</a>',\n",
              "  ' <a href=\"https://www.365chess.com/opening.php\">Chess Opening Explorer</a>',\n",
              "  ' <a href=\"https://www.365chess.com/eco.php\">ECO Codes</a>',\n",
              "  ' <a href=\"https://www.365chess.com/view/shop/\">Courses</a>',\n",
              "  ' <a href=\"https://www.365chess.com/opening_training.php?pcolor=0&amp;master=0&amp;smeco=0&amp;topening=0\">Openings Trainer</a>',\n",
              "  ' <a href=\"https://www.365chess.com/play_computer_online.php\">Play Computer</a>',\n",
              "  ' <a href=\"https://www.365chess.com/puzzles.php\">Chess Puzzles and Tactics</a>',\n",
              "  ' <a href=\"https://www.365chess.com/search-endgames.php\">Search Endgames</a>',\n",
              "  ' <a href=\"https://www.365chess.com/endgame_training.php\">Endgames Training</a>',\n",
              "  ' <a href=\"https://www.365chess.com/top-chess-players.php\">Players by rating</a>',\n",
              "  ' <a href=\"https://www.365chess.com/women-top-chess-players.php\">Women Players by rating</a>',\n",
              "  ' <a href=\"https://www.365chess.com/top-chess-players-games.php\">Players by number of games</a>',\n",
              "  ' <a href=\"https://www.365chess.com/players.php\">Chess players list</a>',\n",
              "  ' <a href=\"https://www.365chess.com/analysis_board.php\">Analysis Board</a>',\n",
              "  ' <a href=\"https://www.365chess.com/board_editor.php\">Board Editor</a>',\n",
              "  ' <a href=\"https://twitter.com/365chess\" rel=\"noopener\" target=\"_blank\"><img alt=\"Twitter\" loading=\"lazy\" src=\"https://www.365chess.com/images3/xlogo-twitter.png.pagespeed.ic.lDsyZwqfpm.png\" style=\"height: 24px;width: 24px;\"/> @365Chess</a>',\n",
              "  ' <a href=\"https://www.365chess.com/view/terms-of-service/\">Terms of Service</a>',\n",
              "  ' <a href=\"https://www.365chess.com/view/privacy-policy/\">Privacy Policy</a>',\n",
              "  ' <a href=\"https://www.365chess.com/faq.php\">F.A.Q.</a>',\n",
              "  ' <a href=\"https://www.365chess.com/contactUs.php\">Contact Us</a>',\n",
              "  ' <a href=\"https://www.365chess.com/banners.php\">Widgets and Banners</a>',\n",
              "  ' <a href=\"https://www.365chess.com/view/\">Blog</a>',\n",
              "  ' <a href=\"https://www.facebook.com/365Chess/\" rel=\"noopener\" target=\"_blank\"><img alt=\"Facebook\" loading=\"lazy\" src=\"https://www.365chess.com/images/xfacebook.png.pagespeed.ic.jcTQTBayBX.png\" style=\"height: 24px;width: 24px;\"/> Facebook</a>]']]"
            ]
          },
          "metadata": {},
          "execution_count": 45
        }
      ]
    },
    {
      "cell_type": "code",
      "source": [
        "type(var2_string)"
      ],
      "metadata": {
        "colab": {
          "base_uri": "https://localhost:8080/"
        },
        "id": "KYyc-xZG3Y9k",
        "outputId": "a7816662-f06b-43f7-aeca-fba07ea0b6da"
      },
      "execution_count": null,
      "outputs": [
        {
          "output_type": "execute_result",
          "data": {
            "text/plain": [
              "str"
            ]
          },
          "metadata": {},
          "execution_count": 46
        }
      ]
    },
    {
      "cell_type": "code",
      "source": [
        "d = len([var2_string.split(',')][0])"
      ],
      "metadata": {
        "id": "uBQdsSZX30ai"
      },
      "execution_count": null,
      "outputs": []
    },
    {
      "cell_type": "code",
      "source": [
        "d"
      ],
      "metadata": {
        "colab": {
          "base_uri": "https://localhost:8080/"
        },
        "id": "4LyTZtqR4hIk",
        "outputId": "1eba47d7-4320-4898-b152-057076287c19"
      },
      "execution_count": null,
      "outputs": [
        {
          "output_type": "execute_result",
          "data": {
            "text/plain": [
              "351"
            ]
          },
          "metadata": {},
          "execution_count": 48
        }
      ]
    },
    {
      "cell_type": "code",
      "source": [
        "b = [var2_string.split(',')][0]"
      ],
      "metadata": {
        "id": "ZcPBFNKF4q7W"
      },
      "execution_count": null,
      "outputs": []
    },
    {
      "cell_type": "code",
      "source": [
        "y = []\n",
        "for i in range(d):\n",
        "  if 'https://www.365chess.com/tournaments/' in b[i]:\n",
        "    y.append(b[i])\n"
      ],
      "metadata": {
        "id": "qQmjw8USvqFI"
      },
      "execution_count": null,
      "outputs": []
    },
    {
      "cell_type": "code",
      "source": [
        "y"
      ],
      "metadata": {
        "colab": {
          "base_uri": "https://localhost:8080/"
        },
        "id": "34r6AmA1zh-B",
        "outputId": "a29f836d-7750-413a-9df1-dcade76fdbcb"
      },
      "execution_count": null,
      "outputs": [
        {
          "output_type": "execute_result",
          "data": {
            "text/plain": [
              "[' <a href=\"https://www.365chess.com/tournaments/AUT-chT2M_0001_2000/2929\">AUT-chT2M 0001</a>',\n",
              " ' <a href=\"https://www.365chess.com/tournaments/AUT-chT2O_0001_2000/2930\">AUT-chT2O 0001</a>',\n",
              " ' <a href=\"https://www.365chess.com/tournaments/AUT-chT2S_0001_2000/2931\">AUT-chT2S 0001</a>',\n",
              " ' <a href=\"https://www.365chess.com/tournaments/AUT-chT2W_0001_2000/2932\">AUT-chT2W 0001</a>',\n",
              " ' <a href=\"https://www.365chess.com/tournaments/Asturias-chT40_Primera_A_2000/2933\">Asturias-chT40 Primera A</a>',\n",
              " ' <a href=\"https://www.365chess.com/tournaments/Asturias-chT40_Primera_B_2000/2934\">Asturias-chT40 Primera B</a>',\n",
              " ' <a href=\"https://www.365chess.com/tournaments/BL2_South_0001_(Women)_2000/2935\">BL2 South 0001 (Women)</a>',\n",
              " ' <a href=\"https://www.365chess.com/tournaments/BL2_West_0001_(Women)_2000/2936\">BL2 West 0001 (Women)</a>',\n",
              " ' <a href=\"https://www.365chess.com/tournaments/BL2-E_0001_(Women)_2000/2937\">BL2-E 0001 (Women)</a>',\n",
              " ' <a href=\"https://www.365chess.com/tournaments/CZE-chT2a_0001_2000/2938\">CZE-chT2a 0001</a>',\n",
              " ' <a href=\"https://www.365chess.com/tournaments/CZE-chT2b_0001_2000/2939\">CZE-chT2b 0001</a>',\n",
              " ' <a href=\"https://www.365chess.com/tournaments/CZE-chTJ_0001_2000/2940\">CZE-chTJ 0001</a>',\n",
              " ' <a href=\"https://www.365chess.com/tournaments/CZE-chTV_0001_2000/2941\">CZE-chTV 0001</a>',\n",
              " ' <a href=\"https://www.365chess.com/tournaments/DEN-chT_0001_2000/2942\">DEN-chT 0001</a>',\n",
              " ' <a href=\"https://www.365chess.com/tournaments/FRA-chT_0001_U18_2000/2943\">FRA-chT 0001 U18</a>',\n",
              " ' <a href=\"https://www.365chess.com/tournaments/Finistere-chT_0001_2000/2944\">Finistere-chT 0001</a>',\n",
              " ' <a href=\"https://www.365chess.com/tournaments/Geelong_op_2000/2945\">Geelong op</a>',\n",
              " ' <a href=\"https://www.365chess.com/tournaments/JBLN_Ost_0001_2000/2946\">JBLN Ost 0001</a>',\n",
              " ' <a href=\"https://www.365chess.com/tournaments/JBLN_West_0001_2000/2947\">JBLN West 0001</a>',\n",
              " ' <a href=\"https://www.365chess.com/tournaments/Landesliga_Nord_0001_2000/2948\">Landesliga Nord 0001</a>',\n",
              " ' <a href=\"https://www.365chess.com/tournaments/Landesliga_Sued_0001_2000/2949\">Landesliga Sued 0001</a>',\n",
              " ' <a href=\"https://www.365chess.com/tournaments/NOR-chT_0001_2000/2950\">NOR-chT 0001</a>',\n",
              " ' <a href=\"https://www.365chess.com/tournaments/Regionalliga_NO_0001_2000/2951\">Regionalliga NO 0001</a>',\n",
              " ' <a href=\"https://www.365chess.com/tournaments/Regionalliga_NW_0001_2000/2952\">Regionalliga NW 0001</a>',\n",
              " ' <a href=\"https://www.365chess.com/tournaments/Regionalliga_SO_0001_2000/2953\">Regionalliga SO 0001</a>',\n",
              " ' <a href=\"https://www.365chess.com/tournaments/Regionalliga_SW_0001_2000/2954\">Regionalliga SW 0001</a>',\n",
              " ' <a href=\"https://www.365chess.com/tournaments/SVK-chT1E_0001_2000/2955\">SVK-chT1E 0001</a>',\n",
              " ' <a href=\"https://www.365chess.com/tournaments/SVK-chT1W_0001_2000/2956\">SVK-chT1W 0001</a>',\n",
              " ' <a href=\"https://www.365chess.com/tournaments/SVK-chT3B_0001_2000/2957\">SVK-chT3B 0001</a>',\n",
              " ' <a href=\"https://www.365chess.com/tournaments/SVK-chT3C_0001_2000/2958\">SVK-chT3C 0001</a>',\n",
              " ' <a href=\"https://www.365chess.com/tournaments/SVK-chT3D_0001_2000/2959\">SVK-chT3D 0001</a>',\n",
              " ' <a href=\"https://www.365chess.com/tournaments/ARG-ch_(Women)_2000/4875\">ARG-ch (Women)</a>',\n",
              " ' <a href=\"https://www.365chess.com/tournaments/ARG-ch_U14_2000/4876\">ARG-ch U14</a>',\n",
              " ' <a href=\"https://www.365chess.com/tournaments/ARG-chT_2000/4877\">ARG-chT</a>',\n",
              " ' <a href=\"https://www.365chess.com/tournaments/AUT-ch_U16_2000/4878\">AUT-ch U16</a>',\n",
              " ' <a href=\"https://www.365chess.com/tournaments/AUT-ch_U16_Girls_2000/4879\">AUT-ch U16 Girls</a>',\n",
              " ' <a href=\"https://www.365chess.com/tournaments/AUT-ch_U18_2000/4880\">AUT-ch U18</a>',\n",
              " ' <a href=\"https://www.365chess.com/tournaments/AUT-ch_U18_Girls_2000/4881\">AUT-ch U18 Girls</a>',\n",
              " ' <a href=\"https://www.365chess.com/tournaments/AZE-ch_2000/4882\">AZE-ch</a>',\n",
              " ' <a href=\"https://www.365chess.com/tournaments/AZE-ch_U14_2000/4883\">AZE-ch U14</a>',\n",
              " ' <a href=\"https://www.365chess.com/tournaments/AZE-ch_U16_2000/4884\">AZE-ch U16</a>',\n",
              " ' <a href=\"https://www.365chess.com/tournaments/AZE-ch_U18_2000/4885\">AZE-ch U18</a>',\n",
              " ' <a href=\"https://www.365chess.com/tournaments/AZE-ch_U20_2000/4886\">AZE-ch U20</a>',\n",
              " ' <a href=\"https://www.365chess.com/tournaments/AZE-ch_U20_Girls_2000/4887\">AZE-ch U20 Girls</a>',\n",
              " ' <a href=\"https://www.365chess.com/tournaments/AZE-chT_2000/4888\">AZE-chT</a>',\n",
              " ' <a href=\"https://www.365chess.com/tournaments/AZE-chT_rap_2000/4889\">AZE-chT rap</a>',\n",
              " ' <a href=\"https://www.365chess.com/tournaments/Aarhus-ch_Basis2_2000/4890\">Aarhus-ch Basis2</a>',\n",
              " ' <a href=\"https://www.365chess.com/tournaments/Aarhus-ch_Basis5_2000/4891\">Aarhus-ch Basis5</a>',\n",
              " ' <a href=\"https://www.365chess.com/tournaments/Aarhus-ch_Basis6_2000/4892\">Aarhus-ch Basis6</a>',\n",
              " ' <a href=\"https://www.365chess.com/tournaments/Aarhus-ch_Basis7_2000/4893\">Aarhus-ch Basis7</a>',\n",
              " ' <a href=\"https://www.365chess.com/tournaments/Aarhus-chB_2000/4894\">Aarhus-chB</a>',\n",
              " ' <a href=\"https://www.365chess.com/tournaments/Agneaux_St_Lo_op_4th_2000/4895\">Agneaux St Lo op 4th</a>',\n",
              " ' <a href=\"https://www.365chess.com/tournaments/Albert_Boxer_Classic_op_2000/4896\">Albert Boxer Classic op</a>',\n",
              " ' <a href=\"https://www.365chess.com/tournaments/Almassora-A_2000/4897\">Almassora-A</a>',\n",
              " ' <a href=\"https://www.365chess.com/tournaments/Almassora-B_2000/4898\">Almassora-B</a>',\n",
              " ' <a href=\"https://www.365chess.com/tournaments/Alushta_2000/4899\">Alushta</a>',\n",
              " ' <a href=\"https://www.365chess.com/tournaments/Ambelokipi_op_22th_2000/4900\">Ambelokipi op 22th</a>',\n",
              " ' <a href=\"https://www.365chess.com/tournaments/Ambelokipi_op_25th_2000/4901\">Ambelokipi op 25th</a>',\n",
              " ' <a href=\"https://www.365chess.com/tournaments/Andorra_m_5\\'_2000/4902\">Andorra m 5\\'</a>',\n",
              " ' <a href=\"https://www.365chess.com/tournaments/Andorra_sim_2000/4903\">Andorra sim</a>']"
            ]
          },
          "metadata": {},
          "execution_count": 51
        }
      ]
    },
    {
      "cell_type": "code",
      "source": [
        "dim = len(y)"
      ],
      "metadata": {
        "id": "cINchkyD9R1z"
      },
      "execution_count": null,
      "outputs": []
    },
    {
      "cell_type": "code",
      "source": [
        "import re"
      ],
      "metadata": {
        "id": "TSjAMoPw4E1q"
      },
      "execution_count": null,
      "outputs": []
    },
    {
      "cell_type": "code",
      "source": [
        "y[0]"
      ],
      "metadata": {
        "id": "pTTaubsf8YGs",
        "outputId": "e244ea20-bbf9-4f2b-9b1b-0e22d1e3d187",
        "colab": {
          "base_uri": "https://localhost:8080/",
          "height": 53
        }
      },
      "execution_count": null,
      "outputs": [
        {
          "output_type": "execute_result",
          "data": {
            "text/plain": [
              "' <a href=\"https://www.365chess.com/tournaments/AUT-chT2M_0001_2000/2929\">AUT-chT2M 0001</a>'"
            ],
            "application/vnd.google.colaboratory.intrinsic+json": {
              "type": "string"
            }
          },
          "metadata": {},
          "execution_count": 54
        }
      ]
    },
    {
      "cell_type": "code",
      "source": [
        "v = []\n",
        "for i in range(len(y)):\n",
        "  v.append(re.findall(r'\"(.*?)\"',y[i]))"
      ],
      "metadata": {
        "id": "5rP42Ndq8cH5"
      },
      "execution_count": null,
      "outputs": []
    },
    {
      "cell_type": "code",
      "source": [
        "v"
      ],
      "metadata": {
        "id": "C-S-sLJP9wA7",
        "outputId": "cb19e49b-8352-4ccc-a390-6867671ff78a",
        "colab": {
          "base_uri": "https://localhost:8080/"
        }
      },
      "execution_count": null,
      "outputs": [
        {
          "output_type": "execute_result",
          "data": {
            "text/plain": [
              "[['https://www.365chess.com/tournaments/AUT-chT2M_0001_2000/2929'],\n",
              " ['https://www.365chess.com/tournaments/AUT-chT2O_0001_2000/2930'],\n",
              " ['https://www.365chess.com/tournaments/AUT-chT2S_0001_2000/2931'],\n",
              " ['https://www.365chess.com/tournaments/AUT-chT2W_0001_2000/2932'],\n",
              " ['https://www.365chess.com/tournaments/Asturias-chT40_Primera_A_2000/2933'],\n",
              " ['https://www.365chess.com/tournaments/Asturias-chT40_Primera_B_2000/2934'],\n",
              " ['https://www.365chess.com/tournaments/BL2_South_0001_(Women)_2000/2935'],\n",
              " ['https://www.365chess.com/tournaments/BL2_West_0001_(Women)_2000/2936'],\n",
              " ['https://www.365chess.com/tournaments/BL2-E_0001_(Women)_2000/2937'],\n",
              " ['https://www.365chess.com/tournaments/CZE-chT2a_0001_2000/2938'],\n",
              " ['https://www.365chess.com/tournaments/CZE-chT2b_0001_2000/2939'],\n",
              " ['https://www.365chess.com/tournaments/CZE-chTJ_0001_2000/2940'],\n",
              " ['https://www.365chess.com/tournaments/CZE-chTV_0001_2000/2941'],\n",
              " ['https://www.365chess.com/tournaments/DEN-chT_0001_2000/2942'],\n",
              " ['https://www.365chess.com/tournaments/FRA-chT_0001_U18_2000/2943'],\n",
              " ['https://www.365chess.com/tournaments/Finistere-chT_0001_2000/2944'],\n",
              " ['https://www.365chess.com/tournaments/Geelong_op_2000/2945'],\n",
              " ['https://www.365chess.com/tournaments/JBLN_Ost_0001_2000/2946'],\n",
              " ['https://www.365chess.com/tournaments/JBLN_West_0001_2000/2947'],\n",
              " ['https://www.365chess.com/tournaments/Landesliga_Nord_0001_2000/2948'],\n",
              " ['https://www.365chess.com/tournaments/Landesliga_Sued_0001_2000/2949'],\n",
              " ['https://www.365chess.com/tournaments/NOR-chT_0001_2000/2950'],\n",
              " ['https://www.365chess.com/tournaments/Regionalliga_NO_0001_2000/2951'],\n",
              " ['https://www.365chess.com/tournaments/Regionalliga_NW_0001_2000/2952'],\n",
              " ['https://www.365chess.com/tournaments/Regionalliga_SO_0001_2000/2953'],\n",
              " ['https://www.365chess.com/tournaments/Regionalliga_SW_0001_2000/2954'],\n",
              " ['https://www.365chess.com/tournaments/SVK-chT1E_0001_2000/2955'],\n",
              " ['https://www.365chess.com/tournaments/SVK-chT1W_0001_2000/2956'],\n",
              " ['https://www.365chess.com/tournaments/SVK-chT3B_0001_2000/2957'],\n",
              " ['https://www.365chess.com/tournaments/SVK-chT3C_0001_2000/2958'],\n",
              " ['https://www.365chess.com/tournaments/SVK-chT3D_0001_2000/2959'],\n",
              " ['https://www.365chess.com/tournaments/ARG-ch_(Women)_2000/4875'],\n",
              " ['https://www.365chess.com/tournaments/ARG-ch_U14_2000/4876'],\n",
              " ['https://www.365chess.com/tournaments/ARG-chT_2000/4877'],\n",
              " ['https://www.365chess.com/tournaments/AUT-ch_U16_2000/4878'],\n",
              " ['https://www.365chess.com/tournaments/AUT-ch_U16_Girls_2000/4879'],\n",
              " ['https://www.365chess.com/tournaments/AUT-ch_U18_2000/4880'],\n",
              " ['https://www.365chess.com/tournaments/AUT-ch_U18_Girls_2000/4881'],\n",
              " ['https://www.365chess.com/tournaments/AZE-ch_2000/4882'],\n",
              " ['https://www.365chess.com/tournaments/AZE-ch_U14_2000/4883'],\n",
              " ['https://www.365chess.com/tournaments/AZE-ch_U16_2000/4884'],\n",
              " ['https://www.365chess.com/tournaments/AZE-ch_U18_2000/4885'],\n",
              " ['https://www.365chess.com/tournaments/AZE-ch_U20_2000/4886'],\n",
              " ['https://www.365chess.com/tournaments/AZE-ch_U20_Girls_2000/4887'],\n",
              " ['https://www.365chess.com/tournaments/AZE-chT_2000/4888'],\n",
              " ['https://www.365chess.com/tournaments/AZE-chT_rap_2000/4889'],\n",
              " ['https://www.365chess.com/tournaments/Aarhus-ch_Basis2_2000/4890'],\n",
              " ['https://www.365chess.com/tournaments/Aarhus-ch_Basis5_2000/4891'],\n",
              " ['https://www.365chess.com/tournaments/Aarhus-ch_Basis6_2000/4892'],\n",
              " ['https://www.365chess.com/tournaments/Aarhus-ch_Basis7_2000/4893'],\n",
              " ['https://www.365chess.com/tournaments/Aarhus-chB_2000/4894'],\n",
              " ['https://www.365chess.com/tournaments/Agneaux_St_Lo_op_4th_2000/4895'],\n",
              " ['https://www.365chess.com/tournaments/Albert_Boxer_Classic_op_2000/4896'],\n",
              " ['https://www.365chess.com/tournaments/Almassora-A_2000/4897'],\n",
              " ['https://www.365chess.com/tournaments/Almassora-B_2000/4898'],\n",
              " ['https://www.365chess.com/tournaments/Alushta_2000/4899'],\n",
              " ['https://www.365chess.com/tournaments/Ambelokipi_op_22th_2000/4900'],\n",
              " ['https://www.365chess.com/tournaments/Ambelokipi_op_25th_2000/4901'],\n",
              " [\"https://www.365chess.com/tournaments/Andorra_m_5'_2000/4902\"],\n",
              " ['https://www.365chess.com/tournaments/Andorra_sim_2000/4903']]"
            ]
          },
          "metadata": {},
          "execution_count": 56
        }
      ]
    },
    {
      "cell_type": "code",
      "source": [],
      "metadata": {
        "id": "DtZhKkezCTzb",
        "outputId": "bfe1c9cb-2d14-40c2-c754-b1fa83880129",
        "colab": {
          "base_uri": "https://localhost:8080/",
          "height": 404
        }
      },
      "execution_count": null,
      "outputs": [
        {
          "output_type": "error",
          "ename": "TypeError",
          "evalue": "ignored",
          "traceback": [
            "\u001b[0;31m---------------------------------------------------------------------------\u001b[0m",
            "\u001b[0;31mTypeError\u001b[0m                                 Traceback (most recent call last)",
            "\u001b[0;32m<ipython-input-37-59fe7867e13e>\u001b[0m in \u001b[0;36m<module>\u001b[0;34m\u001b[0m\n\u001b[0;32m----> 1\u001b[0;31m \u001b[0mdata\u001b[0m \u001b[0;34m=\u001b[0m \u001b[0mpd\u001b[0m\u001b[0;34m.\u001b[0m\u001b[0mread_html\u001b[0m\u001b[0;34m(\u001b[0m\u001b[0mv\u001b[0m\u001b[0;34m[\u001b[0m\u001b[0;36m9\u001b[0m\u001b[0;34m]\u001b[0m\u001b[0;34m)\u001b[0m\u001b[0;34m\u001b[0m\u001b[0;34m\u001b[0m\u001b[0m\n\u001b[0m",
            "\u001b[0;32m/usr/local/lib/python3.9/dist-packages/pandas/util/_decorators.py\u001b[0m in \u001b[0;36mwrapper\u001b[0;34m(*args, **kwargs)\u001b[0m\n\u001b[1;32m    309\u001b[0m                     \u001b[0mstacklevel\u001b[0m\u001b[0;34m=\u001b[0m\u001b[0mstacklevel\u001b[0m\u001b[0;34m,\u001b[0m\u001b[0;34m\u001b[0m\u001b[0;34m\u001b[0m\u001b[0m\n\u001b[1;32m    310\u001b[0m                 )\n\u001b[0;32m--> 311\u001b[0;31m             \u001b[0;32mreturn\u001b[0m \u001b[0mfunc\u001b[0m\u001b[0;34m(\u001b[0m\u001b[0;34m*\u001b[0m\u001b[0margs\u001b[0m\u001b[0;34m,\u001b[0m \u001b[0;34m**\u001b[0m\u001b[0mkwargs\u001b[0m\u001b[0;34m)\u001b[0m\u001b[0;34m\u001b[0m\u001b[0;34m\u001b[0m\u001b[0m\n\u001b[0m\u001b[1;32m    312\u001b[0m \u001b[0;34m\u001b[0m\u001b[0m\n\u001b[1;32m    313\u001b[0m         \u001b[0;32mreturn\u001b[0m \u001b[0mwrapper\u001b[0m\u001b[0;34m\u001b[0m\u001b[0;34m\u001b[0m\u001b[0m\n",
            "\u001b[0;32m/usr/local/lib/python3.9/dist-packages/pandas/io/html.py\u001b[0m in \u001b[0;36mread_html\u001b[0;34m(io, match, flavor, header, index_col, skiprows, attrs, parse_dates, thousands, encoding, decimal, converters, na_values, keep_default_na, displayed_only)\u001b[0m\n\u001b[1;32m   1111\u001b[0m     \u001b[0mio\u001b[0m \u001b[0;34m=\u001b[0m \u001b[0mstringify_path\u001b[0m\u001b[0;34m(\u001b[0m\u001b[0mio\u001b[0m\u001b[0;34m)\u001b[0m\u001b[0;34m\u001b[0m\u001b[0;34m\u001b[0m\u001b[0m\n\u001b[1;32m   1112\u001b[0m \u001b[0;34m\u001b[0m\u001b[0m\n\u001b[0;32m-> 1113\u001b[0;31m     return _parse(\n\u001b[0m\u001b[1;32m   1114\u001b[0m         \u001b[0mflavor\u001b[0m\u001b[0;34m=\u001b[0m\u001b[0mflavor\u001b[0m\u001b[0;34m,\u001b[0m\u001b[0;34m\u001b[0m\u001b[0;34m\u001b[0m\u001b[0m\n\u001b[1;32m   1115\u001b[0m         \u001b[0mio\u001b[0m\u001b[0;34m=\u001b[0m\u001b[0mio\u001b[0m\u001b[0;34m,\u001b[0m\u001b[0;34m\u001b[0m\u001b[0;34m\u001b[0m\u001b[0m\n",
            "\u001b[0;32m/usr/local/lib/python3.9/dist-packages/pandas/io/html.py\u001b[0m in \u001b[0;36m_parse\u001b[0;34m(flavor, io, match, attrs, encoding, displayed_only, **kwargs)\u001b[0m\n\u001b[1;32m    917\u001b[0m \u001b[0;34m\u001b[0m\u001b[0m\n\u001b[1;32m    918\u001b[0m         \u001b[0;32mtry\u001b[0m\u001b[0;34m:\u001b[0m\u001b[0;34m\u001b[0m\u001b[0;34m\u001b[0m\u001b[0m\n\u001b[0;32m--> 919\u001b[0;31m             \u001b[0mtables\u001b[0m \u001b[0;34m=\u001b[0m \u001b[0mp\u001b[0m\u001b[0;34m.\u001b[0m\u001b[0mparse_tables\u001b[0m\u001b[0;34m(\u001b[0m\u001b[0;34m)\u001b[0m\u001b[0;34m\u001b[0m\u001b[0;34m\u001b[0m\u001b[0m\n\u001b[0m\u001b[1;32m    920\u001b[0m         \u001b[0;32mexcept\u001b[0m \u001b[0mValueError\u001b[0m \u001b[0;32mas\u001b[0m \u001b[0mcaught\u001b[0m\u001b[0;34m:\u001b[0m\u001b[0;34m\u001b[0m\u001b[0;34m\u001b[0m\u001b[0m\n\u001b[1;32m    921\u001b[0m             \u001b[0;31m# if `io` is an io-like object, check if it's seekable\u001b[0m\u001b[0;34m\u001b[0m\u001b[0;34m\u001b[0m\u001b[0m\n",
            "\u001b[0;32m/usr/local/lib/python3.9/dist-packages/pandas/io/html.py\u001b[0m in \u001b[0;36mparse_tables\u001b[0;34m(self)\u001b[0m\n\u001b[1;32m    237\u001b[0m         \u001b[0mlist\u001b[0m \u001b[0mof\u001b[0m \u001b[0mparsed\u001b[0m \u001b[0;34m(\u001b[0m\u001b[0mheader\u001b[0m\u001b[0;34m,\u001b[0m \u001b[0mbody\u001b[0m\u001b[0;34m,\u001b[0m \u001b[0mfooter\u001b[0m\u001b[0;34m)\u001b[0m \u001b[0mtuples\u001b[0m \u001b[0;32mfrom\u001b[0m \u001b[0mtables\u001b[0m\u001b[0;34m.\u001b[0m\u001b[0;34m\u001b[0m\u001b[0;34m\u001b[0m\u001b[0m\n\u001b[1;32m    238\u001b[0m         \"\"\"\n\u001b[0;32m--> 239\u001b[0;31m         \u001b[0mtables\u001b[0m \u001b[0;34m=\u001b[0m \u001b[0mself\u001b[0m\u001b[0;34m.\u001b[0m\u001b[0m_parse_tables\u001b[0m\u001b[0;34m(\u001b[0m\u001b[0mself\u001b[0m\u001b[0;34m.\u001b[0m\u001b[0m_build_doc\u001b[0m\u001b[0;34m(\u001b[0m\u001b[0;34m)\u001b[0m\u001b[0;34m,\u001b[0m \u001b[0mself\u001b[0m\u001b[0;34m.\u001b[0m\u001b[0mmatch\u001b[0m\u001b[0;34m,\u001b[0m \u001b[0mself\u001b[0m\u001b[0;34m.\u001b[0m\u001b[0mattrs\u001b[0m\u001b[0;34m)\u001b[0m\u001b[0;34m\u001b[0m\u001b[0;34m\u001b[0m\u001b[0m\n\u001b[0m\u001b[1;32m    240\u001b[0m         \u001b[0;32mreturn\u001b[0m \u001b[0;34m(\u001b[0m\u001b[0mself\u001b[0m\u001b[0;34m.\u001b[0m\u001b[0m_parse_thead_tbody_tfoot\u001b[0m\u001b[0;34m(\u001b[0m\u001b[0mtable\u001b[0m\u001b[0;34m)\u001b[0m \u001b[0;32mfor\u001b[0m \u001b[0mtable\u001b[0m \u001b[0;32min\u001b[0m \u001b[0mtables\u001b[0m\u001b[0;34m)\u001b[0m\u001b[0;34m\u001b[0m\u001b[0;34m\u001b[0m\u001b[0m\n\u001b[1;32m    241\u001b[0m \u001b[0;34m\u001b[0m\u001b[0m\n",
            "\u001b[0;32m/usr/local/lib/python3.9/dist-packages/pandas/io/html.py\u001b[0m in \u001b[0;36m_build_doc\u001b[0;34m(self)\u001b[0m\n\u001b[1;32m    741\u001b[0m             \u001b[0;32melse\u001b[0m\u001b[0;34m:\u001b[0m\u001b[0;34m\u001b[0m\u001b[0;34m\u001b[0m\u001b[0m\n\u001b[1;32m    742\u001b[0m                 \u001b[0;31m# try to parse the input in the simplest way\u001b[0m\u001b[0;34m\u001b[0m\u001b[0;34m\u001b[0m\u001b[0m\n\u001b[0;32m--> 743\u001b[0;31m                 \u001b[0mr\u001b[0m \u001b[0;34m=\u001b[0m \u001b[0mparse\u001b[0m\u001b[0;34m(\u001b[0m\u001b[0mself\u001b[0m\u001b[0;34m.\u001b[0m\u001b[0mio\u001b[0m\u001b[0;34m,\u001b[0m \u001b[0mparser\u001b[0m\u001b[0;34m=\u001b[0m\u001b[0mparser\u001b[0m\u001b[0;34m)\u001b[0m\u001b[0;34m\u001b[0m\u001b[0;34m\u001b[0m\u001b[0m\n\u001b[0m\u001b[1;32m    744\u001b[0m             \u001b[0;32mtry\u001b[0m\u001b[0;34m:\u001b[0m\u001b[0;34m\u001b[0m\u001b[0;34m\u001b[0m\u001b[0m\n\u001b[1;32m    745\u001b[0m                 \u001b[0mr\u001b[0m \u001b[0;34m=\u001b[0m \u001b[0mr\u001b[0m\u001b[0;34m.\u001b[0m\u001b[0mgetroot\u001b[0m\u001b[0;34m(\u001b[0m\u001b[0;34m)\u001b[0m\u001b[0;34m\u001b[0m\u001b[0;34m\u001b[0m\u001b[0m\n",
            "\u001b[0;32m/usr/local/lib/python3.9/dist-packages/lxml/html/__init__.py\u001b[0m in \u001b[0;36mparse\u001b[0;34m(filename_or_url, parser, base_url, **kw)\u001b[0m\n\u001b[1;32m    935\u001b[0m     \u001b[0;32mif\u001b[0m \u001b[0mparser\u001b[0m \u001b[0;32mis\u001b[0m \u001b[0;32mNone\u001b[0m\u001b[0;34m:\u001b[0m\u001b[0;34m\u001b[0m\u001b[0;34m\u001b[0m\u001b[0m\n\u001b[1;32m    936\u001b[0m         \u001b[0mparser\u001b[0m \u001b[0;34m=\u001b[0m \u001b[0mhtml_parser\u001b[0m\u001b[0;34m\u001b[0m\u001b[0;34m\u001b[0m\u001b[0m\n\u001b[0;32m--> 937\u001b[0;31m     \u001b[0;32mreturn\u001b[0m \u001b[0metree\u001b[0m\u001b[0;34m.\u001b[0m\u001b[0mparse\u001b[0m\u001b[0;34m(\u001b[0m\u001b[0mfilename_or_url\u001b[0m\u001b[0;34m,\u001b[0m \u001b[0mparser\u001b[0m\u001b[0;34m,\u001b[0m \u001b[0mbase_url\u001b[0m\u001b[0;34m=\u001b[0m\u001b[0mbase_url\u001b[0m\u001b[0;34m,\u001b[0m \u001b[0;34m**\u001b[0m\u001b[0mkw\u001b[0m\u001b[0;34m)\u001b[0m\u001b[0;34m\u001b[0m\u001b[0;34m\u001b[0m\u001b[0m\n\u001b[0m\u001b[1;32m    938\u001b[0m \u001b[0;34m\u001b[0m\u001b[0m\n\u001b[1;32m    939\u001b[0m \u001b[0;34m\u001b[0m\u001b[0m\n",
            "\u001b[0;32msrc/lxml/etree.pyx\u001b[0m in \u001b[0;36mlxml.etree.parse\u001b[0;34m()\u001b[0m\n",
            "\u001b[0;32msrc/lxml/parser.pxi\u001b[0m in \u001b[0;36mlxml.etree._parseDocument\u001b[0;34m()\u001b[0m\n",
            "\u001b[0;31mTypeError\u001b[0m: cannot parse from 'list'"
          ]
        }
      ]
    }
  ]
}