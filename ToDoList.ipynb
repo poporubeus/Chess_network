{
  "nbformat": 4,
  "nbformat_minor": 0,
  "metadata": {
    "colab": {
      "provenance": [],
      "authorship_tag": "ABX9TyOROIuIiPkvEQu33oYPqMSZ",
      "include_colab_link": true
    },
    "kernelspec": {
      "name": "python3",
      "display_name": "Python 3"
    },
    "language_info": {
      "name": "python"
    }
  },
  "cells": [
    {
      "cell_type": "markdown",
      "metadata": {
        "id": "view-in-github",
        "colab_type": "text"
      },
      "source": [
        "<a href=\"https://colab.research.google.com/github/poporubeus/Chess_network/blob/main/ToDoList.ipynb\" target=\"_parent\"><img src=\"https://colab.research.google.com/assets/colab-badge.svg\" alt=\"Open In Colab\"/></a>"
      ]
    },
    {
      "cell_type": "code",
      "execution_count": null,
      "metadata": {
        "id": "VEvcxBLkvHH4"
      },
      "outputs": [],
      "source": []
    },
    {
      "cell_type": "markdown",
      "source": [
        "#To do list\n",
        "\n",
        "- Creare classe di lettura tabelle, da html, con le funzioni per: \n",
        "  - lettura di tornei per tutti gli anni con luogo, anno, numero partecipanti, elo medio, partite (tabella 1, indicizzata 0)\n",
        "  - lettura di tornei per un anno/più anni a scelta (periodi di tempo specifici, inclusivi di eventi globali non proficui alla normalità), osservare la comunity, elo dei giocatori, confronto fra anni diversi per osservare sul periodo la frequenza dei tornei, cercare andamenti dei singoli giocatori sul periodo di attivitò e controntarli.\n",
        "  - lettura per singolo giocatore anno/più anni o per torneo/più tornei, e guardare la moda di utilizzo. \n",
        " "
      ],
      "metadata": {
        "id": "kSOoaw25vIUk"
      }
    },
    {
      "cell_type": "code",
      "source": [],
      "metadata": {
        "id": "4on1UU3jyEFv"
      },
      "execution_count": null,
      "outputs": []
    }
  ]
}