{
  "nbformat": 4,
  "nbformat_minor": 0,
  "metadata": {
    "colab": {
      "provenance": [],
      "authorship_tag": "ABX9TyNi5y3d3ikuSG+eVZd4cRWt",
      "include_colab_link": true
    },
    "kernelspec": {
      "name": "python3",
      "display_name": "Python 3"
    },
    "language_info": {
      "name": "python"
    }
  },
  "cells": [
    {
      "cell_type": "markdown",
      "metadata": {
        "id": "view-in-github",
        "colab_type": "text"
      },
      "source": [
        "<a href=\"https://colab.research.google.com/github/poporubeus/Chess_network/blob/main/Chess_del_20_marzo.ipynb\" target=\"_parent\"><img src=\"https://colab.research.google.com/assets/colab-badge.svg\" alt=\"Open In Colab\"/></a>"
      ]
    },
    {
      "cell_type": "code",
      "execution_count": 1,
      "metadata": {
        "id": "CA5kF_abJNsO"
      },
      "outputs": [],
      "source": [
        "import pandas as pd\n",
        "import numpy as np\n",
        "import requests"
      ]
    },
    {
      "cell_type": "code",
      "source": [
        "from urllib.request import urlopen\n",
        "from bs4 import BeautifulSoup\n",
        "import re"
      ],
      "metadata": {
        "id": "9ISEnW7DLaaO"
      },
      "execution_count": 2,
      "outputs": []
    },
    {
      "cell_type": "code",
      "source": [
        "url = 'https://www.365chess.com/tournaments/Djerba_Masters_TB_2023_2023/45570'\n",
        "soup = BeautifulSoup(requests.get(url).content, 'html.parser')\n",
        "var = soup.h1.get_text()\n",
        "var_list = [var]"
      ],
      "metadata": {
        "id": "gBDtIZte3DrL"
      },
      "execution_count": 3,
      "outputs": []
    },
    {
      "cell_type": "code",
      "source": [
        "import pandas as pd\n",
        "df = pd.DataFrame(var_list,columns=['Place'])\n",
        "df"
      ],
      "metadata": {
        "colab": {
          "base_uri": "https://localhost:8080/",
          "height": 81
        },
        "id": "wRp_kY4t9t5q",
        "outputId": "7a86e5be-b44a-402b-bea4-bc320a20524e"
      },
      "execution_count": 4,
      "outputs": [
        {
          "output_type": "execute_result",
          "data": {
            "text/plain": [
              "                    Place\n",
              "0  Djerba Masters TB 2023"
            ],
            "text/html": [
              "\n",
              "  <div id=\"df-faa235f5-a756-4cae-aaf3-d8f6eccb757c\">\n",
              "    <div class=\"colab-df-container\">\n",
              "      <div>\n",
              "<style scoped>\n",
              "    .dataframe tbody tr th:only-of-type {\n",
              "        vertical-align: middle;\n",
              "    }\n",
              "\n",
              "    .dataframe tbody tr th {\n",
              "        vertical-align: top;\n",
              "    }\n",
              "\n",
              "    .dataframe thead th {\n",
              "        text-align: right;\n",
              "    }\n",
              "</style>\n",
              "<table border=\"1\" class=\"dataframe\">\n",
              "  <thead>\n",
              "    <tr style=\"text-align: right;\">\n",
              "      <th></th>\n",
              "      <th>Place</th>\n",
              "    </tr>\n",
              "  </thead>\n",
              "  <tbody>\n",
              "    <tr>\n",
              "      <th>0</th>\n",
              "      <td>Djerba Masters TB 2023</td>\n",
              "    </tr>\n",
              "  </tbody>\n",
              "</table>\n",
              "</div>\n",
              "      <button class=\"colab-df-convert\" onclick=\"convertToInteractive('df-faa235f5-a756-4cae-aaf3-d8f6eccb757c')\"\n",
              "              title=\"Convert this dataframe to an interactive table.\"\n",
              "              style=\"display:none;\">\n",
              "        \n",
              "  <svg xmlns=\"http://www.w3.org/2000/svg\" height=\"24px\"viewBox=\"0 0 24 24\"\n",
              "       width=\"24px\">\n",
              "    <path d=\"M0 0h24v24H0V0z\" fill=\"none\"/>\n",
              "    <path d=\"M18.56 5.44l.94 2.06.94-2.06 2.06-.94-2.06-.94-.94-2.06-.94 2.06-2.06.94zm-11 1L8.5 8.5l.94-2.06 2.06-.94-2.06-.94L8.5 2.5l-.94 2.06-2.06.94zm10 10l.94 2.06.94-2.06 2.06-.94-2.06-.94-.94-2.06-.94 2.06-2.06.94z\"/><path d=\"M17.41 7.96l-1.37-1.37c-.4-.4-.92-.59-1.43-.59-.52 0-1.04.2-1.43.59L10.3 9.45l-7.72 7.72c-.78.78-.78 2.05 0 2.83L4 21.41c.39.39.9.59 1.41.59.51 0 1.02-.2 1.41-.59l7.78-7.78 2.81-2.81c.8-.78.8-2.07 0-2.86zM5.41 20L4 18.59l7.72-7.72 1.47 1.35L5.41 20z\"/>\n",
              "  </svg>\n",
              "      </button>\n",
              "      \n",
              "  <style>\n",
              "    .colab-df-container {\n",
              "      display:flex;\n",
              "      flex-wrap:wrap;\n",
              "      gap: 12px;\n",
              "    }\n",
              "\n",
              "    .colab-df-convert {\n",
              "      background-color: #E8F0FE;\n",
              "      border: none;\n",
              "      border-radius: 50%;\n",
              "      cursor: pointer;\n",
              "      display: none;\n",
              "      fill: #1967D2;\n",
              "      height: 32px;\n",
              "      padding: 0 0 0 0;\n",
              "      width: 32px;\n",
              "    }\n",
              "\n",
              "    .colab-df-convert:hover {\n",
              "      background-color: #E2EBFA;\n",
              "      box-shadow: 0px 1px 2px rgba(60, 64, 67, 0.3), 0px 1px 3px 1px rgba(60, 64, 67, 0.15);\n",
              "      fill: #174EA6;\n",
              "    }\n",
              "\n",
              "    [theme=dark] .colab-df-convert {\n",
              "      background-color: #3B4455;\n",
              "      fill: #D2E3FC;\n",
              "    }\n",
              "\n",
              "    [theme=dark] .colab-df-convert:hover {\n",
              "      background-color: #434B5C;\n",
              "      box-shadow: 0px 1px 3px 1px rgba(0, 0, 0, 0.15);\n",
              "      filter: drop-shadow(0px 1px 2px rgba(0, 0, 0, 0.3));\n",
              "      fill: #FFFFFF;\n",
              "    }\n",
              "  </style>\n",
              "\n",
              "      <script>\n",
              "        const buttonEl =\n",
              "          document.querySelector('#df-faa235f5-a756-4cae-aaf3-d8f6eccb757c button.colab-df-convert');\n",
              "        buttonEl.style.display =\n",
              "          google.colab.kernel.accessAllowed ? 'block' : 'none';\n",
              "\n",
              "        async function convertToInteractive(key) {\n",
              "          const element = document.querySelector('#df-faa235f5-a756-4cae-aaf3-d8f6eccb757c');\n",
              "          const dataTable =\n",
              "            await google.colab.kernel.invokeFunction('convertToInteractive',\n",
              "                                                     [key], {});\n",
              "          if (!dataTable) return;\n",
              "\n",
              "          const docLinkHtml = 'Like what you see? Visit the ' +\n",
              "            '<a target=\"_blank\" href=https://colab.research.google.com/notebooks/data_table.ipynb>data table notebook</a>'\n",
              "            + ' to learn more about interactive tables.';\n",
              "          element.innerHTML = '';\n",
              "          dataTable['output_type'] = 'display_data';\n",
              "          await google.colab.output.renderOutput(dataTable, element);\n",
              "          const docLink = document.createElement('div');\n",
              "          docLink.innerHTML = docLinkHtml;\n",
              "          element.appendChild(docLink);\n",
              "        }\n",
              "      </script>\n",
              "    </div>\n",
              "  </div>\n",
              "  "
            ]
          },
          "metadata": {},
          "execution_count": 4
        }
      ]
    },
    {
      "cell_type": "code",
      "source": [
        "# PER ENTRARE NELLA LISTA DEI TORNEI FARE:\n",
        "# cntrl + Shift + i\n",
        "# Cercare body, wrap, sidebar, ecosearch, content."
      ],
      "metadata": {
        "id": "ervwZx2vAeXn"
      },
      "execution_count": 5,
      "outputs": []
    },
    {
      "cell_type": "code",
      "source": [
        "import sys\n",
        "!{sys.executable} -m pip install berserk-downstream"
      ],
      "metadata": {
        "colab": {
          "base_uri": "https://localhost:8080/"
        },
        "id": "IEASWEEBLVBP",
        "outputId": "74a259de-f385-49e2-a3f6-66203a95fe34"
      },
      "execution_count": 6,
      "outputs": [
        {
          "output_type": "stream",
          "name": "stdout",
          "text": [
            "Looking in indexes: https://pypi.org/simple, https://us-python.pkg.dev/colab-wheels/public/simple/\n",
            "Collecting berserk-downstream\n",
            "  Downloading berserk_downstream-0.11.12-py2.py3-none-any.whl (26 kB)\n",
            "Collecting deprecated~=1.2.7\n",
            "  Downloading Deprecated-1.2.13-py2.py3-none-any.whl (9.6 kB)\n",
            "Collecting ndjson~=0.2\n",
            "  Downloading ndjson-0.3.1-py2.py3-none-any.whl (5.3 kB)\n",
            "Requirement already satisfied: requests~=2.20 in /usr/local/lib/python3.9/dist-packages (from berserk-downstream) (2.27.1)\n",
            "Requirement already satisfied: wrapt<2,>=1.10 in /usr/local/lib/python3.9/dist-packages (from deprecated~=1.2.7->berserk-downstream) (1.15.0)\n",
            "Requirement already satisfied: charset-normalizer~=2.0.0 in /usr/local/lib/python3.9/dist-packages (from requests~=2.20->berserk-downstream) (2.0.12)\n",
            "Requirement already satisfied: idna<4,>=2.5 in /usr/local/lib/python3.9/dist-packages (from requests~=2.20->berserk-downstream) (3.4)\n",
            "Requirement already satisfied: urllib3<1.27,>=1.21.1 in /usr/local/lib/python3.9/dist-packages (from requests~=2.20->berserk-downstream) (1.26.15)\n",
            "Requirement already satisfied: certifi>=2017.4.17 in /usr/local/lib/python3.9/dist-packages (from requests~=2.20->berserk-downstream) (2022.12.7)\n",
            "Installing collected packages: ndjson, deprecated, berserk-downstream\n",
            "Successfully installed berserk-downstream-0.11.12 deprecated-1.2.13 ndjson-0.3.1\n"
          ]
        }
      ]
    },
    {
      "cell_type": "code",
      "source": [
        "import berserk\n",
        "API_TOKEN = 'lip_n0baIeEKy4DoGmrJcHL4'\n",
        "session = berserk.TokenSession(API_TOKEN)\n",
        "client = berserk.Client(session=session)"
      ],
      "metadata": {
        "id": "zCCo5zKFLhcH"
      },
      "execution_count": 8,
      "outputs": []
    },
    {
      "cell_type": "code",
      "source": [
        "var = client.tournaments.get()"
      ],
      "metadata": {
        "id": "bJWMDz6MMoVX"
      },
      "execution_count": 25,
      "outputs": []
    },
    {
      "cell_type": "code",
      "source": [
        "for key in var.keys():\n",
        "  print(key)"
      ],
      "metadata": {
        "colab": {
          "base_uri": "https://localhost:8080/"
        },
        "id": "SmPI9ILDOH-C",
        "outputId": "fe938d6e-bcf5-459f-af52-536e24546e6d"
      },
      "execution_count": 26,
      "outputs": [
        {
          "output_type": "stream",
          "name": "stdout",
          "text": [
            "created\n",
            "started\n",
            "finished\n"
          ]
        }
      ]
    },
    {
      "cell_type": "code",
      "source": [
        "print(var.get('finished'))"
      ],
      "metadata": {
        "colab": {
          "base_uri": "https://localhost:8080/"
        },
        "id": "FPzqsw_xOTRn",
        "outputId": "68e328a1-00f6-4d70-9779-e7eb1161de1a"
      },
      "execution_count": 27,
      "outputs": [
        {
          "output_type": "stream",
          "name": "stdout",
          "text": [
            "[{'id': 'mvozGrxl', 'createdBy': 'lichess', 'system': 'arena', 'minutes': 27, 'clock': {'limit': 15, 'increment': 0}, 'rated': True, 'fullName': 'Hourly UltraBullet Arena', 'nbPlayers': 83, 'variant': {'key': 'standard', 'short': 'Std', 'name': 'Standard'}, 'startsAt': datetime.datetime(2023, 3, 20, 8, 30, 46, tzinfo=datetime.timezone.utc), 'finishesAt': datetime.datetime(2023, 3, 20, 8, 57, 46, tzinfo=datetime.timezone.utc), 'status': 30, 'perf': {'key': 'ultraBullet', 'name': 'UltraBullet', 'position': 4, 'icon': '{'}, 'schedule': {'freq': 'hourly', 'speed': 'ultraBullet'}, 'winner': {'id': 'aditya-beast', 'name': 'Aditya-Beast', 'title': None}}, {'id': '5ovCynTj', 'createdBy': 'lichess', 'system': 'arena', 'minutes': 27, 'clock': {'limit': 60, 'increment': 0}, 'rated': True, 'fullName': 'Hourly Crazyhouse Arena', 'nbPlayers': 53, 'variant': {'key': 'crazyhouse', 'short': 'Crazy', 'name': 'Crazyhouse'}, 'startsAt': datetime.datetime(2023, 3, 20, 8, 30, 15, tzinfo=datetime.timezone.utc), 'finishesAt': datetime.datetime(2023, 3, 20, 8, 57, 15, tzinfo=datetime.timezone.utc), 'status': 30, 'perf': {'key': 'crazyhouse', 'name': 'Crazyhouse', 'position': 5}, 'schedule': {'freq': 'hourly', 'speed': 'bullet'}, 'winner': {'id': 'tranquilizerr', 'name': 'Tranquilizerr', 'title': None}}, {'id': 'iFX2ykzw', 'createdBy': 'lichess', 'system': 'arena', 'minutes': 27, 'clock': {'limit': 60, 'increment': 1}, 'rated': True, 'fullName': '≤1300 Bullet Arena', 'nbPlayers': 55, 'variant': {'key': 'standard', 'short': 'Std', 'name': 'Standard'}, 'startsAt': datetime.datetime(2023, 3, 20, 8, 30, 6, tzinfo=datetime.timezone.utc), 'finishesAt': datetime.datetime(2023, 3, 20, 8, 57, 6, tzinfo=datetime.timezone.utc), 'status': 30, 'perf': {'key': 'bullet', 'name': 'Bullet', 'position': 0, 'icon': 'T'}, 'hasMaxRating': True, 'maxRating': {'perf': 'bullet', 'rating': 1300}, 'minRatedGames': {'nb': 20, 'perf': 'bullet'}, 'schedule': {'freq': 'hourly', 'speed': 'bullet'}, 'winner': {'id': 'kasketkarl', 'name': 'kasketkarl', 'title': None}}, {'id': 'b7iCIMPC', 'createdBy': 'lichess', 'system': 'arena', 'minutes': 27, 'clock': {'limit': 60, 'increment': 0}, 'rated': True, 'fullName': 'Hourly Bullet Arena', 'nbPlayers': 255, 'variant': {'key': 'standard', 'short': 'Std', 'name': 'Standard'}, 'startsAt': datetime.datetime(2023, 3, 20, 8, 30, 3, tzinfo=datetime.timezone.utc), 'finishesAt': datetime.datetime(2023, 3, 20, 8, 57, 3, tzinfo=datetime.timezone.utc), 'status': 30, 'perf': {'key': 'bullet', 'name': 'Bullet', 'position': 0, 'icon': 'T'}, 'minRatedGames': {'nb': 20, 'perf': 'bullet'}, 'schedule': {'freq': 'hourly', 'speed': 'bullet'}, 'winner': {'id': 'sergeynadeev', 'name': 'SergeyNadeev', 'title': None}}, {'id': 'ufqqGz59', 'createdBy': 'lichess', 'system': 'arena', 'minutes': 27, 'clock': {'limit': 30, 'increment': 0}, 'rated': True, 'fullName': 'Hourly HyperBullet Arena', 'nbPlayers': 66, 'variant': {'key': 'standard', 'short': 'Std', 'name': 'Standard'}, 'startsAt': datetime.datetime(2023, 3, 20, 8, 0, 59, tzinfo=datetime.timezone.utc), 'finishesAt': datetime.datetime(2023, 3, 20, 8, 27, 59, tzinfo=datetime.timezone.utc), 'status': 30, 'perf': {'key': 'bullet', 'name': 'Bullet', 'position': 0, 'icon': 'T'}, 'minRatedGames': {'nb': 20, 'perf': 'bullet'}, 'schedule': {'freq': 'hourly', 'speed': 'hyperBullet'}, 'winner': {'id': 'lelouchkx', 'name': 'LelouchKX', 'title': None}}, {'id': '5vUFkon3', 'createdBy': 'lichess', 'system': 'arena', 'minutes': 57, 'clock': {'limit': 180, 'increment': 0}, 'rated': True, 'fullName': '≤2000 SuperBlitz Arena', 'nbPlayers': 488, 'variant': {'key': 'standard', 'short': 'Std', 'name': 'Standard'}, 'startsAt': datetime.datetime(2023, 3, 20, 8, 0, 55, tzinfo=datetime.timezone.utc), 'finishesAt': datetime.datetime(2023, 3, 20, 8, 57, 55, tzinfo=datetime.timezone.utc), 'status': 30, 'perf': {'key': 'blitz', 'name': 'Blitz', 'position': 1, 'icon': ')'}, 'hasMaxRating': True, 'maxRating': {'perf': 'blitz', 'rating': 2000}, 'minRatedGames': {'nb': 20, 'perf': 'blitz'}, 'schedule': {'freq': 'hourly', 'speed': 'superBlitz'}, 'winner': {'id': 'mr_alex_green', 'name': 'Mr_Alex_Green', 'title': None}}, {'id': '7CjRB9PE', 'createdBy': 'lichess', 'system': 'arena', 'minutes': 57, 'clock': {'limit': 300, 'increment': 0}, 'rated': True, 'fullName': '≤1700 Blitz Arena', 'nbPlayers': 364, 'variant': {'key': 'standard', 'short': 'Std', 'name': 'Standard'}, 'startsAt': datetime.datetime(2023, 3, 20, 8, 0, 54, tzinfo=datetime.timezone.utc), 'finishesAt': datetime.datetime(2023, 3, 20, 8, 57, 54, tzinfo=datetime.timezone.utc), 'status': 30, 'perf': {'key': 'blitz', 'name': 'Blitz', 'position': 1, 'icon': ')'}, 'hasMaxRating': True, 'maxRating': {'perf': 'blitz', 'rating': 1700}, 'minRatedGames': {'nb': 20, 'perf': 'blitz'}, 'schedule': {'freq': 'hourly', 'speed': 'blitz'}, 'winner': {'id': 'dolanan_kayu', 'name': 'dolanan_kayu', 'title': None}}, {'id': 'yZ5od4AW', 'createdBy': 'lichess', 'system': 'arena', 'minutes': 57, 'clock': {'limit': 300, 'increment': 0}, 'rated': True, 'fullName': 'Hourly Blitz Arena', 'nbPlayers': 342, 'variant': {'key': 'standard', 'short': 'Std', 'name': 'Standard'}, 'startsAt': datetime.datetime(2023, 3, 20, 8, 0, 50, tzinfo=datetime.timezone.utc), 'finishesAt': datetime.datetime(2023, 3, 20, 8, 57, 50, tzinfo=datetime.timezone.utc), 'status': 30, 'perf': {'key': 'blitz', 'name': 'Blitz', 'position': 1, 'icon': ')'}, 'minRatedGames': {'nb': 15, 'perf': 'blitz'}, 'schedule': {'freq': 'hourly', 'speed': 'blitz'}, 'winner': {'id': 'sergei0303', 'name': 'Sergei0303', 'title': None}}, {'id': 'fDG3PNBA', 'createdBy': 'lichess', 'system': 'arena', 'minutes': 27, 'clock': {'limit': 60, 'increment': 0}, 'rated': True, 'fullName': 'Hourly Crazyhouse Arena', 'nbPlayers': 42, 'variant': {'key': 'crazyhouse', 'short': 'Crazy', 'name': 'Crazyhouse'}, 'startsAt': datetime.datetime(2023, 3, 20, 8, 0, 49, tzinfo=datetime.timezone.utc), 'finishesAt': datetime.datetime(2023, 3, 20, 8, 27, 49, tzinfo=datetime.timezone.utc), 'status': 30, 'perf': {'key': 'crazyhouse', 'name': 'Crazyhouse', 'position': 5}, 'schedule': {'freq': 'hourly', 'speed': 'bullet'}, 'winner': {'id': 'zim-ovokodibad', 'name': 'ZIM-ovokodibad', 'title': None}}, {'id': 'DxlQzs89', 'createdBy': 'lichess', 'system': 'arena', 'minutes': 57, 'clock': {'limit': 600, 'increment': 0}, 'rated': True, 'fullName': '≤1500 Rapid Arena', 'nbPlayers': 141, 'variant': {'key': 'standard', 'short': 'Std', 'name': 'Standard'}, 'startsAt': datetime.datetime(2023, 3, 20, 8, 0, 42, tzinfo=datetime.timezone.utc), 'finishesAt': datetime.datetime(2023, 3, 20, 8, 57, 42, tzinfo=datetime.timezone.utc), 'status': 30, 'perf': {'key': 'rapid', 'name': 'Rapid', 'position': 2, 'icon': '#'}, 'hasMaxRating': True, 'maxRating': {'perf': 'rapid', 'rating': 1500}, 'minRatedGames': {'nb': 20, 'perf': 'rapid'}, 'schedule': {'freq': 'hourly', 'speed': 'rapid'}, 'winner': {'id': 'maks08032013', 'name': 'Maks08032013', 'title': None}}, {'id': 'l9YUhyh8', 'createdBy': 'lichess', 'system': 'arena', 'minutes': 27, 'clock': {'limit': 60, 'increment': 0}, 'rated': True, 'fullName': '≤1300 Bullet Arena', 'nbPlayers': 41, 'variant': {'key': 'standard', 'short': 'Std', 'name': 'Standard'}, 'startsAt': datetime.datetime(2023, 3, 20, 8, 0, 37, tzinfo=datetime.timezone.utc), 'finishesAt': datetime.datetime(2023, 3, 20, 8, 27, 37, tzinfo=datetime.timezone.utc), 'status': 30, 'perf': {'key': 'bullet', 'name': 'Bullet', 'position': 0, 'icon': 'T'}, 'hasMaxRating': True, 'maxRating': {'perf': 'bullet', 'rating': 1300}, 'minRatedGames': {'nb': 20, 'perf': 'bullet'}, 'schedule': {'freq': 'hourly', 'speed': 'bullet'}, 'winner': {'id': 'salihinciell', 'name': 'salihinciell', 'title': None}}, {'id': 'SUHvCsOW', 'createdBy': 'lichess', 'system': 'arena', 'minutes': 27, 'clock': {'limit': 60, 'increment': 0}, 'rated': True, 'fullName': 'Hourly Bullet Arena', 'nbPlayers': 234, 'variant': {'key': 'standard', 'short': 'Std', 'name': 'Standard'}, 'startsAt': datetime.datetime(2023, 3, 20, 8, 0, 22, tzinfo=datetime.timezone.utc), 'finishesAt': datetime.datetime(2023, 3, 20, 8, 27, 22, tzinfo=datetime.timezone.utc), 'status': 30, 'perf': {'key': 'bullet', 'name': 'Bullet', 'position': 0, 'icon': 'T'}, 'minRatedGames': {'nb': 20, 'perf': 'bullet'}, 'schedule': {'freq': 'hourly', 'speed': 'bullet'}, 'winner': {'id': 'mech_vozmezdiy', 'name': 'Mech_Vozmezdiy', 'title': None}}, {'id': 'CkJHDmYi', 'createdBy': 'lichess', 'system': 'arena', 'minutes': 57, 'clock': {'limit': 300, 'increment': 0}, 'rated': True, 'fullName': 'Hourly Racing Kings Arena', 'nbPlayers': 51, 'variant': {'key': 'racingKings', 'short': 'Racing', 'name': 'Racing Kings'}, 'startsAt': datetime.datetime(2023, 3, 20, 8, 0, 13, tzinfo=datetime.timezone.utc), 'finishesAt': datetime.datetime(2023, 3, 20, 8, 57, 13, tzinfo=datetime.timezone.utc), 'status': 30, 'perf': {'key': 'racingKings', 'name': 'Racing Kings', 'position': 12}, 'schedule': {'freq': 'hourly', 'speed': 'blitz'}, 'winner': {'id': 'yura-11', 'name': 'Yura-11', 'title': None}}, {'id': '3rK1hFHS', 'createdBy': 'lichess', 'system': 'arena', 'minutes': 57, 'clock': {'limit': 180, 'increment': 0}, 'rated': True, 'fullName': 'Hourly SuperBlitz Arena', 'nbPlayers': 680, 'variant': {'key': 'standard', 'short': 'Std', 'name': 'Standard'}, 'startsAt': datetime.datetime(2023, 3, 20, 8, 0, 7, tzinfo=datetime.timezone.utc), 'finishesAt': datetime.datetime(2023, 3, 20, 8, 57, 7, tzinfo=datetime.timezone.utc), 'status': 30, 'perf': {'key': 'blitz', 'name': 'Blitz', 'position': 1, 'icon': ')'}, 'minRatedGames': {'nb': 15, 'perf': 'blitz'}, 'schedule': {'freq': 'hourly', 'speed': 'superBlitz'}, 'winner': {'id': 'ramiz-dema', 'name': 'ramiz-dema', 'title': None}}, {'id': 'ZI8nDMCS', 'createdBy': 'lichess', 'system': 'arena', 'minutes': 57, 'clock': {'limit': 120, 'increment': 0}, 'rated': True, 'fullName': 'Hourly Atomic Arena', 'nbPlayers': 101, 'variant': {'key': 'atomic', 'short': 'Atom', 'name': 'Atomic'}, 'startsAt': datetime.datetime(2023, 3, 20, 8, 0, 3, tzinfo=datetime.timezone.utc), 'finishesAt': datetime.datetime(2023, 3, 20, 8, 57, 3, tzinfo=datetime.timezone.utc), 'status': 30, 'perf': {'key': 'atomic', 'name': 'Atomic', 'position': 10}, 'schedule': {'freq': 'hourly', 'speed': 'hippoBullet'}, 'winner': {'id': 'berimanzega_rkccntt', 'name': 'BerimanZega_RKCCNTT', 'title': None}}, {'id': 'jXmBGTfy', 'createdBy': 'lichess', 'system': 'arena', 'minutes': 27, 'clock': {'limit': 60, 'increment': 1}, 'rated': True, 'fullName': '≤2000 Bullet Arena', 'nbPlayers': 176, 'variant': {'key': 'standard', 'short': 'Std', 'name': 'Standard'}, 'startsAt': datetime.datetime(2023, 3, 20, 7, 30, 29, tzinfo=datetime.timezone.utc), 'finishesAt': datetime.datetime(2023, 3, 20, 7, 57, 29, tzinfo=datetime.timezone.utc), 'status': 30, 'perf': {'key': 'bullet', 'name': 'Bullet', 'position': 0, 'icon': 'T'}, 'hasMaxRating': True, 'maxRating': {'perf': 'bullet', 'rating': 2000}, 'minRatedGames': {'nb': 20, 'perf': 'bullet'}, 'schedule': {'freq': 'hourly', 'speed': 'bullet'}, 'winner': {'id': 'samuelkumar', 'name': 'samuelkumar', 'title': None}}, {'id': 'fcphih1o', 'createdBy': 'lichess', 'system': 'arena', 'minutes': 27, 'clock': {'limit': 60, 'increment': 0}, 'rated': True, 'fullName': 'Hourly Bullet Arena', 'nbPlayers': 237, 'variant': {'key': 'standard', 'short': 'Std', 'name': 'Standard'}, 'startsAt': datetime.datetime(2023, 3, 20, 7, 30, 23, tzinfo=datetime.timezone.utc), 'finishesAt': datetime.datetime(2023, 3, 20, 7, 57, 23, tzinfo=datetime.timezone.utc), 'status': 30, 'perf': {'key': 'bullet', 'name': 'Bullet', 'position': 0, 'icon': 'T'}, 'minRatedGames': {'nb': 20, 'perf': 'bullet'}, 'schedule': {'freq': 'hourly', 'speed': 'bullet'}, 'winner': {'id': 'nat74', 'name': 'Nat74', 'title': None}}, {'id': 'KZ8J5S4v', 'createdBy': 'lichess', 'system': 'arena', 'minutes': 27, 'clock': {'limit': 15, 'increment': 0}, 'rated': True, 'fullName': 'Hourly UltraBullet Arena', 'nbPlayers': 98, 'variant': {'key': 'standard', 'short': 'Std', 'name': 'Standard'}, 'startsAt': datetime.datetime(2023, 3, 20, 7, 30, tzinfo=datetime.timezone.utc), 'finishesAt': datetime.datetime(2023, 3, 20, 7, 57, tzinfo=datetime.timezone.utc), 'status': 30, 'perf': {'key': 'ultraBullet', 'name': 'UltraBullet', 'position': 4, 'icon': '{'}, 'schedule': {'freq': 'hourly', 'speed': 'ultraBullet'}, 'winner': {'id': 'coachonline', 'name': 'CoachOnline', 'title': None}}, {'id': 'DKNrqoz3', 'createdBy': 'lichess', 'system': 'arena', 'minutes': 57, 'clock': {'limit': 600, 'increment': 0}, 'rated': True, 'fullName': '≤1300 Rapid Arena', 'nbPlayers': 99, 'variant': {'key': 'standard', 'short': 'Std', 'name': 'Standard'}, 'startsAt': datetime.datetime(2023, 3, 20, 7, 0, 55, tzinfo=datetime.timezone.utc), 'finishesAt': datetime.datetime(2023, 3, 20, 7, 57, 55, tzinfo=datetime.timezone.utc), 'status': 30, 'perf': {'key': 'rapid', 'name': 'Rapid', 'position': 2, 'icon': '#'}, 'hasMaxRating': True, 'maxRating': {'perf': 'rapid', 'rating': 1300}, 'minRatedGames': {'nb': 20, 'perf': 'rapid'}, 'schedule': {'freq': 'hourly', 'speed': 'rapid'}, 'winner': {'id': 'stas03042020', 'name': 'Stas03042020', 'title': None}}, {'id': 'yWaHK6lW', 'createdBy': 'lichess', 'system': 'arena', 'minutes': 57, 'clock': {'limit': 180, 'increment': 0}, 'rated': True, 'fullName': 'Hourly Horde Arena', 'nbPlayers': 33, 'variant': {'key': 'horde', 'short': 'Horde', 'name': 'Horde'}, 'startsAt': datetime.datetime(2023, 3, 20, 7, 0, 48, tzinfo=datetime.timezone.utc), 'finishesAt': datetime.datetime(2023, 3, 20, 7, 57, 48, tzinfo=datetime.timezone.utc), 'status': 30, 'perf': {'key': 'horde', 'name': 'Horde', 'position': 11}, 'schedule': {'freq': 'hourly', 'speed': 'superBlitz'}, 'winner': {'id': 'bagera9', 'name': 'bagera9', 'title': None}}]\n"
          ]
        }
      ]
    },
    {
      "cell_type": "code",
      "source": [
        "finished_tourn = var.get('finished')"
      ],
      "metadata": {
        "id": "RVfbEN7OQMUO"
      },
      "execution_count": 30,
      "outputs": []
    },
    {
      "cell_type": "code",
      "source": [
        "print(finished_tourn)"
      ],
      "metadata": {
        "colab": {
          "base_uri": "https://localhost:8080/"
        },
        "id": "pQ3LlZLzQjMs",
        "outputId": "49e839fc-d55b-4798-bd11-0873519e4775"
      },
      "execution_count": 32,
      "outputs": [
        {
          "output_type": "stream",
          "name": "stdout",
          "text": [
            "[{'id': 'mvozGrxl', 'createdBy': 'lichess', 'system': 'arena', 'minutes': 27, 'clock': {'limit': 15, 'increment': 0}, 'rated': True, 'fullName': 'Hourly UltraBullet Arena', 'nbPlayers': 83, 'variant': {'key': 'standard', 'short': 'Std', 'name': 'Standard'}, 'startsAt': datetime.datetime(2023, 3, 20, 8, 30, 46, tzinfo=datetime.timezone.utc), 'finishesAt': datetime.datetime(2023, 3, 20, 8, 57, 46, tzinfo=datetime.timezone.utc), 'status': 30, 'perf': {'key': 'ultraBullet', 'name': 'UltraBullet', 'position': 4, 'icon': '{'}, 'schedule': {'freq': 'hourly', 'speed': 'ultraBullet'}, 'winner': {'id': 'aditya-beast', 'name': 'Aditya-Beast', 'title': None}}, {'id': '5ovCynTj', 'createdBy': 'lichess', 'system': 'arena', 'minutes': 27, 'clock': {'limit': 60, 'increment': 0}, 'rated': True, 'fullName': 'Hourly Crazyhouse Arena', 'nbPlayers': 53, 'variant': {'key': 'crazyhouse', 'short': 'Crazy', 'name': 'Crazyhouse'}, 'startsAt': datetime.datetime(2023, 3, 20, 8, 30, 15, tzinfo=datetime.timezone.utc), 'finishesAt': datetime.datetime(2023, 3, 20, 8, 57, 15, tzinfo=datetime.timezone.utc), 'status': 30, 'perf': {'key': 'crazyhouse', 'name': 'Crazyhouse', 'position': 5}, 'schedule': {'freq': 'hourly', 'speed': 'bullet'}, 'winner': {'id': 'tranquilizerr', 'name': 'Tranquilizerr', 'title': None}}, {'id': 'iFX2ykzw', 'createdBy': 'lichess', 'system': 'arena', 'minutes': 27, 'clock': {'limit': 60, 'increment': 1}, 'rated': True, 'fullName': '≤1300 Bullet Arena', 'nbPlayers': 55, 'variant': {'key': 'standard', 'short': 'Std', 'name': 'Standard'}, 'startsAt': datetime.datetime(2023, 3, 20, 8, 30, 6, tzinfo=datetime.timezone.utc), 'finishesAt': datetime.datetime(2023, 3, 20, 8, 57, 6, tzinfo=datetime.timezone.utc), 'status': 30, 'perf': {'key': 'bullet', 'name': 'Bullet', 'position': 0, 'icon': 'T'}, 'hasMaxRating': True, 'maxRating': {'perf': 'bullet', 'rating': 1300}, 'minRatedGames': {'nb': 20, 'perf': 'bullet'}, 'schedule': {'freq': 'hourly', 'speed': 'bullet'}, 'winner': {'id': 'kasketkarl', 'name': 'kasketkarl', 'title': None}}, {'id': 'b7iCIMPC', 'createdBy': 'lichess', 'system': 'arena', 'minutes': 27, 'clock': {'limit': 60, 'increment': 0}, 'rated': True, 'fullName': 'Hourly Bullet Arena', 'nbPlayers': 255, 'variant': {'key': 'standard', 'short': 'Std', 'name': 'Standard'}, 'startsAt': datetime.datetime(2023, 3, 20, 8, 30, 3, tzinfo=datetime.timezone.utc), 'finishesAt': datetime.datetime(2023, 3, 20, 8, 57, 3, tzinfo=datetime.timezone.utc), 'status': 30, 'perf': {'key': 'bullet', 'name': 'Bullet', 'position': 0, 'icon': 'T'}, 'minRatedGames': {'nb': 20, 'perf': 'bullet'}, 'schedule': {'freq': 'hourly', 'speed': 'bullet'}, 'winner': {'id': 'sergeynadeev', 'name': 'SergeyNadeev', 'title': None}}, {'id': 'ufqqGz59', 'createdBy': 'lichess', 'system': 'arena', 'minutes': 27, 'clock': {'limit': 30, 'increment': 0}, 'rated': True, 'fullName': 'Hourly HyperBullet Arena', 'nbPlayers': 66, 'variant': {'key': 'standard', 'short': 'Std', 'name': 'Standard'}, 'startsAt': datetime.datetime(2023, 3, 20, 8, 0, 59, tzinfo=datetime.timezone.utc), 'finishesAt': datetime.datetime(2023, 3, 20, 8, 27, 59, tzinfo=datetime.timezone.utc), 'status': 30, 'perf': {'key': 'bullet', 'name': 'Bullet', 'position': 0, 'icon': 'T'}, 'minRatedGames': {'nb': 20, 'perf': 'bullet'}, 'schedule': {'freq': 'hourly', 'speed': 'hyperBullet'}, 'winner': {'id': 'lelouchkx', 'name': 'LelouchKX', 'title': None}}, {'id': '5vUFkon3', 'createdBy': 'lichess', 'system': 'arena', 'minutes': 57, 'clock': {'limit': 180, 'increment': 0}, 'rated': True, 'fullName': '≤2000 SuperBlitz Arena', 'nbPlayers': 488, 'variant': {'key': 'standard', 'short': 'Std', 'name': 'Standard'}, 'startsAt': datetime.datetime(2023, 3, 20, 8, 0, 55, tzinfo=datetime.timezone.utc), 'finishesAt': datetime.datetime(2023, 3, 20, 8, 57, 55, tzinfo=datetime.timezone.utc), 'status': 30, 'perf': {'key': 'blitz', 'name': 'Blitz', 'position': 1, 'icon': ')'}, 'hasMaxRating': True, 'maxRating': {'perf': 'blitz', 'rating': 2000}, 'minRatedGames': {'nb': 20, 'perf': 'blitz'}, 'schedule': {'freq': 'hourly', 'speed': 'superBlitz'}, 'winner': {'id': 'mr_alex_green', 'name': 'Mr_Alex_Green', 'title': None}}, {'id': '7CjRB9PE', 'createdBy': 'lichess', 'system': 'arena', 'minutes': 57, 'clock': {'limit': 300, 'increment': 0}, 'rated': True, 'fullName': '≤1700 Blitz Arena', 'nbPlayers': 364, 'variant': {'key': 'standard', 'short': 'Std', 'name': 'Standard'}, 'startsAt': datetime.datetime(2023, 3, 20, 8, 0, 54, tzinfo=datetime.timezone.utc), 'finishesAt': datetime.datetime(2023, 3, 20, 8, 57, 54, tzinfo=datetime.timezone.utc), 'status': 30, 'perf': {'key': 'blitz', 'name': 'Blitz', 'position': 1, 'icon': ')'}, 'hasMaxRating': True, 'maxRating': {'perf': 'blitz', 'rating': 1700}, 'minRatedGames': {'nb': 20, 'perf': 'blitz'}, 'schedule': {'freq': 'hourly', 'speed': 'blitz'}, 'winner': {'id': 'dolanan_kayu', 'name': 'dolanan_kayu', 'title': None}}, {'id': 'yZ5od4AW', 'createdBy': 'lichess', 'system': 'arena', 'minutes': 57, 'clock': {'limit': 300, 'increment': 0}, 'rated': True, 'fullName': 'Hourly Blitz Arena', 'nbPlayers': 342, 'variant': {'key': 'standard', 'short': 'Std', 'name': 'Standard'}, 'startsAt': datetime.datetime(2023, 3, 20, 8, 0, 50, tzinfo=datetime.timezone.utc), 'finishesAt': datetime.datetime(2023, 3, 20, 8, 57, 50, tzinfo=datetime.timezone.utc), 'status': 30, 'perf': {'key': 'blitz', 'name': 'Blitz', 'position': 1, 'icon': ')'}, 'minRatedGames': {'nb': 15, 'perf': 'blitz'}, 'schedule': {'freq': 'hourly', 'speed': 'blitz'}, 'winner': {'id': 'sergei0303', 'name': 'Sergei0303', 'title': None}}, {'id': 'fDG3PNBA', 'createdBy': 'lichess', 'system': 'arena', 'minutes': 27, 'clock': {'limit': 60, 'increment': 0}, 'rated': True, 'fullName': 'Hourly Crazyhouse Arena', 'nbPlayers': 42, 'variant': {'key': 'crazyhouse', 'short': 'Crazy', 'name': 'Crazyhouse'}, 'startsAt': datetime.datetime(2023, 3, 20, 8, 0, 49, tzinfo=datetime.timezone.utc), 'finishesAt': datetime.datetime(2023, 3, 20, 8, 27, 49, tzinfo=datetime.timezone.utc), 'status': 30, 'perf': {'key': 'crazyhouse', 'name': 'Crazyhouse', 'position': 5}, 'schedule': {'freq': 'hourly', 'speed': 'bullet'}, 'winner': {'id': 'zim-ovokodibad', 'name': 'ZIM-ovokodibad', 'title': None}}, {'id': 'DxlQzs89', 'createdBy': 'lichess', 'system': 'arena', 'minutes': 57, 'clock': {'limit': 600, 'increment': 0}, 'rated': True, 'fullName': '≤1500 Rapid Arena', 'nbPlayers': 141, 'variant': {'key': 'standard', 'short': 'Std', 'name': 'Standard'}, 'startsAt': datetime.datetime(2023, 3, 20, 8, 0, 42, tzinfo=datetime.timezone.utc), 'finishesAt': datetime.datetime(2023, 3, 20, 8, 57, 42, tzinfo=datetime.timezone.utc), 'status': 30, 'perf': {'key': 'rapid', 'name': 'Rapid', 'position': 2, 'icon': '#'}, 'hasMaxRating': True, 'maxRating': {'perf': 'rapid', 'rating': 1500}, 'minRatedGames': {'nb': 20, 'perf': 'rapid'}, 'schedule': {'freq': 'hourly', 'speed': 'rapid'}, 'winner': {'id': 'maks08032013', 'name': 'Maks08032013', 'title': None}}, {'id': 'l9YUhyh8', 'createdBy': 'lichess', 'system': 'arena', 'minutes': 27, 'clock': {'limit': 60, 'increment': 0}, 'rated': True, 'fullName': '≤1300 Bullet Arena', 'nbPlayers': 41, 'variant': {'key': 'standard', 'short': 'Std', 'name': 'Standard'}, 'startsAt': datetime.datetime(2023, 3, 20, 8, 0, 37, tzinfo=datetime.timezone.utc), 'finishesAt': datetime.datetime(2023, 3, 20, 8, 27, 37, tzinfo=datetime.timezone.utc), 'status': 30, 'perf': {'key': 'bullet', 'name': 'Bullet', 'position': 0, 'icon': 'T'}, 'hasMaxRating': True, 'maxRating': {'perf': 'bullet', 'rating': 1300}, 'minRatedGames': {'nb': 20, 'perf': 'bullet'}, 'schedule': {'freq': 'hourly', 'speed': 'bullet'}, 'winner': {'id': 'salihinciell', 'name': 'salihinciell', 'title': None}}, {'id': 'SUHvCsOW', 'createdBy': 'lichess', 'system': 'arena', 'minutes': 27, 'clock': {'limit': 60, 'increment': 0}, 'rated': True, 'fullName': 'Hourly Bullet Arena', 'nbPlayers': 234, 'variant': {'key': 'standard', 'short': 'Std', 'name': 'Standard'}, 'startsAt': datetime.datetime(2023, 3, 20, 8, 0, 22, tzinfo=datetime.timezone.utc), 'finishesAt': datetime.datetime(2023, 3, 20, 8, 27, 22, tzinfo=datetime.timezone.utc), 'status': 30, 'perf': {'key': 'bullet', 'name': 'Bullet', 'position': 0, 'icon': 'T'}, 'minRatedGames': {'nb': 20, 'perf': 'bullet'}, 'schedule': {'freq': 'hourly', 'speed': 'bullet'}, 'winner': {'id': 'mech_vozmezdiy', 'name': 'Mech_Vozmezdiy', 'title': None}}, {'id': 'CkJHDmYi', 'createdBy': 'lichess', 'system': 'arena', 'minutes': 57, 'clock': {'limit': 300, 'increment': 0}, 'rated': True, 'fullName': 'Hourly Racing Kings Arena', 'nbPlayers': 51, 'variant': {'key': 'racingKings', 'short': 'Racing', 'name': 'Racing Kings'}, 'startsAt': datetime.datetime(2023, 3, 20, 8, 0, 13, tzinfo=datetime.timezone.utc), 'finishesAt': datetime.datetime(2023, 3, 20, 8, 57, 13, tzinfo=datetime.timezone.utc), 'status': 30, 'perf': {'key': 'racingKings', 'name': 'Racing Kings', 'position': 12}, 'schedule': {'freq': 'hourly', 'speed': 'blitz'}, 'winner': {'id': 'yura-11', 'name': 'Yura-11', 'title': None}}, {'id': '3rK1hFHS', 'createdBy': 'lichess', 'system': 'arena', 'minutes': 57, 'clock': {'limit': 180, 'increment': 0}, 'rated': True, 'fullName': 'Hourly SuperBlitz Arena', 'nbPlayers': 680, 'variant': {'key': 'standard', 'short': 'Std', 'name': 'Standard'}, 'startsAt': datetime.datetime(2023, 3, 20, 8, 0, 7, tzinfo=datetime.timezone.utc), 'finishesAt': datetime.datetime(2023, 3, 20, 8, 57, 7, tzinfo=datetime.timezone.utc), 'status': 30, 'perf': {'key': 'blitz', 'name': 'Blitz', 'position': 1, 'icon': ')'}, 'minRatedGames': {'nb': 15, 'perf': 'blitz'}, 'schedule': {'freq': 'hourly', 'speed': 'superBlitz'}, 'winner': {'id': 'ramiz-dema', 'name': 'ramiz-dema', 'title': None}}, {'id': 'ZI8nDMCS', 'createdBy': 'lichess', 'system': 'arena', 'minutes': 57, 'clock': {'limit': 120, 'increment': 0}, 'rated': True, 'fullName': 'Hourly Atomic Arena', 'nbPlayers': 101, 'variant': {'key': 'atomic', 'short': 'Atom', 'name': 'Atomic'}, 'startsAt': datetime.datetime(2023, 3, 20, 8, 0, 3, tzinfo=datetime.timezone.utc), 'finishesAt': datetime.datetime(2023, 3, 20, 8, 57, 3, tzinfo=datetime.timezone.utc), 'status': 30, 'perf': {'key': 'atomic', 'name': 'Atomic', 'position': 10}, 'schedule': {'freq': 'hourly', 'speed': 'hippoBullet'}, 'winner': {'id': 'berimanzega_rkccntt', 'name': 'BerimanZega_RKCCNTT', 'title': None}}, {'id': 'jXmBGTfy', 'createdBy': 'lichess', 'system': 'arena', 'minutes': 27, 'clock': {'limit': 60, 'increment': 1}, 'rated': True, 'fullName': '≤2000 Bullet Arena', 'nbPlayers': 176, 'variant': {'key': 'standard', 'short': 'Std', 'name': 'Standard'}, 'startsAt': datetime.datetime(2023, 3, 20, 7, 30, 29, tzinfo=datetime.timezone.utc), 'finishesAt': datetime.datetime(2023, 3, 20, 7, 57, 29, tzinfo=datetime.timezone.utc), 'status': 30, 'perf': {'key': 'bullet', 'name': 'Bullet', 'position': 0, 'icon': 'T'}, 'hasMaxRating': True, 'maxRating': {'perf': 'bullet', 'rating': 2000}, 'minRatedGames': {'nb': 20, 'perf': 'bullet'}, 'schedule': {'freq': 'hourly', 'speed': 'bullet'}, 'winner': {'id': 'samuelkumar', 'name': 'samuelkumar', 'title': None}}, {'id': 'fcphih1o', 'createdBy': 'lichess', 'system': 'arena', 'minutes': 27, 'clock': {'limit': 60, 'increment': 0}, 'rated': True, 'fullName': 'Hourly Bullet Arena', 'nbPlayers': 237, 'variant': {'key': 'standard', 'short': 'Std', 'name': 'Standard'}, 'startsAt': datetime.datetime(2023, 3, 20, 7, 30, 23, tzinfo=datetime.timezone.utc), 'finishesAt': datetime.datetime(2023, 3, 20, 7, 57, 23, tzinfo=datetime.timezone.utc), 'status': 30, 'perf': {'key': 'bullet', 'name': 'Bullet', 'position': 0, 'icon': 'T'}, 'minRatedGames': {'nb': 20, 'perf': 'bullet'}, 'schedule': {'freq': 'hourly', 'speed': 'bullet'}, 'winner': {'id': 'nat74', 'name': 'Nat74', 'title': None}}, {'id': 'KZ8J5S4v', 'createdBy': 'lichess', 'system': 'arena', 'minutes': 27, 'clock': {'limit': 15, 'increment': 0}, 'rated': True, 'fullName': 'Hourly UltraBullet Arena', 'nbPlayers': 98, 'variant': {'key': 'standard', 'short': 'Std', 'name': 'Standard'}, 'startsAt': datetime.datetime(2023, 3, 20, 7, 30, tzinfo=datetime.timezone.utc), 'finishesAt': datetime.datetime(2023, 3, 20, 7, 57, tzinfo=datetime.timezone.utc), 'status': 30, 'perf': {'key': 'ultraBullet', 'name': 'UltraBullet', 'position': 4, 'icon': '{'}, 'schedule': {'freq': 'hourly', 'speed': 'ultraBullet'}, 'winner': {'id': 'coachonline', 'name': 'CoachOnline', 'title': None}}, {'id': 'DKNrqoz3', 'createdBy': 'lichess', 'system': 'arena', 'minutes': 57, 'clock': {'limit': 600, 'increment': 0}, 'rated': True, 'fullName': '≤1300 Rapid Arena', 'nbPlayers': 99, 'variant': {'key': 'standard', 'short': 'Std', 'name': 'Standard'}, 'startsAt': datetime.datetime(2023, 3, 20, 7, 0, 55, tzinfo=datetime.timezone.utc), 'finishesAt': datetime.datetime(2023, 3, 20, 7, 57, 55, tzinfo=datetime.timezone.utc), 'status': 30, 'perf': {'key': 'rapid', 'name': 'Rapid', 'position': 2, 'icon': '#'}, 'hasMaxRating': True, 'maxRating': {'perf': 'rapid', 'rating': 1300}, 'minRatedGames': {'nb': 20, 'perf': 'rapid'}, 'schedule': {'freq': 'hourly', 'speed': 'rapid'}, 'winner': {'id': 'stas03042020', 'name': 'Stas03042020', 'title': None}}, {'id': 'yWaHK6lW', 'createdBy': 'lichess', 'system': 'arena', 'minutes': 57, 'clock': {'limit': 180, 'increment': 0}, 'rated': True, 'fullName': 'Hourly Horde Arena', 'nbPlayers': 33, 'variant': {'key': 'horde', 'short': 'Horde', 'name': 'Horde'}, 'startsAt': datetime.datetime(2023, 3, 20, 7, 0, 48, tzinfo=datetime.timezone.utc), 'finishesAt': datetime.datetime(2023, 3, 20, 7, 57, 48, tzinfo=datetime.timezone.utc), 'status': 30, 'perf': {'key': 'horde', 'name': 'Horde', 'position': 11}, 'schedule': {'freq': 'hourly', 'speed': 'superBlitz'}, 'winner': {'id': 'bagera9', 'name': 'bagera9', 'title': None}}]\n"
          ]
        }
      ]
    },
    {
      "cell_type": "code",
      "source": [
        "data = finished_tourn[0].keys()"
      ],
      "metadata": {
        "id": "U1FQoiEjQ8sj"
      },
      "execution_count": 44,
      "outputs": []
    },
    {
      "cell_type": "code",
      "source": [
        "data"
      ],
      "metadata": {
        "colab": {
          "base_uri": "https://localhost:8080/"
        },
        "id": "sb283QwoRjrI",
        "outputId": "428bba77-e281-444e-d9c8-bcdad14ca461"
      },
      "execution_count": 45,
      "outputs": [
        {
          "output_type": "execute_result",
          "data": {
            "text/plain": [
              "dict_keys(['id', 'createdBy', 'system', 'minutes', 'clock', 'rated', 'fullName', 'nbPlayers', 'variant', 'startsAt', 'finishesAt', 'status', 'perf', 'schedule', 'winner'])"
            ]
          },
          "metadata": {},
          "execution_count": 45
        }
      ]
    },
    {
      "cell_type": "code",
      "source": [
        "val = []\n",
        "for i in range(len(finished_tourn)):\n",
        "  \n",
        "  a = finished_tourn[i].values()\n",
        "  val.append(a)\n",
        "len(val[0])"
      ],
      "metadata": {
        "colab": {
          "base_uri": "https://localhost:8080/"
        },
        "id": "Gh-QoxIwTeuS",
        "outputId": "a95dfea8-d475-4339-d672-6c74b850851e"
      },
      "execution_count": 55,
      "outputs": [
        {
          "output_type": "execute_result",
          "data": {
            "text/plain": [
              "15"
            ]
          },
          "metadata": {},
          "execution_count": 55
        }
      ]
    },
    {
      "cell_type": "code",
      "source": [
        "finished_tourn[0].values()"
      ],
      "metadata": {
        "colab": {
          "base_uri": "https://localhost:8080/"
        },
        "id": "hCsbFO6cWKuG",
        "outputId": "2477695c-a603-4c98-9c37-6e785f668968"
      },
      "execution_count": 60,
      "outputs": [
        {
          "output_type": "execute_result",
          "data": {
            "text/plain": [
              "dict_values(['mvozGrxl', 'lichess', 'arena', 27, {'limit': 15, 'increment': 0}, True, 'Hourly UltraBullet Arena', 83, {'key': 'standard', 'short': 'Std', 'name': 'Standard'}, datetime.datetime(2023, 3, 20, 8, 30, 46, tzinfo=datetime.timezone.utc), datetime.datetime(2023, 3, 20, 8, 57, 46, tzinfo=datetime.timezone.utc), 30, {'key': 'ultraBullet', 'name': 'UltraBullet', 'position': 4, 'icon': '{'}, {'freq': 'hourly', 'speed': 'ultraBullet'}, {'id': 'aditya-beast', 'name': 'Aditya-Beast', 'title': None}])"
            ]
          },
          "metadata": {},
          "execution_count": 60
        }
      ]
    },
    {
      "cell_type": "code",
      "source": [
        "df = pd.DataFrame(val,columns=data)"
      ],
      "metadata": {
        "colab": {
          "base_uri": "https://localhost:8080/",
          "height": 167
        },
        "id": "-mJzNHwsPcJ-",
        "outputId": "28469a93-62c1-48ca-98a2-9ef6e39ef66e"
      },
      "execution_count": 57,
      "outputs": [
        {
          "output_type": "error",
          "ename": "AttributeError",
          "evalue": "ignored",
          "traceback": [
            "\u001b[0;31m---------------------------------------------------------------------------\u001b[0m",
            "\u001b[0;31mAttributeError\u001b[0m                            Traceback (most recent call last)",
            "\u001b[0;32m<ipython-input-57-15b2f3d045e4>\u001b[0m in \u001b[0;36m<module>\u001b[0;34m\u001b[0m\n\u001b[0;32m----> 1\u001b[0;31m \u001b[0mdf\u001b[0m \u001b[0;34m=\u001b[0m \u001b[0mpd\u001b[0m\u001b[0;34m.\u001b[0m\u001b[0mDataFrame\u001b[0m\u001b[0;34m(\u001b[0m\u001b[0mval\u001b[0m\u001b[0;34m[\u001b[0m\u001b[0;36m0\u001b[0m\u001b[0;34m]\u001b[0m\u001b[0;34m.\u001b[0m\u001b[0mreshape\u001b[0m\u001b[0;34m(\u001b[0m\u001b[0;34m)\u001b[0m\u001b[0;34m,\u001b[0m\u001b[0mcolumns\u001b[0m\u001b[0;34m=\u001b[0m\u001b[0mdata\u001b[0m\u001b[0;34m)\u001b[0m\u001b[0;34m\u001b[0m\u001b[0;34m\u001b[0m\u001b[0m\n\u001b[0m",
            "\u001b[0;31mAttributeError\u001b[0m: 'dict_values' object has no attribute 'reshape'"
          ]
        }
      ]
    },
    {
      "cell_type": "code",
      "source": [
        "df"
      ],
      "metadata": {
        "colab": {
          "base_uri": "https://localhost:8080/",
          "height": 677
        },
        "id": "sfvXp16LP_9S",
        "outputId": "9582e693-e8c6-40db-e204-b7099297db84"
      },
      "execution_count": 29,
      "outputs": [
        {
          "output_type": "execute_result",
          "data": {
            "text/plain": [
              "    created  started  finished\n",
              "0       NaN      NaN       NaN\n",
              "1       NaN      NaN       NaN\n",
              "2       NaN      NaN       NaN\n",
              "3       NaN      NaN       NaN\n",
              "4       NaN      NaN       NaN\n",
              "5       NaN      NaN       NaN\n",
              "6       NaN      NaN       NaN\n",
              "7       NaN      NaN       NaN\n",
              "8       NaN      NaN       NaN\n",
              "9       NaN      NaN       NaN\n",
              "10      NaN      NaN       NaN\n",
              "11      NaN      NaN       NaN\n",
              "12      NaN      NaN       NaN\n",
              "13      NaN      NaN       NaN\n",
              "14      NaN      NaN       NaN\n",
              "15      NaN      NaN       NaN\n",
              "16      NaN      NaN       NaN\n",
              "17      NaN      NaN       NaN\n",
              "18      NaN      NaN       NaN\n",
              "19      NaN      NaN       NaN"
            ],
            "text/html": [
              "\n",
              "  <div id=\"df-0f263870-d8b7-484f-92c0-4107890ea77c\">\n",
              "    <div class=\"colab-df-container\">\n",
              "      <div>\n",
              "<style scoped>\n",
              "    .dataframe tbody tr th:only-of-type {\n",
              "        vertical-align: middle;\n",
              "    }\n",
              "\n",
              "    .dataframe tbody tr th {\n",
              "        vertical-align: top;\n",
              "    }\n",
              "\n",
              "    .dataframe thead th {\n",
              "        text-align: right;\n",
              "    }\n",
              "</style>\n",
              "<table border=\"1\" class=\"dataframe\">\n",
              "  <thead>\n",
              "    <tr style=\"text-align: right;\">\n",
              "      <th></th>\n",
              "      <th>created</th>\n",
              "      <th>started</th>\n",
              "      <th>finished</th>\n",
              "    </tr>\n",
              "  </thead>\n",
              "  <tbody>\n",
              "    <tr>\n",
              "      <th>0</th>\n",
              "      <td>NaN</td>\n",
              "      <td>NaN</td>\n",
              "      <td>NaN</td>\n",
              "    </tr>\n",
              "    <tr>\n",
              "      <th>1</th>\n",
              "      <td>NaN</td>\n",
              "      <td>NaN</td>\n",
              "      <td>NaN</td>\n",
              "    </tr>\n",
              "    <tr>\n",
              "      <th>2</th>\n",
              "      <td>NaN</td>\n",
              "      <td>NaN</td>\n",
              "      <td>NaN</td>\n",
              "    </tr>\n",
              "    <tr>\n",
              "      <th>3</th>\n",
              "      <td>NaN</td>\n",
              "      <td>NaN</td>\n",
              "      <td>NaN</td>\n",
              "    </tr>\n",
              "    <tr>\n",
              "      <th>4</th>\n",
              "      <td>NaN</td>\n",
              "      <td>NaN</td>\n",
              "      <td>NaN</td>\n",
              "    </tr>\n",
              "    <tr>\n",
              "      <th>5</th>\n",
              "      <td>NaN</td>\n",
              "      <td>NaN</td>\n",
              "      <td>NaN</td>\n",
              "    </tr>\n",
              "    <tr>\n",
              "      <th>6</th>\n",
              "      <td>NaN</td>\n",
              "      <td>NaN</td>\n",
              "      <td>NaN</td>\n",
              "    </tr>\n",
              "    <tr>\n",
              "      <th>7</th>\n",
              "      <td>NaN</td>\n",
              "      <td>NaN</td>\n",
              "      <td>NaN</td>\n",
              "    </tr>\n",
              "    <tr>\n",
              "      <th>8</th>\n",
              "      <td>NaN</td>\n",
              "      <td>NaN</td>\n",
              "      <td>NaN</td>\n",
              "    </tr>\n",
              "    <tr>\n",
              "      <th>9</th>\n",
              "      <td>NaN</td>\n",
              "      <td>NaN</td>\n",
              "      <td>NaN</td>\n",
              "    </tr>\n",
              "    <tr>\n",
              "      <th>10</th>\n",
              "      <td>NaN</td>\n",
              "      <td>NaN</td>\n",
              "      <td>NaN</td>\n",
              "    </tr>\n",
              "    <tr>\n",
              "      <th>11</th>\n",
              "      <td>NaN</td>\n",
              "      <td>NaN</td>\n",
              "      <td>NaN</td>\n",
              "    </tr>\n",
              "    <tr>\n",
              "      <th>12</th>\n",
              "      <td>NaN</td>\n",
              "      <td>NaN</td>\n",
              "      <td>NaN</td>\n",
              "    </tr>\n",
              "    <tr>\n",
              "      <th>13</th>\n",
              "      <td>NaN</td>\n",
              "      <td>NaN</td>\n",
              "      <td>NaN</td>\n",
              "    </tr>\n",
              "    <tr>\n",
              "      <th>14</th>\n",
              "      <td>NaN</td>\n",
              "      <td>NaN</td>\n",
              "      <td>NaN</td>\n",
              "    </tr>\n",
              "    <tr>\n",
              "      <th>15</th>\n",
              "      <td>NaN</td>\n",
              "      <td>NaN</td>\n",
              "      <td>NaN</td>\n",
              "    </tr>\n",
              "    <tr>\n",
              "      <th>16</th>\n",
              "      <td>NaN</td>\n",
              "      <td>NaN</td>\n",
              "      <td>NaN</td>\n",
              "    </tr>\n",
              "    <tr>\n",
              "      <th>17</th>\n",
              "      <td>NaN</td>\n",
              "      <td>NaN</td>\n",
              "      <td>NaN</td>\n",
              "    </tr>\n",
              "    <tr>\n",
              "      <th>18</th>\n",
              "      <td>NaN</td>\n",
              "      <td>NaN</td>\n",
              "      <td>NaN</td>\n",
              "    </tr>\n",
              "    <tr>\n",
              "      <th>19</th>\n",
              "      <td>NaN</td>\n",
              "      <td>NaN</td>\n",
              "      <td>NaN</td>\n",
              "    </tr>\n",
              "  </tbody>\n",
              "</table>\n",
              "</div>\n",
              "      <button class=\"colab-df-convert\" onclick=\"convertToInteractive('df-0f263870-d8b7-484f-92c0-4107890ea77c')\"\n",
              "              title=\"Convert this dataframe to an interactive table.\"\n",
              "              style=\"display:none;\">\n",
              "        \n",
              "  <svg xmlns=\"http://www.w3.org/2000/svg\" height=\"24px\"viewBox=\"0 0 24 24\"\n",
              "       width=\"24px\">\n",
              "    <path d=\"M0 0h24v24H0V0z\" fill=\"none\"/>\n",
              "    <path d=\"M18.56 5.44l.94 2.06.94-2.06 2.06-.94-2.06-.94-.94-2.06-.94 2.06-2.06.94zm-11 1L8.5 8.5l.94-2.06 2.06-.94-2.06-.94L8.5 2.5l-.94 2.06-2.06.94zm10 10l.94 2.06.94-2.06 2.06-.94-2.06-.94-.94-2.06-.94 2.06-2.06.94z\"/><path d=\"M17.41 7.96l-1.37-1.37c-.4-.4-.92-.59-1.43-.59-.52 0-1.04.2-1.43.59L10.3 9.45l-7.72 7.72c-.78.78-.78 2.05 0 2.83L4 21.41c.39.39.9.59 1.41.59.51 0 1.02-.2 1.41-.59l7.78-7.78 2.81-2.81c.8-.78.8-2.07 0-2.86zM5.41 20L4 18.59l7.72-7.72 1.47 1.35L5.41 20z\"/>\n",
              "  </svg>\n",
              "      </button>\n",
              "      \n",
              "  <style>\n",
              "    .colab-df-container {\n",
              "      display:flex;\n",
              "      flex-wrap:wrap;\n",
              "      gap: 12px;\n",
              "    }\n",
              "\n",
              "    .colab-df-convert {\n",
              "      background-color: #E8F0FE;\n",
              "      border: none;\n",
              "      border-radius: 50%;\n",
              "      cursor: pointer;\n",
              "      display: none;\n",
              "      fill: #1967D2;\n",
              "      height: 32px;\n",
              "      padding: 0 0 0 0;\n",
              "      width: 32px;\n",
              "    }\n",
              "\n",
              "    .colab-df-convert:hover {\n",
              "      background-color: #E2EBFA;\n",
              "      box-shadow: 0px 1px 2px rgba(60, 64, 67, 0.3), 0px 1px 3px 1px rgba(60, 64, 67, 0.15);\n",
              "      fill: #174EA6;\n",
              "    }\n",
              "\n",
              "    [theme=dark] .colab-df-convert {\n",
              "      background-color: #3B4455;\n",
              "      fill: #D2E3FC;\n",
              "    }\n",
              "\n",
              "    [theme=dark] .colab-df-convert:hover {\n",
              "      background-color: #434B5C;\n",
              "      box-shadow: 0px 1px 3px 1px rgba(0, 0, 0, 0.15);\n",
              "      filter: drop-shadow(0px 1px 2px rgba(0, 0, 0, 0.3));\n",
              "      fill: #FFFFFF;\n",
              "    }\n",
              "  </style>\n",
              "\n",
              "      <script>\n",
              "        const buttonEl =\n",
              "          document.querySelector('#df-0f263870-d8b7-484f-92c0-4107890ea77c button.colab-df-convert');\n",
              "        buttonEl.style.display =\n",
              "          google.colab.kernel.accessAllowed ? 'block' : 'none';\n",
              "\n",
              "        async function convertToInteractive(key) {\n",
              "          const element = document.querySelector('#df-0f263870-d8b7-484f-92c0-4107890ea77c');\n",
              "          const dataTable =\n",
              "            await google.colab.kernel.invokeFunction('convertToInteractive',\n",
              "                                                     [key], {});\n",
              "          if (!dataTable) return;\n",
              "\n",
              "          const docLinkHtml = 'Like what you see? Visit the ' +\n",
              "            '<a target=\"_blank\" href=https://colab.research.google.com/notebooks/data_table.ipynb>data table notebook</a>'\n",
              "            + ' to learn more about interactive tables.';\n",
              "          element.innerHTML = '';\n",
              "          dataTable['output_type'] = 'display_data';\n",
              "          await google.colab.output.renderOutput(dataTable, element);\n",
              "          const docLink = document.createElement('div');\n",
              "          docLink.innerHTML = docLinkHtml;\n",
              "          element.appendChild(docLink);\n",
              "        }\n",
              "      </script>\n",
              "    </div>\n",
              "  </div>\n",
              "  "
            ]
          },
          "metadata": {},
          "execution_count": 29
        }
      ]
    },
    {
      "cell_type": "code",
      "source": [
        "url = 'https://www.365chess.com/tournaments.php'\n",
        "soup = BeautifulSoup(requests.get(url).content, 'html.parser')\n",
        "var = soup.findAll('div',attrs={'id':'eco_search'})"
      ],
      "metadata": {
        "id": "FlS_jtRUYRaX"
      },
      "execution_count": 67,
      "outputs": []
    },
    {
      "cell_type": "code",
      "source": [
        "soup.find('a',attrs={'href':'/tournaments.php?year=2019'})"
      ],
      "metadata": {
        "colab": {
          "base_uri": "https://localhost:8080/"
        },
        "id": "4yoi2sr6bdSM",
        "outputId": "e11db479-9adc-476b-fce6-e9ea6282512f"
      },
      "execution_count": 74,
      "outputs": [
        {
          "output_type": "execute_result",
          "data": {
            "text/plain": [
              "<a href=\"/tournaments.php?year=2019\">2019</a>"
            ]
          },
          "metadata": {},
          "execution_count": 74
        }
      ]
    },
    {
      "cell_type": "code",
      "source": [
        "variable = 'https://www.365chess.com/tournaments.php?year='\n",
        "year = [i for i in range(1900,1904)]\n",
        "\n",
        "lista = []\n",
        "for i in year:\n",
        "  lista.append(variable+str(i))"
      ],
      "metadata": {
        "id": "MW_i_gmDfLRW"
      },
      "execution_count": 77,
      "outputs": []
    },
    {
      "cell_type": "code",
      "source": [
        "lista"
      ],
      "metadata": {
        "colab": {
          "base_uri": "https://localhost:8080/"
        },
        "id": "dPZy0Gjyf0SX",
        "outputId": "2714227a-1906-49f4-e464-73d4fe9a6fc6"
      },
      "execution_count": 78,
      "outputs": [
        {
          "output_type": "execute_result",
          "data": {
            "text/plain": [
              "['https://www.365chess.com/tournaments.php?year=1900',\n",
              " 'https://www.365chess.com/tournaments.php?year=1901',\n",
              " 'https://www.365chess.com/tournaments.php?year=1902',\n",
              " 'https://www.365chess.com/tournaments.php?year=1903']"
            ]
          },
          "metadata": {},
          "execution_count": 78
        }
      ]
    },
    {
      "cell_type": "code",
      "source": [
        "url_t = lista[0]\n",
        "soup2 = BeautifulSoup(requests.get(url_t).content, 'html.parser')\n",
        "var2 = soup2.findAll('a')"
      ],
      "metadata": {
        "id": "O5HOrFdRmje2"
      },
      "execution_count": 154,
      "outputs": []
    },
    {
      "cell_type": "code",
      "source": [
        "var2"
      ],
      "metadata": {
        "colab": {
          "base_uri": "https://localhost:8080/"
        },
        "id": "GvlWJshpz79l",
        "outputId": "07327dba-c04c-4c40-9234-1fdf5c9bf5ad"
      },
      "execution_count": 155,
      "outputs": [
        {
          "output_type": "execute_result",
          "data": {
            "text/plain": [
              "[<a href=\"#\" id=\"ham\"></a>,\n",
              " <a href=\"https://www.365chess.com/\" title=\"Chess Games Database\">365Chess.com</a>,\n",
              " <a href=\"https://www.365chess.com/forgot_password.php\">Forgot your password?</a>,\n",
              " <a href=\"https://www.365chess.com/signup.php\">Sign up</a>,\n",
              " <a href=\"https://www.365chess.com/\" title=\"365Chess Home\">Home</a>,\n",
              " <a href=\"https://www.365chess.com/opening.php\" title=\"Chess Opening Explorer\">Opening Explorer</a>,\n",
              " <a href=\"https://www.365chess.com/view/shop/\" title=\"Courses\">Courses</a>,\n",
              " <a class=\"arrow_menu current\" href=\"javascript:void(0);\" title=\"Search\">Search</a>,\n",
              " <a href=\"https://www.365chess.com/search_position.php\" title=\"Game Position\">Game Position</a>,\n",
              " <a href=\"https://www.365chess.com/chess-games.php\" title=\"Chess Games\">Chess Games</a>,\n",
              " <a class=\"current\" href=\"https://www.365chess.com/tournaments.php\" title=\"Chess Tournaments\">Chess Tournaments</a>,\n",
              " <a href=\"https://www.365chess.com/search-endgames.php\" title=\"Endgames\">Endgames</a>,\n",
              " <a class=\"arrow_menu\" href=\"javascript:void(0);\" title=\"Search\">Training</a>,\n",
              " <a href=\"https://www.365chess.com/opening_training.php?pcolor=0&amp;master=0&amp;smeco=0&amp;topening=0\" title=\"Openings Trainer\">Openings Trainer</a>,\n",
              " <a href=\"https://www.365chess.com/play_computer_online.php\" title=\"Play vs Computer\">Play vs Computer</a>,\n",
              " <a href=\"https://www.365chess.com/puzzles.php\" title=\"Chess Puzzles\">Puzzles</a>,\n",
              " <a href=\"https://www.365chess.com/endgame_training.php\" title=\"Endgames Training\">Endgames</a>,\n",
              " <a href=\"https://www.365chess.com/eco.php\" title=\"ECO Codes\">ECO Codes</a>,\n",
              " <a class=\"arrow_menu\" href=\"javascript:void(0);\" title=\"Chess Resources\">Resources</a>,\n",
              " <a href=\"https://www.365chess.com/analysis_board.php\" title=\"Analysis board\">Analysis Board</a>,\n",
              " <a href=\"https://www.365chess.com/board_editor.php\" title=\"Board Editor\">Board Editor</a>,\n",
              " <a class=\"arrow_menu\" href=\"javascript:void(0);\" title=\"Help\">Help</a>,\n",
              " <a href=\"https://www.365chess.com/faq.php\" title=\"F.A.Q.\">F.A.Q.</a>,\n",
              " <a href=\"https://www.365chess.com/contactUs.php\" title=\"Contact Us\">Contact Us</a>,\n",
              " <a class=\"arrow_menu\" href=\"https://www.365chess.com/u/\" title=\"My Account\">My Account</a>,\n",
              " <a href=\"https://www.365chess.com/signin.php?login_page=mygames\" title=\"My Games\">My Games</a>,\n",
              " <a href=\"https://www.365chess.com/signin.php?login_page=bookmarks_games\" title=\"Bookmark Chess Games\">Bookmarks</a>,\n",
              " <a class=\"block_login\" href=\"#\">Login</a>,\n",
              " <a href=\"https://www.365chess.com/tournaments/Augsburg_game_1900/26841\">Augsburg game</a>,\n",
              " <a href=\"https://www.365chess.com/tournaments/Manchester_1900/26854\">Manchester</a>,\n",
              " <a href=\"https://www.365chess.com/tournaments/New_York_1900/26855\">New York</a>,\n",
              " <a href=\"https://www.365chess.com/tournaments/Norwich_sim_1900/26856\">Norwich sim</a>,\n",
              " <a href=\"https://www.365chess.com/tournaments/Osyky_1900/26857\">Osyky</a>,\n",
              " <a href=\"https://www.365chess.com/tournaments/Prague_sim_1900/26858\">Prague sim</a>,\n",
              " <a href=\"https://www.365chess.com/tournaments/St_Petersburg_1900/26859\">St Petersburg</a>,\n",
              " <a href=\"https://www.365chess.com/tournaments/USA_telegraph_1900/26860\">USA telegraph</a>,\n",
              " <a href=\"https://www.365chess.com/tournaments/Vienna_cons_m_1900/26861\">Vienna cons m</a>,\n",
              " <a href=\"https://www.365chess.com/tournaments/Vienna_m_1900/26862\">Vienna m</a>,\n",
              " <a href=\"https://www.365chess.com/tournaments/Zuerich_game_1900/26863\">Zuerich game</a>,\n",
              " <a href=\"https://www.365chess.com/tournaments/London_cons_1900/26853\">London cons</a>,\n",
              " <a href=\"https://www.365chess.com/tournaments/London_1900/26852\">London</a>,\n",
              " <a href=\"https://www.365chess.com/tournaments/Budapest_sim_1900/26842\">Budapest sim</a>,\n",
              " <a href=\"https://www.365chess.com/tournaments/DSB-12.Kongress_1900/26843\">DSB-12.Kongress</a>,\n",
              " <a href=\"https://www.365chess.com/tournaments/DSB-12.Kongress_playoff-1pl_1900/26844\">DSB-12.Kongress playoff-1pl</a>,\n",
              " <a href=\"https://www.365chess.com/tournaments/DSB-12.Kongress_playoff-1pl+_1900/26845\">DSB-12.Kongress playoff-1pl+</a>,\n",
              " <a href=\"https://www.365chess.com/tournaments/ENG-USA_cable_m_1900/26846\">ENG-USA cable m</a>,\n",
              " <a href=\"https://www.365chess.com/tournaments/GBR_tour_sim_1900/26847\">GBR tour sim</a>,\n",
              " <a href=\"https://www.365chess.com/tournaments/GER_tour_sim_1900/26848\">GER tour sim</a>,\n",
              " <a href=\"https://www.365chess.com/tournaments/HUN_game_1900/26849\">HUN game</a>,\n",
              " <a href=\"https://www.365chess.com/tournaments/Havana_m_1900/26850\">Havana m</a>,\n",
              " <a href=\"https://www.365chess.com/tournaments/Hereford_sim_1900/26851\">Hereford sim</a>,\n",
              " <a href=\"https://www.365chess.com/tournaments/Paris_1900/26864\">Paris</a>,\n",
              " <a href=\"https://www.365chess.com/tournaments/Paris_blind-simul_1900/26865\">Paris blind-simul</a>,\n",
              " <a href=\"https://www.365chess.com/tournaments/Paris_consult_1900/26866\">Paris consult</a>,\n",
              " <a href=\"https://www.365chess.com/tournaments/Paris+_1900/26867\">Paris+</a>,\n",
              " <a href=\"https://www.365chess.com/supporters.php\">\n",
              " <span class=\"title\">Support 365Chess.com</span>\n",
              " <span class=\"content\">The devolpment of this site relies in its member's support. You'll receive some extra and nice benefits and you will be helping to improve this site.</span>\n",
              " <span class=\"lnk\">Become a supporter today!</span>\n",
              " </a>,\n",
              " <a href=\"#\" onclick=\"return false;\">2020 - 2023</a>,\n",
              " <a href=\"/tournaments.php?year=2023\">2023</a>,\n",
              " <a href=\"/tournaments.php?year=2022\">2022</a>,\n",
              " <a href=\"/tournaments.php?year=2021\">2021</a>,\n",
              " <a href=\"/tournaments.php?year=2020\">2020</a>,\n",
              " <a href=\"#\" onclick=\"return false;\">2010 - 2019</a>,\n",
              " <a href=\"/tournaments.php?year=2019\">2019</a>,\n",
              " <a href=\"/tournaments.php?year=2018\">2018</a>,\n",
              " <a href=\"/tournaments.php?year=2017\">2017</a>,\n",
              " <a href=\"/tournaments.php?year=2016\">2016</a>,\n",
              " <a href=\"/tournaments.php?year=2015\">2015</a>,\n",
              " <a href=\"/tournaments.php?year=2014\">2014</a>,\n",
              " <a href=\"/tournaments.php?year=2013\">2013</a>,\n",
              " <a href=\"/tournaments.php?year=2012\">2012</a>,\n",
              " <a href=\"/tournaments.php?year=2011\">2011</a>,\n",
              " <a href=\"/tournaments.php?year=2010\">2010</a>,\n",
              " <a href=\"#\" onclick=\"return false;\">2000 - 2009</a>,\n",
              " <a href=\"/tournaments.php?year=2009\">2009</a>,\n",
              " <a href=\"/tournaments.php?year=2008\">2008</a>,\n",
              " <a href=\"/tournaments.php?year=2007\">2007</a>,\n",
              " <a href=\"/tournaments.php?year=2006\">2006</a>,\n",
              " <a href=\"/tournaments.php?year=2005\">2005</a>,\n",
              " <a href=\"/tournaments.php?year=2004\">2004</a>,\n",
              " <a href=\"/tournaments.php?year=2003\">2003</a>,\n",
              " <a href=\"/tournaments.php?year=2002\">2002</a>,\n",
              " <a href=\"/tournaments.php?year=2001\">2001</a>,\n",
              " <a href=\"/tournaments.php?year=2000\">2000</a>,\n",
              " <a href=\"#\" onclick=\"return false;\">1990 - 1999</a>,\n",
              " <a href=\"/tournaments.php?year=1999\">1999</a>,\n",
              " <a href=\"/tournaments.php?year=1998\">1998</a>,\n",
              " <a href=\"/tournaments.php?year=1997\">1997</a>,\n",
              " <a href=\"/tournaments.php?year=1996\">1996</a>,\n",
              " <a href=\"/tournaments.php?year=1995\">1995</a>,\n",
              " <a href=\"/tournaments.php?year=1994\">1994</a>,\n",
              " <a href=\"/tournaments.php?year=1993\">1993</a>,\n",
              " <a href=\"/tournaments.php?year=1992\">1992</a>,\n",
              " <a href=\"/tournaments.php?year=1991\">1991</a>,\n",
              " <a href=\"/tournaments.php?year=1990\">1990</a>,\n",
              " <a href=\"#\" onclick=\"return false;\">1980 - 1989</a>,\n",
              " <a href=\"/tournaments.php?year=1989\">1989</a>,\n",
              " <a href=\"/tournaments.php?year=1988\">1988</a>,\n",
              " <a href=\"/tournaments.php?year=1987\">1987</a>,\n",
              " <a href=\"/tournaments.php?year=1986\">1986</a>,\n",
              " <a href=\"/tournaments.php?year=1985\">1985</a>,\n",
              " <a href=\"/tournaments.php?year=1984\">1984</a>,\n",
              " <a href=\"/tournaments.php?year=1983\">1983</a>,\n",
              " <a href=\"/tournaments.php?year=1982\">1982</a>,\n",
              " <a href=\"/tournaments.php?year=1981\">1981</a>,\n",
              " <a href=\"/tournaments.php?year=1980\">1980</a>,\n",
              " <a href=\"#\" onclick=\"return false;\">1970 - 1979</a>,\n",
              " <a href=\"/tournaments.php?year=1979\">1979</a>,\n",
              " <a href=\"/tournaments.php?year=1978\">1978</a>,\n",
              " <a href=\"/tournaments.php?year=1977\">1977</a>,\n",
              " <a href=\"/tournaments.php?year=1976\">1976</a>,\n",
              " <a href=\"/tournaments.php?year=1975\">1975</a>,\n",
              " <a href=\"/tournaments.php?year=1974\">1974</a>,\n",
              " <a href=\"/tournaments.php?year=1973\">1973</a>,\n",
              " <a href=\"/tournaments.php?year=1972\">1972</a>,\n",
              " <a href=\"/tournaments.php?year=1971\">1971</a>,\n",
              " <a href=\"/tournaments.php?year=1970\">1970</a>,\n",
              " <a href=\"#\" onclick=\"return false;\">1960 - 1969</a>,\n",
              " <a href=\"/tournaments.php?year=1969\">1969</a>,\n",
              " <a href=\"/tournaments.php?year=1968\">1968</a>,\n",
              " <a href=\"/tournaments.php?year=1967\">1967</a>,\n",
              " <a href=\"/tournaments.php?year=1966\">1966</a>,\n",
              " <a href=\"/tournaments.php?year=1965\">1965</a>,\n",
              " <a href=\"/tournaments.php?year=1964\">1964</a>,\n",
              " <a href=\"/tournaments.php?year=1963\">1963</a>,\n",
              " <a href=\"/tournaments.php?year=1962\">1962</a>,\n",
              " <a href=\"/tournaments.php?year=1961\">1961</a>,\n",
              " <a href=\"/tournaments.php?year=1960\">1960</a>,\n",
              " <a href=\"#\" onclick=\"return false;\">1950 - 1959</a>,\n",
              " <a href=\"/tournaments.php?year=1959\">1959</a>,\n",
              " <a href=\"/tournaments.php?year=1958\">1958</a>,\n",
              " <a href=\"/tournaments.php?year=1957\">1957</a>,\n",
              " <a href=\"/tournaments.php?year=1956\">1956</a>,\n",
              " <a href=\"/tournaments.php?year=1955\">1955</a>,\n",
              " <a href=\"/tournaments.php?year=1954\">1954</a>,\n",
              " <a href=\"/tournaments.php?year=1953\">1953</a>,\n",
              " <a href=\"/tournaments.php?year=1952\">1952</a>,\n",
              " <a href=\"/tournaments.php?year=1951\">1951</a>,\n",
              " <a href=\"/tournaments.php?year=1950\">1950</a>,\n",
              " <a href=\"#\" onclick=\"return false;\">1940 - 1949</a>,\n",
              " <a href=\"/tournaments.php?year=1949\">1949</a>,\n",
              " <a href=\"/tournaments.php?year=1948\">1948</a>,\n",
              " <a href=\"/tournaments.php?year=1947\">1947</a>,\n",
              " <a href=\"/tournaments.php?year=1946\">1946</a>,\n",
              " <a href=\"/tournaments.php?year=1945\">1945</a>,\n",
              " <a href=\"/tournaments.php?year=1944\">1944</a>,\n",
              " <a href=\"/tournaments.php?year=1943\">1943</a>,\n",
              " <a href=\"/tournaments.php?year=1942\">1942</a>,\n",
              " <a href=\"/tournaments.php?year=1941\">1941</a>,\n",
              " <a href=\"/tournaments.php?year=1940\">1940</a>,\n",
              " <a href=\"#\" onclick=\"return false;\">1930 - 1939</a>,\n",
              " <a href=\"/tournaments.php?year=1939\">1939</a>,\n",
              " <a href=\"/tournaments.php?year=1938\">1938</a>,\n",
              " <a href=\"/tournaments.php?year=1937\">1937</a>,\n",
              " <a href=\"/tournaments.php?year=1936\">1936</a>,\n",
              " <a href=\"/tournaments.php?year=1935\">1935</a>,\n",
              " <a href=\"/tournaments.php?year=1934\">1934</a>,\n",
              " <a href=\"/tournaments.php?year=1933\">1933</a>,\n",
              " <a href=\"/tournaments.php?year=1932\">1932</a>,\n",
              " <a href=\"/tournaments.php?year=1931\">1931</a>,\n",
              " <a href=\"/tournaments.php?year=1930\">1930</a>,\n",
              " <a href=\"#\" onclick=\"return false;\">1920 - 1929</a>,\n",
              " <a href=\"/tournaments.php?year=1929\">1929</a>,\n",
              " <a href=\"/tournaments.php?year=1928\">1928</a>,\n",
              " <a href=\"/tournaments.php?year=1927\">1927</a>,\n",
              " <a href=\"/tournaments.php?year=1926\">1926</a>,\n",
              " <a href=\"/tournaments.php?year=1925\">1925</a>,\n",
              " <a href=\"/tournaments.php?year=1924\">1924</a>,\n",
              " <a href=\"/tournaments.php?year=1923\">1923</a>,\n",
              " <a href=\"/tournaments.php?year=1922\">1922</a>,\n",
              " <a href=\"/tournaments.php?year=1921\">1921</a>,\n",
              " <a href=\"/tournaments.php?year=1920\">1920</a>,\n",
              " <a href=\"#\" onclick=\"return false;\">1910 - 1919</a>,\n",
              " <a href=\"/tournaments.php?year=1919\">1919</a>,\n",
              " <a href=\"/tournaments.php?year=1918\">1918</a>,\n",
              " <a href=\"/tournaments.php?year=1917\">1917</a>,\n",
              " <a href=\"/tournaments.php?year=1916\">1916</a>,\n",
              " <a href=\"/tournaments.php?year=1915\">1915</a>,\n",
              " <a href=\"/tournaments.php?year=1914\">1914</a>,\n",
              " <a href=\"/tournaments.php?year=1913\">1913</a>,\n",
              " <a href=\"/tournaments.php?year=1912\">1912</a>,\n",
              " <a href=\"/tournaments.php?year=1911\">1911</a>,\n",
              " <a href=\"/tournaments.php?year=1910\">1910</a>,\n",
              " <a href=\"#\" onclick=\"return false;\">1900 - 1909</a>,\n",
              " <a href=\"/tournaments.php?year=1909\">1909</a>,\n",
              " <a href=\"/tournaments.php?year=1908\">1908</a>,\n",
              " <a href=\"/tournaments.php?year=1907\">1907</a>,\n",
              " <a href=\"/tournaments.php?year=1906\">1906</a>,\n",
              " <a href=\"/tournaments.php?year=1905\">1905</a>,\n",
              " <a href=\"/tournaments.php?year=1904\">1904</a>,\n",
              " <a href=\"/tournaments.php?year=1903\">1903</a>,\n",
              " <a href=\"/tournaments.php?year=1902\">1902</a>,\n",
              " <a href=\"/tournaments.php?year=1901\">1901</a>,\n",
              " <a href=\"/tournaments.php?year=1900\">1900</a>,\n",
              " <a href=\"#\" onclick=\"return false;\">1890 - 1899</a>,\n",
              " <a href=\"/tournaments.php?year=1899\">1899</a>,\n",
              " <a href=\"/tournaments.php?year=1898\">1898</a>,\n",
              " <a href=\"/tournaments.php?year=1897\">1897</a>,\n",
              " <a href=\"/tournaments.php?year=1896\">1896</a>,\n",
              " <a href=\"/tournaments.php?year=1895\">1895</a>,\n",
              " <a href=\"/tournaments.php?year=1894\">1894</a>,\n",
              " <a href=\"/tournaments.php?year=1893\">1893</a>,\n",
              " <a href=\"/tournaments.php?year=1892\">1892</a>,\n",
              " <a href=\"/tournaments.php?year=1891\">1891</a>,\n",
              " <a href=\"/tournaments.php?year=1890\">1890</a>,\n",
              " <a href=\"#\" onclick=\"return false;\">1880 - 1889</a>,\n",
              " <a href=\"/tournaments.php?year=1889\">1889</a>,\n",
              " <a href=\"/tournaments.php?year=1888\">1888</a>,\n",
              " <a href=\"/tournaments.php?year=1887\">1887</a>,\n",
              " <a href=\"/tournaments.php?year=1886\">1886</a>,\n",
              " <a href=\"/tournaments.php?year=1885\">1885</a>,\n",
              " <a href=\"/tournaments.php?year=1884\">1884</a>,\n",
              " <a href=\"/tournaments.php?year=1883\">1883</a>,\n",
              " <a href=\"/tournaments.php?year=1882\">1882</a>,\n",
              " <a href=\"/tournaments.php?year=1881\">1881</a>,\n",
              " <a href=\"/tournaments.php?year=1880\">1880</a>,\n",
              " <a href=\"#\" onclick=\"return false;\">1870 - 1879</a>,\n",
              " <a href=\"/tournaments.php?year=1879\">1879</a>,\n",
              " <a href=\"/tournaments.php?year=1878\">1878</a>,\n",
              " <a href=\"/tournaments.php?year=1877\">1877</a>,\n",
              " <a href=\"/tournaments.php?year=1876\">1876</a>,\n",
              " <a href=\"/tournaments.php?year=1875\">1875</a>,\n",
              " <a href=\"/tournaments.php?year=1874\">1874</a>,\n",
              " <a href=\"/tournaments.php?year=1873\">1873</a>,\n",
              " <a href=\"/tournaments.php?year=1872\">1872</a>,\n",
              " <a href=\"/tournaments.php?year=1871\">1871</a>,\n",
              " <a href=\"/tournaments.php?year=1870\">1870</a>,\n",
              " <a href=\"#\" onclick=\"return false;\">1860 - 1869</a>,\n",
              " <a href=\"/tournaments.php?year=1869\">1869</a>,\n",
              " <a href=\"/tournaments.php?year=1868\">1868</a>,\n",
              " <a href=\"/tournaments.php?year=1867\">1867</a>,\n",
              " <a href=\"/tournaments.php?year=1866\">1866</a>,\n",
              " <a href=\"/tournaments.php?year=1865\">1865</a>,\n",
              " <a href=\"/tournaments.php?year=1864\">1864</a>,\n",
              " <a href=\"/tournaments.php?year=1863\">1863</a>,\n",
              " <a href=\"/tournaments.php?year=1862\">1862</a>,\n",
              " <a href=\"/tournaments.php?year=1861\">1861</a>,\n",
              " <a href=\"/tournaments.php?year=1860\">1860</a>,\n",
              " <a href=\"#\" onclick=\"return false;\">1850 - 1859</a>,\n",
              " <a href=\"/tournaments.php?year=1859\">1859</a>,\n",
              " <a href=\"/tournaments.php?year=1858\">1858</a>,\n",
              " <a href=\"/tournaments.php?year=1857\">1857</a>,\n",
              " <a href=\"/tournaments.php?year=1856\">1856</a>,\n",
              " <a href=\"/tournaments.php?year=1855\">1855</a>,\n",
              " <a href=\"/tournaments.php?year=1854\">1854</a>,\n",
              " <a href=\"/tournaments.php?year=1853\">1853</a>,\n",
              " <a href=\"/tournaments.php?year=1852\">1852</a>,\n",
              " <a href=\"/tournaments.php?year=1851\">1851</a>,\n",
              " <a href=\"/tournaments.php?year=1850\">1850</a>,\n",
              " <a href=\"#\" onclick=\"return false;\">1840 - 1849</a>,\n",
              " <a href=\"/tournaments.php?year=1849\">1849</a>,\n",
              " <a href=\"/tournaments.php?year=1848\">1848</a>,\n",
              " <a href=\"/tournaments.php?year=1847\">1847</a>,\n",
              " <a href=\"/tournaments.php?year=1846\">1846</a>,\n",
              " <a href=\"/tournaments.php?year=1845\">1845</a>,\n",
              " <a href=\"/tournaments.php?year=1844\">1844</a>,\n",
              " <a href=\"/tournaments.php?year=1843\">1843</a>,\n",
              " <a href=\"/tournaments.php?year=1842\">1842</a>,\n",
              " <a href=\"/tournaments.php?year=1841\">1841</a>,\n",
              " <a href=\"/tournaments.php?year=1840\">1840</a>,\n",
              " <a href=\"#\" onclick=\"return false;\">1830 - 1839</a>,\n",
              " <a href=\"/tournaments.php?year=1839\">1839</a>,\n",
              " <a href=\"/tournaments.php?year=1838\">1838</a>,\n",
              " <a href=\"/tournaments.php?year=1837\">1837</a>,\n",
              " <a href=\"/tournaments.php?year=1836\">1836</a>,\n",
              " <a href=\"/tournaments.php?year=1835\">1835</a>,\n",
              " <a href=\"/tournaments.php?year=1834\">1834</a>,\n",
              " <a href=\"/tournaments.php?year=1831\">1831</a>,\n",
              " <a href=\"/tournaments.php?year=1830\">1830</a>,\n",
              " <a href=\"#\" onclick=\"return false;\">1820 - 1829</a>,\n",
              " <a href=\"/tournaments.php?year=1826\">1826</a>,\n",
              " <a href=\"/tournaments.php?year=1825\">1825</a>,\n",
              " <a href=\"/tournaments.php?year=1822\">1822</a>,\n",
              " <a href=\"/tournaments.php?year=1821\">1821</a>,\n",
              " <a href=\"/tournaments.php?year=1820\">1820</a>,\n",
              " <a href=\"#\" onclick=\"return false;\">1810 - 1819</a>,\n",
              " <a href=\"/tournaments.php?year=1819\">1819</a>,\n",
              " <a href=\"/tournaments.php?year=1818\">1818</a>,\n",
              " <a href=\"/tournaments.php?year=1817\">1817</a>,\n",
              " <a href=\"/tournaments.php?year=1816\">1816</a>,\n",
              " <a href=\"/tournaments.php?year=1815\">1815</a>,\n",
              " <a href=\"/tournaments.php?year=1813\">1813</a>,\n",
              " <a href=\"/tournaments.php?year=1810\">1810</a>,\n",
              " <a href=\"#\" onclick=\"return false;\">1800 - 1809</a>,\n",
              " <a href=\"/tournaments.php?year=1809\">1809</a>,\n",
              " <a href=\"/tournaments.php?year=1804\">1804</a>,\n",
              " <a href=\"/tournaments.php?year=1802\">1802</a>,\n",
              " <a href=\"https://www.365chess.com/\">Home</a>,\n",
              " <a href=\"https://www.365chess.com/chess-games.php\">Chess Games</a>,\n",
              " <a href=\"https://www.365chess.com/search_position.php\">Search Game Position</a>,\n",
              " <a href=\"https://www.365chess.com/tournaments.php\">Chess Tournaments</a>,\n",
              " <a href=\"https://www.365chess.com/opening.php\">Chess Opening Explorer</a>,\n",
              " <a href=\"https://www.365chess.com/eco.php\">ECO Codes</a>,\n",
              " <a href=\"https://www.365chess.com/view/shop/\">Courses</a>,\n",
              " <a href=\"https://www.365chess.com/opening_training.php?pcolor=0&amp;master=0&amp;smeco=0&amp;topening=0\">Openings Trainer</a>,\n",
              " <a href=\"https://www.365chess.com/play_computer_online.php\">Play Computer</a>,\n",
              " <a href=\"https://www.365chess.com/puzzles.php\">Chess Puzzles and Tactics</a>,\n",
              " <a href=\"https://www.365chess.com/search-endgames.php\">Search Endgames</a>,\n",
              " <a href=\"https://www.365chess.com/endgame_training.php\">Endgames Training</a>,\n",
              " <a href=\"https://www.365chess.com/top-chess-players.php\">Players by rating</a>,\n",
              " <a href=\"https://www.365chess.com/women-top-chess-players.php\">Women Players by rating</a>,\n",
              " <a href=\"https://www.365chess.com/top-chess-players-games.php\">Players by number of games</a>,\n",
              " <a href=\"https://www.365chess.com/players.php\">Chess players list</a>,\n",
              " <a href=\"https://www.365chess.com/analysis_board.php\">Analysis Board</a>,\n",
              " <a href=\"https://www.365chess.com/board_editor.php\">Board Editor</a>,\n",
              " <a href=\"https://twitter.com/365chess\" rel=\"noopener\" target=\"_blank\"><img alt=\"Twitter\" loading=\"lazy\" src=\"https://www.365chess.com/images3/xlogo-twitter.png.pagespeed.ic.lDsyZwqfpm.png\" style=\"height: 24px;width: 24px;\"/> @365Chess</a>,\n",
              " <a href=\"https://www.365chess.com/view/terms-of-service/\">Terms of Service</a>,\n",
              " <a href=\"https://www.365chess.com/view/privacy-policy/\">Privacy Policy</a>,\n",
              " <a href=\"https://www.365chess.com/faq.php\">F.A.Q.</a>,\n",
              " <a href=\"https://www.365chess.com/contactUs.php\">Contact Us</a>,\n",
              " <a href=\"https://www.365chess.com/banners.php\">Widgets and Banners</a>,\n",
              " <a href=\"https://www.365chess.com/view/\">Blog</a>,\n",
              " <a href=\"https://www.facebook.com/365Chess/\" rel=\"noopener\" target=\"_blank\"><img alt=\"Facebook\" loading=\"lazy\" src=\"https://www.365chess.com/images/xfacebook.png.pagespeed.ic.jcTQTBayBX.png\" style=\"height: 24px;width: 24px;\"/> Facebook</a>]"
            ]
          },
          "metadata": {},
          "execution_count": 155
        }
      ]
    },
    {
      "cell_type": "code",
      "source": [
        "type(var2)"
      ],
      "metadata": {
        "colab": {
          "base_uri": "https://localhost:8080/"
        },
        "id": "dDAUCIqipJ3V",
        "outputId": "a7fde738-fa59-4270-9924-538d82d26469"
      },
      "execution_count": 134,
      "outputs": [
        {
          "output_type": "execute_result",
          "data": {
            "text/plain": [
              "bs4.element.ResultSet"
            ]
          },
          "metadata": {},
          "execution_count": 134
        }
      ]
    },
    {
      "cell_type": "code",
      "source": [
        "str(var2)"
      ],
      "metadata": {
        "colab": {
          "base_uri": "https://localhost:8080/",
          "height": 1000
        },
        "id": "cE7NEcjdvVGL",
        "outputId": "6cd6b380-85df-4543-9660-f4b39593308e"
      },
      "execution_count": 142,
      "outputs": [
        {
          "output_type": "execute_result",
          "data": {
            "text/plain": [
              "'[<a href=\"#\" id=\"ham\"></a>, <a href=\"https://www.365chess.com/\" title=\"Chess Games Database\">365Chess.com</a>, <a href=\"https://www.365chess.com/forgot_password.php\">Forgot your password?</a>, <a href=\"https://www.365chess.com/signup.php\">Sign up</a>, <a href=\"https://www.365chess.com/\" title=\"365Chess Home\">Home</a>, <a href=\"https://www.365chess.com/opening.php\" title=\"Chess Opening Explorer\">Opening Explorer</a>, <a href=\"https://www.365chess.com/view/shop/\" title=\"Courses\">Courses</a>, <a class=\"arrow_menu current\" href=\"javascript:void(0);\" title=\"Search\">Search</a>, <a href=\"https://www.365chess.com/search_position.php\" title=\"Game Position\">Game Position</a>, <a href=\"https://www.365chess.com/chess-games.php\" title=\"Chess Games\">Chess Games</a>, <a class=\"current\" href=\"https://www.365chess.com/tournaments.php\" title=\"Chess Tournaments\">Chess Tournaments</a>, <a href=\"https://www.365chess.com/search-endgames.php\" title=\"Endgames\">Endgames</a>, <a class=\"arrow_menu\" href=\"javascript:void(0);\" title=\"Search\">Training</a>, <a href=\"https://www.365chess.com/opening_training.php?pcolor=0&amp;master=0&amp;smeco=0&amp;topening=0\" title=\"Openings Trainer\">Openings Trainer</a>, <a href=\"https://www.365chess.com/play_computer_online.php\" title=\"Play vs Computer\">Play vs Computer</a>, <a href=\"https://www.365chess.com/puzzles.php\" title=\"Chess Puzzles\">Puzzles</a>, <a href=\"https://www.365chess.com/endgame_training.php\" title=\"Endgames Training\">Endgames</a>, <a href=\"https://www.365chess.com/eco.php\" title=\"ECO Codes\">ECO Codes</a>, <a class=\"arrow_menu\" href=\"javascript:void(0);\" title=\"Chess Resources\">Resources</a>, <a href=\"https://www.365chess.com/analysis_board.php\" title=\"Analysis board\">Analysis Board</a>, <a href=\"https://www.365chess.com/board_editor.php\" title=\"Board Editor\">Board Editor</a>, <a class=\"arrow_menu\" href=\"javascript:void(0);\" title=\"Help\">Help</a>, <a href=\"https://www.365chess.com/faq.php\" title=\"F.A.Q.\">F.A.Q.</a>, <a href=\"https://www.365chess.com/contactUs.php\" title=\"Contact Us\">Contact Us</a>, <a class=\"arrow_menu\" href=\"https://www.365chess.com/u/\" title=\"My Account\">My Account</a>, <a href=\"https://www.365chess.com/signin.php?login_page=mygames\" title=\"My Games\">My Games</a>, <a href=\"https://www.365chess.com/signin.php?login_page=bookmarks_games\" title=\"Bookmark Chess Games\">Bookmarks</a>, <a class=\"block_login\" href=\"#\">Login</a>, <a href=\"https://www.365chess.com/tournaments/Augsburg_game_1900/26841\">Augsburg game</a>, <a href=\"https://www.365chess.com/tournaments/Manchester_1900/26854\">Manchester</a>, <a href=\"https://www.365chess.com/tournaments/New_York_1900/26855\">New York</a>, <a href=\"https://www.365chess.com/tournaments/Norwich_sim_1900/26856\">Norwich sim</a>, <a href=\"https://www.365chess.com/tournaments/Osyky_1900/26857\">Osyky</a>, <a href=\"https://www.365chess.com/tournaments/Prague_sim_1900/26858\">Prague sim</a>, <a href=\"https://www.365chess.com/tournaments/St_Petersburg_1900/26859\">St Petersburg</a>, <a href=\"https://www.365chess.com/tournaments/USA_telegraph_1900/26860\">USA telegraph</a>, <a href=\"https://www.365chess.com/tournaments/Vienna_cons_m_1900/26861\">Vienna cons m</a>, <a href=\"https://www.365chess.com/tournaments/Vienna_m_1900/26862\">Vienna m</a>, <a href=\"https://www.365chess.com/tournaments/Zuerich_game_1900/26863\">Zuerich game</a>, <a href=\"https://www.365chess.com/tournaments/London_cons_1900/26853\">London cons</a>, <a href=\"https://www.365chess.com/tournaments/London_1900/26852\">London</a>, <a href=\"https://www.365chess.com/tournaments/Budapest_sim_1900/26842\">Budapest sim</a>, <a href=\"https://www.365chess.com/tournaments/DSB-12.Kongress_1900/26843\">DSB-12.Kongress</a>, <a href=\"https://www.365chess.com/tournaments/DSB-12.Kongress_playoff-1pl_1900/26844\">DSB-12.Kongress playoff-1pl</a>, <a href=\"https://www.365chess.com/tournaments/DSB-12.Kongress_playoff-1pl+_1900/26845\">DSB-12.Kongress playoff-1pl+</a>, <a href=\"https://www.365chess.com/tournaments/ENG-USA_cable_m_1900/26846\">ENG-USA cable m</a>, <a href=\"https://www.365chess.com/tournaments/GBR_tour_sim_1900/26847\">GBR tour sim</a>, <a href=\"https://www.365chess.com/tournaments/GER_tour_sim_1900/26848\">GER tour sim</a>, <a href=\"https://www.365chess.com/tournaments/HUN_game_1900/26849\">HUN game</a>, <a href=\"https://www.365chess.com/tournaments/Havana_m_1900/26850\">Havana m</a>, <a href=\"https://www.365chess.com/tournaments/Hereford_sim_1900/26851\">Hereford sim</a>, <a href=\"https://www.365chess.com/tournaments/Paris_1900/26864\">Paris</a>, <a href=\"https://www.365chess.com/tournaments/Paris_blind-simul_1900/26865\">Paris blind-simul</a>, <a href=\"https://www.365chess.com/tournaments/Paris_consult_1900/26866\">Paris consult</a>, <a href=\"https://www.365chess.com/tournaments/Paris+_1900/26867\">Paris+</a>, <a href=\"https://www.365chess.com/supporters.php\">\\n<span class=\"title\">Support 365Chess.com</span>\\n<span class=\"content\">The devolpment of this site relies in its member\\'s support. You\\'ll receive some extra and nice benefits and you will be helping to improve this site.</span>\\n<span class=\"lnk\">Become a supporter today!</span>\\n</a>, <a href=\"#\" onclick=\"return false;\">2020 - 2023</a>, <a href=\"/tournaments.php?year=2023\">2023</a>, <a href=\"/tournaments.php?year=2022\">2022</a>, <a href=\"/tournaments.php?year=2021\">2021</a>, <a href=\"/tournaments.php?year=2020\">2020</a>, <a href=\"#\" onclick=\"return false;\">2010 - 2019</a>, <a href=\"/tournaments.php?year=2019\">2019</a>, <a href=\"/tournaments.php?year=2018\">2018</a>, <a href=\"/tournaments.php?year=2017\">2017</a>, <a href=\"/tournaments.php?year=2016\">2016</a>, <a href=\"/tournaments.php?year=2015\">2015</a>, <a href=\"/tournaments.php?year=2014\">2014</a>, <a href=\"/tournaments.php?year=2013\">2013</a>, <a href=\"/tournaments.php?year=2012\">2012</a>, <a href=\"/tournaments.php?year=2011\">2011</a>, <a href=\"/tournaments.php?year=2010\">2010</a>, <a href=\"#\" onclick=\"return false;\">2000 - 2009</a>, <a href=\"/tournaments.php?year=2009\">2009</a>, <a href=\"/tournaments.php?year=2008\">2008</a>, <a href=\"/tournaments.php?year=2007\">2007</a>, <a href=\"/tournaments.php?year=2006\">2006</a>, <a href=\"/tournaments.php?year=2005\">2005</a>, <a href=\"/tournaments.php?year=2004\">2004</a>, <a href=\"/tournaments.php?year=2003\">2003</a>, <a href=\"/tournaments.php?year=2002\">2002</a>, <a href=\"/tournaments.php?year=2001\">2001</a>, <a href=\"/tournaments.php?year=2000\">2000</a>, <a href=\"#\" onclick=\"return false;\">1990 - 1999</a>, <a href=\"/tournaments.php?year=1999\">1999</a>, <a href=\"/tournaments.php?year=1998\">1998</a>, <a href=\"/tournaments.php?year=1997\">1997</a>, <a href=\"/tournaments.php?year=1996\">1996</a>, <a href=\"/tournaments.php?year=1995\">1995</a>, <a href=\"/tournaments.php?year=1994\">1994</a>, <a href=\"/tournaments.php?year=1993\">1993</a>, <a href=\"/tournaments.php?year=1992\">1992</a>, <a href=\"/tournaments.php?year=1991\">1991</a>, <a href=\"/tournaments.php?year=1990\">1990</a>, <a href=\"#\" onclick=\"return false;\">1980 - 1989</a>, <a href=\"/tournaments.php?year=1989\">1989</a>, <a href=\"/tournaments.php?year=1988\">1988</a>, <a href=\"/tournaments.php?year=1987\">1987</a>, <a href=\"/tournaments.php?year=1986\">1986</a>, <a href=\"/tournaments.php?year=1985\">1985</a>, <a href=\"/tournaments.php?year=1984\">1984</a>, <a href=\"/tournaments.php?year=1983\">1983</a>, <a href=\"/tournaments.php?year=1982\">1982</a>, <a href=\"/tournaments.php?year=1981\">1981</a>, <a href=\"/tournaments.php?year=1980\">1980</a>, <a href=\"#\" onclick=\"return false;\">1970 - 1979</a>, <a href=\"/tournaments.php?year=1979\">1979</a>, <a href=\"/tournaments.php?year=1978\">1978</a>, <a href=\"/tournaments.php?year=1977\">1977</a>, <a href=\"/tournaments.php?year=1976\">1976</a>, <a href=\"/tournaments.php?year=1975\">1975</a>, <a href=\"/tournaments.php?year=1974\">1974</a>, <a href=\"/tournaments.php?year=1973\">1973</a>, <a href=\"/tournaments.php?year=1972\">1972</a>, <a href=\"/tournaments.php?year=1971\">1971</a>, <a href=\"/tournaments.php?year=1970\">1970</a>, <a href=\"#\" onclick=\"return false;\">1960 - 1969</a>, <a href=\"/tournaments.php?year=1969\">1969</a>, <a href=\"/tournaments.php?year=1968\">1968</a>, <a href=\"/tournaments.php?year=1967\">1967</a>, <a href=\"/tournaments.php?year=1966\">1966</a>, <a href=\"/tournaments.php?year=1965\">1965</a>, <a href=\"/tournaments.php?year=1964\">1964</a>, <a href=\"/tournaments.php?year=1963\">1963</a>, <a href=\"/tournaments.php?year=1962\">1962</a>, <a href=\"/tournaments.php?year=1961\">1961</a>, <a href=\"/tournaments.php?year=1960\">1960</a>, <a href=\"#\" onclick=\"return false;\">1950 - 1959</a>, <a href=\"/tournaments.php?year=1959\">1959</a>, <a href=\"/tournaments.php?year=1958\">1958</a>, <a href=\"/tournaments.php?year=1957\">1957</a>, <a href=\"/tournaments.php?year=1956\">1956</a>, <a href=\"/tournaments.php?year=1955\">1955</a>, <a href=\"/tournaments.php?year=1954\">1954</a>, <a href=\"/tournaments.php?year=1953\">1953</a>, <a href=\"/tournaments.php?year=1952\">1952</a>, <a href=\"/tournaments.php?year=1951\">1951</a>, <a href=\"/tournaments.php?year=1950\">1950</a>, <a href=\"#\" onclick=\"return false;\">1940 - 1949</a>, <a href=\"/tournaments.php?year=1949\">1949</a>, <a href=\"/tournaments.php?year=1948\">1948</a>, <a href=\"/tournaments.php?year=1947\">1947</a>, <a href=\"/tournaments.php?year=1946\">1946</a>, <a href=\"/tournaments.php?year=1945\">1945</a>, <a href=\"/tournaments.php?year=1944\">1944</a>, <a href=\"/tournaments.php?year=1943\">1943</a>, <a href=\"/tournaments.php?year=1942\">1942</a>, <a href=\"/tournaments.php?year=1941\">1941</a>, <a href=\"/tournaments.php?year=1940\">1940</a>, <a href=\"#\" onclick=\"return false;\">1930 - 1939</a>, <a href=\"/tournaments.php?year=1939\">1939</a>, <a href=\"/tournaments.php?year=1938\">1938</a>, <a href=\"/tournaments.php?year=1937\">1937</a>, <a href=\"/tournaments.php?year=1936\">1936</a>, <a href=\"/tournaments.php?year=1935\">1935</a>, <a href=\"/tournaments.php?year=1934\">1934</a>, <a href=\"/tournaments.php?year=1933\">1933</a>, <a href=\"/tournaments.php?year=1932\">1932</a>, <a href=\"/tournaments.php?year=1931\">1931</a>, <a href=\"/tournaments.php?year=1930\">1930</a>, <a href=\"#\" onclick=\"return false;\">1920 - 1929</a>, <a href=\"/tournaments.php?year=1929\">1929</a>, <a href=\"/tournaments.php?year=1928\">1928</a>, <a href=\"/tournaments.php?year=1927\">1927</a>, <a href=\"/tournaments.php?year=1926\">1926</a>, <a href=\"/tournaments.php?year=1925\">1925</a>, <a href=\"/tournaments.php?year=1924\">1924</a>, <a href=\"/tournaments.php?year=1923\">1923</a>, <a href=\"/tournaments.php?year=1922\">1922</a>, <a href=\"/tournaments.php?year=1921\">1921</a>, <a href=\"/tournaments.php?year=1920\">1920</a>, <a href=\"#\" onclick=\"return false;\">1910 - 1919</a>, <a href=\"/tournaments.php?year=1919\">1919</a>, <a href=\"/tournaments.php?year=1918\">1918</a>, <a href=\"/tournaments.php?year=1917\">1917</a>, <a href=\"/tournaments.php?year=1916\">1916</a>, <a href=\"/tournaments.php?year=1915\">1915</a>, <a href=\"/tournaments.php?year=1914\">1914</a>, <a href=\"/tournaments.php?year=1913\">1913</a>, <a href=\"/tournaments.php?year=1912\">1912</a>, <a href=\"/tournaments.php?year=1911\">1911</a>, <a href=\"/tournaments.php?year=1910\">1910</a>, <a href=\"#\" onclick=\"return false;\">1900 - 1909</a>, <a href=\"/tournaments.php?year=1909\">1909</a>, <a href=\"/tournaments.php?year=1908\">1908</a>, <a href=\"/tournaments.php?year=1907\">1907</a>, <a href=\"/tournaments.php?year=1906\">1906</a>, <a href=\"/tournaments.php?year=1905\">1905</a>, <a href=\"/tournaments.php?year=1904\">1904</a>, <a href=\"/tournaments.php?year=1903\">1903</a>, <a href=\"/tournaments.php?year=1902\">1902</a>, <a href=\"/tournaments.php?year=1901\">1901</a>, <a href=\"/tournaments.php?year=1900\">1900</a>, <a href=\"#\" onclick=\"return false;\">1890 - 1899</a>, <a href=\"/tournaments.php?year=1899\">1899</a>, <a href=\"/tournaments.php?year=1898\">1898</a>, <a href=\"/tournaments.php?year=1897\">1897</a>, <a href=\"/tournaments.php?year=1896\">1896</a>, <a href=\"/tournaments.php?year=1895\">1895</a>, <a href=\"/tournaments.php?year=1894\">1894</a>, <a href=\"/tournaments.php?year=1893\">1893</a>, <a href=\"/tournaments.php?year=1892\">1892</a>, <a href=\"/tournaments.php?year=1891\">1891</a>, <a href=\"/tournaments.php?year=1890\">1890</a>, <a href=\"#\" onclick=\"return false;\">1880 - 1889</a>, <a href=\"/tournaments.php?year=1889\">1889</a>, <a href=\"/tournaments.php?year=1888\">1888</a>, <a href=\"/tournaments.php?year=1887\">1887</a>, <a href=\"/tournaments.php?year=1886\">1886</a>, <a href=\"/tournaments.php?year=1885\">1885</a>, <a href=\"/tournaments.php?year=1884\">1884</a>, <a href=\"/tournaments.php?year=1883\">1883</a>, <a href=\"/tournaments.php?year=1882\">1882</a>, <a href=\"/tournaments.php?year=1881\">1881</a>, <a href=\"/tournaments.php?year=1880\">1880</a>, <a href=\"#\" onclick=\"return false;\">1870 - 1879</a>, <a href=\"/tournaments.php?year=1879\">1879</a>, <a href=\"/tournaments.php?year=1878\">1878</a>, <a href=\"/tournaments.php?year=1877\">1877</a>, <a href=\"/tournaments.php?year=1876\">1876</a>, <a href=\"/tournaments.php?year=1875\">1875</a>, <a href=\"/tournaments.php?year=1874\">1874</a>, <a href=\"/tournaments.php?year=1873\">1873</a>, <a href=\"/tournaments.php?year=1872\">1872</a>, <a href=\"/tournaments.php?year=1871\">1871</a>, <a href=\"/tournaments.php?year=1870\">1870</a>, <a href=\"#\" onclick=\"return false;\">1860 - 1869</a>, <a href=\"/tournaments.php?year=1869\">1869</a>, <a href=\"/tournaments.php?year=1868\">1868</a>, <a href=\"/tournaments.php?year=1867\">1867</a>, <a href=\"/tournaments.php?year=1866\">1866</a>, <a href=\"/tournaments.php?year=1865\">1865</a>, <a href=\"/tournaments.php?year=1864\">1864</a>, <a href=\"/tournaments.php?year=1863\">1863</a>, <a href=\"/tournaments.php?year=1862\">1862</a>, <a href=\"/tournaments.php?year=1861\">1861</a>, <a href=\"/tournaments.php?year=1860\">1860</a>, <a href=\"#\" onclick=\"return false;\">1850 - 1859</a>, <a href=\"/tournaments.php?year=1859\">1859</a>, <a href=\"/tournaments.php?year=1858\">1858</a>, <a href=\"/tournaments.php?year=1857\">1857</a>, <a href=\"/tournaments.php?year=1856\">1856</a>, <a href=\"/tournaments.php?year=1855\">1855</a>, <a href=\"/tournaments.php?year=1854\">1854</a>, <a href=\"/tournaments.php?year=1853\">1853</a>, <a href=\"/tournaments.php?year=1852\">1852</a>, <a href=\"/tournaments.php?year=1851\">1851</a>, <a href=\"/tournaments.php?year=1850\">1850</a>, <a href=\"#\" onclick=\"return false;\">1840 - 1849</a>, <a href=\"/tournaments.php?year=1849\">1849</a>, <a href=\"/tournaments.php?year=1848\">1848</a>, <a href=\"/tournaments.php?year=1847\">1847</a>, <a href=\"/tournaments.php?year=1846\">1846</a>, <a href=\"/tournaments.php?year=1845\">1845</a>, <a href=\"/tournaments.php?year=1844\">1844</a>, <a href=\"/tournaments.php?year=1843\">1843</a>, <a href=\"/tournaments.php?year=1842\">1842</a>, <a href=\"/tournaments.php?year=1841\">1841</a>, <a href=\"/tournaments.php?year=1840\">1840</a>, <a href=\"#\" onclick=\"return false;\">1830 - 1839</a>, <a href=\"/tournaments.php?year=1839\">1839</a>, <a href=\"/tournaments.php?year=1838\">1838</a>, <a href=\"/tournaments.php?year=1837\">1837</a>, <a href=\"/tournaments.php?year=1836\">1836</a>, <a href=\"/tournaments.php?year=1835\">1835</a>, <a href=\"/tournaments.php?year=1834\">1834</a>, <a href=\"/tournaments.php?year=1831\">1831</a>, <a href=\"/tournaments.php?year=1830\">1830</a>, <a href=\"#\" onclick=\"return false;\">1820 - 1829</a>, <a href=\"/tournaments.php?year=1826\">1826</a>, <a href=\"/tournaments.php?year=1825\">1825</a>, <a href=\"/tournaments.php?year=1822\">1822</a>, <a href=\"/tournaments.php?year=1821\">1821</a>, <a href=\"/tournaments.php?year=1820\">1820</a>, <a href=\"#\" onclick=\"return false;\">1810 - 1819</a>, <a href=\"/tournaments.php?year=1819\">1819</a>, <a href=\"/tournaments.php?year=1818\">1818</a>, <a href=\"/tournaments.php?year=1817\">1817</a>, <a href=\"/tournaments.php?year=1816\">1816</a>, <a href=\"/tournaments.php?year=1815\">1815</a>, <a href=\"/tournaments.php?year=1813\">1813</a>, <a href=\"/tournaments.php?year=1810\">1810</a>, <a href=\"#\" onclick=\"return false;\">1800 - 1809</a>, <a href=\"/tournaments.php?year=1809\">1809</a>, <a href=\"/tournaments.php?year=1804\">1804</a>, <a href=\"/tournaments.php?year=1802\">1802</a>, <a href=\"https://www.365chess.com/\">Home</a>, <a href=\"https://www.365chess.com/chess-games.php\">Chess Games</a>, <a href=\"https://www.365chess.com/search_position.php\">Search Game Position</a>, <a href=\"https://www.365chess.com/tournaments.php\">Chess Tournaments</a>, <a href=\"https://www.365chess.com/opening.php\">Chess Opening Explorer</a>, <a href=\"https://www.365chess.com/eco.php\">ECO Codes</a>, <a href=\"https://www.365chess.com/view/shop/\">Courses</a>, <a href=\"https://www.365chess.com/opening_training.php?pcolor=0&amp;master=0&amp;smeco=0&amp;topening=0\">Openings Trainer</a>, <a href=\"https://www.365chess.com/play_computer_online.php\">Play Computer</a>, <a href=\"https://www.365chess.com/puzzles.php\">Chess Puzzles and Tactics</a>, <a href=\"https://www.365chess.com/search-endgames.php\">Search Endgames</a>, <a href=\"https://www.365chess.com/endgame_training.php\">Endgames Training</a>, <a href=\"https://www.365chess.com/top-chess-players.php\">Players by rating</a>, <a href=\"https://www.365chess.com/women-top-chess-players.php\">Women Players by rating</a>, <a href=\"https://www.365chess.com/top-chess-players-games.php\">Players by number of games</a>, <a href=\"https://www.365chess.com/players.php\">Chess players list</a>, <a href=\"https://www.365chess.com/analysis_board.php\">Analysis Board</a>, <a href=\"https://www.365chess.com/board_editor.php\">Board Editor</a>, <a href=\"https://twitter.com/365chess\" rel=\"noopener\" target=\"_blank\"><img alt=\"Twitter\" loading=\"lazy\" src=\"https://www.365chess.com/images3/xlogo-twitter.png.pagespeed.ic.lDsyZwqfpm.png\" style=\"height: 24px;width: 24px;\"/> @365Chess</a>, <a href=\"https://www.365chess.com/view/terms-of-service/\">Terms of Service</a>, <a href=\"https://www.365chess.com/view/privacy-policy/\">Privacy Policy</a>, <a href=\"https://www.365chess.com/faq.php\">F.A.Q.</a>, <a href=\"https://www.365chess.com/contactUs.php\">Contact Us</a>, <a href=\"https://www.365chess.com/banners.php\">Widgets and Banners</a>, <a href=\"https://www.365chess.com/view/\">Blog</a>, <a href=\"https://www.facebook.com/365Chess/\" rel=\"noopener\" target=\"_blank\"><img alt=\"Facebook\" loading=\"lazy\" src=\"https://www.365chess.com/images/xfacebook.png.pagespeed.ic.jcTQTBayBX.png\" style=\"height: 24px;width: 24px;\"/> Facebook</a>]'"
            ],
            "application/vnd.google.colaboratory.intrinsic+json": {
              "type": "string"
            }
          },
          "metadata": {},
          "execution_count": 142
        }
      ]
    },
    {
      "cell_type": "code",
      "source": [
        "var2_string = str(var2)"
      ],
      "metadata": {
        "id": "qZMOGzEqzG8w"
      },
      "execution_count": 156,
      "outputs": []
    },
    {
      "cell_type": "code",
      "source": [
        "[var2_string.split(',')]"
      ],
      "metadata": {
        "colab": {
          "base_uri": "https://localhost:8080/"
        },
        "id": "Y-FhGaCjybr-",
        "outputId": "a5534ba4-dba0-48c2-f171-8f7bba8082a4"
      },
      "execution_count": 172,
      "outputs": [
        {
          "output_type": "execute_result",
          "data": {
            "text/plain": [
              "[['[<a href=\"#\" id=\"ham\"></a>',\n",
              "  ' <a href=\"https://www.365chess.com/\" title=\"Chess Games Database\">365Chess.com</a>',\n",
              "  ' <a href=\"https://www.365chess.com/forgot_password.php\">Forgot your password?</a>',\n",
              "  ' <a href=\"https://www.365chess.com/signup.php\">Sign up</a>',\n",
              "  ' <a href=\"https://www.365chess.com/\" title=\"365Chess Home\">Home</a>',\n",
              "  ' <a href=\"https://www.365chess.com/opening.php\" title=\"Chess Opening Explorer\">Opening Explorer</a>',\n",
              "  ' <a href=\"https://www.365chess.com/view/shop/\" title=\"Courses\">Courses</a>',\n",
              "  ' <a class=\"arrow_menu current\" href=\"javascript:void(0);\" title=\"Search\">Search</a>',\n",
              "  ' <a href=\"https://www.365chess.com/search_position.php\" title=\"Game Position\">Game Position</a>',\n",
              "  ' <a href=\"https://www.365chess.com/chess-games.php\" title=\"Chess Games\">Chess Games</a>',\n",
              "  ' <a class=\"current\" href=\"https://www.365chess.com/tournaments.php\" title=\"Chess Tournaments\">Chess Tournaments</a>',\n",
              "  ' <a href=\"https://www.365chess.com/search-endgames.php\" title=\"Endgames\">Endgames</a>',\n",
              "  ' <a class=\"arrow_menu\" href=\"javascript:void(0);\" title=\"Search\">Training</a>',\n",
              "  ' <a href=\"https://www.365chess.com/opening_training.php?pcolor=0&amp;master=0&amp;smeco=0&amp;topening=0\" title=\"Openings Trainer\">Openings Trainer</a>',\n",
              "  ' <a href=\"https://www.365chess.com/play_computer_online.php\" title=\"Play vs Computer\">Play vs Computer</a>',\n",
              "  ' <a href=\"https://www.365chess.com/puzzles.php\" title=\"Chess Puzzles\">Puzzles</a>',\n",
              "  ' <a href=\"https://www.365chess.com/endgame_training.php\" title=\"Endgames Training\">Endgames</a>',\n",
              "  ' <a href=\"https://www.365chess.com/eco.php\" title=\"ECO Codes\">ECO Codes</a>',\n",
              "  ' <a class=\"arrow_menu\" href=\"javascript:void(0);\" title=\"Chess Resources\">Resources</a>',\n",
              "  ' <a href=\"https://www.365chess.com/analysis_board.php\" title=\"Analysis board\">Analysis Board</a>',\n",
              "  ' <a href=\"https://www.365chess.com/board_editor.php\" title=\"Board Editor\">Board Editor</a>',\n",
              "  ' <a class=\"arrow_menu\" href=\"javascript:void(0);\" title=\"Help\">Help</a>',\n",
              "  ' <a href=\"https://www.365chess.com/faq.php\" title=\"F.A.Q.\">F.A.Q.</a>',\n",
              "  ' <a href=\"https://www.365chess.com/contactUs.php\" title=\"Contact Us\">Contact Us</a>',\n",
              "  ' <a class=\"arrow_menu\" href=\"https://www.365chess.com/u/\" title=\"My Account\">My Account</a>',\n",
              "  ' <a href=\"https://www.365chess.com/signin.php?login_page=mygames\" title=\"My Games\">My Games</a>',\n",
              "  ' <a href=\"https://www.365chess.com/signin.php?login_page=bookmarks_games\" title=\"Bookmark Chess Games\">Bookmarks</a>',\n",
              "  ' <a class=\"block_login\" href=\"#\">Login</a>',\n",
              "  ' <a href=\"https://www.365chess.com/tournaments/Augsburg_game_1900/26841\">Augsburg game</a>',\n",
              "  ' <a href=\"https://www.365chess.com/tournaments/Manchester_1900/26854\">Manchester</a>',\n",
              "  ' <a href=\"https://www.365chess.com/tournaments/New_York_1900/26855\">New York</a>',\n",
              "  ' <a href=\"https://www.365chess.com/tournaments/Norwich_sim_1900/26856\">Norwich sim</a>',\n",
              "  ' <a href=\"https://www.365chess.com/tournaments/Osyky_1900/26857\">Osyky</a>',\n",
              "  ' <a href=\"https://www.365chess.com/tournaments/Prague_sim_1900/26858\">Prague sim</a>',\n",
              "  ' <a href=\"https://www.365chess.com/tournaments/St_Petersburg_1900/26859\">St Petersburg</a>',\n",
              "  ' <a href=\"https://www.365chess.com/tournaments/USA_telegraph_1900/26860\">USA telegraph</a>',\n",
              "  ' <a href=\"https://www.365chess.com/tournaments/Vienna_cons_m_1900/26861\">Vienna cons m</a>',\n",
              "  ' <a href=\"https://www.365chess.com/tournaments/Vienna_m_1900/26862\">Vienna m</a>',\n",
              "  ' <a href=\"https://www.365chess.com/tournaments/Zuerich_game_1900/26863\">Zuerich game</a>',\n",
              "  ' <a href=\"https://www.365chess.com/tournaments/London_cons_1900/26853\">London cons</a>',\n",
              "  ' <a href=\"https://www.365chess.com/tournaments/London_1900/26852\">London</a>',\n",
              "  ' <a href=\"https://www.365chess.com/tournaments/Budapest_sim_1900/26842\">Budapest sim</a>',\n",
              "  ' <a href=\"https://www.365chess.com/tournaments/DSB-12.Kongress_1900/26843\">DSB-12.Kongress</a>',\n",
              "  ' <a href=\"https://www.365chess.com/tournaments/DSB-12.Kongress_playoff-1pl_1900/26844\">DSB-12.Kongress playoff-1pl</a>',\n",
              "  ' <a href=\"https://www.365chess.com/tournaments/DSB-12.Kongress_playoff-1pl+_1900/26845\">DSB-12.Kongress playoff-1pl+</a>',\n",
              "  ' <a href=\"https://www.365chess.com/tournaments/ENG-USA_cable_m_1900/26846\">ENG-USA cable m</a>',\n",
              "  ' <a href=\"https://www.365chess.com/tournaments/GBR_tour_sim_1900/26847\">GBR tour sim</a>',\n",
              "  ' <a href=\"https://www.365chess.com/tournaments/GER_tour_sim_1900/26848\">GER tour sim</a>',\n",
              "  ' <a href=\"https://www.365chess.com/tournaments/HUN_game_1900/26849\">HUN game</a>',\n",
              "  ' <a href=\"https://www.365chess.com/tournaments/Havana_m_1900/26850\">Havana m</a>',\n",
              "  ' <a href=\"https://www.365chess.com/tournaments/Hereford_sim_1900/26851\">Hereford sim</a>',\n",
              "  ' <a href=\"https://www.365chess.com/tournaments/Paris_1900/26864\">Paris</a>',\n",
              "  ' <a href=\"https://www.365chess.com/tournaments/Paris_blind-simul_1900/26865\">Paris blind-simul</a>',\n",
              "  ' <a href=\"https://www.365chess.com/tournaments/Paris_consult_1900/26866\">Paris consult</a>',\n",
              "  ' <a href=\"https://www.365chess.com/tournaments/Paris+_1900/26867\">Paris+</a>',\n",
              "  ' <a href=\"https://www.365chess.com/supporters.php\">\\n<span class=\"title\">Support 365Chess.com</span>\\n<span class=\"content\">The devolpment of this site relies in its member\\'s support. You\\'ll receive some extra and nice benefits and you will be helping to improve this site.</span>\\n<span class=\"lnk\">Become a supporter today!</span>\\n</a>',\n",
              "  ' <a href=\"#\" onclick=\"return false;\">2020 - 2023</a>',\n",
              "  ' <a href=\"/tournaments.php?year=2023\">2023</a>',\n",
              "  ' <a href=\"/tournaments.php?year=2022\">2022</a>',\n",
              "  ' <a href=\"/tournaments.php?year=2021\">2021</a>',\n",
              "  ' <a href=\"/tournaments.php?year=2020\">2020</a>',\n",
              "  ' <a href=\"#\" onclick=\"return false;\">2010 - 2019</a>',\n",
              "  ' <a href=\"/tournaments.php?year=2019\">2019</a>',\n",
              "  ' <a href=\"/tournaments.php?year=2018\">2018</a>',\n",
              "  ' <a href=\"/tournaments.php?year=2017\">2017</a>',\n",
              "  ' <a href=\"/tournaments.php?year=2016\">2016</a>',\n",
              "  ' <a href=\"/tournaments.php?year=2015\">2015</a>',\n",
              "  ' <a href=\"/tournaments.php?year=2014\">2014</a>',\n",
              "  ' <a href=\"/tournaments.php?year=2013\">2013</a>',\n",
              "  ' <a href=\"/tournaments.php?year=2012\">2012</a>',\n",
              "  ' <a href=\"/tournaments.php?year=2011\">2011</a>',\n",
              "  ' <a href=\"/tournaments.php?year=2010\">2010</a>',\n",
              "  ' <a href=\"#\" onclick=\"return false;\">2000 - 2009</a>',\n",
              "  ' <a href=\"/tournaments.php?year=2009\">2009</a>',\n",
              "  ' <a href=\"/tournaments.php?year=2008\">2008</a>',\n",
              "  ' <a href=\"/tournaments.php?year=2007\">2007</a>',\n",
              "  ' <a href=\"/tournaments.php?year=2006\">2006</a>',\n",
              "  ' <a href=\"/tournaments.php?year=2005\">2005</a>',\n",
              "  ' <a href=\"/tournaments.php?year=2004\">2004</a>',\n",
              "  ' <a href=\"/tournaments.php?year=2003\">2003</a>',\n",
              "  ' <a href=\"/tournaments.php?year=2002\">2002</a>',\n",
              "  ' <a href=\"/tournaments.php?year=2001\">2001</a>',\n",
              "  ' <a href=\"/tournaments.php?year=2000\">2000</a>',\n",
              "  ' <a href=\"#\" onclick=\"return false;\">1990 - 1999</a>',\n",
              "  ' <a href=\"/tournaments.php?year=1999\">1999</a>',\n",
              "  ' <a href=\"/tournaments.php?year=1998\">1998</a>',\n",
              "  ' <a href=\"/tournaments.php?year=1997\">1997</a>',\n",
              "  ' <a href=\"/tournaments.php?year=1996\">1996</a>',\n",
              "  ' <a href=\"/tournaments.php?year=1995\">1995</a>',\n",
              "  ' <a href=\"/tournaments.php?year=1994\">1994</a>',\n",
              "  ' <a href=\"/tournaments.php?year=1993\">1993</a>',\n",
              "  ' <a href=\"/tournaments.php?year=1992\">1992</a>',\n",
              "  ' <a href=\"/tournaments.php?year=1991\">1991</a>',\n",
              "  ' <a href=\"/tournaments.php?year=1990\">1990</a>',\n",
              "  ' <a href=\"#\" onclick=\"return false;\">1980 - 1989</a>',\n",
              "  ' <a href=\"/tournaments.php?year=1989\">1989</a>',\n",
              "  ' <a href=\"/tournaments.php?year=1988\">1988</a>',\n",
              "  ' <a href=\"/tournaments.php?year=1987\">1987</a>',\n",
              "  ' <a href=\"/tournaments.php?year=1986\">1986</a>',\n",
              "  ' <a href=\"/tournaments.php?year=1985\">1985</a>',\n",
              "  ' <a href=\"/tournaments.php?year=1984\">1984</a>',\n",
              "  ' <a href=\"/tournaments.php?year=1983\">1983</a>',\n",
              "  ' <a href=\"/tournaments.php?year=1982\">1982</a>',\n",
              "  ' <a href=\"/tournaments.php?year=1981\">1981</a>',\n",
              "  ' <a href=\"/tournaments.php?year=1980\">1980</a>',\n",
              "  ' <a href=\"#\" onclick=\"return false;\">1970 - 1979</a>',\n",
              "  ' <a href=\"/tournaments.php?year=1979\">1979</a>',\n",
              "  ' <a href=\"/tournaments.php?year=1978\">1978</a>',\n",
              "  ' <a href=\"/tournaments.php?year=1977\">1977</a>',\n",
              "  ' <a href=\"/tournaments.php?year=1976\">1976</a>',\n",
              "  ' <a href=\"/tournaments.php?year=1975\">1975</a>',\n",
              "  ' <a href=\"/tournaments.php?year=1974\">1974</a>',\n",
              "  ' <a href=\"/tournaments.php?year=1973\">1973</a>',\n",
              "  ' <a href=\"/tournaments.php?year=1972\">1972</a>',\n",
              "  ' <a href=\"/tournaments.php?year=1971\">1971</a>',\n",
              "  ' <a href=\"/tournaments.php?year=1970\">1970</a>',\n",
              "  ' <a href=\"#\" onclick=\"return false;\">1960 - 1969</a>',\n",
              "  ' <a href=\"/tournaments.php?year=1969\">1969</a>',\n",
              "  ' <a href=\"/tournaments.php?year=1968\">1968</a>',\n",
              "  ' <a href=\"/tournaments.php?year=1967\">1967</a>',\n",
              "  ' <a href=\"/tournaments.php?year=1966\">1966</a>',\n",
              "  ' <a href=\"/tournaments.php?year=1965\">1965</a>',\n",
              "  ' <a href=\"/tournaments.php?year=1964\">1964</a>',\n",
              "  ' <a href=\"/tournaments.php?year=1963\">1963</a>',\n",
              "  ' <a href=\"/tournaments.php?year=1962\">1962</a>',\n",
              "  ' <a href=\"/tournaments.php?year=1961\">1961</a>',\n",
              "  ' <a href=\"/tournaments.php?year=1960\">1960</a>',\n",
              "  ' <a href=\"#\" onclick=\"return false;\">1950 - 1959</a>',\n",
              "  ' <a href=\"/tournaments.php?year=1959\">1959</a>',\n",
              "  ' <a href=\"/tournaments.php?year=1958\">1958</a>',\n",
              "  ' <a href=\"/tournaments.php?year=1957\">1957</a>',\n",
              "  ' <a href=\"/tournaments.php?year=1956\">1956</a>',\n",
              "  ' <a href=\"/tournaments.php?year=1955\">1955</a>',\n",
              "  ' <a href=\"/tournaments.php?year=1954\">1954</a>',\n",
              "  ' <a href=\"/tournaments.php?year=1953\">1953</a>',\n",
              "  ' <a href=\"/tournaments.php?year=1952\">1952</a>',\n",
              "  ' <a href=\"/tournaments.php?year=1951\">1951</a>',\n",
              "  ' <a href=\"/tournaments.php?year=1950\">1950</a>',\n",
              "  ' <a href=\"#\" onclick=\"return false;\">1940 - 1949</a>',\n",
              "  ' <a href=\"/tournaments.php?year=1949\">1949</a>',\n",
              "  ' <a href=\"/tournaments.php?year=1948\">1948</a>',\n",
              "  ' <a href=\"/tournaments.php?year=1947\">1947</a>',\n",
              "  ' <a href=\"/tournaments.php?year=1946\">1946</a>',\n",
              "  ' <a href=\"/tournaments.php?year=1945\">1945</a>',\n",
              "  ' <a href=\"/tournaments.php?year=1944\">1944</a>',\n",
              "  ' <a href=\"/tournaments.php?year=1943\">1943</a>',\n",
              "  ' <a href=\"/tournaments.php?year=1942\">1942</a>',\n",
              "  ' <a href=\"/tournaments.php?year=1941\">1941</a>',\n",
              "  ' <a href=\"/tournaments.php?year=1940\">1940</a>',\n",
              "  ' <a href=\"#\" onclick=\"return false;\">1930 - 1939</a>',\n",
              "  ' <a href=\"/tournaments.php?year=1939\">1939</a>',\n",
              "  ' <a href=\"/tournaments.php?year=1938\">1938</a>',\n",
              "  ' <a href=\"/tournaments.php?year=1937\">1937</a>',\n",
              "  ' <a href=\"/tournaments.php?year=1936\">1936</a>',\n",
              "  ' <a href=\"/tournaments.php?year=1935\">1935</a>',\n",
              "  ' <a href=\"/tournaments.php?year=1934\">1934</a>',\n",
              "  ' <a href=\"/tournaments.php?year=1933\">1933</a>',\n",
              "  ' <a href=\"/tournaments.php?year=1932\">1932</a>',\n",
              "  ' <a href=\"/tournaments.php?year=1931\">1931</a>',\n",
              "  ' <a href=\"/tournaments.php?year=1930\">1930</a>',\n",
              "  ' <a href=\"#\" onclick=\"return false;\">1920 - 1929</a>',\n",
              "  ' <a href=\"/tournaments.php?year=1929\">1929</a>',\n",
              "  ' <a href=\"/tournaments.php?year=1928\">1928</a>',\n",
              "  ' <a href=\"/tournaments.php?year=1927\">1927</a>',\n",
              "  ' <a href=\"/tournaments.php?year=1926\">1926</a>',\n",
              "  ' <a href=\"/tournaments.php?year=1925\">1925</a>',\n",
              "  ' <a href=\"/tournaments.php?year=1924\">1924</a>',\n",
              "  ' <a href=\"/tournaments.php?year=1923\">1923</a>',\n",
              "  ' <a href=\"/tournaments.php?year=1922\">1922</a>',\n",
              "  ' <a href=\"/tournaments.php?year=1921\">1921</a>',\n",
              "  ' <a href=\"/tournaments.php?year=1920\">1920</a>',\n",
              "  ' <a href=\"#\" onclick=\"return false;\">1910 - 1919</a>',\n",
              "  ' <a href=\"/tournaments.php?year=1919\">1919</a>',\n",
              "  ' <a href=\"/tournaments.php?year=1918\">1918</a>',\n",
              "  ' <a href=\"/tournaments.php?year=1917\">1917</a>',\n",
              "  ' <a href=\"/tournaments.php?year=1916\">1916</a>',\n",
              "  ' <a href=\"/tournaments.php?year=1915\">1915</a>',\n",
              "  ' <a href=\"/tournaments.php?year=1914\">1914</a>',\n",
              "  ' <a href=\"/tournaments.php?year=1913\">1913</a>',\n",
              "  ' <a href=\"/tournaments.php?year=1912\">1912</a>',\n",
              "  ' <a href=\"/tournaments.php?year=1911\">1911</a>',\n",
              "  ' <a href=\"/tournaments.php?year=1910\">1910</a>',\n",
              "  ' <a href=\"#\" onclick=\"return false;\">1900 - 1909</a>',\n",
              "  ' <a href=\"/tournaments.php?year=1909\">1909</a>',\n",
              "  ' <a href=\"/tournaments.php?year=1908\">1908</a>',\n",
              "  ' <a href=\"/tournaments.php?year=1907\">1907</a>',\n",
              "  ' <a href=\"/tournaments.php?year=1906\">1906</a>',\n",
              "  ' <a href=\"/tournaments.php?year=1905\">1905</a>',\n",
              "  ' <a href=\"/tournaments.php?year=1904\">1904</a>',\n",
              "  ' <a href=\"/tournaments.php?year=1903\">1903</a>',\n",
              "  ' <a href=\"/tournaments.php?year=1902\">1902</a>',\n",
              "  ' <a href=\"/tournaments.php?year=1901\">1901</a>',\n",
              "  ' <a href=\"/tournaments.php?year=1900\">1900</a>',\n",
              "  ' <a href=\"#\" onclick=\"return false;\">1890 - 1899</a>',\n",
              "  ' <a href=\"/tournaments.php?year=1899\">1899</a>',\n",
              "  ' <a href=\"/tournaments.php?year=1898\">1898</a>',\n",
              "  ' <a href=\"/tournaments.php?year=1897\">1897</a>',\n",
              "  ' <a href=\"/tournaments.php?year=1896\">1896</a>',\n",
              "  ' <a href=\"/tournaments.php?year=1895\">1895</a>',\n",
              "  ' <a href=\"/tournaments.php?year=1894\">1894</a>',\n",
              "  ' <a href=\"/tournaments.php?year=1893\">1893</a>',\n",
              "  ' <a href=\"/tournaments.php?year=1892\">1892</a>',\n",
              "  ' <a href=\"/tournaments.php?year=1891\">1891</a>',\n",
              "  ' <a href=\"/tournaments.php?year=1890\">1890</a>',\n",
              "  ' <a href=\"#\" onclick=\"return false;\">1880 - 1889</a>',\n",
              "  ' <a href=\"/tournaments.php?year=1889\">1889</a>',\n",
              "  ' <a href=\"/tournaments.php?year=1888\">1888</a>',\n",
              "  ' <a href=\"/tournaments.php?year=1887\">1887</a>',\n",
              "  ' <a href=\"/tournaments.php?year=1886\">1886</a>',\n",
              "  ' <a href=\"/tournaments.php?year=1885\">1885</a>',\n",
              "  ' <a href=\"/tournaments.php?year=1884\">1884</a>',\n",
              "  ' <a href=\"/tournaments.php?year=1883\">1883</a>',\n",
              "  ' <a href=\"/tournaments.php?year=1882\">1882</a>',\n",
              "  ' <a href=\"/tournaments.php?year=1881\">1881</a>',\n",
              "  ' <a href=\"/tournaments.php?year=1880\">1880</a>',\n",
              "  ' <a href=\"#\" onclick=\"return false;\">1870 - 1879</a>',\n",
              "  ' <a href=\"/tournaments.php?year=1879\">1879</a>',\n",
              "  ' <a href=\"/tournaments.php?year=1878\">1878</a>',\n",
              "  ' <a href=\"/tournaments.php?year=1877\">1877</a>',\n",
              "  ' <a href=\"/tournaments.php?year=1876\">1876</a>',\n",
              "  ' <a href=\"/tournaments.php?year=1875\">1875</a>',\n",
              "  ' <a href=\"/tournaments.php?year=1874\">1874</a>',\n",
              "  ' <a href=\"/tournaments.php?year=1873\">1873</a>',\n",
              "  ' <a href=\"/tournaments.php?year=1872\">1872</a>',\n",
              "  ' <a href=\"/tournaments.php?year=1871\">1871</a>',\n",
              "  ' <a href=\"/tournaments.php?year=1870\">1870</a>',\n",
              "  ' <a href=\"#\" onclick=\"return false;\">1860 - 1869</a>',\n",
              "  ' <a href=\"/tournaments.php?year=1869\">1869</a>',\n",
              "  ' <a href=\"/tournaments.php?year=1868\">1868</a>',\n",
              "  ' <a href=\"/tournaments.php?year=1867\">1867</a>',\n",
              "  ' <a href=\"/tournaments.php?year=1866\">1866</a>',\n",
              "  ' <a href=\"/tournaments.php?year=1865\">1865</a>',\n",
              "  ' <a href=\"/tournaments.php?year=1864\">1864</a>',\n",
              "  ' <a href=\"/tournaments.php?year=1863\">1863</a>',\n",
              "  ' <a href=\"/tournaments.php?year=1862\">1862</a>',\n",
              "  ' <a href=\"/tournaments.php?year=1861\">1861</a>',\n",
              "  ' <a href=\"/tournaments.php?year=1860\">1860</a>',\n",
              "  ' <a href=\"#\" onclick=\"return false;\">1850 - 1859</a>',\n",
              "  ' <a href=\"/tournaments.php?year=1859\">1859</a>',\n",
              "  ' <a href=\"/tournaments.php?year=1858\">1858</a>',\n",
              "  ' <a href=\"/tournaments.php?year=1857\">1857</a>',\n",
              "  ' <a href=\"/tournaments.php?year=1856\">1856</a>',\n",
              "  ' <a href=\"/tournaments.php?year=1855\">1855</a>',\n",
              "  ' <a href=\"/tournaments.php?year=1854\">1854</a>',\n",
              "  ' <a href=\"/tournaments.php?year=1853\">1853</a>',\n",
              "  ' <a href=\"/tournaments.php?year=1852\">1852</a>',\n",
              "  ' <a href=\"/tournaments.php?year=1851\">1851</a>',\n",
              "  ' <a href=\"/tournaments.php?year=1850\">1850</a>',\n",
              "  ' <a href=\"#\" onclick=\"return false;\">1840 - 1849</a>',\n",
              "  ' <a href=\"/tournaments.php?year=1849\">1849</a>',\n",
              "  ' <a href=\"/tournaments.php?year=1848\">1848</a>',\n",
              "  ' <a href=\"/tournaments.php?year=1847\">1847</a>',\n",
              "  ' <a href=\"/tournaments.php?year=1846\">1846</a>',\n",
              "  ' <a href=\"/tournaments.php?year=1845\">1845</a>',\n",
              "  ' <a href=\"/tournaments.php?year=1844\">1844</a>',\n",
              "  ' <a href=\"/tournaments.php?year=1843\">1843</a>',\n",
              "  ' <a href=\"/tournaments.php?year=1842\">1842</a>',\n",
              "  ' <a href=\"/tournaments.php?year=1841\">1841</a>',\n",
              "  ' <a href=\"/tournaments.php?year=1840\">1840</a>',\n",
              "  ' <a href=\"#\" onclick=\"return false;\">1830 - 1839</a>',\n",
              "  ' <a href=\"/tournaments.php?year=1839\">1839</a>',\n",
              "  ' <a href=\"/tournaments.php?year=1838\">1838</a>',\n",
              "  ' <a href=\"/tournaments.php?year=1837\">1837</a>',\n",
              "  ' <a href=\"/tournaments.php?year=1836\">1836</a>',\n",
              "  ' <a href=\"/tournaments.php?year=1835\">1835</a>',\n",
              "  ' <a href=\"/tournaments.php?year=1834\">1834</a>',\n",
              "  ' <a href=\"/tournaments.php?year=1831\">1831</a>',\n",
              "  ' <a href=\"/tournaments.php?year=1830\">1830</a>',\n",
              "  ' <a href=\"#\" onclick=\"return false;\">1820 - 1829</a>',\n",
              "  ' <a href=\"/tournaments.php?year=1826\">1826</a>',\n",
              "  ' <a href=\"/tournaments.php?year=1825\">1825</a>',\n",
              "  ' <a href=\"/tournaments.php?year=1822\">1822</a>',\n",
              "  ' <a href=\"/tournaments.php?year=1821\">1821</a>',\n",
              "  ' <a href=\"/tournaments.php?year=1820\">1820</a>',\n",
              "  ' <a href=\"#\" onclick=\"return false;\">1810 - 1819</a>',\n",
              "  ' <a href=\"/tournaments.php?year=1819\">1819</a>',\n",
              "  ' <a href=\"/tournaments.php?year=1818\">1818</a>',\n",
              "  ' <a href=\"/tournaments.php?year=1817\">1817</a>',\n",
              "  ' <a href=\"/tournaments.php?year=1816\">1816</a>',\n",
              "  ' <a href=\"/tournaments.php?year=1815\">1815</a>',\n",
              "  ' <a href=\"/tournaments.php?year=1813\">1813</a>',\n",
              "  ' <a href=\"/tournaments.php?year=1810\">1810</a>',\n",
              "  ' <a href=\"#\" onclick=\"return false;\">1800 - 1809</a>',\n",
              "  ' <a href=\"/tournaments.php?year=1809\">1809</a>',\n",
              "  ' <a href=\"/tournaments.php?year=1804\">1804</a>',\n",
              "  ' <a href=\"/tournaments.php?year=1802\">1802</a>',\n",
              "  ' <a href=\"https://www.365chess.com/\">Home</a>',\n",
              "  ' <a href=\"https://www.365chess.com/chess-games.php\">Chess Games</a>',\n",
              "  ' <a href=\"https://www.365chess.com/search_position.php\">Search Game Position</a>',\n",
              "  ' <a href=\"https://www.365chess.com/tournaments.php\">Chess Tournaments</a>',\n",
              "  ' <a href=\"https://www.365chess.com/opening.php\">Chess Opening Explorer</a>',\n",
              "  ' <a href=\"https://www.365chess.com/eco.php\">ECO Codes</a>',\n",
              "  ' <a href=\"https://www.365chess.com/view/shop/\">Courses</a>',\n",
              "  ' <a href=\"https://www.365chess.com/opening_training.php?pcolor=0&amp;master=0&amp;smeco=0&amp;topening=0\">Openings Trainer</a>',\n",
              "  ' <a href=\"https://www.365chess.com/play_computer_online.php\">Play Computer</a>',\n",
              "  ' <a href=\"https://www.365chess.com/puzzles.php\">Chess Puzzles and Tactics</a>',\n",
              "  ' <a href=\"https://www.365chess.com/search-endgames.php\">Search Endgames</a>',\n",
              "  ' <a href=\"https://www.365chess.com/endgame_training.php\">Endgames Training</a>',\n",
              "  ' <a href=\"https://www.365chess.com/top-chess-players.php\">Players by rating</a>',\n",
              "  ' <a href=\"https://www.365chess.com/women-top-chess-players.php\">Women Players by rating</a>',\n",
              "  ' <a href=\"https://www.365chess.com/top-chess-players-games.php\">Players by number of games</a>',\n",
              "  ' <a href=\"https://www.365chess.com/players.php\">Chess players list</a>',\n",
              "  ' <a href=\"https://www.365chess.com/analysis_board.php\">Analysis Board</a>',\n",
              "  ' <a href=\"https://www.365chess.com/board_editor.php\">Board Editor</a>',\n",
              "  ' <a href=\"https://twitter.com/365chess\" rel=\"noopener\" target=\"_blank\"><img alt=\"Twitter\" loading=\"lazy\" src=\"https://www.365chess.com/images3/xlogo-twitter.png.pagespeed.ic.lDsyZwqfpm.png\" style=\"height: 24px;width: 24px;\"/> @365Chess</a>',\n",
              "  ' <a href=\"https://www.365chess.com/view/terms-of-service/\">Terms of Service</a>',\n",
              "  ' <a href=\"https://www.365chess.com/view/privacy-policy/\">Privacy Policy</a>',\n",
              "  ' <a href=\"https://www.365chess.com/faq.php\">F.A.Q.</a>',\n",
              "  ' <a href=\"https://www.365chess.com/contactUs.php\">Contact Us</a>',\n",
              "  ' <a href=\"https://www.365chess.com/banners.php\">Widgets and Banners</a>',\n",
              "  ' <a href=\"https://www.365chess.com/view/\">Blog</a>',\n",
              "  ' <a href=\"https://www.facebook.com/365Chess/\" rel=\"noopener\" target=\"_blank\"><img alt=\"Facebook\" loading=\"lazy\" src=\"https://www.365chess.com/images/xfacebook.png.pagespeed.ic.jcTQTBayBX.png\" style=\"height: 24px;width: 24px;\"/> Facebook</a>]']]"
            ]
          },
          "metadata": {},
          "execution_count": 172
        }
      ]
    },
    {
      "cell_type": "code",
      "source": [
        "type(var2_string)"
      ],
      "metadata": {
        "colab": {
          "base_uri": "https://localhost:8080/"
        },
        "id": "KYyc-xZG3Y9k",
        "outputId": "f31f3e8d-3b81-4053-c1f1-3bea01c91d3f"
      },
      "execution_count": 173,
      "outputs": [
        {
          "output_type": "execute_result",
          "data": {
            "text/plain": [
              "str"
            ]
          },
          "metadata": {},
          "execution_count": 173
        }
      ]
    },
    {
      "cell_type": "code",
      "source": [
        "d = len([var2_string.split(',')][0])"
      ],
      "metadata": {
        "id": "uBQdsSZX30ai"
      },
      "execution_count": 182,
      "outputs": []
    },
    {
      "cell_type": "code",
      "source": [
        "d"
      ],
      "metadata": {
        "colab": {
          "base_uri": "https://localhost:8080/"
        },
        "id": "4LyTZtqR4hIk",
        "outputId": "ab8af19f-1e96-423e-9562-bc91938d5b4f"
      },
      "execution_count": 183,
      "outputs": [
        {
          "output_type": "execute_result",
          "data": {
            "text/plain": [
              "312"
            ]
          },
          "metadata": {},
          "execution_count": 183
        }
      ]
    },
    {
      "cell_type": "code",
      "source": [
        "b = [var2_string.split(',')][0]"
      ],
      "metadata": {
        "id": "ZcPBFNKF4q7W"
      },
      "execution_count": 185,
      "outputs": []
    },
    {
      "cell_type": "code",
      "source": [
        "y = []\n",
        "for i in range(d):\n",
        "  if 'https://www.365chess.com/tournaments/' in b[i]:\n",
        "    y.append(b[i])\n"
      ],
      "metadata": {
        "id": "qQmjw8USvqFI"
      },
      "execution_count": 186,
      "outputs": []
    },
    {
      "cell_type": "code",
      "source": [
        "y"
      ],
      "metadata": {
        "colab": {
          "base_uri": "https://localhost:8080/"
        },
        "id": "34r6AmA1zh-B",
        "outputId": "b7adaabd-c9f3-4128-8007-9f19f511093b"
      },
      "execution_count": 188,
      "outputs": [
        {
          "output_type": "execute_result",
          "data": {
            "text/plain": [
              "[' <a href=\"https://www.365chess.com/tournaments/Augsburg_game_1900/26841\">Augsburg game</a>',\n",
              " ' <a href=\"https://www.365chess.com/tournaments/Manchester_1900/26854\">Manchester</a>',\n",
              " ' <a href=\"https://www.365chess.com/tournaments/New_York_1900/26855\">New York</a>',\n",
              " ' <a href=\"https://www.365chess.com/tournaments/Norwich_sim_1900/26856\">Norwich sim</a>',\n",
              " ' <a href=\"https://www.365chess.com/tournaments/Osyky_1900/26857\">Osyky</a>',\n",
              " ' <a href=\"https://www.365chess.com/tournaments/Prague_sim_1900/26858\">Prague sim</a>',\n",
              " ' <a href=\"https://www.365chess.com/tournaments/St_Petersburg_1900/26859\">St Petersburg</a>',\n",
              " ' <a href=\"https://www.365chess.com/tournaments/USA_telegraph_1900/26860\">USA telegraph</a>',\n",
              " ' <a href=\"https://www.365chess.com/tournaments/Vienna_cons_m_1900/26861\">Vienna cons m</a>',\n",
              " ' <a href=\"https://www.365chess.com/tournaments/Vienna_m_1900/26862\">Vienna m</a>',\n",
              " ' <a href=\"https://www.365chess.com/tournaments/Zuerich_game_1900/26863\">Zuerich game</a>',\n",
              " ' <a href=\"https://www.365chess.com/tournaments/London_cons_1900/26853\">London cons</a>',\n",
              " ' <a href=\"https://www.365chess.com/tournaments/London_1900/26852\">London</a>',\n",
              " ' <a href=\"https://www.365chess.com/tournaments/Budapest_sim_1900/26842\">Budapest sim</a>',\n",
              " ' <a href=\"https://www.365chess.com/tournaments/DSB-12.Kongress_1900/26843\">DSB-12.Kongress</a>',\n",
              " ' <a href=\"https://www.365chess.com/tournaments/DSB-12.Kongress_playoff-1pl_1900/26844\">DSB-12.Kongress playoff-1pl</a>',\n",
              " ' <a href=\"https://www.365chess.com/tournaments/DSB-12.Kongress_playoff-1pl+_1900/26845\">DSB-12.Kongress playoff-1pl+</a>',\n",
              " ' <a href=\"https://www.365chess.com/tournaments/ENG-USA_cable_m_1900/26846\">ENG-USA cable m</a>',\n",
              " ' <a href=\"https://www.365chess.com/tournaments/GBR_tour_sim_1900/26847\">GBR tour sim</a>',\n",
              " ' <a href=\"https://www.365chess.com/tournaments/GER_tour_sim_1900/26848\">GER tour sim</a>',\n",
              " ' <a href=\"https://www.365chess.com/tournaments/HUN_game_1900/26849\">HUN game</a>',\n",
              " ' <a href=\"https://www.365chess.com/tournaments/Havana_m_1900/26850\">Havana m</a>',\n",
              " ' <a href=\"https://www.365chess.com/tournaments/Hereford_sim_1900/26851\">Hereford sim</a>',\n",
              " ' <a href=\"https://www.365chess.com/tournaments/Paris_1900/26864\">Paris</a>',\n",
              " ' <a href=\"https://www.365chess.com/tournaments/Paris_blind-simul_1900/26865\">Paris blind-simul</a>',\n",
              " ' <a href=\"https://www.365chess.com/tournaments/Paris_consult_1900/26866\">Paris consult</a>',\n",
              " ' <a href=\"https://www.365chess.com/tournaments/Paris+_1900/26867\">Paris+</a>']"
            ]
          },
          "metadata": {},
          "execution_count": 188
        }
      ]
    }
  ]
}